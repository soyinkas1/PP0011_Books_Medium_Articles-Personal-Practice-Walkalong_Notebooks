{
 "cells": [
  {
   "cell_type": "code",
   "execution_count": 1,
   "id": "1c94d6e5",
   "metadata": {},
   "outputs": [],
   "source": [
    "import turtle\n",
    "wn = turtle.Screen()"
   ]
  },
  {
   "cell_type": "code",
   "execution_count": 2,
   "id": "d333d390",
   "metadata": {
    "scrolled": true
   },
   "outputs": [],
   "source": [
    "alex = turtle.Turtle()"
   ]
  },
  {
   "cell_type": "code",
   "execution_count": 3,
   "id": "869c9900",
   "metadata": {},
   "outputs": [],
   "source": [
    "alex.forward(50)"
   ]
  },
  {
   "cell_type": "code",
   "execution_count": 4,
   "id": "04224c0a",
   "metadata": {},
   "outputs": [],
   "source": [
    "alex.left(90)"
   ]
  },
  {
   "cell_type": "code",
   "execution_count": 5,
   "id": "398d8d0c",
   "metadata": {},
   "outputs": [],
   "source": [
    "alex.forward(30)\n",
    "alex.write('hekk')"
   ]
  },
  {
   "cell_type": "code",
   "execution_count": 6,
   "id": "0353a2d1",
   "metadata": {},
   "outputs": [],
   "source": [
    "wn.title('hello')"
   ]
  },
  {
   "cell_type": "code",
   "execution_count": 7,
   "id": "d7070335",
   "metadata": {},
   "outputs": [],
   "source": [
    "color = 'blue'\n",
    "alex.color(color.strip())"
   ]
  },
  {
   "cell_type": "code",
   "execution_count": 8,
   "id": "b488ccd4",
   "metadata": {},
   "outputs": [],
   "source": [
    "wn.mainloop()"
   ]
  },
  {
   "cell_type": "code",
   "execution_count": 9,
   "id": "78cce6f4",
   "metadata": {},
   "outputs": [],
   "source": [
    "# import turtle\n",
    "\n",
    "# def draw_multicolor_square(t, sz):\n",
    "#     \"\"\" Make turtle t draw a multi-color square of sz\"\"\"\n",
    "#     for i in ['red', 'purple', 'hotpink', 'blue']:\n",
    "#         t.color(i)\n",
    "#         t.forward(sz)\n",
    "#         t.left(90)\n",
    "        \n",
    "\n",
    "# wn = turtle.Screen()\n",
    "# wn.bgcolor('lightgreen')\n",
    "\n",
    "# tess = turtle.Turtle()\n",
    "# tess.pensize(3)\n",
    "\n",
    "# size = 20\n",
    "# for i in range(15):\n",
    "#     draw_multicolor_square(tess, size)\n",
    "#     size = size + 10\n",
    "#     tess.forward(10)\n",
    "#     tess.right(18)\n",
    "    \n",
    "# wn.mainloop()"
   ]
  },
  {
   "cell_type": "code",
   "execution_count": 10,
   "id": "ed1ff647",
   "metadata": {},
   "outputs": [
    {
     "name": "stdout",
     "output_type": "stream",
     "text": [
      "3 is odd\n"
     ]
    }
   ],
   "source": [
    "x = 3\n",
    "\n",
    "if x % 2 == 0:\n",
    "    print(x , 'is even')\n",
    "else:\n",
    "    print(x, 'is odd')\n",
    "\n"
   ]
  },
  {
   "cell_type": "code",
   "execution_count": 11,
   "id": "aadd88fa",
   "metadata": {},
   "outputs": [],
   "source": [
    "def print_sqr_root(x):\n",
    "    if x <= 0:\n",
    "        print('Positive numbers only, please')\n",
    "        return\n",
    "    result =  x**0.5\n",
    "    print('The square root of', x, 'is', result)"
   ]
  },
  {
   "cell_type": "code",
   "execution_count": 12,
   "id": "5f12be94",
   "metadata": {},
   "outputs": [
    {
     "name": "stdout",
     "output_type": "stream",
     "text": [
      "Positive numbers only, please\n"
     ]
    }
   ],
   "source": [
    "print_sqr_root(0)"
   ]
  },
  {
   "cell_type": "code",
   "execution_count": 13,
   "id": "80b035eb",
   "metadata": {},
   "outputs": [],
   "source": [
    "# alex.write('hekk')"
   ]
  },
  {
   "cell_type": "code",
   "execution_count": 14,
   "id": "64414b97",
   "metadata": {},
   "outputs": [],
   "source": [
    "def area(radius):\n",
    "    area = (3.142 * radius)**2\n",
    "    return area"
   ]
  },
  {
   "cell_type": "code",
   "execution_count": 15,
   "id": "e3dd954b",
   "metadata": {},
   "outputs": [
    {
     "data": {
      "text/plain": [
       "1421.5916160000002"
      ]
     },
     "execution_count": 15,
     "metadata": {},
     "output_type": "execute_result"
    }
   ],
   "source": [
    "area(12)"
   ]
  },
  {
   "cell_type": "code",
   "execution_count": 16,
   "id": "9d3d62b0",
   "metadata": {},
   "outputs": [],
   "source": [
    "def absolute_value(x):\n",
    "    if x < 0:\n",
    "        return -x\n",
    "    return x\n",
    "\n",
    "def bad_absolute_value(x):\n",
    "    if x < 0:\n",
    "        return -x\n",
    "    elif x > 0:\n",
    "        return x\n",
    "    \n"
   ]
  },
  {
   "cell_type": "code",
   "execution_count": 17,
   "id": "67b5e4ed",
   "metadata": {},
   "outputs": [
    {
     "data": {
      "text/plain": [
       "2"
      ]
     },
     "execution_count": 17,
     "metadata": {},
     "output_type": "execute_result"
    }
   ],
   "source": [
    "absolute_value(-2)"
   ]
  },
  {
   "cell_type": "code",
   "execution_count": 18,
   "id": "921ff52c",
   "metadata": {},
   "outputs": [
    {
     "name": "stdout",
     "output_type": "stream",
     "text": [
      "None\n"
     ]
    }
   ],
   "source": [
    "print(bad_absolute_value(0))"
   ]
  },
  {
   "cell_type": "code",
   "execution_count": 19,
   "id": "628c6748",
   "metadata": {},
   "outputs": [],
   "source": [
    "# Write the function to find distance between two points\n",
    "\n",
    "def distance(x1, y1, x2, y2):\n",
    "    \"\"\"\n",
    "    parameters:\n",
    "        x1: distance from origin on x-coordinates for point 1\n",
    "        y1: distance from origin on y-coordinates for point 1\n",
    "        x2: distance from origin on x-coordinates for point 2\n",
    "        y2: distance from origin on y-coordinates for point 2\n",
    "    \n",
    "    returns:\n",
    "        The linear distance between point 1 and point 2 \n",
    "    \n",
    "    \"\"\"\n",
    "    dx = x2 - x1\n",
    "    dy = y2 - y1\n",
    "    \n",
    "    sum_squares = dx * dx + dy * dy\n",
    "        \n",
    "    return sum_squares**0.5"
   ]
  },
  {
   "cell_type": "code",
   "execution_count": 20,
   "id": "abf3e892",
   "metadata": {},
   "outputs": [],
   "source": [
    "# Given the centre of a circe and a point on the perimeter, we can then get the area of the circle using functions\n",
    "\n",
    "def area2(xc, yc, xp, yp):\n",
    "    \n",
    "    \"\"\"\n",
    "    parameters:\n",
    "        xc: distance from origin on x-coordinates for centre of the circle\n",
    "        yc: distance from origin on y-coordinates for centre of the circle\n",
    "        xp: distance from origin on x-coordinates for point on perimeter of circle\n",
    "        yp: distance from origin on y-coordinates for point on perimeter of circle\n",
    "    \n",
    "    returns:\n",
    "        The area of the circle\n",
    "    \n",
    "    \"\"\"\n",
    "    radius = distance(xc, yc, xp, yp)\n",
    "    result = area(radius)\n",
    "    return result\n",
    "\n"
   ]
  },
  {
   "cell_type": "code",
   "execution_count": 21,
   "id": "c64c3a47",
   "metadata": {},
   "outputs": [
    {
     "data": {
      "text/plain": [
       "493.6082"
      ]
     },
     "execution_count": 21,
     "metadata": {},
     "output_type": "execute_result"
    }
   ],
   "source": [
    "area2(1, 3, 6, 8)"
   ]
  },
  {
   "cell_type": "markdown",
   "id": "b434e9b0",
   "metadata": {},
   "source": [
    "**Unit Tests**"
   ]
  },
  {
   "cell_type": "code",
   "execution_count": 22,
   "id": "5d0e27fd",
   "metadata": {},
   "outputs": [],
   "source": [
    "import sys\n",
    "\n",
    "def test(did_pass):\n",
    "    \"\"\" Print the results of a test\"\"\"\n",
    "    linenum = sys._getframe(1).f_lineno # Get the caller's line number\n",
    "    if did_pass:\n",
    "        msg = 'Test at the line{0} ok'.format(linenum)\n",
    "    else:\n",
    "        msg = 'Test at the line{0} FAILED'.format(linenum)\n",
    "    print(msg)"
   ]
  },
  {
   "cell_type": "code",
   "execution_count": 23,
   "id": "6951ebbc",
   "metadata": {},
   "outputs": [],
   "source": [
    "def test_suite():\n",
    "    \"\"\"\n",
    "    Run the suite of tests for code in the module (this file)\n",
    "    \"\"\"\n",
    "    test(absolute_value(17) == 17)\n",
    "    test(absolute_value(-17) == 17)\n",
    "    test(absolute_value(0) == 0)\n",
    "    test(absolute_value(3.14) == 3.14)\n",
    "    test(absolute_value(-3.14) == 3.14)\n",
    "    test(bad_absolute_value(17) == 17)\n",
    "    test(bad_absolute_value(0) == 0)"
   ]
  },
  {
   "cell_type": "code",
   "execution_count": 24,
   "id": "1f9d62c6",
   "metadata": {},
   "outputs": [
    {
     "name": "stdout",
     "output_type": "stream",
     "text": [
      "Test at the line5 ok\n",
      "Test at the line6 ok\n",
      "Test at the line7 ok\n",
      "Test at the line8 ok\n",
      "Test at the line9 ok\n",
      "Test at the line10 ok\n",
      "Test at the line11 FAILED\n"
     ]
    }
   ],
   "source": [
    "test_suite()"
   ]
  },
  {
   "cell_type": "code",
   "execution_count": 25,
   "id": "e2c956a7",
   "metadata": {},
   "outputs": [],
   "source": [
    "class YouSabi:\n",
    "    \n",
    "    def __init__(self):\n",
    "        self.test = 2"
   ]
  },
  {
   "cell_type": "code",
   "execution_count": 26,
   "id": "f1195343",
   "metadata": {},
   "outputs": [],
   "source": [
    "isabi = YouSabi()"
   ]
  },
  {
   "cell_type": "code",
   "execution_count": 27,
   "id": "5b67b5a1",
   "metadata": {},
   "outputs": [
    {
     "data": {
      "text/plain": [
       "2"
      ]
     },
     "execution_count": 27,
     "metadata": {},
     "output_type": "execute_result"
    }
   ],
   "source": [
    "isabi.test"
   ]
  },
  {
   "cell_type": "code",
   "execution_count": 28,
   "id": "11d49607",
   "metadata": {},
   "outputs": [],
   "source": [
    "def seq3np1(n):\n",
    "    \"\"\" Print the 3n+1 sequence from n,\n",
    "    terminating when it reaches 1\n",
    "    \"\"\"\n",
    "    while n != 1:\n",
    "        print(n, end=\", \")\n",
    "        if n % 2 == 0:   # n is even\n",
    "            n = n // 2 \n",
    "        else:\n",
    "            n = n * 3 + 1\n",
    "    print(n, end=\".\\n\")"
   ]
  },
  {
   "cell_type": "code",
   "execution_count": 29,
   "id": "67abdfc4",
   "metadata": {},
   "outputs": [
    {
     "name": "stdout",
     "output_type": "stream",
     "text": [
      "77, 232, 116, 58, 29, 88, 44, 22, 11, 34, 17, 52, 26, 13, 40, 20, 10, 5, 16, 8, 4, 2, 1.\n"
     ]
    }
   ],
   "source": [
    "seq3np1(77)"
   ]
  },
  {
   "cell_type": "code",
   "execution_count": 30,
   "id": "920722b5",
   "metadata": {},
   "outputs": [
    {
     "name": "stdout",
     "output_type": "stream",
     "text": [
      "28, 14, 7, 22, 11, 34, 17, 52, 26, 13, 40, 20, 10, 5, 16, 8, 4, 2, 1.\n"
     ]
    }
   ],
   "source": [
    "seq3np1(28\n",
    "       )"
   ]
  },
  {
   "cell_type": "code",
   "execution_count": 31,
   "id": "9431215f",
   "metadata": {},
   "outputs": [
    {
     "name": "stdout",
     "output_type": "stream",
     "text": [
      "\n",
      "Guess my number between 1 and 1000: e\n"
     ]
    },
    {
     "ename": "ValueError",
     "evalue": "invalid literal for int() with base 10: 'e'",
     "output_type": "error",
     "traceback": [
      "\u001b[1;31m---------------------------------------------------------------------------\u001b[0m",
      "\u001b[1;31mValueError\u001b[0m                                Traceback (most recent call last)",
      "Cell \u001b[1;32mIn[31], line 9\u001b[0m\n\u001b[0;32m      6\u001b[0m msg \u001b[38;5;241m=\u001b[39m \u001b[38;5;124m\"\u001b[39m\u001b[38;5;124m\"\u001b[39m\n\u001b[0;32m      8\u001b[0m \u001b[38;5;28;01mwhile\u001b[39;00m \u001b[38;5;28;01mTrue\u001b[39;00m:\n\u001b[1;32m----> 9\u001b[0m     guess \u001b[38;5;241m=\u001b[39m \u001b[38;5;28mint\u001b[39m(\u001b[38;5;28minput\u001b[39m(msg \u001b[38;5;241m+\u001b[39m \u001b[38;5;124m\"\u001b[39m\u001b[38;5;130;01m\\n\u001b[39;00m\u001b[38;5;124mGuess my number between 1 and 1000: \u001b[39m\u001b[38;5;124m\"\u001b[39m))\n\u001b[0;32m     10\u001b[0m     guesses \u001b[38;5;241m+\u001b[39m\u001b[38;5;241m=\u001b[39m \u001b[38;5;241m1\u001b[39m\n\u001b[0;32m     11\u001b[0m     \u001b[38;5;28;01mif\u001b[39;00m guess \u001b[38;5;241m>\u001b[39m number:\n",
      "\u001b[1;31mValueError\u001b[0m: invalid literal for int() with base 10: 'e'"
     ]
    }
   ],
   "source": [
    "import random \n",
    "rng = random.Random()\n",
    "number = rng.randrange(1, 1000)\n",
    "\n",
    "guesses = 0\n",
    "msg = \"\"\n",
    "\n",
    "while True:\n",
    "    guess = int(input(msg + \"\\nGuess my number between 1 and 1000: \"))\n",
    "    guesses += 1\n",
    "    if guess > number:\n",
    "        msg += str(guess) + \" is too high. \\n\"\n",
    "    elif guess < number:\n",
    "        msg += str(guess) + \" is too low.\\n \"\n",
    "    else:\n",
    "        break200\n",
    "        \n",
    "input(\"\\n\\nGreat, you got it in {0} guesses!\\n\\n\".format(guesses))"
   ]
  },
  {
   "cell_type": "markdown",
   "id": "17131d66",
   "metadata": {},
   "source": [
    "`Continue` causes the program to immediately skip the processing of the rest of the body of the loop for the current iteration. But the loop still carries on running for its remaining iterations"
   ]
  },
  {
   "cell_type": "code",
   "execution_count": 32,
   "id": "1cd7eb93",
   "metadata": {},
   "outputs": [
    {
     "name": "stdout",
     "output_type": "stream",
     "text": [
      "12\n",
      "16\n",
      "24\n",
      "30\n",
      "done\n"
     ]
    }
   ],
   "source": [
    "for i in [12, 16, 17, 24, 29, 30]:\n",
    "    if i % 2 == 1:\n",
    "        continue\n",
    "    print(i)\n",
    "print('done')"
   ]
  },
  {
   "cell_type": "markdown",
   "id": "7dac052d",
   "metadata": {},
   "source": [
    "***Looping a paired data***"
   ]
  },
  {
   "cell_type": "code",
   "execution_count": 33,
   "id": "dc86bc59",
   "metadata": {},
   "outputs": [
    {
     "name": "stdout",
     "output_type": "stream",
     "text": [
      "Brad pitt\n",
      "Jack Nicholson\n"
     ]
    }
   ],
   "source": [
    "celebs = [('Brad pitt', 1963), ('Jack Nicholson', 1937), ('Justin Bieber', 1994)]\n",
    "\n",
    "for (nm, yr) in celebs:\n",
    "    if yr <1980:\n",
    "        print(nm)"
   ]
  },
  {
   "cell_type": "markdown",
   "id": "9e6da257",
   "metadata": {},
   "source": [
    "We’ve used a pair of variable names, (nm, yr), instead. The loop is executed three\n",
    "times — once for each pair in the list, and on each iteration both the variables are assigned values\n",
    "from the pair of data that is being handled."
   ]
  },
  {
   "cell_type": "code",
   "execution_count": 34,
   "id": "5c213586",
   "metadata": {},
   "outputs": [],
   "source": [
    "ss = 'tester '"
   ]
  },
  {
   "cell_type": "code",
   "execution_count": 35,
   "id": "93a00a20",
   "metadata": {},
   "outputs": [
    {
     "data": {
      "text/plain": [
       "'TESTER '"
      ]
     },
     "execution_count": 35,
     "metadata": {},
     "output_type": "execute_result"
    }
   ],
   "source": [
    "ss.upper()"
   ]
  },
  {
   "cell_type": "code",
   "execution_count": 36,
   "id": "2754260c",
   "metadata": {},
   "outputs": [
    {
     "data": {
      "text/plain": [
       "'tester '"
      ]
     },
     "execution_count": 36,
     "metadata": {},
     "output_type": "execute_result"
    }
   ],
   "source": [
    "# ss remained unchanged!\n",
    "ss"
   ]
  },
  {
   "cell_type": "code",
   "execution_count": 37,
   "id": "9877f92f",
   "metadata": {},
   "outputs": [],
   "source": [
    "\n",
    "fruit = 'banana'"
   ]
  },
  {
   "cell_type": "code",
   "execution_count": 38,
   "id": "6e7f0d37",
   "metadata": {},
   "outputs": [
    {
     "data": {
      "text/plain": [
       "'an'"
      ]
     },
     "execution_count": 38,
     "metadata": {},
     "output_type": "execute_result"
    }
   ],
   "source": [
    "fruit[::-3]"
   ]
  },
  {
   "cell_type": "code",
   "execution_count": 39,
   "id": "d58316f6",
   "metadata": {},
   "outputs": [
    {
     "name": "stdout",
     "output_type": "stream",
     "text": [
      "Test at the line13 ok\n",
      "Test at the line14 ok\n"
     ]
    }
   ],
   "source": [
    "def find(strn, ch):\n",
    "    \"\"\"\n",
    "    Find and return the index of ch in strng\n",
    "    Return -1 if ch does not occur in strng\n",
    "    \"\"\"\n",
    "    idx = 0\n",
    "    while idx < len(strn):\n",
    "        if strn[idx] == ch:\n",
    "            return idx\n",
    "        idx += 1\n",
    "    return -1\n",
    "\n",
    "test(find(\"Compsci\", 'p') == 3)\n",
    "test(find(\"Compsci\", 'x') == -1)"
   ]
  },
  {
   "cell_type": "code",
   "execution_count": 40,
   "id": "60111b67",
   "metadata": {},
   "outputs": [
    {
     "data": {
      "text/plain": [
       "2"
      ]
     },
     "execution_count": 40,
     "metadata": {},
     "output_type": "execute_result"
    }
   ],
   "source": [
    "'banana'.find('nan')"
   ]
  },
  {
   "cell_type": "code",
   "execution_count": 41,
   "id": "462796ad",
   "metadata": {},
   "outputs": [
    {
     "data": {
      "text/plain": [
       "4"
      ]
     },
     "execution_count": 41,
     "metadata": {},
     "output_type": "execute_result"
    }
   ],
   "source": [
    "'banana'.find('na', 3)"
   ]
  },
  {
   "cell_type": "code",
   "execution_count": 42,
   "id": "231c3184",
   "metadata": {},
   "outputs": [
    {
     "data": {
      "text/plain": [
       "['Well', 'I', 'never', 'did', 'said', 'Alice']"
      ]
     },
     "execution_count": 42,
     "metadata": {},
     "output_type": "execute_result"
    }
   ],
   "source": [
    "ss = 'Well I never did said Alice'\n",
    "\n",
    "wds = ss.split()\n",
    "\n",
    "wds"
   ]
  },
  {
   "cell_type": "code",
   "execution_count": 43,
   "id": "3da16ad0",
   "metadata": {},
   "outputs": [
    {
     "name": "stdout",
     "output_type": "stream",
     "text": [
      "Test at the line11 ok\n"
     ]
    }
   ],
   "source": [
    "#punctuation = \"!\\\"#$%&'()*+,-./:;<=>?@[\\\\]^_`{|}~\"\n",
    "\n",
    "import string\n",
    "def remove_punctuation(s):\n",
    "    s_san_punc = \"\"\n",
    "    for letter in s:\n",
    "        if letter not in string.punctuation:\n",
    "            s_san_punc += letter\n",
    "    return s_san_punc\n",
    "\n",
    "test(remove_punctuation('\"Well, I never did!\", said Alice,') == \"Well I never did said Alice\")"
   ]
  },
  {
   "cell_type": "code",
   "execution_count": 44,
   "id": "bb14a2f1",
   "metadata": {},
   "outputs": [
    {
     "name": "stdout",
     "output_type": "stream",
     "text": [
      "['Pythons', 'are', 'constrictors', 'which', 'means', 'that', 'they', 'will', 'squeeze', 'the', 'life', 'out', 'of', 'their', 'prey', 'They', 'coil', 'themselves', 'around', 'their', 'prey', 'and', 'with', 'each', 'breath', 'the', 'creature', 'takes', 'the', 'snake', 'will', 'squeeze', 'a', 'little', 'tighter', 'until', 'they', 'stop', 'breathing', 'completely', 'Once', 'the', 'heart', 'stops', 'the', 'prey', 'is', 'swallowed', 'whole', 'The', 'entire', 'animal', 'is', 'digested', 'in', 'the', 'snakes', 'stomach', 'except', 'for', 'fur', 'or', 'feathers', 'What', 'do', 'you', 'think', 'happens', 'to', 'the', 'fur', 'feathers', 'beaks', 'and', 'eggshells', 'The', 'extra', 'stuff', 'gets', 'passed', 'out', 'as', 'you', 'guessed', 'it', 'snake', 'POOP']\n"
     ]
    }
   ],
   "source": [
    "my_story = \"\"\"\n",
    "Pythons are constrictors, which means that they will 'squeeze' the life\n",
    " out of their prey. They coil themselves around their prey and with\n",
    "each breath the creature takes the snake will squeeze a little tighter\n",
    "until they stop breathing completely. Once the heart stops the prey\n",
    "is swallowed whole. The entire animal is digested in the snake's\n",
    "stomach except for fur or feathers. What do you think happens to the fur,\n",
    "feathers, beaks, and eggshells? The 'extra stuff' gets passed out as ---\n",
    "you guessed it --- snake POOP! \"\"\"\n",
    "\n",
    "wds = remove_punctuation(my_story).split()\n",
    "print(wds)"
   ]
  },
  {
   "cell_type": "markdown",
   "id": "73bd5e34",
   "metadata": {},
   "source": [
    "**Format** Method"
   ]
  },
  {
   "cell_type": "code",
   "execution_count": 45,
   "id": "853b2ae7",
   "metadata": {},
   "outputs": [
    {
     "name": "stdout",
     "output_type": "stream",
     "text": [
      "His name is Authur\n"
     ]
    }
   ],
   "source": [
    "s1 = 'His name is {0}'.format('Authur')\n",
    "print(s1)"
   ]
  },
  {
   "cell_type": "code",
   "execution_count": 46,
   "id": "0fe22ab3",
   "metadata": {},
   "outputs": [
    {
     "name": "stdout",
     "output_type": "stream",
     "text": [
      "I am Alice and I am 10 years old\n"
     ]
    }
   ],
   "source": [
    "name = 'Alice'\n",
    "age = 10\n",
    "s2 = 'I am {1} and I am {0} years old'.format(age, name)\n",
    "print(s2)"
   ]
  },
  {
   "cell_type": "code",
   "execution_count": 47,
   "id": "6828a201",
   "metadata": {},
   "outputs": [
    {
     "name": "stdout",
     "output_type": "stream",
     "text": [
      "2**10 = 1024 and 4 * 5 = 20.00\n"
     ]
    }
   ],
   "source": [
    "n1 = 4\n",
    "n2 = 5\n",
    "s3 = '2**10 = {0} and {1} * {2} = {3:.2f}'.format(2**10, n1, n2, n1*n2)\n",
    "print(s3)"
   ]
  },
  {
   "cell_type": "code",
   "execution_count": 48,
   "id": "122fcbd0",
   "metadata": {},
   "outputs": [
    {
     "name": "stdout",
     "output_type": "stream",
     "text": [
      "Pi to three decimal places is 3.142\n",
      "123456789 123456789 123456789 123456789 123456789 123456789\n",
      "|||Paris          |||    Whitney    |||         Hilton|||Born in 1981|||\n",
      "The decimal value 123456 converts to hex value 1e240\n"
     ]
    }
   ],
   "source": [
    "n1 = 'Paris'\n",
    "n2 = 'Whitney'\n",
    "n3 = 'Hilton'\n",
    "\n",
    "print('Pi to three decimal places is {0:.3f}'.format(3.1415935))\n",
    "print('123456789 123456789 123456789 123456789 123456789 123456789')\n",
    "print(\"|||{0:<15}|||{1:^15}|||{2:>15}|||Born in {3}|||\"\n",
    "      .format(n1, n2, n3, 1981))\n",
    "print('The decimal value {0} converts to hex value {0:x}'\n",
    "     .format(123456))\n",
    "\n",
    "      \n"
   ]
  },
  {
   "cell_type": "code",
   "execution_count": 49,
   "id": "b9eea3ef",
   "metadata": {},
   "outputs": [
    {
     "name": "stdout",
     "output_type": "stream",
     "text": [
      "   i  i**2    i**5        i**10                   i**20\n",
      "   1     1       1            1                       1\n",
      "   2     4      32         1024                 1048576\n",
      "   3     9     243        59049              3486784401\n",
      "   4    16    1024      1048576           1099511627776\n",
      "   5    25    3125      9765625          95367431640625\n",
      "   6    36    7776     60466176        3656158440062976\n",
      "   7    49   16807    282475249       79792266297612001\n",
      "   8    64   32768   1073741824     1152921504606846976\n",
      "   9    81   59049   3486784401    12157665459056928801\n",
      "  10   100  100000  10000000000   100000000000000000000\n"
     ]
    }
   ],
   "source": [
    "layout = '{0:>4}{1:>6}{3:>8}{4:>13}{5:>24}'\n",
    "print(layout.format('i', 'i**2', 'i**3', 'i**5', 'i**10', 'i**20'))\n",
    "for i in range(1, 11):\n",
    "    print(layout.format(i, i**2, i**3, i**5, i**10, i**20))"
   ]
  },
  {
   "cell_type": "code",
   "execution_count": 50,
   "id": "72a4911f",
   "metadata": {},
   "outputs": [],
   "source": [
    "year_born = 'Hilton', 1981"
   ]
  },
  {
   "cell_type": "code",
   "execution_count": 51,
   "id": "ff53a9cd",
   "metadata": {},
   "outputs": [
    {
     "data": {
      "text/plain": [
       "tuple"
      ]
     },
     "execution_count": 51,
     "metadata": {},
     "output_type": "execute_result"
    }
   ],
   "source": [
    "type(year_born)"
   ]
  },
  {
   "cell_type": "code",
   "execution_count": 52,
   "id": "d45c7077",
   "metadata": {},
   "outputs": [],
   "source": [
    "julia_more_info = (('Juia', 'Robert'), (8, 'October', 1967),\n",
    "                  'Actress', ('Atlanta', 'Georgia'),\n",
    "                  [('Duplicty', 2009),\n",
    "                  ('Notting Hill', 1999),\n",
    "                  ('Pretty Woman', 1990),\n",
    "                  ('Erin Brockovich', 2000),\n",
    "                  ('Eat Pray Love', 2010),\n",
    "                  ('Mona Lisa Smile', 2003),\n",
    "                  ('Oceans Twelve', 2004)])"
   ]
  },
  {
   "cell_type": "code",
   "execution_count": 53,
   "id": "0ff8707e",
   "metadata": {},
   "outputs": [
    {
     "data": {
      "text/plain": [
       "(8, 'October', 1967)"
      ]
     },
     "execution_count": 53,
     "metadata": {},
     "output_type": "execute_result"
    }
   ],
   "source": [
    "julia_more_info[1]"
   ]
  },
  {
   "cell_type": "code",
   "execution_count": 54,
   "id": "67424e36",
   "metadata": {},
   "outputs": [
    {
     "data": {
      "text/plain": [
       "[('Duplicty', 2009),\n",
       " ('Notting Hill', 1999),\n",
       " ('Pretty Woman', 1990),\n",
       " ('Erin Brockovich', 2000),\n",
       " ('Eat Pray Love', 2010),\n",
       " ('Mona Lisa Smile', 2003),\n",
       " ('Oceans Twelve', 2004)]"
      ]
     },
     "execution_count": 54,
     "metadata": {},
     "output_type": "execute_result"
    }
   ],
   "source": [
    "julia_more_info[4]"
   ]
  },
  {
   "cell_type": "code",
   "execution_count": 55,
   "id": "b5cd2cb5",
   "metadata": {},
   "outputs": [
    {
     "data": {
      "text/plain": [
       "('Notting Hill', 1999)"
      ]
     },
     "execution_count": 55,
     "metadata": {},
     "output_type": "execute_result"
    }
   ],
   "source": [
    "julia_more_info[4][1]"
   ]
  },
  {
   "cell_type": "code",
   "execution_count": 56,
   "id": "3246a3fa",
   "metadata": {},
   "outputs": [
    {
     "data": {
      "text/plain": [
       "'Notting Hill'"
      ]
     },
     "execution_count": 56,
     "metadata": {},
     "output_type": "execute_result"
    }
   ],
   "source": [
    "julia_more_info[4][1][0]"
   ]
  },
  {
   "cell_type": "code",
   "execution_count": 57,
   "id": "3899d239",
   "metadata": {},
   "outputs": [],
   "source": [
    "# Tuple multi-variable assignment \n",
    "(name, dob, prof, loc, movies) = julia_more_info\n",
    "\n",
    "# No of variables must be equal to No of elements in tuple"
   ]
  },
  {
   "cell_type": "code",
   "execution_count": 58,
   "id": "41a5ae33",
   "metadata": {},
   "outputs": [
    {
     "data": {
      "text/plain": [
       "('Juia', 'Robert')"
      ]
     },
     "execution_count": 58,
     "metadata": {},
     "output_type": "execute_result"
    }
   ],
   "source": [
    "name"
   ]
  },
  {
   "cell_type": "code",
   "execution_count": 59,
   "id": "4427cf48",
   "metadata": {},
   "outputs": [
    {
     "data": {
      "text/plain": [
       "(8, 'October', 1967)"
      ]
     },
     "execution_count": 59,
     "metadata": {},
     "output_type": "execute_result"
    }
   ],
   "source": [
    "dob"
   ]
  },
  {
   "cell_type": "code",
   "execution_count": 60,
   "id": "d07075a0",
   "metadata": {},
   "outputs": [
    {
     "data": {
      "text/plain": [
       "'Actress'"
      ]
     },
     "execution_count": 60,
     "metadata": {},
     "output_type": "execute_result"
    }
   ],
   "source": [
    "prof"
   ]
  },
  {
   "cell_type": "code",
   "execution_count": 61,
   "id": "46b1f41f",
   "metadata": {},
   "outputs": [
    {
     "data": {
      "text/plain": [
       "('Atlanta', 'Georgia')"
      ]
     },
     "execution_count": 61,
     "metadata": {},
     "output_type": "execute_result"
    }
   ],
   "source": [
    "loc"
   ]
  },
  {
   "cell_type": "code",
   "execution_count": 62,
   "id": "ff8e5e89",
   "metadata": {},
   "outputs": [
    {
     "data": {
      "text/plain": [
       "[('Duplicty', 2009),\n",
       " ('Notting Hill', 1999),\n",
       " ('Pretty Woman', 1990),\n",
       " ('Erin Brockovich', 2000),\n",
       " ('Eat Pray Love', 2010),\n",
       " ('Mona Lisa Smile', 2003),\n",
       " ('Oceans Twelve', 2004)]"
      ]
     },
     "execution_count": 62,
     "metadata": {},
     "output_type": "execute_result"
    }
   ],
   "source": [
    "movies"
   ]
  },
  {
   "cell_type": "markdown",
   "id": "5cf9831a",
   "metadata": {},
   "source": [
    "**Event Handling**"
   ]
  },
  {
   "cell_type": "code",
   "execution_count": 63,
   "id": "5f1fc31e",
   "metadata": {},
   "outputs": [
    {
     "ename": "Terminator",
     "evalue": "",
     "output_type": "error",
     "traceback": [
      "\u001b[1;31m---------------------------------------------------------------------------\u001b[0m",
      "\u001b[1;31mTerminator\u001b[0m                                Traceback (most recent call last)",
      "Cell \u001b[1;32mIn[63], line 3\u001b[0m\n\u001b[0;32m      1\u001b[0m \u001b[38;5;28;01mimport\u001b[39;00m \u001b[38;5;21;01mturtle\u001b[39;00m\n\u001b[1;32m----> 3\u001b[0m turtle\u001b[38;5;241m.\u001b[39msetup(\u001b[38;5;241m400\u001b[39m,\u001b[38;5;241m500\u001b[39m)\n\u001b[0;32m      4\u001b[0m wn \u001b[38;5;241m=\u001b[39m turtle\u001b[38;5;241m.\u001b[39mScreen()\n\u001b[0;32m      5\u001b[0m wn\u001b[38;5;241m.\u001b[39mtitle(\u001b[38;5;124m'\u001b[39m\u001b[38;5;124mHandling keypresses!\u001b[39m\u001b[38;5;124m'\u001b[39m)\n",
      "File \u001b[1;32m<string>:5\u001b[0m, in \u001b[0;36msetup\u001b[1;34m(width, height, startx, starty)\u001b[0m\n",
      "\u001b[1;31mTerminator\u001b[0m: "
     ]
    }
   ],
   "source": [
    "import turtle\n",
    "\n",
    "turtle.setup(400,500)\n",
    "wn = turtle.Screen()\n",
    "wn.title('Handling keypresses!')\n",
    "wn.bgcolor('lightgreen')\n",
    "tess = turtle.Turtle()\n",
    "\n",
    "# The nex four functions are our 'event handlers'\n",
    "def h1():\n",
    "    tess.forward(30)\n",
    "\n",
    "def h2():\n",
    "    tess.left(45)\n",
    "    \n",
    "def h3():\n",
    "    tess.right(45)\n",
    "    \n",
    "def h4():\n",
    "    wn.bye()\n",
    "    \n",
    "# These lines 'wire up' keypresses to the handlers we've defined\n",
    "wn.onkey(h1, 'Up')\n",
    "wn.onkey(h2, 'Left')\n",
    "wn.onkey(h3, 'Right')\n",
    "wn.onkey(h4, 'q')\n",
    "\n",
    "# Now we need to tell the window to start listening for events\n",
    "# If any of the keys that we're monitoring is pressed, its handler will be called \n",
    "wn.listen()\n",
    "wn.mainloop()"
   ]
  },
  {
   "cell_type": "code",
   "execution_count": 64,
   "id": "9e809c3a",
   "metadata": {},
   "outputs": [],
   "source": [
    "import turtle\n",
    "\n",
    "turtle.setup(400, 500)\n",
    "wn = turtle.Screen()\n",
    "wn.title('How to handle mouse clicks on the window!')\n",
    "wn.bgcolor('lightgreen')\n",
    "\n",
    "tess = turtle.Turtle()\n",
    "#tess.color('purple')\n",
    "tess.pensize(3)\n",
    "tess.shape('turtle')\n",
    "\n",
    "def h1(x, y):\n",
    "    wn.title('Got click at coords {0} {1}'.format(x,y))\n",
    "    tess.goto(x, y)\n",
    "    \n",
    "wn.onclick(h1) # Wire up a click on the window\n",
    "wn.mainloop()\n"
   ]
  },
  {
   "cell_type": "code",
   "execution_count": 65,
   "id": "706509e4",
   "metadata": {
    "run_control": {
     "marked": true
    }
   },
   "outputs": [
    {
     "ename": "Terminator",
     "evalue": "",
     "output_type": "error",
     "traceback": [
      "\u001b[1;31m---------------------------------------------------------------------------\u001b[0m",
      "\u001b[1;31mTerminator\u001b[0m                                Traceback (most recent call last)",
      "Cell \u001b[1;32mIn[65], line 5\u001b[0m\n\u001b[0;32m      1\u001b[0m \u001b[38;5;66;03m# Seperate handlers for each turtle\u001b[39;00m\n\u001b[0;32m      3\u001b[0m \u001b[38;5;28;01mimport\u001b[39;00m \u001b[38;5;21;01mturtle\u001b[39;00m\n\u001b[1;32m----> 5\u001b[0m turtle\u001b[38;5;241m.\u001b[39msetup(\u001b[38;5;241m400\u001b[39m, \u001b[38;5;241m500\u001b[39m)               \u001b[38;5;66;03m# Determine the window size\u001b[39;00m\n\u001b[0;32m      6\u001b[0m wn \u001b[38;5;241m=\u001b[39m turtle\u001b[38;5;241m.\u001b[39mScreen()                 \u001b[38;5;66;03m# Get a reference to the window\u001b[39;00m\n\u001b[0;32m      7\u001b[0m wn\u001b[38;5;241m.\u001b[39mtitle(\u001b[38;5;124m'\u001b[39m\u001b[38;5;124mHandling mouse clicks!\u001b[39m\u001b[38;5;124m'\u001b[39m)   \u001b[38;5;66;03m# Change the window title\u001b[39;00m\n",
      "File \u001b[1;32m<string>:5\u001b[0m, in \u001b[0;36msetup\u001b[1;34m(width, height, startx, starty)\u001b[0m\n",
      "\u001b[1;31mTerminator\u001b[0m: "
     ]
    }
   ],
   "source": [
    "# Seperate handlers for each turtle\n",
    "\n",
    "import turtle\n",
    "\n",
    "turtle.setup(400, 500)               # Determine the window size\n",
    "wn = turtle.Screen()                 # Get a reference to the window\n",
    "wn.title('Handling mouse clicks!')   # Change the window title\n",
    "wn.bgcolor('lightgreen')             # Set the background color\n",
    "tess = turtle.Turtle()               # Create the first turtle\n",
    "tess.color('red')\n",
    "\n",
    "alex = turtle.Turtle()                 # Create the second turtle\n",
    "alex.color('blue')\n",
    "alex.forward(100)\n",
    "\n",
    "def handler_for_tess(x, y):\n",
    "    wn.title('Tess clicked at {0}, {1}'.format(x, y))\n",
    "    tess.left(42)\n",
    "    tess.forward(30)\n",
    "    \n",
    "def handler_for_alex(x, y):\n",
    "    wn.title('Alex clicked at {0}, {1}'.format(x, y))\n",
    "    alex.right(84)\n",
    "    alex.forward(50)\n",
    "    \n",
    "tess.onclick(handler_for_tess)\n",
    "alex.onclick(handler_for_alex)\n",
    "\n",
    "wn.mainloop()\n"
   ]
  },
  {
   "cell_type": "code",
   "execution_count": 66,
   "id": "36185b1a",
   "metadata": {},
   "outputs": [],
   "source": [
    "# Using a timer for event trigger\n",
    "import turtle\n",
    "\n",
    "turtle.setup(400, 500)\n",
    "wn = turtle.Screen()\n",
    "wn.title('Using a timer')\n",
    "wn.bgcolor('lightgreen')\n",
    "\n",
    "tess = turtle.Turtle()\n",
    "#tess.color('blue')\n",
    "tess.shape('turtle')\n",
    "tess.pensize(6)\n",
    "\n",
    "def h1():\n",
    "    tess.forward(100)\n",
    "    tess.left(56)\n",
    "    \n",
    "wn.ontimer(h1, 2000)\n",
    "wn.mainloop()"
   ]
  },
  {
   "cell_type": "code",
   "execution_count": 67,
   "id": "8e892164",
   "metadata": {},
   "outputs": [
    {
     "ename": "Terminator",
     "evalue": "",
     "output_type": "error",
     "traceback": [
      "\u001b[1;31m---------------------------------------------------------------------------\u001b[0m",
      "\u001b[1;31mTerminator\u001b[0m                                Traceback (most recent call last)",
      "Cell \u001b[1;32mIn[67], line 4\u001b[0m\n\u001b[0;32m      1\u001b[0m \u001b[38;5;66;03m# Restart the timer insider the timer\u001b[39;00m\n\u001b[0;32m      2\u001b[0m \u001b[38;5;28;01mimport\u001b[39;00m \u001b[38;5;21;01mturtle\u001b[39;00m\n\u001b[1;32m----> 4\u001b[0m turtle\u001b[38;5;241m.\u001b[39msetup(\u001b[38;5;241m400\u001b[39m, \u001b[38;5;241m500\u001b[39m)\n\u001b[0;32m      5\u001b[0m wn \u001b[38;5;241m=\u001b[39m turtle\u001b[38;5;241m.\u001b[39mScreen()\n\u001b[0;32m      6\u001b[0m wn\u001b[38;5;241m.\u001b[39mtitle(\u001b[38;5;124m'\u001b[39m\u001b[38;5;124mUsing a timer to get events\u001b[39m\u001b[38;5;124m'\u001b[39m)\n",
      "File \u001b[1;32m<string>:5\u001b[0m, in \u001b[0;36msetup\u001b[1;34m(width, height, startx, starty)\u001b[0m\n",
      "\u001b[1;31mTerminator\u001b[0m: "
     ]
    }
   ],
   "source": [
    "# Restart the timer insider the timer\n",
    "import turtle\n",
    "\n",
    "turtle.setup(400, 500)\n",
    "wn = turtle.Screen()\n",
    "wn.title('Using a timer to get events')\n",
    "wn.bgcolor('lightgreen')\n",
    "\n",
    "tess = turtle.Turtle()\n",
    "tess.color('red')\n",
    "\n",
    "def h1():\n",
    "    tess.forward(100)\n",
    "    tess.left(56)\n",
    "    wn.ontimer(h1, 60)\n",
    "    \n",
    "h1()\n",
    "wn.mainloop()"
   ]
  },
  {
   "cell_type": "code",
   "execution_count": 68,
   "id": "cf4c43d8",
   "metadata": {
    "scrolled": true
   },
   "outputs": [],
   "source": [
    "# Tess becomes a traffic light\n",
    "\n",
    "import turtle\n",
    "\n",
    "turtle.setup(400, 500)\n",
    "wn = turtle.Screen()\n",
    "wn.title('Tess becomes a traffic light')\n",
    "wn.bgcolor('lightgreen')\n",
    "tess = turtle.Turtle()\n",
    "\n",
    "def draw_housing():\n",
    "    \"\"\" Draw a nice housing to hold the traffic light\"\"\"\n",
    "    tess.pensize(3)\n",
    "    #tess.color(\"black\", \"darkgrey\")\n",
    "    tess.begin_fill()\n",
    "    tess.forward(80)\n",
    "    tess.left(90)\n",
    "    tess.forward(200)\n",
    "    tess.circle(40, 180)\n",
    "    tess.forward(200)\n",
    "    tess.left(90)\n",
    "    tess.end_fill()\n",
    "    \n",
    "draw_housing()\n",
    "\n",
    "tess.penup()\n",
    "# Position tess onto the place where the green light should be \n",
    "tess.forward(40)\n",
    "tess.left(90)\n",
    "tess.forward(50)\n",
    "# Turn tess into a big green circle\n",
    "tess.shape('circle')\n",
    "tess.shapesize(3)\n",
    "tess.fillcolor('green')\n",
    "\n",
    "# A traffic light is a kind of state machine with three states,\n",
    "# Green, Orange, Red. We number these states 0, 1, 2\n",
    "# When the machine changes state, we change tess's position and her fillcolor\n",
    "\n",
    "# This variable holds the current state of the machine\n",
    "state_num = 0\n",
    "\n",
    "\n",
    "def advance_state_machine():\n",
    "    global state_num\n",
    "    if state_num == 0:  # Transition from state 0 to state 1\n",
    "        tess.forward(70)\n",
    "        tess.fillcolor('orange')\n",
    "        state_num = 1\n",
    "    elif state_num == 1:\n",
    "        tess.forward(70)\n",
    "        tess.fillcolor('red')\n",
    "        state_num = 2\n",
    "    else:\n",
    "        tess.back(140)\n",
    "        tess.fillcolor('green')\n",
    "        state_num = 0\n",
    "        \n",
    "# Bind the event handler to the space key\n",
    "wn.onkey(advance_state_machine, 'space')\n",
    "\n",
    "wn.listen()\n",
    "wn.mainloop()"
   ]
  },
  {
   "cell_type": "code",
   "execution_count": 69,
   "id": "6514704f",
   "metadata": {},
   "outputs": [
    {
     "name": "stdout",
     "output_type": "stream",
     "text": [
      "Test at the line10 ok\n",
      "Test at the line11 ok\n"
     ]
    }
   ],
   "source": [
    "def f(n):\n",
    "    \"\"\" \n",
    "    Find the first positive integer between 101 and less than n that is \n",
    "    divisible by 21\n",
    "    \"\"\"\n",
    "    for i in range(101, n):\n",
    "        if i % 21 == 0:\n",
    "            return i\n",
    "        \n",
    "test(f(110) == 105)\n",
    "test(f(1000000000) == 105)"
   ]
  },
  {
   "cell_type": "code",
   "execution_count": 70,
   "id": "413862a5",
   "metadata": {},
   "outputs": [],
   "source": [
    "s = 'this is a string'"
   ]
  },
  {
   "cell_type": "code",
   "execution_count": 71,
   "id": "3e89c370",
   "metadata": {},
   "outputs": [
    {
     "ename": "NameError",
     "evalue": "name 'upper' is not defined",
     "output_type": "error",
     "traceback": [
      "\u001b[1;31m---------------------------------------------------------------------------\u001b[0m",
      "\u001b[1;31mNameError\u001b[0m                                 Traceback (most recent call last)",
      "Cell \u001b[1;32mIn[71], line 1\u001b[0m\n\u001b[1;32m----> 1\u001b[0m upper(s)\n",
      "\u001b[1;31mNameError\u001b[0m: name 'upper' is not defined"
     ]
    }
   ],
   "source": [
    "upper(s)"
   ]
  },
  {
   "cell_type": "code",
   "execution_count": 72,
   "id": "01001a8e",
   "metadata": {},
   "outputs": [
    {
     "data": {
      "text/plain": [
       "'THIS IS A STRING'"
      ]
     },
     "execution_count": 72,
     "metadata": {},
     "output_type": "execute_result"
    }
   ],
   "source": [
    "s.upper()"
   ]
  },
  {
   "cell_type": "code",
   "execution_count": 73,
   "id": "c9d1dbbc",
   "metadata": {},
   "outputs": [
    {
     "name": "stdout",
     "output_type": "stream",
     "text": [
      "17 10 3\n"
     ]
    }
   ],
   "source": [
    "n = 10\n",
    "m = 3\n",
    "def f(n):\n",
    "    m = 7\n",
    "    return 2*n+m\n",
    "\n",
    "print(f(5), n, m)"
   ]
  },
  {
   "cell_type": "code",
   "execution_count": 74,
   "id": "7bb4f212",
   "metadata": {},
   "outputs": [],
   "source": [
    "# Write into a file\n",
    "\n",
    "myfile = open('test.txt', 'w') \n",
    "myfile.write('My first file written from Python\\n')\n",
    "myfile.write('----------------------------------\\n')\n",
    "myfile.write('Hello, world!\\n')\n",
    "myfile.close()"
   ]
  },
  {
   "cell_type": "code",
   "execution_count": 75,
   "id": "d3b99294",
   "metadata": {},
   "outputs": [
    {
     "name": "stdout",
     "output_type": "stream",
     "text": [
      "My first file written from Python\n",
      "----------------------------------\n",
      "Hello, world!\n"
     ]
    }
   ],
   "source": [
    "# Read from a file\n",
    "\n",
    "mynewhandle = open('test.txt', 'r')\n",
    "while True:\n",
    "    theline = mynewhandle.readline()\n",
    "    if len(theline) == 0:\n",
    "        break\n",
    "        \n",
    "    print(theline, end='')\n",
    "    \n",
    "mynewhandle.close()"
   ]
  },
  {
   "cell_type": "code",
   "execution_count": 76,
   "id": "2d28c56d",
   "metadata": {},
   "outputs": [
    {
     "data": {
      "text/plain": [
       "['My first file written from Python\\n',\n",
       " '----------------------------------\\n',\n",
       " 'Hello, world!\\n']"
      ]
     },
     "execution_count": 76,
     "metadata": {},
     "output_type": "execute_result"
    }
   ],
   "source": [
    "mynewhandle = open('test.txt', 'r')\n",
    "\n",
    "mynewhandle.readlines()"
   ]
  },
  {
   "cell_type": "code",
   "execution_count": 77,
   "id": "60eee43f",
   "metadata": {},
   "outputs": [
    {
     "name": "stdout",
     "output_type": "stream",
     "text": [
      "There are 9 words in this file\n",
      "There are 9 words in this file\n"
     ]
    }
   ],
   "source": [
    "f = open('test.txt', 'r')\n",
    "content = f.read()\n",
    "\n",
    "print(f'There are {len(content.split())} words in this file')\n",
    "print('There are {0} words in this file'.format(len(content.split())))"
   ]
  },
  {
   "cell_type": "code",
   "execution_count": 78,
   "id": "5ac4d9c5",
   "metadata": {},
   "outputs": [],
   "source": [
    "from urllib import request"
   ]
  },
  {
   "cell_type": "code",
   "execution_count": 79,
   "id": "18627b25",
   "metadata": {},
   "outputs": [
    {
     "data": {
      "text/plain": [
       "('rfc793.txt', <http.client.HTTPMessage at 0x209752e01d0>)"
      ]
     },
     "execution_count": 79,
     "metadata": {},
     "output_type": "execute_result"
    }
   ],
   "source": [
    "url = \"https://www.ietf.org/rfc/rfc793.txt\"\n",
    "destination_filename = 'rfc793.txt'\n",
    "\n",
    "request.urlretrieve(url, destination_filename)"
   ]
  },
  {
   "cell_type": "markdown",
   "id": "78ce1d8a",
   "metadata": {},
   "source": [
    "**Test Driven Development**"
   ]
  },
  {
   "cell_type": "code",
   "execution_count": 82,
   "id": "b0429cc5",
   "metadata": {},
   "outputs": [],
   "source": [
    "def search_linear(xs, target):\n",
    "    \"\"\"\n",
    "    Find and return the index of target in sequence xs\n",
    "    \"\"\"\n",
    "    for (i, v) in enumerate(xs):\n",
    "        if v == target:\n",
    "            return i\n",
    "    return -1"
   ]
  },
  {
   "cell_type": "code",
   "execution_count": 91,
   "id": "46616579",
   "metadata": {},
   "outputs": [
    {
     "name": "stdout",
     "output_type": "stream",
     "text": [
      "Test at the line6 ok\n",
      "Test at the line7 ok\n",
      "Test at the line8 ok\n",
      "Test at the line9 ok\n"
     ]
    }
   ],
   "source": [
    "# test.py module created in root directory notebook runs from\n",
    "from test import test\n",
    "\n",
    "# Lets write some tests\n",
    "friends = ['Joe', 'Zoe', 'Brad', 'Angelina', 'Zuki', 'Thandi', 'Paris']\n",
    "test(search_linear(friends, 'Zoe') == 1)\n",
    "test(search_linear(friends, 'Joe') == 0)\n",
    "test(search_linear(friends, 'Paris') == 6)\n",
    "test(search_linear(friends, 'Bill') == -1)\n",
    "\n",
    "\n",
    "\n",
    "\n",
    "\n"
   ]
  },
  {
   "cell_type": "code",
   "execution_count": 92,
   "id": "e7474af1",
   "metadata": {},
   "outputs": [
    {
     "name": "stdout",
     "output_type": "stream",
     "text": [
      "Test at the line4 ok\n",
      "Test at the line5 ok\n",
      "Test at the line6 ok\n"
     ]
    }
   ],
   "source": [
    "vocab = ['apple', 'boy', 'dog', 'down', 'fell', 'girl', 'grass', 'the', 'tree']\n",
    "book_words = 'the apple fell from the tree to the grass'.split()\n",
    "\n",
    "test(find_unknown_words(vocab, book_words) == ['from', 'to'])\n",
    "test(find_unknown_words([], book_words) == book_words)\n",
    "test(find_unknown_words(vocab, ['the', 'boy', 'fell']) == [])\n",
    "\n"
   ]
  },
  {
   "cell_type": "code",
   "execution_count": 93,
   "id": "665ad7d8",
   "metadata": {},
   "outputs": [],
   "source": [
    "def find_unknown_words(vocab, wds):\n",
    "    \"\"\" Return a list of words in wds that do not occur in vocab\"\"\"\n",
    "    result = []\n",
    "    for w in wds:\n",
    "        if (search_linear(vocab, w) < 0):\n",
    "            result.append(w)\n",
    "    return result"
   ]
  },
  {
   "cell_type": "code",
   "execution_count": 95,
   "id": "15e8b85f",
   "metadata": {},
   "outputs": [
    {
     "name": "stdout",
     "output_type": "stream",
     "text": [
      "There are 19455 words in the vocab, starting with\n",
      " ['a', 'aback', 'abacus', 'abandon', 'abandoned', 'abandonment'] \n"
     ]
    }
   ],
   "source": [
    "# Read words from file\n",
    "def load_words_from_file(filename):\n",
    "    \"\"\" Read words from filename, return list of words\"\"\"\n",
    "    f = open(filename, 'r')\n",
    "    file_content = f.read()\n",
    "    f.close()\n",
    "    wds = file_content.split()\n",
    "    return wds\n",
    "\n",
    "bigger_vocab = load_words_from_file('vocab.txt')\n",
    "print('There are {0} words in the vocab, starting with\\n {1} '.format(len(bigger_vocab), bigger_vocab[:6]))\n",
    "\n",
    "\n"
   ]
  },
  {
   "cell_type": "code",
   "execution_count": 97,
   "id": "f9fe93e2",
   "metadata": {},
   "outputs": [],
   "source": [
    "def text_to_words(the_text):\n",
    "    \"\"\" Return a list of words with all punctuation removed, and \n",
    "    all in lowercase\n",
    "    \"\"\"\n",
    "    \n",
    "    my_substitutions = the_text.maketrans(\n",
    "    # If you find any of these)\n",
    "    \"ABCDEFGHIJKLMNOPQRSTUVWXYZ0123456789!\\\"#$%&()*+,-./:;<=>?@[]^_`{|}~'\\\\\",\n",
    "    # Replace them with these\n",
    "        \"abcdefghijklmnopqrstuvwxyz                                          \")\n",
    "        \n",
    "    # Translate the text now.\n",
    "    cleaned_text = the_text.translate(my_substitutions)\n",
    "    wds = cleaned_text.split()\n",
    "    return wds\n",
    "    "
   ]
  },
  {
   "cell_type": "code",
   "execution_count": 100,
   "id": "f757f8be",
   "metadata": {},
   "outputs": [
    {
     "name": "stdout",
     "output_type": "stream",
     "text": [
      "Test at the line1 FAILED\n",
      "Test at the line2 ok\n",
      "Test at the line3 ok\n"
     ]
    }
   ],
   "source": [
    "test(text_to_words('My name is Earl!') == ['my', 'name', 'is', 'Earl'])\n",
    "test(text_to_words('My name is Earl!') == ['my', 'name', 'is', 'earl'])\n",
    "test(text_to_words('\"Well, I never!\", said Alice.') == ['well', 'i', 'never', 'said', 'alice'])"
   ]
  },
  {
   "cell_type": "code",
   "execution_count": null,
   "id": "13b37d23",
   "metadata": {},
   "outputs": [],
   "source": []
  }
 ],
 "metadata": {
  "kernelspec": {
   "display_name": "Python 3 (ipykernel)",
   "language": "python",
   "name": "python3"
  },
  "language_info": {
   "codemirror_mode": {
    "name": "ipython",
    "version": 3
   },
   "file_extension": ".py",
   "mimetype": "text/x-python",
   "name": "python",
   "nbconvert_exporter": "python",
   "pygments_lexer": "ipython3",
   "version": "3.11.3"
  },
  "toc": {
   "base_numbering": 1,
   "nav_menu": {},
   "number_sections": true,
   "sideBar": true,
   "skip_h1_title": true,
   "title_cell": "Table of Contents",
   "title_sidebar": "Contents",
   "toc_cell": false,
   "toc_position": {},
   "toc_section_display": true,
   "toc_window_display": false
  }
 },
 "nbformat": 4,
 "nbformat_minor": 5
}
