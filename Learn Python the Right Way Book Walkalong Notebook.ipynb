{
 "cells": [
  {
   "cell_type": "code",
   "execution_count": null,
   "id": "1c94d6e5",
   "metadata": {},
   "outputs": [],
   "source": [
    "import turtle\n",
    "wn = turtle.Screen()"
   ]
  },
  {
   "cell_type": "code",
   "execution_count": null,
   "id": "d333d390",
   "metadata": {
    "scrolled": true
   },
   "outputs": [],
   "source": [
    "alex = turtle.Turtle()"
   ]
  },
  {
   "cell_type": "code",
   "execution_count": null,
   "id": "869c9900",
   "metadata": {},
   "outputs": [],
   "source": [
    "alex.forward(50)"
   ]
  },
  {
   "cell_type": "code",
   "execution_count": null,
   "id": "04224c0a",
   "metadata": {},
   "outputs": [],
   "source": [
    "alex.left(90)"
   ]
  },
  {
   "cell_type": "code",
   "execution_count": null,
   "id": "398d8d0c",
   "metadata": {},
   "outputs": [],
   "source": [
    "alex.forward(30)\n",
    "alex.write('hekk')"
   ]
  },
  {
   "cell_type": "code",
   "execution_count": null,
   "id": "0353a2d1",
   "metadata": {},
   "outputs": [],
   "source": [
    "wn.title('hello')"
   ]
  },
  {
   "cell_type": "code",
   "execution_count": null,
   "id": "d7070335",
   "metadata": {},
   "outputs": [],
   "source": [
    "color = 'blue'\n",
    "alex.color(color.strip())"
   ]
  },
  {
   "cell_type": "code",
   "execution_count": null,
   "id": "b488ccd4",
   "metadata": {},
   "outputs": [],
   "source": [
    "wn.mainloop()"
   ]
  },
  {
   "cell_type": "code",
   "execution_count": null,
   "id": "78cce6f4",
   "metadata": {},
   "outputs": [],
   "source": [
    "# import turtle\n",
    "\n",
    "# def draw_multicolor_square(t, sz):\n",
    "#     \"\"\" Make turtle t draw a multi-color square of sz\"\"\"\n",
    "#     for i in ['red', 'purple', 'hotpink', 'blue']:\n",
    "#         t.color(i)\n",
    "#         t.forward(sz)\n",
    "#         t.left(90)\n",
    "        \n",
    "\n",
    "# wn = turtle.Screen()\n",
    "# wn.bgcolor('lightgreen')\n",
    "\n",
    "# tess = turtle.Turtle()\n",
    "# tess.pensize(3)\n",
    "\n",
    "# size = 20\n",
    "# for i in range(15):\n",
    "#     draw_multicolor_square(tess, size)\n",
    "#     size = size + 10\n",
    "#     tess.forward(10)\n",
    "#     tess.right(18)\n",
    "    \n",
    "# wn.mainloop()"
   ]
  },
  {
   "cell_type": "code",
   "execution_count": null,
   "id": "ed1ff647",
   "metadata": {},
   "outputs": [],
   "source": [
    "x = 3\n",
    "\n",
    "if x % 2 == 0:\n",
    "    print(x , 'is even')\n",
    "else:\n",
    "    print(x, 'is odd')\n",
    "\n"
   ]
  },
  {
   "cell_type": "code",
   "execution_count": null,
   "id": "aadd88fa",
   "metadata": {},
   "outputs": [],
   "source": [
    "def print_sqr_root(x):\n",
    "    if x <= 0:\n",
    "        print('Positive numbers only, please')\n",
    "        return\n",
    "    result =  x**0.5\n",
    "    print('The square root of', x, 'is', result)"
   ]
  },
  {
   "cell_type": "code",
   "execution_count": null,
   "id": "5f12be94",
   "metadata": {},
   "outputs": [],
   "source": [
    "print_sqr_root(0)"
   ]
  },
  {
   "cell_type": "code",
   "execution_count": null,
   "id": "80b035eb",
   "metadata": {},
   "outputs": [],
   "source": [
    "# alex.write('hekk')"
   ]
  },
  {
   "cell_type": "code",
   "execution_count": null,
   "id": "64414b97",
   "metadata": {},
   "outputs": [],
   "source": [
    "def area(radius):\n",
    "    area = (3.142 * radius)**2\n",
    "    return area"
   ]
  },
  {
   "cell_type": "code",
   "execution_count": null,
   "id": "e3dd954b",
   "metadata": {},
   "outputs": [],
   "source": [
    "area(12)"
   ]
  },
  {
   "cell_type": "code",
   "execution_count": null,
   "id": "9d3d62b0",
   "metadata": {},
   "outputs": [],
   "source": [
    "def absolute_value(x):\n",
    "    if x < 0:\n",
    "        return -x\n",
    "    return x\n",
    "\n",
    "def bad_absolute_value(x):\n",
    "    if x < 0:\n",
    "        return -x\n",
    "    elif x > 0:\n",
    "        return x\n",
    "    \n"
   ]
  },
  {
   "cell_type": "code",
   "execution_count": null,
   "id": "67b5e4ed",
   "metadata": {},
   "outputs": [],
   "source": [
    "absolute_value(-2)"
   ]
  },
  {
   "cell_type": "code",
   "execution_count": null,
   "id": "921ff52c",
   "metadata": {},
   "outputs": [],
   "source": [
    "print(bad_absolute_value(0))"
   ]
  },
  {
   "cell_type": "code",
   "execution_count": null,
   "id": "628c6748",
   "metadata": {},
   "outputs": [],
   "source": [
    "# Write the function to find distance between two points\n",
    "\n",
    "def distance(x1, y1, x2, y2):\n",
    "    \"\"\"\n",
    "    parameters:\n",
    "        x1: distance from origin on x-coordinates for point 1\n",
    "        y1: distance from origin on y-coordinates for point 1\n",
    "        x2: distance from origin on x-coordinates for point 2\n",
    "        y2: distance from origin on y-coordinates for point 2\n",
    "    \n",
    "    returns:\n",
    "        The linear distance between point 1 and point 2 \n",
    "    \n",
    "    \"\"\"\n",
    "    dx = x2 - x1\n",
    "    dy = y2 - y1\n",
    "    \n",
    "    sum_squares = dx * dx + dy * dy\n",
    "        \n",
    "    return sum_squares**0.5"
   ]
  },
  {
   "cell_type": "code",
   "execution_count": null,
   "id": "abf3e892",
   "metadata": {},
   "outputs": [],
   "source": [
    "# Given the centre of a circe and a point on the perimeter, we can then get the area of the circle using functions\n",
    "\n",
    "def area2(xc, yc, xp, yp):\n",
    "    \n",
    "    \"\"\"\n",
    "    parameters:\n",
    "        xc: distance from origin on x-coordinates for centre of the circle\n",
    "        yc: distance from origin on y-coordinates for centre of the circle\n",
    "        xp: distance from origin on x-coordinates for point on perimeter of circle\n",
    "        yp: distance from origin on y-coordinates for point on perimeter of circle\n",
    "    \n",
    "    returns:\n",
    "        The area of the circle\n",
    "    \n",
    "    \"\"\"\n",
    "    radius = distance(xc, yc, xp, yp)\n",
    "    result = area(radius)\n",
    "    return result\n",
    "\n"
   ]
  },
  {
   "cell_type": "code",
   "execution_count": null,
   "id": "c64c3a47",
   "metadata": {},
   "outputs": [],
   "source": [
    "area2(1, 3, 6, 8)"
   ]
  },
  {
   "cell_type": "markdown",
   "id": "b434e9b0",
   "metadata": {},
   "source": [
    "**Unit Tests**"
   ]
  },
  {
   "cell_type": "code",
   "execution_count": null,
   "id": "5d0e27fd",
   "metadata": {},
   "outputs": [],
   "source": [
    "import sys\n",
    "\n",
    "def test(did_pass):\n",
    "    \"\"\" Print the results of a test\"\"\"\n",
    "    linenum = sys._getframe(1).f_lineno # Get the caller's line number\n",
    "    if did_pass:\n",
    "        msg = 'Test at the line{0} ok'.format(linenum)\n",
    "    else:\n",
    "        msg = 'Test at the line{0} FAILED'.format(linenum)\n",
    "    print(msg)"
   ]
  },
  {
   "cell_type": "code",
   "execution_count": null,
   "id": "6951ebbc",
   "metadata": {},
   "outputs": [],
   "source": [
    "def test_suite():\n",
    "    \"\"\"\n",
    "    Run the suite of tests for code in the module (this file)\n",
    "    \"\"\"\n",
    "    test(absolute_value(17) == 17)\n",
    "    test(absolute_value(-17) == 17)\n",
    "    test(absolute_value(0) == 0)\n",
    "    test(absolute_value(3.14) == 3.14)\n",
    "    test(absolute_value(-3.14) == 3.14)\n",
    "    test(bad_absolute_value(17) == 17)\n",
    "    test(bad_absolute_value(0) == 0)"
   ]
  },
  {
   "cell_type": "code",
   "execution_count": null,
   "id": "1f9d62c6",
   "metadata": {},
   "outputs": [],
   "source": [
    "test_suite()"
   ]
  },
  {
   "cell_type": "code",
   "execution_count": null,
   "id": "e2c956a7",
   "metadata": {},
   "outputs": [],
   "source": [
    "class YouSabi:\n",
    "    \n",
    "    def __init__(self):\n",
    "        self.test = 2"
   ]
  },
  {
   "cell_type": "code",
   "execution_count": null,
   "id": "f1195343",
   "metadata": {},
   "outputs": [],
   "source": [
    "isabi = YouSabi()"
   ]
  },
  {
   "cell_type": "code",
   "execution_count": null,
   "id": "5b67b5a1",
   "metadata": {},
   "outputs": [],
   "source": [
    "isabi.test"
   ]
  },
  {
   "cell_type": "code",
   "execution_count": null,
   "id": "11d49607",
   "metadata": {},
   "outputs": [],
   "source": [
    "def seq3np1(n):\n",
    "    \"\"\" Print the 3n+1 sequence from n,\n",
    "    terminating when it reaches 1\n",
    "    \"\"\"\n",
    "    while n != 1:\n",
    "        print(n, end=\", \")\n",
    "        if n % 2 == 0:   # n is even\n",
    "            n = n // 2 \n",
    "        else:\n",
    "            n = n * 3 + 1\n",
    "    print(n, end=\".\\n\")"
   ]
  },
  {
   "cell_type": "code",
   "execution_count": null,
   "id": "67abdfc4",
   "metadata": {},
   "outputs": [],
   "source": [
    "seq3np1(77)"
   ]
  },
  {
   "cell_type": "code",
   "execution_count": null,
   "id": "920722b5",
   "metadata": {},
   "outputs": [],
   "source": [
    "seq3np1(28\n",
    "       )"
   ]
  },
  {
   "cell_type": "code",
   "execution_count": null,
   "id": "9431215f",
   "metadata": {},
   "outputs": [],
   "source": [
    "import random \n",
    "rng = random.Random()\n",
    "number = rng.randrange(1, 1000)\n",
    "\n",
    "guesses = 0\n",
    "msg = \"\"\n",
    "\n",
    "while True:\n",
    "    guess = int(input(msg + \"\\nGuess my number between 1 and 1000: \"))\n",
    "    guesses += 1\n",
    "    if guess > number:\n",
    "        msg += str(guess) + \" is too high. \\n\"\n",
    "    elif guess < number:\n",
    "        msg += str(guess) + \" is too low.\\n \"\n",
    "    else:\n",
    "        break200\n",
    "        \n",
    "input(\"\\n\\nGreat, you got it in {0} guesses!\\n\\n\".format(guesses))"
   ]
  },
  {
   "cell_type": "markdown",
   "id": "17131d66",
   "metadata": {},
   "source": [
    "`Continue` causes the program to immediately skip the processing of the rest of the body of the loop for the current iteration. But the loop still carries on running for its remaining iterations"
   ]
  },
  {
   "cell_type": "code",
   "execution_count": null,
   "id": "1cd7eb93",
   "metadata": {},
   "outputs": [],
   "source": [
    "for i in [12, 16, 17, 24, 29, 30]:\n",
    "    if i % 2 == 1:\n",
    "        continue\n",
    "    print(i)\n",
    "print('done')"
   ]
  },
  {
   "cell_type": "markdown",
   "id": "7dac052d",
   "metadata": {},
   "source": [
    "***Looping a paired data***"
   ]
  },
  {
   "cell_type": "code",
   "execution_count": null,
   "id": "dc86bc59",
   "metadata": {},
   "outputs": [],
   "source": [
    "celebs = [('Brad pitt', 1963), ('Jack Nicholson', 1937), ('Justin Bieber', 1994)]\n",
    "\n",
    "for (nm, yr) in celebs:\n",
    "    if yr <1980:\n",
    "        print(nm)"
   ]
  },
  {
   "cell_type": "markdown",
   "id": "9e6da257",
   "metadata": {},
   "source": [
    "We’ve used a pair of variable names, (nm, yr), instead. The loop is executed three\n",
    "times — once for each pair in the list, and on each iteration both the variables are assigned values\n",
    "from the pair of data that is being handled."
   ]
  },
  {
   "cell_type": "code",
   "execution_count": null,
   "id": "5c213586",
   "metadata": {},
   "outputs": [],
   "source": [
    "ss = 'tester '"
   ]
  },
  {
   "cell_type": "code",
   "execution_count": null,
   "id": "93a00a20",
   "metadata": {},
   "outputs": [],
   "source": [
    "ss.upper()"
   ]
  },
  {
   "cell_type": "code",
   "execution_count": null,
   "id": "2754260c",
   "metadata": {},
   "outputs": [],
   "source": [
    "# ss remained unchanged!\n",
    "ss"
   ]
  },
  {
   "cell_type": "code",
   "execution_count": null,
   "id": "9877f92f",
   "metadata": {},
   "outputs": [],
   "source": [
    "\n",
    "fruit = 'banana'"
   ]
  },
  {
   "cell_type": "code",
   "execution_count": null,
   "id": "6e7f0d37",
   "metadata": {},
   "outputs": [],
   "source": [
    "fruit[::-3]"
   ]
  },
  {
   "cell_type": "code",
   "execution_count": null,
   "id": "d58316f6",
   "metadata": {},
   "outputs": [],
   "source": [
    "def find(strn, ch):\n",
    "    \"\"\"\n",
    "    Find and return the index of ch in strng\n",
    "    Return -1 if ch does not occur in strng\n",
    "    \"\"\"\n",
    "    idx = 0\n",
    "    while idx < len(strn):\n",
    "        if strn[idx] == ch:\n",
    "            return idx\n",
    "        idx += 1\n",
    "    return -1\n",
    "\n",
    "test(find(\"Compsci\", 'p') == 3)\n",
    "test(find(\"Compsci\", 'x') == -1)"
   ]
  },
  {
   "cell_type": "code",
   "execution_count": null,
   "id": "60111b67",
   "metadata": {},
   "outputs": [],
   "source": [
    "'banana'.find('nan')"
   ]
  },
  {
   "cell_type": "code",
   "execution_count": null,
   "id": "462796ad",
   "metadata": {},
   "outputs": [],
   "source": [
    "'banana'.find('na', 3)"
   ]
  },
  {
   "cell_type": "code",
   "execution_count": null,
   "id": "231c3184",
   "metadata": {},
   "outputs": [],
   "source": [
    "ss = 'Well I never did said Alice'\n",
    "\n",
    "wds = ss.split()\n",
    "\n",
    "wds"
   ]
  },
  {
   "cell_type": "code",
   "execution_count": null,
   "id": "3da16ad0",
   "metadata": {},
   "outputs": [],
   "source": [
    "#punctuation = \"!\\\"#$%&'()*+,-./:;<=>?@[\\\\]^_`{|}~\"\n",
    "\n",
    "import string\n",
    "def remove_punctuation(s):\n",
    "    s_san_punc = \"\"\n",
    "    for letter in s:\n",
    "        if letter not in string.punctuation:\n",
    "            s_san_punc += letter\n",
    "    return s_san_punc\n",
    "\n",
    "test(remove_punctuation('\"Well, I never did!\", said Alice,') == \"Well I never did said Alice\")"
   ]
  },
  {
   "cell_type": "code",
   "execution_count": null,
   "id": "bb14a2f1",
   "metadata": {},
   "outputs": [],
   "source": [
    "my_story = \"\"\"\n",
    "Pythons are constrictors, which means that they will 'squeeze' the life\n",
    " out of their prey. They coil themselves around their prey and with\n",
    "each breath the creature takes the snake will squeeze a little tighter\n",
    "until they stop breathing completely. Once the heart stops the prey\n",
    "is swallowed whole. The entire animal is digested in the snake's\n",
    "stomach except for fur or feathers. What do you think happens to the fur,\n",
    "feathers, beaks, and eggshells? The 'extra stuff' gets passed out as ---\n",
    "you guessed it --- snake POOP! \"\"\"\n",
    "\n",
    "wds = remove_punctuation(my_story).split()\n",
    "print(wds)"
   ]
  },
  {
   "cell_type": "markdown",
   "id": "73bd5e34",
   "metadata": {},
   "source": [
    "**Format** Method"
   ]
  },
  {
   "cell_type": "code",
   "execution_count": null,
   "id": "853b2ae7",
   "metadata": {},
   "outputs": [],
   "source": [
    "s1 = 'His name is {0}'.format('Authur')\n",
    "print(s1)"
   ]
  },
  {
   "cell_type": "code",
   "execution_count": null,
   "id": "0fe22ab3",
   "metadata": {},
   "outputs": [],
   "source": [
    "name = 'Alice'\n",
    "age = 10\n",
    "s2 = 'I am {1} and I am {0} years old'.format(age, name)\n",
    "print(s2)"
   ]
  },
  {
   "cell_type": "code",
   "execution_count": null,
   "id": "6828a201",
   "metadata": {},
   "outputs": [],
   "source": [
    "n1 = 4\n",
    "n2 = 5\n",
    "s3 = '2**10 = {0} and {1} * {2} = {3:.2f}'.format(2**10, n1, n2, n1*n2)\n",
    "print(s3)"
   ]
  },
  {
   "cell_type": "code",
   "execution_count": null,
   "id": "122fcbd0",
   "metadata": {},
   "outputs": [],
   "source": [
    "n1 = 'Paris'\n",
    "n2 = 'Whitney'\n",
    "n3 = 'Hilton'\n",
    "\n",
    "print('Pi to three decimal places is {0:.3f}'.format(3.1415935))\n",
    "print('123456789 123456789 123456789 123456789 123456789 123456789')\n",
    "print(\"|||{0:<15}|||{1:^15}|||{2:>15}|||Born in {3}|||\"\n",
    "      .format(n1, n2, n3, 1981))\n",
    "print('The decimal value {0} converts to hex value {0:x}'\n",
    "     .format(123456))\n",
    "\n",
    "      \n"
   ]
  },
  {
   "cell_type": "code",
   "execution_count": null,
   "id": "b9eea3ef",
   "metadata": {},
   "outputs": [],
   "source": [
    "layout = '{0:>4}{1:>6}{3:>8}{4:>13}{5:>24}'\n",
    "print(layout.format('i', 'i**2', 'i**3', 'i**5', 'i**10', 'i**20'))\n",
    "for i in range(1, 11):\n",
    "    print(layout.format(i, i**2, i**3, i**5, i**10, i**20))"
   ]
  },
  {
   "cell_type": "code",
   "execution_count": null,
   "id": "72a4911f",
   "metadata": {},
   "outputs": [],
   "source": [
    "year_born = 'Hilton', 1981"
   ]
  },
  {
   "cell_type": "code",
   "execution_count": null,
   "id": "ff53a9cd",
   "metadata": {},
   "outputs": [],
   "source": [
    "type(year_born)"
   ]
  },
  {
   "cell_type": "code",
   "execution_count": null,
   "id": "d45c7077",
   "metadata": {},
   "outputs": [],
   "source": [
    "julia_more_info = (('Juia', 'Robert'), (8, 'October', 1967),\n",
    "                  'Actress', ('Atlanta', 'Georgia'),\n",
    "                  [('Duplicty', 2009),\n",
    "                  ('Notting Hill', 1999),\n",
    "                  ('Pretty Woman', 1990),\n",
    "                  ('Erin Brockovich', 2000),\n",
    "                  ('Eat Pray Love', 2010),\n",
    "                  ('Mona Lisa Smile', 2003),\n",
    "                  ('Oceans Twelve', 2004)])"
   ]
  },
  {
   "cell_type": "code",
   "execution_count": null,
   "id": "0ff8707e",
   "metadata": {},
   "outputs": [],
   "source": [
    "julia_more_info[1]"
   ]
  },
  {
   "cell_type": "code",
   "execution_count": null,
   "id": "67424e36",
   "metadata": {},
   "outputs": [],
   "source": [
    "julia_more_info[4]"
   ]
  },
  {
   "cell_type": "code",
   "execution_count": null,
   "id": "b5cd2cb5",
   "metadata": {},
   "outputs": [],
   "source": [
    "julia_more_info[4][1]"
   ]
  },
  {
   "cell_type": "code",
   "execution_count": null,
   "id": "3246a3fa",
   "metadata": {},
   "outputs": [],
   "source": [
    "julia_more_info[4][1][0]"
   ]
  },
  {
   "cell_type": "code",
   "execution_count": null,
   "id": "3899d239",
   "metadata": {},
   "outputs": [],
   "source": [
    "# Tuple multi-variable assignment \n",
    "(name, dob, prof, loc, movies) = julia_more_info\n",
    "\n",
    "# No of variables must be equal to No of elements in tuple"
   ]
  },
  {
   "cell_type": "code",
   "execution_count": null,
   "id": "41a5ae33",
   "metadata": {},
   "outputs": [],
   "source": [
    "name"
   ]
  },
  {
   "cell_type": "code",
   "execution_count": null,
   "id": "4427cf48",
   "metadata": {},
   "outputs": [],
   "source": [
    "dob"
   ]
  },
  {
   "cell_type": "code",
   "execution_count": null,
   "id": "d07075a0",
   "metadata": {},
   "outputs": [],
   "source": [
    "prof"
   ]
  },
  {
   "cell_type": "code",
   "execution_count": null,
   "id": "46b1f41f",
   "metadata": {},
   "outputs": [],
   "source": [
    "loc"
   ]
  },
  {
   "cell_type": "code",
   "execution_count": null,
   "id": "ff8e5e89",
   "metadata": {},
   "outputs": [],
   "source": [
    "movies"
   ]
  },
  {
   "cell_type": "markdown",
   "id": "5cf9831a",
   "metadata": {},
   "source": [
    "**Event Handling**"
   ]
  },
  {
   "cell_type": "code",
   "execution_count": null,
   "id": "5f1fc31e",
   "metadata": {},
   "outputs": [],
   "source": [
    "import turtle\n",
    "\n",
    "turtle.setup(400,500)\n",
    "wn = turtle.Screen()\n",
    "wn.title('Handling keypresses!')\n",
    "wn.bgcolor('lightgreen')\n",
    "tess = turtle.Turtle()\n",
    "\n",
    "# The nex four functions are our 'event handlers'\n",
    "def h1():\n",
    "    tess.forward(30)\n",
    "\n",
    "def h2():\n",
    "    tess.left(45)\n",
    "    \n",
    "def h3():\n",
    "    tess.right(45)\n",
    "    \n",
    "def h4():\n",
    "    wn.bye()\n",
    "    \n",
    "# These lines 'wire up' keypresses to the handlers we've defined\n",
    "wn.onkey(h1, 'Up')\n",
    "wn.onkey(h2, 'Left')\n",
    "wn.onkey(h3, 'Right')\n",
    "wn.onkey(h4, 'q')\n",
    "\n",
    "# Now we need to tell the window to start listening for events\n",
    "# If any of the keys that we're monitoring is pressed, its handler will be called \n",
    "wn.listen()\n",
    "wn.mainloop()"
   ]
  },
  {
   "cell_type": "code",
   "execution_count": null,
   "id": "9e809c3a",
   "metadata": {},
   "outputs": [],
   "source": [
    "import turtle\n",
    "\n",
    "turtle.setup(400, 500)\n",
    "wn = turtle.Screen()\n",
    "wn.title('How to handle mouse clicks on the window!')\n",
    "wn.bgcolor('lightgreen')\n",
    "\n",
    "tess = turtle.Turtle()\n",
    "#tess.color('purple')\n",
    "tess.pensize(3)\n",
    "tess.shape('turtle')\n",
    "\n",
    "def h1(x, y):\n",
    "    wn.title('Got click at coords {0} {1}'.format(x,y))\n",
    "    tess.goto(x, y)\n",
    "    \n",
    "wn.onclick(h1) # Wire up a click on the window\n",
    "wn.mainloop()\n"
   ]
  },
  {
   "cell_type": "code",
   "execution_count": null,
   "id": "706509e4",
   "metadata": {
    "run_control": {
     "marked": true
    }
   },
   "outputs": [],
   "source": [
    "# Seperate handlers for each turtle\n",
    "\n",
    "import turtle\n",
    "\n",
    "turtle.setup(400, 500)               # Determine the window size\n",
    "wn = turtle.Screen()                 # Get a reference to the window\n",
    "wn.title('Handling mouse clicks!')   # Change the window title\n",
    "wn.bgcolor('lightgreen')             # Set the background color\n",
    "tess = turtle.Turtle()               # Create the first turtle\n",
    "tess.color('red')\n",
    "\n",
    "alex = turtle.Turtle()                 # Create the second turtle\n",
    "alex.color('blue')\n",
    "alex.forward(100)\n",
    "\n",
    "def handler_for_tess(x, y):\n",
    "    wn.title('Tess clicked at {0}, {1}'.format(x, y))\n",
    "    tess.left(42)\n",
    "    tess.forward(30)\n",
    "    \n",
    "def handler_for_alex(x, y):\n",
    "    wn.title('Alex clicked at {0}, {1}'.format(x, y))\n",
    "    alex.right(84)\n",
    "    alex.forward(50)\n",
    "    \n",
    "tess.onclick(handler_for_tess)\n",
    "alex.onclick(handler_for_alex)\n",
    "\n",
    "wn.mainloop()\n"
   ]
  },
  {
   "cell_type": "code",
   "execution_count": null,
   "id": "36185b1a",
   "metadata": {},
   "outputs": [],
   "source": [
    "# Using a timer for event trigger\n",
    "import turtle\n",
    "\n",
    "turtle.setup(400, 500)\n",
    "wn = turtle.Screen()\n",
    "wn.title('Using a timer')\n",
    "wn.bgcolor('lightgreen')\n",
    "\n",
    "tess = turtle.Turtle()\n",
    "#tess.color('blue')\n",
    "tess.shape('turtle')\n",
    "tess.pensize(6)\n",
    "\n",
    "def h1():\n",
    "    tess.forward(100)\n",
    "    tess.left(56)\n",
    "    \n",
    "wn.ontimer(h1, 2000)\n",
    "wn.mainloop()"
   ]
  },
  {
   "cell_type": "code",
   "execution_count": null,
   "id": "8e892164",
   "metadata": {},
   "outputs": [],
   "source": [
    "# Restart the timer insider the timer\n",
    "import turtle\n",
    "\n",
    "turtle.setup(400, 500)\n",
    "wn = turtle.Screen()\n",
    "wn.title('Using a timer to get events')\n",
    "wn.bgcolor('lightgreen')\n",
    "\n",
    "tess = turtle.Turtle()\n",
    "tess.color('red')\n",
    "\n",
    "def h1():\n",
    "    tess.forward(100)\n",
    "    tess.left(56)\n",
    "    wn.ontimer(h1, 60)\n",
    "    \n",
    "h1()\n",
    "wn.mainloop()"
   ]
  },
  {
   "cell_type": "code",
   "execution_count": null,
   "id": "cf4c43d8",
   "metadata": {
    "scrolled": true
   },
   "outputs": [],
   "source": [
    "# Tess becomes a traffic light\n",
    "\n",
    "import turtle\n",
    "\n",
    "turtle.setup(400, 500)\n",
    "wn = turtle.Screen()\n",
    "wn.title('Tess becomes a traffic light')\n",
    "wn.bgcolor('lightgreen')\n",
    "tess = turtle.Turtle()\n",
    "\n",
    "def draw_housing():\n",
    "    \"\"\" Draw a nice housing to hold the traffic light\"\"\"\n",
    "    tess.pensize(3)\n",
    "    #tess.color(\"black\", \"darkgrey\")\n",
    "    tess.begin_fill()\n",
    "    tess.forward(80)\n",
    "    tess.left(90)\n",
    "    tess.forward(200)\n",
    "    tess.circle(40, 180)\n",
    "    tess.forward(200)\n",
    "    tess.left(90)\n",
    "    tess.end_fill()\n",
    "    \n",
    "draw_housing()\n",
    "\n",
    "tess.penup()\n",
    "# Position tess onto the place where the green light should be \n",
    "tess.forward(40)\n",
    "tess.left(90)\n",
    "tess.forward(50)\n",
    "# Turn tess into a big green circle\n",
    "tess.shape('circle')\n",
    "tess.shapesize(3)\n",
    "tess.fillcolor('green')\n",
    "\n",
    "# A traffic light is a kind of state machine with three states,\n",
    "# Green, Orange, Red. We number these states 0, 1, 2\n",
    "# When the machine changes state, we change tess's position and her fillcolor\n",
    "\n",
    "# This variable holds the current state of the machine\n",
    "state_num = 0\n",
    "\n",
    "\n",
    "def advance_state_machine():\n",
    "    global state_num\n",
    "    if state_num == 0:  # Transition from state 0 to state 1\n",
    "        tess.forward(70)\n",
    "        tess.fillcolor('orange')\n",
    "        state_num = 1\n",
    "    elif state_num == 1:\n",
    "        tess.forward(70)\n",
    "        tess.fillcolor('red')\n",
    "        state_num = 2\n",
    "    else:\n",
    "        tess.back(140)\n",
    "        tess.fillcolor('green')\n",
    "        state_num = 0\n",
    "        \n",
    "# Bind the event handler to the space key\n",
    "wn.onkey(advance_state_machine, 'space')\n",
    "\n",
    "wn.listen()\n",
    "wn.mainloop()"
   ]
  },
  {
   "cell_type": "code",
   "execution_count": null,
   "id": "6514704f",
   "metadata": {},
   "outputs": [],
   "source": [
    "def f(n):\n",
    "    \"\"\" \n",
    "    Find the first positive integer between 101 and less than n that is \n",
    "    divisible by 21\n",
    "    \"\"\"\n",
    "    for i in range(101, n):\n",
    "        if i % 21 == 0:\n",
    "            return i\n",
    "        \n",
    "test(f(110) == 105)\n",
    "test(f(1000000000) == 105)"
   ]
  },
  {
   "cell_type": "code",
   "execution_count": null,
   "id": "413862a5",
   "metadata": {},
   "outputs": [],
   "source": [
    "s = 'this is a string'"
   ]
  },
  {
   "cell_type": "code",
   "execution_count": null,
   "id": "3e89c370",
   "metadata": {},
   "outputs": [],
   "source": [
    "upper(s)"
   ]
  },
  {
   "cell_type": "code",
   "execution_count": null,
   "id": "01001a8e",
   "metadata": {},
   "outputs": [],
   "source": [
    "s.upper()"
   ]
  },
  {
   "cell_type": "code",
   "execution_count": null,
   "id": "c9d1dbbc",
   "metadata": {},
   "outputs": [],
   "source": [
    "n = 10\n",
    "m = 3\n",
    "def f(n):\n",
    "    m = 7\n",
    "    return 2*n+m\n",
    "\n",
    "print(f(5), n, m)"
   ]
  },
  {
   "cell_type": "code",
   "execution_count": null,
   "id": "7bb4f212",
   "metadata": {},
   "outputs": [],
   "source": [
    "# Write into a file\n",
    "\n",
    "myfile = open('test.txt', 'w') \n",
    "myfile.write('My first file written from Python\\n')\n",
    "myfile.write('----------------------------------\\n')\n",
    "myfile.write('Hello, world!\\n')\n",
    "myfile.close()"
   ]
  },
  {
   "cell_type": "code",
   "execution_count": null,
   "id": "d3b99294",
   "metadata": {},
   "outputs": [],
   "source": [
    "# Read from a file\n",
    "\n",
    "mynewhandle = open('test.txt', 'r')\n",
    "while True:\n",
    "    theline = mynewhandle.readline()\n",
    "    if len(theline) == 0:\n",
    "        break\n",
    "        \n",
    "    print(theline, end='')\n",
    "    \n",
    "mynewhandle.close()"
   ]
  },
  {
   "cell_type": "code",
   "execution_count": null,
   "id": "2d28c56d",
   "metadata": {},
   "outputs": [],
   "source": [
    "mynewhandle = open('test.txt', 'r')\n",
    "\n",
    "mynewhandle.readlines()"
   ]
  },
  {
   "cell_type": "code",
   "execution_count": null,
   "id": "60eee43f",
   "metadata": {},
   "outputs": [],
   "source": [
    "f = open('test.txt', 'r')\n",
    "content = f.read()\n",
    "\n",
    "print(f'There are {len(content.split())} words in this file')\n",
    "print('There are {0} words in this file'.format(len(content.split())))"
   ]
  },
  {
   "cell_type": "code",
   "execution_count": null,
   "id": "5ac4d9c5",
   "metadata": {},
   "outputs": [],
   "source": [
    "from urllib import request"
   ]
  },
  {
   "cell_type": "code",
   "execution_count": null,
   "id": "18627b25",
   "metadata": {},
   "outputs": [],
   "source": [
    "url = \"https://www.ietf.org/rfc/rfc793.txt\"\n",
    "destination_filename = 'rfc793.txt'\n",
    "\n",
    "request.urlretrieve(url, destination_filename)"
   ]
  },
  {
   "cell_type": "markdown",
   "id": "78ce1d8a",
   "metadata": {},
   "source": [
    "**Test Driven Development**"
   ]
  },
  {
   "cell_type": "code",
   "execution_count": null,
   "id": "b0429cc5",
   "metadata": {},
   "outputs": [],
   "source": [
    "def search_linear(xs, target):\n",
    "    \"\"\"\n",
    "    Find and return the index of target in sequence xs\n",
    "    \"\"\"\n",
    "    for (i, v) in enumerate(xs):\n",
    "        if v == target:\n",
    "            return i\n",
    "    return -1"
   ]
  },
  {
   "cell_type": "code",
   "execution_count": null,
   "id": "46616579",
   "metadata": {},
   "outputs": [],
   "source": [
    "# test.py module created in root directory notebook runs from\n",
    "from test import test\n",
    "\n",
    "# Lets write some tests\n",
    "friends = ['Joe', 'Zoe', 'Brad', 'Angelina', 'Zuki', 'Thandi', 'Paris']\n",
    "test(search_linear(friends, 'Zoe') == 1)\n",
    "test(search_linear(friends, 'Joe') == 0)\n",
    "test(search_linear(friends, 'Paris') == 6)\n",
    "test(search_linear(friends, 'Bill') == -1)\n",
    "\n",
    "\n",
    "\n",
    "\n",
    "\n"
   ]
  },
  {
   "cell_type": "code",
   "execution_count": null,
   "id": "e7474af1",
   "metadata": {},
   "outputs": [],
   "source": [
    "vocab = ['apple', 'boy', 'dog', 'down', 'fell', 'girl', 'grass', 'the', 'tree']\n",
    "book_words = 'the apple fell from the tree to the grass'.split()\n",
    "\n",
    "test(find_unknown_words(vocab, book_words) == ['from', 'to'])\n",
    "test(find_unknown_words([], book_words) == book_words)\n",
    "test(find_unknown_words(vocab, ['the', 'boy', 'fell']) == [])\n",
    "\n"
   ]
  },
  {
   "cell_type": "code",
   "execution_count": null,
   "id": "665ad7d8",
   "metadata": {},
   "outputs": [],
   "source": [
    "def find_unknown_words(vocab, wds):\n",
    "    \"\"\" Return a list of words in wds that do not occur in vocab\"\"\"\n",
    "    result = []\n",
    "    for w in wds:\n",
    "        if (search_linear(vocab, w) < 0):\n",
    "            result.append(w)\n",
    "    return result"
   ]
  },
  {
   "cell_type": "code",
   "execution_count": null,
   "id": "15e8b85f",
   "metadata": {},
   "outputs": [],
   "source": [
    "# Read words from file\n",
    "def load_words_from_file(filename):\n",
    "    \"\"\" Read words from filename, return list of words\"\"\"\n",
    "    f = open(filename, 'r')\n",
    "    file_content = f.read()\n",
    "    f.close()\n",
    "    wds = file_content.split()\n",
    "    return wds\n",
    "\n",
    "bigger_vocab = load_words_from_file('vocab.txt')\n",
    "print('There are {0} words in the vocab, starting with\\n {1} '.format(len(bigger_vocab), bigger_vocab[:6]))\n",
    "\n",
    "\n"
   ]
  },
  {
   "cell_type": "code",
   "execution_count": null,
   "id": "f9fe93e2",
   "metadata": {},
   "outputs": [],
   "source": [
    "def text_to_words(the_text):\n",
    "    \"\"\" Return a list of words with all punctuation removed, and \n",
    "    all in lowercase\n",
    "    \"\"\"\n",
    "    \n",
    "    my_substitutions = the_text.maketrans(\n",
    "    # If you find any of these)\n",
    "    \"ABCDEFGHIJKLMNOPQRSTUVWXYZ0123456789!\\\"#$%&()*+,-./:;<=>?@[]^_`{|}~'\\\\\",\n",
    "    # Replace them with these\n",
    "        \"abcdefghijklmnopqrstuvwxyz                                          \")\n",
    "        \n",
    "    # Translate the text now.\n",
    "    cleaned_text = the_text.translate(my_substitutions)\n",
    "    wds = cleaned_text.split()\n",
    "    return wds\n",
    "    "
   ]
  },
  {
   "cell_type": "code",
   "execution_count": null,
   "id": "f757f8be",
   "metadata": {
    "scrolled": true
   },
   "outputs": [],
   "source": [
    "test(text_to_words('My name is Earl!') == ['my', 'name', 'is', 'Earl'])\n",
    "test(text_to_words('My name is Earl!') == ['my', 'name', 'is', 'earl'])\n",
    "test(text_to_words('\"Well, I never!\", said Alice.') == ['well', 'i', 'never', 'said', 'alice'])"
   ]
  },
  {
   "cell_type": "code",
   "execution_count": null,
   "id": "13b37d23",
   "metadata": {
    "run_control": {
     "marked": false
    }
   },
   "outputs": [],
   "source": [
    "# Merge two sorted list\n",
    "def merge(xs, ys):\n",
    "    \"\"\" merge sorted lists xs and ys. Return a sorted result\"\"\"\n",
    "    result = []\n",
    "    xi = 0\n",
    "    yi = 0\n",
    "    \n",
    "    while True:\n",
    "        if xi >= len(xs):           # If xs list is finished ,\n",
    "            result.extend(ys[yi:])  # Add remaining items from ys\n",
    "            return result           # And we are done\n",
    "        \n",
    "        if yi >= len(ys):           # Same again, but swap roles\n",
    "            result.extend(xs[xi:])\n",
    "            return result\n",
    "            \n",
    "        # Both lists shall have items, copy smaller item to result.\n",
    "        if xs[xi] <= ys[yi]:\n",
    "            result.append(xs[xi])\n",
    "            xi += 1\n",
    "        else:\n",
    "            result.append(ys[yi])\n",
    "            yi += 1\n",
    "            \n",
    "            \n",
    "    # Unit Tests\n",
    "    xs = [1, 3, 5, 7, 9, 11, 13, 15, 17, 19]\n",
    "    ys = [4, 8, 12, 16, 20, 24]\n",
    "    zs = xs + ys\n",
    "    zs.sort()\n",
    "    test(merge(xs, []) == xs)\n",
    "    test(merge([], ys) == ys)\n",
    "    test(merge([], []) == [])\n",
    "    test(merge(xs, ys) == zs)\n",
    "    test(merge([1, 2, 3], [3, 4, 5]) == [1, 2, 3, 3, 4, 5])\n",
    "    test(merge(['a', 'big', 'cat'], ['big', 'bite', 'dog']) ==\n",
    "        ['a', 'big', 'big', 'bite', 'cat', 'dog'])"
   ]
  },
  {
   "cell_type": "code",
   "execution_count": null,
   "id": "a583ada3",
   "metadata": {},
   "outputs": [],
   "source": [
    "xs = [1, 3, 5, 7, 9, 11, 13, 15, 17, 19]\n",
    "ys = [4, 8, 12, 16, 20, 24]\n",
    "zs = xs + ys\n",
    "zs.sort()\n",
    "test(merge(xs, []) == xs)\n",
    "test(merge([], ys) == ys)\n",
    "test(merge([], []) == [])\n",
    "test(merge(xs, ys) == zs)\n",
    "test(merge([1, 2, 3], [3, 4, 5]) == [1, 2, 3, 3, 4, 5])\n",
    "test(merge(['a', 'big', 'cat'], ['big', 'bite', 'dog']) ==\n",
    "    ['a', 'big', 'big', 'bite', 'cat', 'dog'])"
   ]
  },
  {
   "cell_type": "code",
   "execution_count": null,
   "id": "4a43c860",
   "metadata": {},
   "outputs": [],
   "source": [
    "# 8 Queens Puzzle\n",
    "def share_diagonal(x0, y0, x1, y1):\n",
    "    \"\"\" Is (x0, y0) on a shared diagonal with (x1, y1)? \"\"\"\n",
    "    dy = abs(y1 - y0)          # Calc the absolute y distance\n",
    "    dx = abs(x1 - x0)          # Calc the absolute x distance\n",
    "    return dx == dy\n",
    "\n",
    "\n"
   ]
  },
  {
   "cell_type": "code",
   "execution_count": null,
   "id": "27206b1a",
   "metadata": {},
   "outputs": [],
   "source": [
    "test(not share_diagonal(5, 2, 2, 0))\n",
    "test(share_diagonal(5, 2, 3, 0))\n",
    "test(share_diagonal(5, 2, 4, 3))\n",
    "test(share_diagonal(5, 2, 4, 1))"
   ]
  },
  {
   "cell_type": "code",
   "execution_count": null,
   "id": "bd391174",
   "metadata": {},
   "outputs": [],
   "source": [
    "def col_clashes(bs, c):\n",
    "    \"\"\" Return True if the queen at column c clashes\n",
    "    with any queen to its left\"\"\"\n",
    "    for i in range(c):      # Look at all the columns to the left of c\n",
    "        if share_diagonal(i, bs[i], c, bs[c]):\n",
    "            return True\n",
    "    else:\n",
    "        return False        # No clashses - col c has a safe placement"
   ]
  },
  {
   "cell_type": "code",
   "execution_count": null,
   "id": "3485712e",
   "metadata": {},
   "outputs": [],
   "source": [
    "def has_clashes(the_board):\n",
    "    \"\"\" Determine whether we have any queen clashing on the diagonal\n",
    "    We are assuming here that the_board is a permutation of column numbers, so we are not\n",
    "    explicittly checking row or column clashes\n",
    "    \"\"\"\n",
    "    \n",
    "    for col in range(1, len(the_board)):\n",
    "        if col_clashes(the_board, col):\n",
    "            return True\n",
    "    \n",
    "    return False\n",
    "\n"
   ]
  },
  {
   "cell_type": "code",
   "execution_count": null,
   "id": "21fbb4f5",
   "metadata": {},
   "outputs": [],
   "source": [
    "# unit tests\n",
    "test(not has_clashes([6, 4, 2, 0, 5, 7, 1, 3]))"
   ]
  },
  {
   "cell_type": "code",
   "execution_count": null,
   "id": "1bb2696e",
   "metadata": {},
   "outputs": [],
   "source": [
    "def main():\n",
    "    import random\n",
    "    rng = random.Random()    # Instantiate a generator\n",
    "    \n",
    "    bd = list(range(8))      # Generate the initial permutation\n",
    "    num_found = 0\n",
    "    tries = 0\n",
    "    while num_found < 10:\n",
    "        rng.shuffle(bd)\n",
    "        tries += 1\n",
    "        if not has_clashes(bd):\n",
    "            print(\"Found solution {0} in {1} tries.\".format(bd, tries))\n",
    "            tries = 0\n",
    "            num_found += 1\n",
    "            \n",
    "            \n",
    "main()"
   ]
  },
  {
   "cell_type": "markdown",
   "id": "bfc74b55",
   "metadata": {},
   "source": [
    "**Chapter 15: Classes and Objects-The basics**"
   ]
  },
  {
   "cell_type": "code",
   "execution_count": null,
   "id": "89943f7f",
   "metadata": {},
   "outputs": [],
   "source": [
    "class Point:\n",
    "    \"\"\" Point class represents and manipulates x, y coords. \"\"\"\n",
    "    def __init__(self):\n",
    "        \"\"\" Create a new point at the origin\"\"\"\n",
    "        self.x = 0\n",
    "        self.y = 0\n",
    "        "
   ]
  },
  {
   "cell_type": "code",
   "execution_count": null,
   "id": "9a4af8c0",
   "metadata": {},
   "outputs": [],
   "source": [
    "p = Point()\n",
    "q = Point()\n",
    "\n",
    "print(p.x, p.y, q.x, q.y)"
   ]
  },
  {
   "cell_type": "code",
   "execution_count": null,
   "id": "21d63da9",
   "metadata": {},
   "outputs": [],
   "source": [
    "p.x = 0"
   ]
  },
  {
   "cell_type": "code",
   "execution_count": null,
   "id": "e5a05cac",
   "metadata": {},
   "outputs": [],
   "source": [
    "p.x = 3 \n",
    "p.y = 4"
   ]
  },
  {
   "cell_type": "code",
   "execution_count": null,
   "id": "4e64e01a",
   "metadata": {},
   "outputs": [],
   "source": [
    "print(p.x, p.y, q.x, q.y)"
   ]
  },
  {
   "cell_type": "code",
   "execution_count": null,
   "id": "38e8f9fb",
   "metadata": {},
   "outputs": [],
   "source": [
    "print('(x={0}, y={1})'.format(p.x, p.y))\n",
    "distance_squared_from_origin = p.x * p.x + p.y ** 2\n",
    "print(f'Distance from origin is {distance_squared_from_origin}')"
   ]
  },
  {
   "cell_type": "code",
   "execution_count": null,
   "id": "dd9b1599",
   "metadata": {},
   "outputs": [],
   "source": [
    "# update the Point class with extra parameters with default values\n",
    "class Point:\n",
    "    \"\"\" Point class represents and manipulates x, y coords\"\"\"\n",
    "    \n",
    "    def __init__(self, x=0, y=0):\n",
    "        \"\"\" Create a new point at x, y\"\"\"\n",
    "        self.x = x  # options x and y are optional, if not supplied the default values of 0 is returned.\n",
    "        self.y = y\n",
    "        \n",
    "    "
   ]
  },
  {
   "cell_type": "code",
   "execution_count": null,
   "id": "1429c794",
   "metadata": {},
   "outputs": [],
   "source": [
    "p = Point(4, 2)\n",
    "q = Point(6, 3)\n",
    "r = Point()\n",
    "\n",
    "print(p.x, q.y, r.x)"
   ]
  },
  {
   "cell_type": "code",
   "execution_count": null,
   "id": "6b0b6e3b",
   "metadata": {},
   "outputs": [],
   "source": [
    "# update the Point class with another method to calculate distance from origin\n",
    "class Point:\n",
    "    \"\"\" Point class represents and manipulates x, y coords\"\"\"\n",
    "    \n",
    "    def __init__(self, x=0, y=0):\n",
    "        \"\"\" Create a new point at x, y\"\"\"\n",
    "        self.x = x  # options x and y are optional, if not supplied the default values of 0 is returned.\n",
    "        self.y = y\n",
    "        \n",
    "        \n",
    "    def distance_from_origin(self):\n",
    "        \"\"\" Compute the distance from the origin\"\"\"\n",
    "        return ((self.x ** 2) + (self.y ** 2)) ** 0.5"
   ]
  },
  {
   "cell_type": "code",
   "execution_count": null,
   "id": "91cde272",
   "metadata": {},
   "outputs": [],
   "source": [
    "p = Point(3, 4)\n"
   ]
  },
  {
   "cell_type": "code",
   "execution_count": null,
   "id": "146b5a4f",
   "metadata": {},
   "outputs": [],
   "source": [
    "p.x, p.y"
   ]
  },
  {
   "cell_type": "code",
   "execution_count": null,
   "id": "7f0793c5",
   "metadata": {},
   "outputs": [],
   "source": [
    "p.distance_from_origin()"
   ]
  },
  {
   "cell_type": "code",
   "execution_count": null,
   "id": "2adffff5",
   "metadata": {},
   "outputs": [],
   "source": [
    "q = Point(5, 12)\n",
    "q.distance_from_origin(\n",
    ")"
   ]
  },
  {
   "cell_type": "code",
   "execution_count": null,
   "id": "9e3ab726",
   "metadata": {},
   "outputs": [],
   "source": [
    "# update the Point class with another method to print as a string\n",
    "class Point:\n",
    "    \"\"\" Point class represents and manipulates x, y coords\"\"\"\n",
    "    \n",
    "    def __init__(self, x=0, y=0):\n",
    "        \"\"\" Create a new point at x, y\"\"\"\n",
    "        self.x = x  # options x and y are optional, if not supplied the default values of 0 is returned.\n",
    "        self.y = y\n",
    "        \n",
    "        \n",
    "    def distance_from_origin(self):\n",
    "        \"\"\" Compute the distance from the origin\"\"\"\n",
    "        return ((self.x ** 2) + (self.y ** 2)) ** 0.5\n",
    "    \n",
    "    \n",
    "    def to_string(self):\n",
    "        \"\"\" to return point as a string\"\"\"\n",
    "        return '({0}, {1})'.format(self.x, self.y)"
   ]
  },
  {
   "cell_type": "code",
   "execution_count": null,
   "id": "7cc9b546",
   "metadata": {},
   "outputs": [],
   "source": [
    "p = Point(3, 8)\n",
    "print(p.to_string())"
   ]
  },
  {
   "cell_type": "code",
   "execution_count": null,
   "id": "991b163b",
   "metadata": {},
   "outputs": [],
   "source": [
    "# update the Point class with another method to print as a string and naming it __str__\n",
    "class Point:\n",
    "    \"\"\" Point class represents and manipulates x, y coords\"\"\"\n",
    "    \n",
    "    def __init__(self, x=0, y=0):\n",
    "        \"\"\" Create a new point at x, y\"\"\"\n",
    "        self.x = x  # options x and y are optional, if not supplied the default values of 0 is returned.\n",
    "        self.y = y\n",
    "        \n",
    "        \n",
    "    def distance_from_origin(self):\n",
    "        \"\"\" Compute the distance from the origin\"\"\"\n",
    "        return ((self.x ** 2) + (self.y ** 2)) ** 0.5\n",
    "    \n",
    "    \n",
    "    def __str__(self):\n",
    "        \"\"\" to return point as a string\"\"\"\n",
    "        return '({0}, {1})'.format(self.x, self.y)"
   ]
  },
  {
   "cell_type": "code",
   "execution_count": null,
   "id": "d5070bef",
   "metadata": {},
   "outputs": [],
   "source": [
    "p = Point(3, 8)\n",
    "str(p)"
   ]
  },
  {
   "cell_type": "code",
   "execution_count": null,
   "id": "acb78819",
   "metadata": {},
   "outputs": [],
   "source": [
    "print(p)"
   ]
  },
  {
   "cell_type": "code",
   "execution_count": null,
   "id": "653c68b5",
   "metadata": {},
   "outputs": [],
   "source": [
    "# update the Point class with another method to calculate the halfway between initialised point and a target\n",
    "class Point:\n",
    "    \"\"\" Point class represents and manipulates x, y coords\"\"\"\n",
    "    \n",
    "    def __init__(self, x=0, y=0):\n",
    "        \"\"\" Create a new point at x, y\"\"\"\n",
    "        self.x = x  # options x and y are optional, if not supplied the default values of 0 is returned.\n",
    "        self.y = y\n",
    "        \n",
    "        \n",
    "    def distance_from_origin(self):\n",
    "        \"\"\" Compute the distance from the origin\"\"\"\n",
    "        return ((self.x ** 2) + (self.y ** 2)) ** 0.5\n",
    "    \n",
    "    \n",
    "    def __str__(self):\n",
    "        \"\"\" To return point as a string\"\"\"\n",
    "        return '({0}, {1})'.format(self.x, self.y)\n",
    "    \n",
    "    \n",
    "    def halfway(self, target):\n",
    "        \"\"\" Return the halfway point between myself and target\"\"\"\n",
    "        mx = (self.x + target.x)/2\n",
    "        my = (self.y + target.y)/2\n",
    "        return Point(mx, my)"
   ]
  },
  {
   "cell_type": "code",
   "execution_count": null,
   "id": "cc99ccb2",
   "metadata": {},
   "outputs": [],
   "source": [
    "p = Point(3, 4)\n",
    "q = Point(5, 12)\n",
    "r = p.halfway(q)\n",
    "print(r)"
   ]
  },
  {
   "cell_type": "code",
   "execution_count": null,
   "id": "c5d1fcfa",
   "metadata": {},
   "outputs": [],
   "source": [
    "r\n"
   ]
  },
  {
   "cell_type": "code",
   "execution_count": null,
   "id": "c00e50b1",
   "metadata": {},
   "outputs": [],
   "source": [
    "print(Point(3, 4))"
   ]
  },
  {
   "cell_type": "markdown",
   "id": "80847a8e",
   "metadata": {},
   "source": [
    "Objects are most useful when we also need to keep some state that is updated from time to time.\n",
    "Consider a turtle object. Its state consists of things like its position, its heading, its color, and its\n",
    "shape. \n",
    "\n",
    "A method like left(90) updates the turtle’s heading, forward changes its position, and so on.\n",
    "\n",
    "\n",
    "For a bank account object, a main component of the state would be the current balance, and perhaps\n",
    "a log of all transactions. The methods would allow us to query the current balance, deposit new\n",
    "funds, or make a payment. \n",
    "\n",
    "Making a payment would include an amount, and a description, so that this could be\n",
    "added to the transaction log. We’d also want a method to show the transaction log."
   ]
  },
  {
   "cell_type": "code",
   "execution_count": null,
   "id": "26d60819",
   "metadata": {},
   "outputs": [],
   "source": [
    "# Exercise No.2 update the Point class with another method that returns a new Point , one which is the reflection of the point about the x-axis\n",
    "class Point:\n",
    "    \"\"\" Point class represents and manipulates x, y coords\"\"\"\n",
    "    \n",
    "    def __init__(self, x=0, y=0):\n",
    "        \"\"\" Create a new point at x, y\"\"\"\n",
    "        self.x = x  # options x and y are optional, if not supplied the default values of 0 is returned.\n",
    "        self.y = y\n",
    "        \n",
    "        \n",
    "    def distance_from_origin(self):\n",
    "        \"\"\" Compute the distance from the origin\"\"\"\n",
    "        return ((self.x ** 2) + (self.y ** 2)) ** 0.5\n",
    "    \n",
    "    \n",
    "    def __str__(self):\n",
    "        \"\"\" To return point as a string\"\"\"\n",
    "        return '({0}, {1})'.format(self.x, self.y)\n",
    "    \n",
    "    \n",
    "    def halfway(self, target):\n",
    "        \"\"\" Return the halfway point between myself and target\"\"\"\n",
    "        mx = (self.x + target.x)/2\n",
    "        my = (self.y + target.y)/2\n",
    "        return Point(mx, my)\n",
    "    \n",
    "    \n",
    "    def reflect_x(self):\n",
    "        \"\"\" Return the reflection Point about x-axis \"\"\"\n",
    "        rx = self.x\n",
    "        ry = -self.y\n",
    "        return print(Point(rx, ry))"
   ]
  },
  {
   "cell_type": "code",
   "execution_count": null,
   "id": "28377b24",
   "metadata": {},
   "outputs": [],
   "source": [
    "p = Point(-3, 10)"
   ]
  },
  {
   "cell_type": "code",
   "execution_count": null,
   "id": "35a517fa",
   "metadata": {},
   "outputs": [],
   "source": [
    "p.reflect_x()"
   ]
  },
  {
   "cell_type": "markdown",
   "id": "82a0f19a",
   "metadata": {},
   "source": [
    "**Chapter 16: Classes and Objects —Digging a little deeper**"
   ]
  },
  {
   "cell_type": "code",
   "execution_count": null,
   "id": "83a24abb",
   "metadata": {},
   "outputs": [],
   "source": [
    "class Rectangle:\n",
    "    \"\"\" A class to manufacture rectangles objects\"\"\"\n",
    "    def __init__(self, posn, w, h):\n",
    "        \"\"\" Initialise rectangle at posn, with width w, height h\"\"\"\n",
    "        self.corner = posn\n",
    "        self.width = w\n",
    "        self.height = h\n",
    "        \n",
    "        \n",
    "    def __str__(self):\n",
    "        return '({0}, {1}, {2})'.format(self.corner, self.width, self.height)"
   ]
  },
  {
   "cell_type": "code",
   "execution_count": null,
   "id": "5d10be05",
   "metadata": {},
   "outputs": [],
   "source": [
    "box = Rectangle(Point(0,0), 100, 200)\n",
    "bomb = Rectangle(Point(100,80), 5, 10)\n",
    "print('box: ', box)\n",
    "print('bomb: ', bomb)"
   ]
  },
  {
   "cell_type": "code",
   "execution_count": null,
   "id": "23ee4406",
   "metadata": {},
   "outputs": [],
   "source": [
    "print(box.corner)"
   ]
  },
  {
   "cell_type": "code",
   "execution_count": null,
   "id": "b4220434",
   "metadata": {},
   "outputs": [],
   "source": [
    "# Update the Rectangle class with methods to grow the size and move to another point\n",
    "class Rectangle:\n",
    "    \"\"\" A class to manufacture rectangles objects\"\"\"\n",
    "    def __init__(self, posn, w, h):\n",
    "        \"\"\" Initialise rectangle at posn, with width w, height h\"\"\"\n",
    "        self.corner = posn\n",
    "        self.width = w\n",
    "        self.height = h\n",
    "        \n",
    "        \n",
    "    def __str__(self):\n",
    "        return '({0}, {1}, {2})'.format(self.corner, self.width, self.height)\n",
    "    \n",
    "    \n",
    "    def grow(self, delta_width, delta_height):\n",
    "        \"\"\" Grow (or shrink) this object by the deltas\"\"\"\n",
    "        self.width += delta_width\n",
    "        self.height += delta_height\n",
    "        \n",
    "    def move(self, dx, dy):\n",
    "        \"\"\" Move this object by the deltas\"\"\"\n",
    "        self.corner.x += dx\n",
    "        self.corner.y += dy\n",
    "        \n",
    "        "
   ]
  },
  {
   "cell_type": "code",
   "execution_count": null,
   "id": "391a314b",
   "metadata": {},
   "outputs": [],
   "source": [
    "r = Rectangle(Point(10, 5), 100, 50)\n",
    "print(r)"
   ]
  },
  {
   "cell_type": "code",
   "execution_count": null,
   "id": "8d927513",
   "metadata": {},
   "outputs": [],
   "source": [
    "r.grow(25, -10)\n",
    "print(r)"
   ]
  },
  {
   "cell_type": "code",
   "execution_count": null,
   "id": "dfc6dd74",
   "metadata": {},
   "outputs": [],
   "source": [
    "r.move(-10, 10)\n",
    "print(r)"
   ]
  },
  {
   "cell_type": "markdown",
   "id": "1c4da375",
   "metadata": {},
   "source": [
    "`is` operator allows us to find out if two references refer to the same object"
   ]
  },
  {
   "cell_type": "code",
   "execution_count": null,
   "id": "764fe7c5",
   "metadata": {},
   "outputs": [],
   "source": [
    "p1 = Point(3, 4)\n",
    "p2 = Point(3, 4)\n",
    "p1 is p2"
   ]
  },
  {
   "cell_type": "code",
   "execution_count": null,
   "id": "ef099326",
   "metadata": {},
   "outputs": [],
   "source": [
    "p1 == p2"
   ]
  },
  {
   "cell_type": "code",
   "execution_count": null,
   "id": "3356dbef",
   "metadata": {},
   "outputs": [],
   "source": [
    "p3 = p1\n",
    "p1 is p3\n",
    "\n",
    "# This is a `shallow equality` because it compares only the references, not the contents of the objects."
   ]
  },
  {
   "cell_type": "code",
   "execution_count": null,
   "id": "337eebde",
   "metadata": {},
   "outputs": [],
   "source": [
    "# A function to compare the contents of the objects `deep equality` :\n",
    "def same_coordinates(p1, p2):\n",
    "    return (p1.x == p2.x) and (p1.y == p2.y)"
   ]
  },
  {
   "cell_type": "code",
   "execution_count": null,
   "id": "430fba4c",
   "metadata": {},
   "outputs": [],
   "source": [
    "p1 = Point(3, 4)\n",
    "p2 = Point(3, 4)\n",
    "same_coordinates(p1, p2)"
   ]
  },
  {
   "cell_type": "markdown",
   "id": "e9bbf9da",
   "metadata": {},
   "source": [
    "**Beware of ==**"
   ]
  },
  {
   "cell_type": "code",
   "execution_count": null,
   "id": "2dd1396d",
   "metadata": {},
   "outputs": [],
   "source": [
    "p = Point(4, 2)\n",
    "s = Point(4, 2)\n",
    "print('== on points returns', p == s)\n",
    "# By default, == on Point objects does a shallow equality test\n",
    "\n",
    "a = [2, 3]\n",
    "b = [2, 3]\n",
    "print('== on lists returns', a == b)\n",
    "# But by default, == does a deep equality test on lists"
   ]
  },
  {
   "cell_type": "markdown",
   "id": "bbc5ecd2",
   "metadata": {},
   "source": [
    "So we conclude that even though the two lists (or tuples, etc.) are distinct objects with different\n",
    "memory addresses, for lists the == operator tests for deep equality, while in the case of points it\n",
    "makes a shallow test."
   ]
  },
  {
   "cell_type": "markdown",
   "id": "5a91d4e4",
   "metadata": {},
   "source": [
    "**Copying**"
   ]
  },
  {
   "cell_type": "code",
   "execution_count": null,
   "id": "a5ec793c",
   "metadata": {},
   "outputs": [],
   "source": [
    "import copy\n",
    "p1 = Point(3, 4)\n",
    "p2 = copy.copy(p1)\n"
   ]
  },
  {
   "cell_type": "code",
   "execution_count": null,
   "id": "74e84133",
   "metadata": {},
   "outputs": [],
   "source": [
    "p1 is p2"
   ]
  },
  {
   "cell_type": "code",
   "execution_count": null,
   "id": "04d0b4da",
   "metadata": {},
   "outputs": [],
   "source": [
    "same_coordinates(p1, p2)"
   ]
  },
  {
   "cell_type": "markdown",
   "id": "148c9efc",
   "metadata": {},
   "source": [
    "To copy a simple object like a Point, which doesn’t contain any embedded objects, copy is sufficient.\n",
    "This is called shallow copying.\n",
    "\n",
    "For something like a Rectangle, which contains a reference to a Point, copy doesn’t do quite the\n",
    "right thing. \n",
    "\n",
    "It copies the reference to the Point object, so both the old Rectangle and the new one\n",
    "refer to a single Point.\n",
    "\n",
    "Fortunately, the copy module contains a function named deepcopy that copies not only the object\n",
    "but also any embedded objects. It won’t be surprising to learn that this operation is called a deep\n",
    "copy."
   ]
  },
  {
   "cell_type": "code",
   "execution_count": null,
   "id": "4085b164",
   "metadata": {},
   "outputs": [],
   "source": [
    "\n",
    "b1 = Rectangle(Point(10, 5), 100, 50)\n",
    "b2 = copy.deepcopy(b1)"
   ]
  },
  {
   "cell_type": "code",
   "execution_count": null,
   "id": "a7c01eae",
   "metadata": {},
   "outputs": [],
   "source": [
    "print(b1, b2) "
   ]
  },
  {
   "cell_type": "code",
   "execution_count": null,
   "id": "dbb68264",
   "metadata": {},
   "outputs": [],
   "source": [
    "b3 = copy.copy(b1)\n",
    "b4 = copy.deepcopy(b1)"
   ]
  },
  {
   "cell_type": "code",
   "execution_count": null,
   "id": "cdd71bb2",
   "metadata": {},
   "outputs": [],
   "source": [
    "print(b3)"
   ]
  },
  {
   "cell_type": "code",
   "execution_count": null,
   "id": "ed74765a",
   "metadata": {},
   "outputs": [],
   "source": [
    "b1.corner.x = 15"
   ]
  },
  {
   "cell_type": "code",
   "execution_count": null,
   "id": "a4d6cada",
   "metadata": {},
   "outputs": [],
   "source": [
    "print(b2, b3, b1, b4)"
   ]
  },
  {
   "attachments": {
    "image.png": {
     "image/png": "[encoded data removed]"
    }
   },
   "cell_type": "markdown",
   "id": "820cc957",
   "metadata": {},
   "source": [
    "![image.png](attachment:image.png)\n",
    "\n",
    "`copy()` The shallow copy has created an alias to the Point that represents the corner.\n",
    "\n",
    "`deep copy()` To copy the contents of an object as well as any embedded objects, and any objects embedded in them, and so on; implemented by the deepcopy function in the copy module."
   ]
  },
  {
   "cell_type": "code",
   "execution_count": null,
   "id": "e96aaf48",
   "metadata": {},
   "outputs": [],
   "source": [
    "# Exercise No.2 Write a perimeter method in the Rectangle class so that we can find the perimeter of any rectangle\n",
    "class Rectangle:\n",
    "    \"\"\" A class to manufacture rectangles objects\"\"\"\n",
    "    def __init__(self, posn, w, h):\n",
    "        \"\"\" Initialise rectangle at posn, with width w, height h\"\"\"\n",
    "        self.corner = posn\n",
    "        self.width = w\n",
    "        self.height = h\n",
    "        \n",
    "        \n",
    "    def __str__(self):\n",
    "        return '({0}, {1}, {2})'.format(self.corner, self.width, self.height)\n",
    "    \n",
    "    \n",
    "    def grow(self, delta_width, delta_height):\n",
    "        \"\"\" Grow (or shrink) this object by the deltas\"\"\"\n",
    "        self.width += delta_width\n",
    "        self.height += delta_height\n",
    "        \n",
    "    def move(self, dx, dy):\n",
    "        \"\"\" Move this object by the deltas\"\"\"\n",
    "        self.corner.x += dx\n",
    "        self.corner.y += dy\n",
    "        \n",
    "    def perimeter(self):\n",
    "        return 2 * (self.width + self.height)"
   ]
  },
  {
   "cell_type": "code",
   "execution_count": null,
   "id": "8a89c4df",
   "metadata": {},
   "outputs": [],
   "source": [
    "r = Rectangle(Point(0, 0), 10, 5)\n",
    "test(r.perimeter() == 30)"
   ]
  },
  {
   "cell_type": "markdown",
   "id": "6ec794f0",
   "metadata": {},
   "source": [
    "**Pygame**"
   ]
  },
  {
   "cell_type": "code",
   "execution_count": null,
   "id": "827cb410",
   "metadata": {
    "scrolled": true
   },
   "outputs": [],
   "source": [
    "import pygame"
   ]
  },
  {
   "cell_type": "code",
   "execution_count": null,
   "id": "4dc0a366",
   "metadata": {},
   "outputs": [],
   "source": [
    "\n",
    "\n",
    "def main():\n",
    "    \"\"\" Set up the game and run the main game loop\"\"\"\n",
    "    pygame.init()       # Prepare the pygame module for use\n",
    "    surface_sz = 480    # Desired physical surface size, in pixels.\n",
    "    \n",
    "    # Create surface of (width, height), and its window.\n",
    "    main_surface = pygame.display.set_mode((surface_sz, surface_sz))\n",
    "    \n",
    "    # Set up some data to describe a small rectangle and its color\n",
    "    small_rect = (300, 200, 150, 90)\n",
    "    some_color = (255, 0, 0)       # A color is a mix of (Red, Green, Blue)\n",
    "    \n",
    "    while True:\n",
    "        ev = pygame.event.poll()     # Look for any event\n",
    "        if ev.type == pygame.QUIT:    # Window close button clicked?\n",
    "            break                    # ......leave game loop\n",
    "        \n",
    "        # Update your game objects and data structure here....\n",
    "        \n",
    "        # We draw everything from scratch on each frame.\n",
    "        # So first fill everything with the background color\n",
    "        main_surface.fill((0, 200, 255))\n",
    "        \n",
    "        \n",
    "        # Overpaint a smaller rectangle on the main surface\n",
    "        main_surface.fill(some_color, small_rect)\n",
    "        \n",
    "        # Now the surface is ready, tell pygame to display it!\n",
    "        pygame.display.flip()\n",
    "        \n",
    "    pygame.quit()     # Once we leave the loop, close the window\n",
    "    \n",
    "main()"
   ]
  },
  {
   "cell_type": "code",
   "execution_count": null,
   "id": "36056e66",
   "metadata": {},
   "outputs": [],
   "source": [
    "import time\n",
    "\n",
    "def main():\n",
    "    \"\"\" Set up the game and run the main game loop\"\"\"\n",
    "    pygame.init()       # Prepare the pygame module for use\n",
    "    main_surface = pygame.display.set_mode((480, 240))    # Desired physical surface size, in pixels.\n",
    "    \n",
    "    # Load an image to draw.\n",
    "    # PyGame handles gif, jpg, png, etc image types\n",
    "    \n",
    "    ball = pygame.image.load('data/ball.png')\n",
    "    \n",
    "    # Create a font for rendering text\n",
    "    my_font = pygame.font.SysFont('Courier', 16)\n",
    "    \n",
    "    \n",
    "    frame_count = 0\n",
    "    frame_rate = 0\n",
    "    t0 = time.process_time()\n",
    "    \n",
    "    \n",
    "    while True:\n",
    "        \n",
    "        # Look for an event from keyboard, mouse, joystick, etc.\n",
    "        ev = pygame.event.poll()     # Look for any event\n",
    "        if ev.type == pygame.QUIT:    # Window close button clicked?\n",
    "            break                    # ......leave game loop\n",
    "        \n",
    "        # Do other bits of logic for the game here\n",
    "        frame_count += 1\n",
    "        if frame_count % 500 == 0:\n",
    "            t1 = time.process_time()\n",
    "            frame_rate = 500 / (t1 - t0)\n",
    "            t0 = t1\n",
    "                    \n",
    "        # Completely redraw the surface, starting with background\n",
    "        main_surface.fill((0, 200, 255))\n",
    "        \n",
    "        \n",
    "        # Put a red rectangle somewhere on the surface\n",
    "        main_surface.fill((255, 0, 0), (300, 100, 150, 90))\n",
    "        \n",
    "        # Copy our image to the surface, at this (x, y) posn\n",
    "        main_surface.blit(ball, (50,70))\n",
    "        \n",
    "        # Make a new surface with an image of the text\n",
    "        the_text = my_font.render('Frame = {0}, rate = {1:.2f} fps'.format(frame_count, frame_rate), True, (0,0,0))\n",
    "        \n",
    "        # Copy the text surface to the main surface\n",
    "        main_surface.blit(the_text, (10, 10))\n",
    "        \n",
    "        # Now that everything is drawn, put it on display!\n",
    "        pygame.display.flip()\n",
    "        \n",
    "    pygame.quit()     # Once we leave the loop, close the window\n",
    "    \n",
    "main()"
   ]
  },
  {
   "cell_type": "code",
   "execution_count": null,
   "id": "d3c2ab40",
   "metadata": {},
   "outputs": [],
   "source": [
    "def draw_board(the_board):\n",
    "    \"\"\" Draw a chess board with queens, from the_board. \"\"\"\n",
    "    \n",
    "    pygame.init()\n",
    "    colors = [(255, 0, 0), (0, 0, 0)]       # Set up colors [red, black]\n",
    "    \n",
    "    n = len(the_board)                      # This is an NxN chess board\n",
    "    surface_sz = 480                        # Proposed physical surface size.\n",
    "    \n",
    "    sq_sz = surface_sz // n                 # sq_sz is length of a square.\n",
    "    surface_sz = n * sq_sz                  # Adjust to exactly fit n squares.\n",
    "\n",
    "    \n",
    "    # Create the surface of (width, height), and its window.\n",
    "    surface = pygame.display.set_mode((surface_sz, surface_sz))\n",
    "    \n",
    "    ball = pygame.display.set_mode((surface_sz, surface_sz))\n",
    "    \n",
    "    ball = pygame.image.load('data/ball.png')\n",
    "    \n",
    "    # Use an extra offset to centre the ball in its square.\n",
    "    # If the square is too small, offset becomes negative,\n",
    "    # but it will still be centered :-)\n",
    "    \n",
    "    ball_offset = (sq_sz-ball.get_width()) // 2\n",
    "    \n",
    "    while True:\n",
    "        \n",
    "        # Look for an event from keyboard, mouse etc.\n",
    "        ev = pygame.event.poll()\n",
    "        if ev.type == pygame.QUIT:\n",
    "            break;\n",
    "    \n",
    "    # Draw a fresh background ( a blank chess board)\n",
    "    for row in range(n):                  # Draw each row of the board\n",
    "        c_indx = row % 2                  # Change starting color on each row\n",
    "        for col in range(n):              # Run through cols drawing squares\n",
    "            the_square = (col*sq_sz, row*sq_sz, sq_sz, sq_sz)\n",
    "            surface.fill(colors[c_indx], the_square)\n",
    "            # Now flip the color index for the next square\n",
    "            c_indx = (c_indx + 1) % 2\n",
    "            \n",
    "    # Now that squares are drawn, draw the queens.\n",
    "    for (col, row) in enumerate(the_board):\n",
    "        surface.blit(ball,\n",
    "                    (col * sq_sz + ball_offset, row * sq_sz + ball_offset))\n",
    "        \n",
    "    pygame.display.flip()\n",
    "    \n",
    "pygame.quit()\n",
    "\n",
    "if __name__ == '__main__':\n",
    "    draw_board([0, 5, 3, 1, 6, 4, 2])     # 7 x 7 to test window size\n",
    "    draw_board([6, 4, 2, 0, 5, 7, 1, 3])\n",
    "    draw_board([9, 6, 0, 3, 10, 7, 2, 4, 12, 8, 11, 5, 1])  # 13 x 13\n",
    "    draw_board([11, 4, 8, 12, 2, 7, 3, 15, 0, 14, 10, 6, 13, 1, 5, 9])"
   ]
  },
  {
   "cell_type": "code",
   "execution_count": null,
   "id": "f0818d35",
   "metadata": {},
   "outputs": [],
   "source": [
    "class QueenSprite:\n",
    "    \n",
    "    def __init__(self, img, target_posn):\n",
    "        self.image = img\n",
    "        self.target_posn = target_posn\n",
    "        (x, y) = target_posn\n",
    "        self.posn = (x, 0)      # Start ball at top of its column\n",
    "        self.y_velocity = 0     # with zero initial velocity\n",
    "        \n",
    "    \n",
    "    def update(self):\n",
    "        self.y_velocity += gravity           # Gravity changes velocity\n",
    "        (x, y) = self.posn\n",
    "        new_y_pos = y + self.y_velocity      # Velocity moves the ball\n",
    "                                             #  to this new position.\n",
    "        (target_x, target_y) = self.target_posn  # Unpack the position\n",
    "        dist_to_go = target_y - new_y_posn       # How far to our floor\n",
    "        \n",
    "        if dist_to_go < 0:                       # Are we under floor\n",
    "            self.y_velocity = -0.65 * self.y_velocity    # Bounce\n",
    "            new_y_pos = target_y + dist_to_go            # Move back above floor\n",
    "            \n",
    "        self.posn = (x, new_y_pos)                      # Set our new position      \n",
    "        \n",
    "    def draw(self, target_surface):          # Same as before\n",
    "        target_surface.blit(self.image, self.posn)\n",
    "        \n",
    "    "
   ]
  },
  {
   "cell_type": "markdown",
   "id": "6d356a25",
   "metadata": {},
   "source": [
    "Chapter 18. **Recursion**\n",
    "\n",
    "Recursion means defining something in terms of itself. e.g. \" A human being is someone whose mother is a human being\""
   ]
  },
  {
   "cell_type": "code",
   "execution_count": null,
   "id": "098d7fc0",
   "metadata": {},
   "outputs": [],
   "source": [
    "def koch(t, order, size):\n",
    "    \"\"\"\n",
    "        Make turtle t draw a Koch fractal of 'order' and 'size'\n",
    "        Leave the turtle facing the same direction\n",
    "    \"\"\"\n",
    "    \n",
    "    if order == 0:            # The base casse is just a straight line\n",
    "        t.forward(size)\n",
    "    else:\n",
    "        koch(t, order-1, size/3)          # Go 1/3 of the way # Koch calls itself recursively here\n",
    "        t.left(60)\n",
    "        koch(t, order01, size/3)\n",
    "        t.right(120)\n",
    "        koch(t, order-1, size/3)\n",
    "        t.left(60)\n",
    "        koch(t, order-1, size/3)\n",
    "        \n",
    "        \n"
   ]
  },
  {
   "cell_type": "code",
   "execution_count": null,
   "id": "2da8feb0",
   "metadata": {},
   "outputs": [],
   "source": [
    "def r_sum(nested_sum_list):\n",
    "    tot = 0\n",
    "    for element in nested_sum_list:\n",
    "        if type(element) == type([]):\n",
    "            tot += r_sum(element)\n",
    "        else:\n",
    "            tot += element\n",
    "    return tot"
   ]
  },
  {
   "cell_type": "code",
   "execution_count": null,
   "id": "f1b2a6d8",
   "metadata": {},
   "outputs": [],
   "source": [
    "r_sum([1, 2, [11, 13], 8])"
   ]
  },
  {
   "cell_type": "code",
   "execution_count": null,
   "id": "0c44fb9d",
   "metadata": {},
   "outputs": [],
   "source": [
    "from test import test"
   ]
  },
  {
   "cell_type": "code",
   "execution_count": null,
   "id": "6df5953a",
   "metadata": {},
   "outputs": [],
   "source": [
    "def r_max(nxs):\n",
    "    \"\"\"\n",
    "    Find the maximum in a recursive structure of lists within\n",
    "    other lists.\n",
    "    Precondition: No lists or sublists are empty\n",
    "    \"\"\"\n",
    "    \n",
    "    largest = None\n",
    "    first_time = True\n",
    "    for e in nxs:\n",
    "        if type(e) == type([]):\n",
    "            val = r_max(e)\n",
    "        else:\n",
    "            val = e\n",
    "            \n",
    "        if first_time or val > largest:\n",
    "            largest = None\n",
    "            first_time = True \n",
    "            for e in nxs:\n",
    "                if type(e) == type([]):\n",
    "                    val = r_max(e)\n",
    "                else:\n",
    "                    val = e\n",
    "                    \n",
    "                if first_time or val > largest:\n",
    "                    largest = val\n",
    "                    first_time = False\n",
    "    return largest\n",
    "\n",
    "test(r_max([2, 9, [1, 13], 8, 6]) == 13)\n",
    "test(r_max([2, [[100, 7], 90], [1, 3], 8, 6]) == 100)\n",
    "test(r_max([[[13, 7], 90], 2, [1, 100], 8, 6]) == 100)\n",
    "test(r_max(['joe', ['sam', 'ben']]) == 'sam')"
   ]
  },
  {
   "cell_type": "code",
   "execution_count": null,
   "id": "ce1834cd",
   "metadata": {},
   "outputs": [],
   "source": [
    "# Fibonacci\n",
    "def fib(n):\n",
    "    if n <= 1:\n",
    "        return n\n",
    "    t = fib(n-1) + fib(n-2)\n",
    "    return t"
   ]
  },
  {
   "cell_type": "code",
   "execution_count": null,
   "id": "2aa264f4",
   "metadata": {},
   "outputs": [],
   "source": [
    "import time\n",
    "\n",
    "t0 = time.process_time()\n",
    "n = 35\n",
    "result = fib(n)\n",
    "t1 = time.process_time()\n",
    "\n",
    "print('fib({0}) = {1}, ({2:.2f} secs)'.format(n, result, t1-t0))"
   ]
  },
  {
   "cell_type": "markdown",
   "id": "28ec305b",
   "metadata": {},
   "source": [
    "Example with recursive directories and files"
   ]
  },
  {
   "cell_type": "code",
   "execution_count": null,
   "id": "c0a3f308",
   "metadata": {},
   "outputs": [],
   "source": [
    "import os\n",
    "\n",
    "def get_dirlist(path):\n",
    "    \"\"\"\n",
    "    Return a sorted list of all entries in path.\n",
    "    This returns just the names, not the full path to the names.\n",
    "    \"\"\"\n",
    "    dirlist = os.listdir(path)\n",
    "    dirlist.sort()\n",
    "    return dirlist\n",
    "\n",
    "\n",
    "def print_files(path, prefix= \"\"):\n",
    "    \"\"\" Print recursive listing of contents of path \"\"\"\n",
    "    if prefix == \"\": # Detect outermost call, print a heading\n",
    "        print('Folder listing for', path)\n",
    "        prefix = '|'\n",
    "        \n",
    "    dirlist = get_dirlist(path)\n",
    "    for f in dirlist:\n",
    "        print(prefix+f)              # Print the line\n",
    "        fullname = os.path.join(path, f)   # Turn name into full pathname\n",
    "        if os.path.isdir(fullname):        # If a directory, recurse\n",
    "            print_files(fullname, prefix + \"|\")"
   ]
  },
  {
   "cell_type": "code",
   "execution_count": null,
   "id": "2cde214f",
   "metadata": {},
   "outputs": [],
   "source": [
    "print_files(\"D:\\OneDrive\\Documents\\PERSONAL\\PERSONAL DEVELOPMENT\\DATA SCIENCE\\medium.com article practice notebooks\")"
   ]
  },
  {
   "cell_type": "code",
   "execution_count": null,
   "id": "2aa29e39",
   "metadata": {},
   "outputs": [],
   "source": [
    "import pygame, math\n",
    "pygame.init()                # Prepare the pygame module for use\n",
    "\n",
    "# Create a new surface and window\n",
    "surface_size = 1024\n",
    "main_surface = pygame.display.set_mode((surface_size, surface_size))\n",
    "my_clock = pygame.time.Clock()\n",
    "\n",
    "def draw_tree(order, theta, sz, posn, heading, color=(0,0,0), depth=0):\n",
    "    \n",
    "    trunk_ratio = 0.29         # How big is the trunk relative to whole tree?\n",
    "    trunk = sz * trunk_ratio   # lenght of trunk\n",
    "    delta_x = trunk * math.cos(heading)\n",
    "    delta_y = trunk * math.sin (heading)\n",
    "    (u, v) = posn\n",
    "    newpos = (u + delta_x, v + delta_y)\n",
    "    pygame.draw.line(main_surface, color, posn, newpos)\n",
    "    \n",
    "    if order > 0:     # Draw another layer of subtrees\n",
    "        \n",
    "        # These next six lines are a simple hack to make the two major halves \n",
    "        # of the recursive different colors. Fiddle here to change colors\n",
    "        # at the other depths, or when depth is even, or , odd, etc.\n",
    "        if depth == 0:\n",
    "            color1 = (255, 0, 0)\n",
    "            color2 = (0, 0, 255)\n",
    "        else:\n",
    "            color1 = color\n",
    "            color2 = color\n",
    "\n",
    "        # Make the recursive calls to draw the two subtrees\n",
    "        newsz = sz * (1- trunk_ratio)\n",
    "        draw_tree(order-1, theta, newsz, newpos, heading-theta, color1, depth+1)\n",
    "        draw_tree(order-1, theta, newsz, newpos, heading+theta, color2, depth+1)\n",
    "    \n",
    "    \n",
    "def gameloop():\n",
    "    \n",
    "    theta = 0\n",
    "    while True:\n",
    "        \n",
    "        # Handle events from keyboard, mouse etc.\n",
    "        ev = pygame.event.poll()\n",
    "        if ev.type == pygame.QUIT:\n",
    "            break;\n",
    "            \n",
    "        # Updates - change the angle\n",
    "        theta += 0.01\n",
    "        \n",
    "        # Draw everything\n",
    "        main_surface.fill((255, 255, 0))\n",
    "        draw_tree(9, theta, surface_size * 0.9, (surface_size // 2, surface_size - 50),math.pi/2)\n",
    "        \n",
    "        pygame.display.flip()\n",
    "        my_clock.tick(120)\n",
    "        \n",
    "gameloop()\n",
    "pygame.quit()"
   ]
  },
  {
   "cell_type": "markdown",
   "id": "581c521d",
   "metadata": {},
   "source": [
    "Chapter 19 **Exceptions**"
   ]
  },
  {
   "cell_type": "code",
   "execution_count": null,
   "id": "79dc689a",
   "metadata": {},
   "outputs": [],
   "source": [
    "# Dividing by zero creates an exception:\n",
    "print(55/0)"
   ]
  },
  {
   "cell_type": "code",
   "execution_count": null,
   "id": "1353dfaf",
   "metadata": {},
   "outputs": [],
   "source": [
    "# Accessing a non-existent list item\n",
    "a = []\n",
    "print(a[5])"
   ]
  },
  {
   "cell_type": "code",
   "execution_count": null,
   "id": "7b7c7f41",
   "metadata": {},
   "outputs": [],
   "source": [
    "# Trying to make an item assignment on a tuple\n",
    "tup = ('a', 'b', 'd', 'd')\n",
    "tup[2]= 'c'"
   ]
  },
  {
   "cell_type": "code",
   "execution_count": null,
   "id": "253e19dc",
   "metadata": {},
   "outputs": [],
   "source": [
    "filename = input('Enter a file name: ')\n",
    "try:\n",
    "    f = open(filename, 'r')\n",
    "\n",
    "except:\n",
    "    print('There is no file named', filename)"
   ]
  },
  {
   "cell_type": "code",
   "execution_count": null,
   "id": "a7bf9b2b",
   "metadata": {},
   "outputs": [],
   "source": [
    "import os\n",
    "\n",
    "# This is the preferred way to check is a file exists.\n",
    "if os.path.isfile('data/ball.png'):\n",
    "    print('exist')"
   ]
  },
  {
   "cell_type": "code",
   "execution_count": null,
   "id": "3e8eaa6e",
   "metadata": {},
   "outputs": [],
   "source": [
    "def recursion_depth(number):\n",
    "    print('Recursion depth number', number)\n",
    "    try:\n",
    "        recursion_depth(number + 1)\n",
    "    except:\n",
    "        print('I cannot go any deeper into this wormhole')\n",
    "        \n",
    "        \n",
    "recursion_depth(0)"
   ]
  },
  {
   "cell_type": "code",
   "execution_count": null,
   "id": "c08d46fe",
   "metadata": {},
   "outputs": [],
   "source": [
    "import turtle\n",
    "import time\n",
    "\n",
    "def show_poly():\n",
    "    try:\n",
    "        win = turtle.Screen()     # Grab/create a resource, e.g a window\n",
    "        tess = turtle.Turtle()\n",
    "        \n",
    "        # This diaog could be cancelled,\n",
    "        # or the conversion to int might fail, or might be zero\n",
    "        \n",
    "        n =int(input('How mny sides do you want in your polygon'))\n",
    "        angle = 360 / n\n",
    "        for i in range(n):    # Draw the ploygon\n",
    "            tess.forward(10)\n",
    "            tess.left(angle)\n",
    "        time.sleep(3)          # Make program wait a few seconds\n",
    "    finally:\n",
    "        win.bye()              # Close the turtle's window\n",
    "        \n",
    "show_poly()\n",
    "show_poly()\n",
    "show_poly()"
   ]
  },
  {
   "cell_type": "markdown",
   "id": "a13f4153",
   "metadata": {},
   "source": [
    "**Dictionaries**"
   ]
  },
  {
   "cell_type": "code",
   "execution_count": null,
   "id": "66bcb498",
   "metadata": {},
   "outputs": [],
   "source": [
    "eng2spa = {}\n",
    "\n",
    "eng2spa['one'] = 'uno'\n",
    "eng2spa['two'] = 'dos'"
   ]
  },
  {
   "cell_type": "code",
   "execution_count": null,
   "id": "ba7bb4fc",
   "metadata": {},
   "outputs": [],
   "source": [
    "print(eng2spa)"
   ]
  },
  {
   "cell_type": "code",
   "execution_count": null,
   "id": "6ce1a8f9",
   "metadata": {},
   "outputs": [],
   "source": [
    "eng3spa = {'one': 'uno', 'two': 'dos', 'three': 'tree'}"
   ]
  },
  {
   "cell_type": "code",
   "execution_count": null,
   "id": "58b85151",
   "metadata": {},
   "outputs": [],
   "source": [
    "eng3spa"
   ]
  },
  {
   "cell_type": "code",
   "execution_count": null,
   "id": "7aca98e7",
   "metadata": {},
   "outputs": [],
   "source": [
    "# Dictionary operations\n",
    "inventory = { 'bananas': 312,'apples': 430, 'oranges': 525, 'pears': 217}\n",
    "print(inventory)"
   ]
  },
  {
   "cell_type": "code",
   "execution_count": null,
   "id": "6021e17d",
   "metadata": {},
   "outputs": [],
   "source": [
    "# use del methods to remove entry (key, value pair)\n",
    "del inventory['pears']"
   ]
  },
  {
   "cell_type": "code",
   "execution_count": null,
   "id": "3133eafc",
   "metadata": {},
   "outputs": [],
   "source": [
    "inventory"
   ]
  },
  {
   "cell_type": "code",
   "execution_count": null,
   "id": "00a7d626",
   "metadata": {},
   "outputs": [],
   "source": [
    "# Change value associalted with 'pears'\n",
    "inventory['pears'] = 0"
   ]
  },
  {
   "cell_type": "code",
   "execution_count": null,
   "id": "ba6bd396",
   "metadata": {},
   "outputs": [],
   "source": [
    "inventory"
   ]
  },
  {
   "cell_type": "code",
   "execution_count": null,
   "id": "a9c035c4",
   "metadata": {},
   "outputs": [],
   "source": [
    "# add new shipment of 'bananas'\n",
    "inventory['bananas'] += 200"
   ]
  },
  {
   "cell_type": "code",
   "execution_count": null,
   "id": "c025d672",
   "metadata": {},
   "outputs": [],
   "source": [
    "inventory"
   ]
  },
  {
   "cell_type": "code",
   "execution_count": null,
   "id": "e0af1406",
   "metadata": {},
   "outputs": [],
   "source": [
    "# len function gives the number of key:value pairs\n",
    "len(inventory)"
   ]
  },
  {
   "cell_type": "code",
   "execution_count": null,
   "id": "a9778a22",
   "metadata": {},
   "outputs": [],
   "source": [
    "# Dictionary Methods\n",
    "for k in eng3spa.keys():  # the order of the k's is not defined\n",
    "    print('Got key', k, 'which maps to value', eng3spa[k])\n",
    "\n",
    "ks = list(eng3spa.keys())\n",
    "print(ks)"
   ]
  },
  {
   "cell_type": "code",
   "execution_count": null,
   "id": "d9121e53",
   "metadata": {},
   "outputs": [],
   "source": [
    "# we can iterate over the keys without the keys() method\n",
    "for k in eng3spa:  # iterate without keys()\n",
    "    print('Got key', k, 'which maps to value', eng3spa[k])\n",
    "\n"
   ]
  },
  {
   "cell_type": "code",
   "execution_count": null,
   "id": "bbaac97e",
   "metadata": {},
   "outputs": [],
   "source": [
    "# values method\n",
    "list(eng3spa.values())"
   ]
  },
  {
   "cell_type": "code",
   "execution_count": null,
   "id": "9c97c4cb",
   "metadata": {},
   "outputs": [],
   "source": [
    "# The `items()` method returns a view object, which promises a list of tuples- one tuple for each key:value pair\n",
    "list(eng3spa.items())"
   ]
  },
  {
   "cell_type": "code",
   "execution_count": null,
   "id": "0bb18984",
   "metadata": {},
   "outputs": [],
   "source": [
    "# Tuples are useful for getting both key and values at the same time while looping\n",
    "for (k,v) in eng2spa.items():\n",
    "    print(f'Got {k} that maps to {v}')"
   ]
  },
  {
   "cell_type": "code",
   "execution_count": null,
   "id": "d472f6eb",
   "metadata": {},
   "outputs": [],
   "source": [
    "# test with `in` and `not` operators\n",
    "'one' in eng2spa"
   ]
  },
  {
   "cell_type": "code",
   "execution_count": null,
   "id": "e07b78fd",
   "metadata": {},
   "outputs": [],
   "source": [
    "'uno' not in eng2spa # Note that `in` tests keys, not values"
   ]
  },
  {
   "cell_type": "code",
   "execution_count": null,
   "id": "b64fb876",
   "metadata": {},
   "outputs": [],
   "source": [
    "'two' not in eng2spa "
   ]
  },
  {
   "cell_type": "markdown",
   "id": "4a304692",
   "metadata": {},
   "source": [
    "Dictionaries are mutable, as such we need to be aware of aliasing. Whenever two variables refer to the same object, changes to one affect the other."
   ]
  },
  {
   "cell_type": "code",
   "execution_count": null,
   "id": "8dec93a8",
   "metadata": {},
   "outputs": [],
   "source": [
    "opposites = {'up': 'down', 'right': 'wrong', 'yes': 'no'}\n",
    "alias = opposites\n",
    "copy = opposites.copy()  # Shallow copy"
   ]
  },
  {
   "cell_type": "code",
   "execution_count": null,
   "id": "1b2f482a",
   "metadata": {},
   "outputs": [],
   "source": [
    "alias is copy"
   ]
  },
  {
   "cell_type": "code",
   "execution_count": null,
   "id": "a5f26a67",
   "metadata": {},
   "outputs": [],
   "source": [
    "alias is opposites\n"
   ]
  },
  {
   "cell_type": "markdown",
   "id": "686ad85b",
   "metadata": {},
   "source": [
    "`alias` and `opposites` refer to the same object, `copy` refers to a fresh copy of the same dictionary. If we modify `alias`, `opposites` is also changed:"
   ]
  },
  {
   "cell_type": "code",
   "execution_count": null,
   "id": "fb005ea1",
   "metadata": {},
   "outputs": [],
   "source": [
    "alias['right'] = 'left'"
   ]
  },
  {
   "cell_type": "code",
   "execution_count": null,
   "id": "113607e1",
   "metadata": {},
   "outputs": [],
   "source": [
    "opposites"
   ]
  },
  {
   "cell_type": "code",
   "execution_count": null,
   "id": "db458756",
   "metadata": {},
   "outputs": [],
   "source": [
    "copy['right'] = 'privilegde'"
   ]
  },
  {
   "cell_type": "code",
   "execution_count": null,
   "id": "57f7ef3e",
   "metadata": {},
   "outputs": [],
   "source": [
    "opposites"
   ]
  },
  {
   "cell_type": "code",
   "execution_count": null,
   "id": "bedf7598",
   "metadata": {},
   "outputs": [],
   "source": [
    "# Sparse matrix representation with dictionary\n",
    "matrix = [[0, 0, 0, 1, 0],\n",
    "          [0, 0, 0, 0, 0],\n",
    "          [0, 2, 0, 0, 0],\n",
    "          [0, 0, 0, 0, 0],\n",
    "          [0, 0, 0, 3, 0]]\n",
    "        "
   ]
  },
  {
   "cell_type": "code",
   "execution_count": null,
   "id": "6e7302ba",
   "metadata": {},
   "outputs": [],
   "source": [
    "matrix_dict = {(0,3): 1, (2,1): 2, (4,3): 3}"
   ]
  },
  {
   "cell_type": "code",
   "execution_count": null,
   "id": "d4fe3350",
   "metadata": {},
   "outputs": [],
   "source": [
    "matrix_dict[(0,3)]"
   ]
  },
  {
   "cell_type": "code",
   "execution_count": null,
   "id": "10d23b31",
   "metadata": {},
   "outputs": [],
   "source": [
    "# `get` method has solve the keyerror by returning `None` or the set default value\n",
    "matrix_dict[(1, 3)]   # This returns a KeyError since this is not contained in the dictionary"
   ]
  },
  {
   "cell_type": "code",
   "execution_count": null,
   "id": "860c405d",
   "metadata": {},
   "outputs": [],
   "source": [
    "# Use `get` method to prevent this error exception\n",
    "matrix_dict.get((1, 3), 'no such key')\n"
   ]
  },
  {
   "cell_type": "code",
   "execution_count": null,
   "id": "21723742",
   "metadata": {},
   "outputs": [],
   "source": [
    "print(matrix_dict.get((1, 3)))"
   ]
  },
  {
   "cell_type": "code",
   "execution_count": null,
   "id": "62fca6e7",
   "metadata": {},
   "outputs": [],
   "source": [
    "# Memoization\n",
    "alreadyknown = {0: 0, 1: 1}\n",
    "\n",
    "def fib(n):\n",
    "    if n not in alreadyknown:\n",
    "        new_value = fib(n-1) + fib(n-2)\n",
    "        alreadyknown[n] = new_value\n",
    "    return alreadyknown[n]"
   ]
  },
  {
   "cell_type": "code",
   "execution_count": null,
   "id": "b2a75097",
   "metadata": {},
   "outputs": [],
   "source": [
    "fib(100)"
   ]
  },
  {
   "cell_type": "code",
   "execution_count": null,
   "id": "53745ab8",
   "metadata": {},
   "outputs": [],
   "source": [
    "# Counting letters\n",
    "letter_counts = {}\n",
    "for letter in 'Mississipi':\n",
    "    letter_counts[letter] = letter_counts.get(letter, 0) + 1\n",
    "    \n",
    "letter_counts\n",
    "    "
   ]
  },
  {
   "cell_type": "code",
   "execution_count": null,
   "id": "c14ba65d",
   "metadata": {},
   "outputs": [],
   "source": [
    "letter_items = list(letter_counts.items())"
   ]
  },
  {
   "cell_type": "code",
   "execution_count": null,
   "id": "4bd99102",
   "metadata": {},
   "outputs": [],
   "source": [
    "letter_items"
   ]
  },
  {
   "cell_type": "code",
   "execution_count": null,
   "id": "42ea6d46",
   "metadata": {},
   "outputs": [],
   "source": [
    "letter_items.sort()"
   ]
  },
  {
   "cell_type": "code",
   "execution_count": null,
   "id": "21a3b8ca",
   "metadata": {},
   "outputs": [],
   "source": [
    "letter_items\n"
   ]
  },
  {
   "cell_type": "markdown",
   "id": "95734cd9",
   "metadata": {},
   "source": [
    "**Chapter 21: A Case Study: Indexing your files**"
   ]
  },
  {
   "cell_type": "code",
   "execution_count": null,
   "id": "a59fc463",
   "metadata": {},
   "outputs": [],
   "source": [
    "# Crawler crawls the filesystem and builds a dictionary \n",
    "import os\n",
    "\n",
    "def crawl_files(path):\n",
    "    \"\"\" Recursively visit all files in path\"\"\"\n",
    "    \n",
    "    # Fetch all the entries in the current folder\n",
    "    dirlist = os.listdir(path)\n",
    "    for f in dirlist:\n",
    "        # Turn each name into full pathname\n",
    "        fullname = os.path.join(path, f)\n",
    "        \n",
    "        # if it is a directory, recurse\n",
    "        if os.path.isdir(fullname):\n",
    "            crawl_files(fullname)\n",
    "        else: # Do something useful with the file\n",
    "            #print(f'{f:30} {fullname}')\n",
    "            print('{0:30} {1}'.format(f, fullname))\n",
    "            "
   ]
  },
  {
   "cell_type": "code",
   "execution_count": null,
   "id": "46056c3d",
   "metadata": {
    "run_control": {
     "marked": false
    },
    "scrolled": false
   },
   "outputs": [],
   "source": [
    "crawl_files(\"D:\\OneDrive\\Documents\\PERSONAL\\PERSONAL DEVELOPMENT\\DATA SCIENCE\")"
   ]
  },
  {
   "cell_type": "code",
   "execution_count": 90,
   "id": "fed38813",
   "metadata": {
    "run_control": {
     "marked": false
    }
   },
   "outputs": [],
   "source": [
    "# Fetch all the entries in the current folder\n",
    "thedict = {}\n",
    "\n",
    "def crawl_files(path):\n",
    "    \"\"\" Recursively visit all files in path\"\"\"\n",
    "\n",
    "   \n",
    "    dirlist = os.listdir(path)\n",
    "    filecount = 0\n",
    "\n",
    "    for f in dirlist:\n",
    "        # Turn each name into full pathname\n",
    "        fullname = os.path.join(path, f)\n",
    "\n",
    "        # if it is a directory, recurse\n",
    "        if os.path.isdir(fullname):\n",
    "            crawl_files(fullname)\n",
    "        else: # Do something useful with the file\n",
    "            key = f.lower()\n",
    "            if key in thedict:\n",
    "                thedict[key].append(fullname)\n",
    "            else:\n",
    "                thedict[key] = [fullname]\n",
    "        filecount += 1\n",
    "        if filecount % 100 == 0:\n",
    "            print(\".\", end=\" \")\n",
    "            if filecount % 5000 == 0:\n",
    "                print()\n",
    "                \n",
    "    #print('indexed {0} files, {1} entries in the dictionary'.format(filecount, len(thedict)))\n",
    "\n"
   ]
  },
  {
   "cell_type": "code",
   "execution_count": 91,
   "id": "23f89a78",
   "metadata": {
    "scrolled": false
   },
   "outputs": [],
   "source": [
    "crawl_files(\"D:\\OneDrive\\Documents\\PERSONAL\\PERSONAL DEVELOPMENT\\DATA SCIENCE\\medium.com article practice notebooks\")"
   ]
  },
  {
   "cell_type": "code",
   "execution_count": 92,
   "id": "c680ea1e",
   "metadata": {},
   "outputs": [
    {
     "data": {
      "text/plain": [
       "171"
      ]
     },
     "execution_count": 92,
     "metadata": {},
     "output_type": "execute_result"
    }
   ],
   "source": [
    "len(thedict)"
   ]
  },
  {
   "cell_type": "code",
   "execution_count": 94,
   "id": "ff44a907",
   "metadata": {},
   "outputs": [],
   "source": [
    "import json\n",
    "\n",
    "f = open('data/mydict.txt', 'w')\n",
    "json.dump(thedict, f)\n",
    "f.close()"
   ]
  },
  {
   "cell_type": "code",
   "execution_count": 96,
   "id": "acaa4694",
   "metadata": {},
   "outputs": [
    {
     "name": "stdout",
     "output_type": "stream",
     "text": [
      "Loaded 171 filenames for querying..\n"
     ]
    }
   ],
   "source": [
    "# Query Program\n",
    "import json\n",
    "\n",
    "f = open('data/mydict.txt', 'r')\n",
    "dict = json.load(f)\n",
    "f.close\n",
    "\n",
    "print('Loaded {0} filenames for querying..'.format(len(dict)))"
   ]
  },
  {
   "cell_type": "code",
   "execution_count": 97,
   "id": "6c3bcded",
   "metadata": {},
   "outputs": [],
   "source": [
    "def query(filename):\n",
    "    f = filename.lower()\n",
    "    if f not in dict:\n",
    "        print('No hits for {0}'.format(filename))\n",
    "    else:\n",
    "        print('{0} is at '.format(filename))\n",
    "        for p in dict[f]:\n",
    "            print('.....', p)"
   ]
  },
  {
   "cell_type": "code",
   "execution_count": 98,
   "id": "3d2080b4",
   "metadata": {},
   "outputs": [
    {
     "name": "stdout",
     "output_type": "stream",
     "text": [
      "vocab.txt is at \n",
      "..... D:\\OneDrive\\Documents\\PERSONAL\\PERSONAL DEVELOPMENT\\DATA SCIENCE\\medium.com article practice notebooks\\data\\vocab.txt\n"
     ]
    }
   ],
   "source": [
    "query('vocab.txt')"
   ]
  },
  {
   "cell_type": "code",
   "execution_count": 99,
   "id": "97c56e47",
   "metadata": {},
   "outputs": [
    {
     "name": "stdout",
     "output_type": "stream",
     "text": [
      "No hits for vocab.doc\n"
     ]
    }
   ],
   "source": [
    "query('vocab.doc')"
   ]
  },
  {
   "cell_type": "code",
   "execution_count": 106,
   "id": "e8ae6f1a",
   "metadata": {},
   "outputs": [],
   "source": [
    "# Compressing the file\n",
    "import json, gzip, io\n",
    "\n",
    "f = io.TextIOWrapper(gzip.open('data/mydict.gz', mode='wb'))\n",
    "json.dump(thedict, f)\n",
    "f.close()"
   ]
  },
  {
   "cell_type": "code",
   "execution_count": 108,
   "id": "24be8cc4",
   "metadata": {},
   "outputs": [
    {
     "name": "stdout",
     "output_type": "stream",
     "text": [
      "Loaded 171 filenames for querying..\n"
     ]
    }
   ],
   "source": [
    "# Unzip and load\n",
    "f = io.TextIOWrapper(gzip.open('data/mydict.gz', 'r'))\n",
    "dict2 = json.load(f)\n",
    "f.close()\n",
    "\n",
    "print('Loaded {0} filenames for querying..'.format(len(dict2)))"
   ]
  },
  {
   "cell_type": "markdown",
   "id": "6e64d5aa",
   "metadata": {},
   "source": [
    "**Chapter 22: Even more OOP**"
   ]
  },
  {
   "cell_type": "code",
   "execution_count": 161,
   "id": "70cf4266",
   "metadata": {},
   "outputs": [],
   "source": [
    "class MyTime:\n",
    "    \n",
    "    def __init__(self, hrs=0, mins=0, secs=0):\n",
    "        \"\"\"Create a MyTime object initialised to hrs, mins, secs\"\"\"\n",
    "        self.hours = hrs\n",
    "        self.minutes = mins\n",
    "        self.seconds = secs\n",
    "        \n",
    "    def __str__(self):\n",
    "        \n",
    "        print(f'The time is {self.hours}:{self.minutes}:{self.seconds}')\n",
    "        \n",
    "tim1 = MyTime(11, 59, 30)"
   ]
  },
  {
   "cell_type": "code",
   "execution_count": 162,
   "id": "00097c4d",
   "metadata": {},
   "outputs": [
    {
     "name": "stdout",
     "output_type": "stream",
     "text": [
      "The time is 11:59:30\n"
     ]
    },
    {
     "ename": "TypeError",
     "evalue": "__str__ returned non-string (type NoneType)",
     "output_type": "error",
     "traceback": [
      "\u001b[1;31m---------------------------------------------------------------------------\u001b[0m",
      "\u001b[1;31mTypeError\u001b[0m                                 Traceback (most recent call last)",
      "Cell \u001b[1;32mIn[162], line 1\u001b[0m\n\u001b[1;32m----> 1\u001b[0m \u001b[38;5;28mprint\u001b[39m(tim1)\n",
      "\u001b[1;31mTypeError\u001b[0m: __str__ returned non-string (type NoneType)"
     ]
    }
   ],
   "source": [
    "print(tim1)"
   ]
  },
  {
   "cell_type": "code",
   "execution_count": 163,
   "id": "4b496dd4",
   "metadata": {},
   "outputs": [],
   "source": [
    "class MyTime:\n",
    "    \n",
    "    def __init__(self, hrs=0, mins=0, secs=0):\n",
    "        \"\"\"Create a MyTime object initialised to hrs, mins, secs\"\"\"\n",
    "        self.hours = hrs\n",
    "        self.minutes = mins\n",
    "        self.seconds = secs\n",
    "        \n",
    "    def __str__(self):\n",
    "        \n",
    "        return '{0}:{1}:{2}'.format(self.hours, self.minutes, self.seconds)\n",
    "        \n",
    "tim1 = MyTime(11, 59, 30)"
   ]
  },
  {
   "cell_type": "code",
   "execution_count": 164,
   "id": "13566a42",
   "metadata": {},
   "outputs": [
    {
     "name": "stdout",
     "output_type": "stream",
     "text": [
      "11:59:30\n"
     ]
    }
   ],
   "source": [
    "print(tim1)"
   ]
  },
  {
   "cell_type": "code",
   "execution_count": 165,
   "id": "a59b8974",
   "metadata": {},
   "outputs": [],
   "source": [
    "# Pure Functions- does not modify any of the objects passed to it as parameters\n",
    "def add_time(t1, t2):\n",
    "    h = t1.hours + t2.hours\n",
    "    m = t1.minutes + t2.minutes \n",
    "    s = t1.seconds + t2.seconds\n",
    "    sum_t = MyTime(h, m, s)\n",
    "    return sum_t"
   ]
  },
  {
   "cell_type": "code",
   "execution_count": 166,
   "id": "e6781fea",
   "metadata": {},
   "outputs": [
    {
     "name": "stdout",
     "output_type": "stream",
     "text": [
      "12:49:30\n"
     ]
    }
   ],
   "source": [
    "current_time = MyTime(9, 14, 30)\n",
    "bread_time = MyTime(3, 35, 0)\n",
    "done_time = add_time(current_time, bread_time)\n",
    "print(done_time)"
   ]
  },
  {
   "cell_type": "code",
   "execution_count": 167,
   "id": "fd888eac",
   "metadata": {},
   "outputs": [],
   "source": [
    "# A better version\n",
    "def add_time(t1, t2):\n",
    "    h = t1.hours + t2.hours\n",
    "    m = t1.minutes + t2.minutes \n",
    "    s = t1.seconds + t2.seconds\n",
    "    \n",
    "    if s >= 60:\n",
    "        s -= 60\n",
    "        m += 1\n",
    "        \n",
    "    if m >= 60:\n",
    "        m -= 60\n",
    "        h += 1\n",
    "        \n",
    "    sum_t = MyTime(h, m, s)\n",
    "    return sum_t"
   ]
  },
  {
   "cell_type": "code",
   "execution_count": 168,
   "id": "d0c1f2a6",
   "metadata": {},
   "outputs": [],
   "source": [
    "# Modifiers Functions- modifies one or more of the objects it gets as parameters\n",
    "def increment(t, secs):\n",
    "    t.seconds >= secs\n",
    "    \n",
    "    if t.seconds >= 60:\n",
    "        t.seconds -= 60\n",
    "        t.minutes += 1\n",
    "        \n",
    "    if t.minutes >= 60:\n",
    "        t.minutes -= 60\n",
    "        t.hours += 1"
   ]
  },
  {
   "cell_type": "code",
   "execution_count": 169,
   "id": "1cebd87d",
   "metadata": {},
   "outputs": [],
   "source": [
    "# Better version\n",
    "def increment(t, secs):\n",
    "    t.seconds >= secs\n",
    "    \n",
    "    while t.seconds >= 60:\n",
    "        t.seconds -= 60\n",
    "        t.minutes += 1\n",
    "        \n",
    "    while t.minutes >= 60:\n",
    "        t.minutes -= 60\n",
    "        t.hours += 1"
   ]
  },
  {
   "cell_type": "code",
   "execution_count": 170,
   "id": "1381e81e",
   "metadata": {},
   "outputs": [],
   "source": [
    "# Put function as a method in the MyTime class\n",
    "class MyTime:\n",
    "    \n",
    "    def __init__(self, hrs=0, mins=0, secs=0):\n",
    "        \"\"\"Create a MyTime object initialised to hrs, mins, secs\"\"\"\n",
    "        self.hours = hrs\n",
    "        self.minutes = mins\n",
    "        self.seconds = secs\n",
    "        \n",
    "    def __str__(self):\n",
    "        \"\"\" Display the time object\"\"\"\n",
    "        \n",
    "        return '{0}:{1}:{2}'.format(self.hours, self.minutes, self.seconds)\n",
    "    \n",
    "    def increment(self, secs):\n",
    "        \"\"\" Increase the time (t) by (sec) seconds\"\"\"\n",
    "        \n",
    "        self.seconds >= secs\n",
    "\n",
    "        while self.seconds >= 60:\n",
    "            self.seconds -= 60\n",
    "            self.minutes += 1\n",
    "\n",
    "        while self.minutes >= 60:\n",
    "            self.minutes -= 60\n",
    "            self.hours += 1"
   ]
  },
  {
   "cell_type": "code",
   "execution_count": 171,
   "id": "dbfc15d0",
   "metadata": {},
   "outputs": [
    {
     "ename": "AttributeError",
     "evalue": "'MyTime' object has no attribute 'increment'",
     "output_type": "error",
     "traceback": [
      "\u001b[1;31m---------------------------------------------------------------------------\u001b[0m",
      "\u001b[1;31mAttributeError\u001b[0m                            Traceback (most recent call last)",
      "Cell \u001b[1;32mIn[171], line 1\u001b[0m\n\u001b[1;32m----> 1\u001b[0m current_time\u001b[38;5;241m.\u001b[39mincrement(\u001b[38;5;241m500\u001b[39m)\n",
      "\u001b[1;31mAttributeError\u001b[0m: 'MyTime' object has no attribute 'increment'"
     ]
    }
   ],
   "source": [
    "current_time.increment(500)"
   ]
  },
  {
   "cell_type": "code",
   "execution_count": 172,
   "id": "b339853f",
   "metadata": {},
   "outputs": [
    {
     "name": "stdout",
     "output_type": "stream",
     "text": [
      "9:14:30\n"
     ]
    }
   ],
   "source": [
    "print(current_time)"
   ]
  },
  {
   "cell_type": "code",
   "execution_count": 173,
   "id": "5d18fd2a",
   "metadata": {},
   "outputs": [],
   "source": [
    "# Update MyTime class- add method to convert to seconds\n",
    "class MyTime:\n",
    "    \n",
    "    def __init__(self, hrs=0, mins=0, secs=0):\n",
    "        \"\"\"Create a MyTime object initialised to hrs, mins, secs\"\"\"\n",
    "        self.hours = hrs\n",
    "        self.minutes = mins\n",
    "        self.seconds = secs\n",
    "        \n",
    "    def __str__(self):\n",
    "        \"\"\" Display the time object\"\"\"\n",
    "        \n",
    "        return '{0}:{1}:{2}'.format(self.hours, self.minutes, self.seconds)\n",
    "    \n",
    "    def increment(self, secs):\n",
    "        \"\"\" Increase the time (t) by (sec) seconds\"\"\"\n",
    "        \n",
    "        self.seconds >= secs\n",
    "\n",
    "        while self.seconds >= 60:\n",
    "            self.seconds -= 60\n",
    "            self.minutes += 1\n",
    "\n",
    "        while self.minutes >= 60:\n",
    "            self.minutes -= 60\n",
    "            self.hours += 1\n",
    "            \n",
    "    def to_seconds(self):\n",
    "        \"\"\" Return the number of seconds represented by this instance\"\"\"\n",
    "        \n",
    "        return self.hours * 3600 +self.minutes * 60 + self.seconds"
   ]
  },
  {
   "cell_type": "code",
   "execution_count": 174,
   "id": "8d4b7e8a",
   "metadata": {},
   "outputs": [],
   "source": [
    "# Rewrite the initialiser to normalise to base 60\n",
    "# Update MyTime class- add method to convert to seconds\n",
    "class MyTime:\n",
    "    \n",
    "    def __init__(self, hrs=0, mins=0, secs=0):\n",
    "        \"\"\" Create a new MyTime object initialised to hrs, mins, secs\n",
    "            The values of mins and secs may be outside of the range 0-59,\n",
    "            but the resulting MyTime object will be normalised\n",
    "        \"\"\"\n",
    "        \n",
    "        # Calculate total seconds to represent\n",
    "        totalsecs = hrs * 36000 + min * 60 + secs\n",
    "        self.hours = totalsecs // 3600\n",
    "        leftoversecs = totalsecs % 3600\n",
    "        self.minutes = leftoversecs // 60\n",
    "        self.seconds = leftoversecs % 60\n",
    "        \n",
    "    def __str__(self):\n",
    "        \"\"\" Display the time object\"\"\"\n",
    "        \n",
    "        return '{0}:{1}:{2}'.format(self.hours, self.minutes, self.seconds)\n",
    "    \n",
    "    def increment(self, secs):\n",
    "        \"\"\" Increase the time (t) by (sec) seconds\"\"\"\n",
    "        \n",
    "        self.seconds >= secs\n",
    "\n",
    "        while self.seconds >= 60:\n",
    "            self.seconds -= 60\n",
    "            self.minutes += 1\n",
    "\n",
    "        while self.minutes >= 60:\n",
    "            self.minutes -= 60\n",
    "            self.hours += 1\n",
    "            \n",
    "    def to_seconds(self):\n",
    "        \"\"\" Return the number of seconds represented by this instance\"\"\"\n",
    "        \n",
    "        return self.hours * 3600 +self.minutes * 60 + self.seconds"
   ]
  },
  {
   "cell_type": "code",
   "execution_count": 180,
   "id": "249f3ca9",
   "metadata": {},
   "outputs": [],
   "source": [
    "def add_time(t1, t2):\n",
    "    secs = t1.to_seconds() + t2.to_seconds()\n",
    "    return MyTime(0, 0, secs)"
   ]
  },
  {
   "cell_type": "code",
   "execution_count": 181,
   "id": "1902dd5f",
   "metadata": {},
   "outputs": [],
   "source": [
    "# Update MyTime class with `after` method\n",
    "# Rewrite the initialiser to normalise to base 60\n",
    "# Update MyTime class- add method to convert to seconds\n",
    "class MyTime:\n",
    "    \n",
    "    def __init__(self, hrs=0, mins=0, secs=0):\n",
    "        \"\"\" Create a new MyTime object initialised to hrs, mins, secs\n",
    "            The values of mins and secs may be outside of the range 0-59,\n",
    "            but the resulting MyTime object will be normalised\n",
    "        \"\"\"\n",
    "        \n",
    "        # Calculate total seconds to represent\n",
    "        totalsecs = hrs * 36000 + mins * 60 + secs\n",
    "        self.hours = totalsecs // 3600\n",
    "        leftoversecs = totalsecs % 3600\n",
    "        self.minutes = leftoversecs // 60\n",
    "        self.seconds = leftoversecs % 60\n",
    "        \n",
    "    def __str__(self):\n",
    "        \"\"\" Display the time object\"\"\"\n",
    "        \n",
    "        return '{0}:{1}:{2}'.format(self.hours, self.minutes, self.seconds)\n",
    "    \n",
    "    \n",
    "    def increment(self, secs):\n",
    "        \"\"\" Increase the time (t) by (sec) seconds\"\"\"\n",
    "        \n",
    "        self.seconds >= secs\n",
    "\n",
    "        while self.seconds >= 60:\n",
    "            self.seconds -= 60\n",
    "            self.minutes += 1\n",
    "\n",
    "        while self.minutes >= 60:\n",
    "            self.minutes -= 60\n",
    "            self.hours += 1\n",
    "            \n",
    "            \n",
    "    def to_seconds(self):\n",
    "        \"\"\" Return the number of seconds represented by this instance\"\"\"\n",
    "        \n",
    "        return self.hours * 3600 +self.minutes * 60 + self.seconds\n",
    "    \n",
    "    \n",
    "    def after(self, time2):\n",
    "        \"\"\" Return True if I am strictly greater than time2\"\"\"\n",
    "        if self.hours > time2.hours:\n",
    "            return True\n",
    "        if self.hours < time2.hours:\n",
    "            return False\n",
    "        \n",
    "        if self.minutes > time2.minutes:\n",
    "            return True\n",
    "        if self.minutes < time2.minutes:\n",
    "            return False\n",
    "        \n",
    "        if self.minutes > time2.minutes:\n",
    "            return True\n",
    "        \n",
    "        return False\n",
    "        "
   ]
  },
  {
   "cell_type": "code",
   "execution_count": 182,
   "id": "76963133",
   "metadata": {},
   "outputs": [],
   "source": [
    "current_time = MyTime(9, 14, 30)\n",
    "bread_time = MyTime(3, 35, 0)\n",
    "done_time = add_time(current_time, bread_time)"
   ]
  },
  {
   "cell_type": "code",
   "execution_count": 187,
   "id": "a325dac5",
   "metadata": {
    "scrolled": true
   },
   "outputs": [],
   "source": [
    "if current_time.after(done_time):\n",
    "    print('The bread will be done before it starts')"
   ]
  },
  {
   "cell_type": "code",
   "execution_count": 191,
   "id": "3ff9db16",
   "metadata": {},
   "outputs": [],
   "source": [
    "# Rewrite the `after` method\n",
    "# Update MyTime class with `after` method\n",
    "# Rewrite the initialiser to normalise to base 60\n",
    "# Update MyTime class- add method to convert to seconds\n",
    "class MyTime:\n",
    "    \n",
    "    def __init__(self, hrs=0, mins=0, secs=0):\n",
    "        \"\"\" Create a new MyTime object initialised to hrs, mins, secs\n",
    "            The values of mins and secs may be outside of the range 0-59,\n",
    "            but the resulting MyTime object will be normalised\n",
    "        \"\"\"\n",
    "        \n",
    "        # Calculate total seconds to represent\n",
    "        totalsecs = hrs * 3600 + mins * 60 + secs\n",
    "        self.hours = totalsecs // 3600\n",
    "        leftoversecs = totalsecs % 3600\n",
    "        self.minutes = leftoversecs // 60\n",
    "        self.seconds = leftoversecs % 60\n",
    "        \n",
    "    def __str__(self):\n",
    "        \"\"\" Display the time object\"\"\"\n",
    "        \n",
    "        return '{0}:{1}:{2}'.format(self.hours, self.minutes, self.seconds)\n",
    "    \n",
    "    \n",
    "    def increment(self, secs):\n",
    "        \"\"\" Increase the time (t) by (sec) seconds\"\"\"\n",
    "        \n",
    "        self.seconds >= secs\n",
    "\n",
    "        while self.seconds >= 60:\n",
    "            self.seconds -= 60\n",
    "            self.minutes += 1\n",
    "\n",
    "        while self.minutes >= 60:\n",
    "            self.minutes -= 60\n",
    "            self.hours += 1\n",
    "            \n",
    "            \n",
    "    def to_seconds(self):\n",
    "        \"\"\" Return the number of seconds represented by this instance\"\"\"\n",
    "        \n",
    "        return self.hours * 3600 +self.minutes * 60 + self.seconds\n",
    "    \n",
    "    \n",
    "    def after(self, time2):\n",
    "        \"\"\" Return True if I am strictly greater than time2\"\"\"\n",
    "   \n",
    "        return self.to_second() > time2.to_seconds()\n",
    "         "
   ]
  },
  {
   "cell_type": "markdown",
   "id": "9a6f2600",
   "metadata": {},
   "source": [
    "Some languages, including Python, make it possible to have different meanings for the same operator\n",
    "when applied to different types. For example, + in Python means quite different things for integers\n",
    "and for strings. This feature is called `operator overloading`."
   ]
  },
  {
   "cell_type": "code",
   "execution_count": 199,
   "id": "f5bca2fa",
   "metadata": {},
   "outputs": [],
   "source": [
    "# Update the MyTime class - add a operator overload for + with `__add__` method\n",
    "# Rewrite the `after` method\n",
    "# Update MyTime class with `after` method\n",
    "# Rewrite the initialiser to normalise to base 60\n",
    "# Update MyTime class- add method to convert to seconds\n",
    "class MyTime:\n",
    "    \n",
    "    def __init__(self, hrs=0, mins=0, secs=0):\n",
    "        \"\"\" Create a new MyTime object initialised to hrs, mins, secs\n",
    "            The values of mins and secs may be outside of the range 0-59,\n",
    "            but the resulting MyTime object will be normalised\n",
    "        \"\"\"\n",
    "        \n",
    "        # Calculate total seconds to represent\n",
    "        totalsecs = hrs * 3600 + mins * 60 + secs\n",
    "        self.hours = totalsecs // 3600\n",
    "        leftoversecs = totalsecs % 3600\n",
    "        self.minutes = leftoversecs // 60\n",
    "        self.seconds = leftoversecs % 60\n",
    "        \n",
    "    def __str__(self):\n",
    "        \"\"\" Display the time object\"\"\"\n",
    "        \n",
    "        return '{0}:{1}:{2}'.format(self.hours, self.minutes, self.seconds)\n",
    "    \n",
    "    \n",
    "    def increment(self, secs):\n",
    "        \"\"\" Increase the time (t) by (sec) seconds\"\"\"\n",
    "        \n",
    "        self.seconds >= secs\n",
    "\n",
    "        while self.seconds >= 60:\n",
    "            self.seconds -= 60\n",
    "            self.minutes += 1\n",
    "\n",
    "        while self.minutes >= 60:\n",
    "            self.minutes -= 60\n",
    "            self.hours += 1\n",
    "            \n",
    "            \n",
    "    def to_seconds(self):\n",
    "        \"\"\" Return the number of seconds represented by this instance\"\"\"\n",
    "        \n",
    "        return self.hours * 3600 + self.minutes * 60 + self.seconds\n",
    "    \n",
    "    \n",
    "    def after(self, time2):\n",
    "        \"\"\" Return True if I am strictly greater than time2\"\"\"\n",
    "   \n",
    "        return self.to_second() > time2.to_seconds()\n",
    "\n",
    "\n",
    "    def __add__(self, other):\n",
    "        \"\"\" Add a MyTime object (other) to instantiated object\"\"\"\n",
    "        \n",
    "        return MyTime(0, 0, self.to_seconds() + other.to_seconds())\n",
    "    \n",
    "    \n",
    "    def __sub__(self, other):\n",
    "        \"\"\" Substracts a MyTime object (other) from instantiated object\"\"\"\n",
    "\n",
    "        return MyTime(0, 0, self.to_seconds() - other.to_seconds())"
   ]
  },
  {
   "cell_type": "code",
   "execution_count": 200,
   "id": "79f8faf0",
   "metadata": {},
   "outputs": [
    {
     "name": "stdout",
     "output_type": "stream",
     "text": [
      "5:6:12\n"
     ]
    }
   ],
   "source": [
    "t1 = MyTime(1, 15, 42)\n",
    "t2 = MyTime(3, 50,30)\n",
    "t3 = t1 + t2\n",
    "print(t3)"
   ]
  },
  {
   "cell_type": "code",
   "execution_count": 201,
   "id": "5e13cd78",
   "metadata": {},
   "outputs": [
    {
     "name": "stdout",
     "output_type": "stream",
     "text": [
      "-3:25:12\n"
     ]
    }
   ],
   "source": [
    "t4 = t1 - t2\n",
    "print(t4)"
   ]
  },
  {
   "cell_type": "code",
   "execution_count": 205,
   "id": "18a2a0fd",
   "metadata": {},
   "outputs": [],
   "source": [
    "# Update the Point class with another method that overloads some of its operators\n",
    "class Point:\n",
    "    \"\"\" Point class represents and manipulates x, y coords\"\"\"\n",
    "    \n",
    "    def __init__(self, x=0, y=0):\n",
    "        \"\"\" Create a new point at x, y\"\"\"\n",
    "        self.x = x  # options x and y are optional, if not supplied the default values of 0 is returned.\n",
    "        self.y = y\n",
    "        \n",
    "        \n",
    "    def distance_from_origin(self):\n",
    "        \"\"\" Compute the distance from the origin\"\"\"\n",
    "        return ((self.x ** 2) + (self.y ** 2)) ** 0.5\n",
    "    \n",
    "    \n",
    "    def __str__(self):\n",
    "        \"\"\" To return point as a string\"\"\"\n",
    "        return '({0}, {1})'.format(self.x, self.y)\n",
    "    \n",
    "    \n",
    "    def halfway(self, target):\n",
    "        \"\"\" Return the halfway point between myself and target\"\"\"\n",
    "        mx = (self.x + target.x)/2\n",
    "        my = (self.y + target.y)/2\n",
    "        return Point(mx, my)\n",
    "    \n",
    "    \n",
    "    def reflect_x(self):\n",
    "        \"\"\" Return the reflection Point about x-axis \"\"\"\n",
    "        rx = self.x\n",
    "        ry = -self.y\n",
    "        return print(Point(rx, ry))\n",
    "    \n",
    "    \n",
    "    def __add__(self, other):\n",
    "        \"\"\" Adds a point(other) to the instantiated object by adding their respective(x, y) coordinates\"\"\"\n",
    "        \n",
    "        return Point(self.x + other.x, self.y + other.y)\n",
    "    \n",
    "    \n",
    "    def __mul__(self, other):\n",
    "        \"\"\" Does a dot product of the (x,y) coordinates of both points\"\"\"\n",
    "        \n",
    "        return self.x * other.x + self.y * other.y\n",
    "    \n",
    "    \n",
    "    def __rmul__(self, other):\n",
    "        \"\"\" Does a scalar multiplication when the left side of * is a primitive type and\n",
    "            the right side is a Point.\n",
    "            Returns: new Point whose coordinates are a multiple of the original coordinates\n",
    "        \"\"\"\n",
    "        \n",
    "        return Point( other * self.x, other * self.y)"
   ]
  },
  {
   "cell_type": "code",
   "execution_count": 206,
   "id": "5189c79a",
   "metadata": {},
   "outputs": [
    {
     "name": "stdout",
     "output_type": "stream",
     "text": [
      "43\n"
     ]
    }
   ],
   "source": [
    "p1 = Point(3, 4)\n",
    "p2 = Point(5, 7)\n",
    "print(p1 * p2)"
   ]
  },
  {
   "cell_type": "code",
   "execution_count": 207,
   "id": "e0da81e0",
   "metadata": {},
   "outputs": [
    {
     "name": "stdout",
     "output_type": "stream",
     "text": [
      "(10, 14)\n"
     ]
    }
   ],
   "source": [
    "print(2 * p2)"
   ]
  },
  {
   "cell_type": "code",
   "execution_count": 208,
   "id": "21534860",
   "metadata": {},
   "outputs": [
    {
     "ename": "AttributeError",
     "evalue": "'int' object has no attribute 'x'",
     "output_type": "error",
     "traceback": [
      "\u001b[1;31m---------------------------------------------------------------------------\u001b[0m",
      "\u001b[1;31mAttributeError\u001b[0m                            Traceback (most recent call last)",
      "Cell \u001b[1;32mIn[208], line 1\u001b[0m\n\u001b[1;32m----> 1\u001b[0m \u001b[38;5;28mprint\u001b[39m(p2 \u001b[38;5;241m*\u001b[39m \u001b[38;5;241m2\u001b[39m)\n",
      "Cell \u001b[1;32mIn[205], line 44\u001b[0m, in \u001b[0;36mPoint.__mul__\u001b[1;34m(self, other)\u001b[0m\n\u001b[0;32m     41\u001b[0m \u001b[38;5;28;01mdef\u001b[39;00m \u001b[38;5;21m__mul__\u001b[39m(\u001b[38;5;28mself\u001b[39m, other):\n\u001b[0;32m     42\u001b[0m \u001b[38;5;250m    \u001b[39m\u001b[38;5;124;03m\"\"\" Does a dot product of the (x,y) coordinates of both points\"\"\"\u001b[39;00m\n\u001b[1;32m---> 44\u001b[0m     \u001b[38;5;28;01mreturn\u001b[39;00m \u001b[38;5;28mself\u001b[39m\u001b[38;5;241m.\u001b[39mx \u001b[38;5;241m*\u001b[39m other\u001b[38;5;241m.\u001b[39mx \u001b[38;5;241m+\u001b[39m \u001b[38;5;28mself\u001b[39m\u001b[38;5;241m.\u001b[39my \u001b[38;5;241m*\u001b[39m other\u001b[38;5;241m.\u001b[39my\n",
      "\u001b[1;31mAttributeError\u001b[0m: 'int' object has no attribute 'x'"
     ]
    }
   ],
   "source": [
    "print(p2 * 2)"
   ]
  },
  {
   "cell_type": "markdown",
   "id": "d91d463d",
   "metadata": {},
   "source": [
    "Unfortunately, the error message is a bit opaque. This example demonstrates some of the difficulties\n",
    "of object-oriented programming. Sometimes it is hard enough just to figure out what code is running.\n",
    "\n",
    "Since the first parameter is a `Point`, Python invokes\n",
    "`__mul__` with 2 as the second argument. Inside `__mul__`, the program tries to access the x coordinate\n",
    "of other, which fails because an integer has no attributes:"
   ]
  },
  {
   "cell_type": "code",
   "execution_count": 209,
   "id": "27c612ff",
   "metadata": {},
   "outputs": [],
   "source": [
    "# Polymorphism\n",
    "def multadd(x, y, z):\n",
    "    return  x * y + z"
   ]
  },
  {
   "cell_type": "code",
   "execution_count": 210,
   "id": "5c6d602d",
   "metadata": {},
   "outputs": [
    {
     "data": {
      "text/plain": [
       "7"
      ]
     },
     "execution_count": 210,
     "metadata": {},
     "output_type": "execute_result"
    }
   ],
   "source": [
    "multadd(3, 2, 1)"
   ]
  },
  {
   "cell_type": "code",
   "execution_count": 211,
   "id": "1ee7f2b9",
   "metadata": {},
   "outputs": [
    {
     "name": "stdout",
     "output_type": "stream",
     "text": [
      "(11, 15)\n"
     ]
    }
   ],
   "source": [
    "p1 = Point(3, 4)\n",
    "p2 = Point(5, 7)\n",
    "\n",
    "print(multadd(2, p1, p2))"
   ]
  },
  {
   "cell_type": "code",
   "execution_count": 212,
   "id": "09518bab",
   "metadata": {},
   "outputs": [
    {
     "name": "stdout",
     "output_type": "stream",
     "text": [
      "45\n"
     ]
    }
   ],
   "source": [
    "print(multadd(p1, p2, 2))"
   ]
  },
  {
   "cell_type": "markdown",
   "id": "30fdcfee",
   "metadata": {},
   "source": [
    "In the first case, the Point is multiplied by a scalar and then added to another Point. In the second\n",
    "case, the dot product yields a numeric value, so the third parameter also has to be a numeric value.\n",
    "A function like this that can take arguments with different types is called `polymorphic`."
   ]
  },
  {
   "cell_type": "code",
   "execution_count": 214,
   "id": "2f520bda",
   "metadata": {},
   "outputs": [],
   "source": [
    "def front_and_back(front):\n",
    "    import copy\n",
    "    back = copy.copy(front)\n",
    "    back.reverse()\n",
    "    print(str(front) + str(back))"
   ]
  },
  {
   "cell_type": "code",
   "execution_count": 215,
   "id": "8fcd7c06",
   "metadata": {},
   "outputs": [
    {
     "name": "stdout",
     "output_type": "stream",
     "text": [
      "[1, 2, 3, 4][4, 3, 2, 1]\n"
     ]
    }
   ],
   "source": [
    "my_list = [1, 2, 3, 4]\n",
    "front_and_back(my_list)"
   ]
  },
  {
   "cell_type": "markdown",
   "id": "7e54cc05",
   "metadata": {},
   "source": [
    "**Chapter  23: Collection of Objects**"
   ]
  },
  {
   "cell_type": "code",
   "execution_count": 1,
   "id": "2a722558",
   "metadata": {},
   "outputs": [],
   "source": [
    "## SUITS\n",
    "# Spades --> 3\n",
    "# Hearts --> 2\n",
    "# Diamonds --> 1\n",
    "# Clubs --> 0\n",
    "\n",
    "## RANKS\n",
    "# Jack --> 11\n",
    "# Queen --> 12\n",
    "# King --> 13\n",
    "\n",
    "class Card:\n",
    "    def __init__(self, suit=0, rank=0):\n",
    "        self.suit = suit\n",
    "        self.rank = rank"
   ]
  },
  {
   "cell_type": "code",
   "execution_count": 2,
   "id": "956bdf33",
   "metadata": {},
   "outputs": [],
   "source": [
    "# 3 of clubs\n",
    "three_of_clubs = Card(0, 3)\n",
    "\n",
    "# Jack of Diamonds\n",
    "card1 = Card(1, 11)"
   ]
  },
  {
   "cell_type": "code",
   "execution_count": 3,
   "id": "c97870da",
   "metadata": {},
   "outputs": [],
   "source": [
    "# Update the `Card` class with a list of strings for the mapping\n",
    "class Card:\n",
    "    suits = ['Clubs', \"Diamonds\", 'Hearts', 'Spades']\n",
    "    ranks = ['narf', 'Ace', '2', '3', '4', '5', '6', '7', '8',\n",
    "                '9', '10', 'Jack', 'Queen', 'King']\n",
    "    \n",
    "    \n",
    "    def __init__(self, suit=0, rank=0):\n",
    "        self.suit = suit\n",
    "        self.rank = rank\n",
    "        \n",
    "    \n",
    "    def __str__(self):\n",
    "        return(self.ranks[self.rank] + ' of ' + self.suits[self.suit])"
   ]
  },
  {
   "cell_type": "markdown",
   "id": "bca4839d",
   "metadata": {},
   "source": [
    "A class attribute is defined outside of any method, and it can be accessed from any of the methods in the class."
   ]
  },
  {
   "cell_type": "code",
   "execution_count": 5,
   "id": "76966078",
   "metadata": {},
   "outputs": [
    {
     "name": "stdout",
     "output_type": "stream",
     "text": [
      "Jack of Diamonds\n"
     ]
    }
   ],
   "source": [
    "card1 = Card(1 ,11)\n",
    "print(card1)"
   ]
  },
  {
   "cell_type": "code",
   "execution_count": 6,
   "id": "86c6a3f9",
   "metadata": {},
   "outputs": [
    {
     "name": "stdout",
     "output_type": "stream",
     "text": [
      "3 of Diamonds\n"
     ]
    }
   ],
   "source": [
    "card2 = Card(1, 3)\n",
    "print(card2)"
   ]
  },
  {
   "cell_type": "code",
   "execution_count": 7,
   "id": "38ac9c19",
   "metadata": {},
   "outputs": [
    {
     "name": "stdout",
     "output_type": "stream",
     "text": [
      "Diamonds\n"
     ]
    }
   ],
   "source": [
    "print(card2.suits[1])"
   ]
  },
  {
   "cell_type": "markdown",
   "id": "4918a8bb",
   "metadata": {},
   "source": [
    "If we modify a class attribute, it affects every instance of the class."
   ]
  },
  {
   "cell_type": "code",
   "execution_count": 8,
   "id": "ed9865a4",
   "metadata": {},
   "outputs": [
    {
     "name": "stdout",
     "output_type": "stream",
     "text": [
      "Jack of Swirley Whales\n"
     ]
    }
   ],
   "source": [
    "card1.suits[1] = 'Swirley Whales'\n",
    "print(card1)"
   ]
  },
  {
   "cell_type": "code",
   "execution_count": 9,
   "id": "2150e9e2",
   "metadata": {},
   "outputs": [
    {
     "name": "stdout",
     "output_type": "stream",
     "text": [
      "3 of Swirley Whales\n"
     ]
    }
   ],
   "source": [
    "# All of the Diamonds just became Swirley Whales\n",
    "\n",
    "print(card2)"
   ]
  },
  {
   "cell_type": "code",
   "execution_count": 22,
   "id": "f01ada37",
   "metadata": {},
   "outputs": [],
   "source": [
    "def cmp(self, other):\n",
    "    # Check the suits\n",
    "    if self.suit > other.suit: return 1\n",
    "    if elf.suit < other.suit: return -1\n",
    "    \n",
    "    # Suits are the same... check ranks\n",
    "    if self.rank > other.rank: return 1\n",
    "    if self.rank < other.rank: return -1\n",
    "    \n",
    "    # Ranks are the same ... it's a tie\n",
    "    return 0"
   ]
  },
  {
   "cell_type": "markdown",
   "id": "e2da0e66",
   "metadata": {},
   "source": [
    "Now, we can define the six special methods that do the overloading of each of the relational operators\n",
    "for us:"
   ]
  },
  {
   "cell_type": "code",
   "execution_count": 39,
   "id": "367c757d",
   "metadata": {},
   "outputs": [],
   "source": [
    "# Update the `Card` class with the comparison operands overloading\n",
    "class Card:\n",
    "    suits = ['Clubs', \"Diamonds\", 'Hearts', 'Spades']\n",
    "    ranks = ['narf', 'Ace', '2', '3', '4', '5', '6', '7', '8',\n",
    "                '9', '10', 'Jack', 'Queen', 'King']\n",
    "    \n",
    "    \n",
    "    def __init__(self, suit=0, rank=0):\n",
    "        self.suit = suit\n",
    "        self.rank = rank\n",
    "        \n",
    "    def cmp(self, other):\n",
    "        # Check the suits\n",
    "        if self.suit > other.suit: return 1\n",
    "        if self.suit < other.suit: return -1\n",
    "    \n",
    "    # Suits are the same... check ranks\n",
    "        if self.rank > other.rank: return 1\n",
    "        if self.rank < other.rank: return -1\n",
    "    \n",
    "    # Ranks are the same ... it's a tie\n",
    "        return 0\n",
    "    def __str__(self):\n",
    "        return(self.ranks[self.rank] + ' of ' + self.suits[self.suit])\n",
    "\n",
    "    def __eq__(self, other):\n",
    "        return self.cmp(other) == 0\n",
    "\n",
    "\n",
    "    def __le__(self, other):\n",
    "        return self.cmp(other) <= 0\n",
    "\n",
    "\n",
    "    def __ge__(self, other):\n",
    "        return self.cmp(other) >= 0\n",
    "\n",
    "\n",
    "    def __gt__(self, other):\n",
    "        return self.cmp(other) > 0\n",
    "\n",
    "\n",
    "    def __lt__(self, other):\n",
    "        return self.cmp(other) < 0\n",
    "\n",
    "\n",
    "    def __ne_(self, other):\n",
    "        return self.cmp(other) != 0"
   ]
  },
  {
   "cell_type": "code",
   "execution_count": 40,
   "id": "f5802d34",
   "metadata": {},
   "outputs": [],
   "source": [
    "card1 = Card(1, 11)\n",
    "card2 = Card(1, 3)\n",
    "card3 = Card(1, 11)"
   ]
  },
  {
   "cell_type": "code",
   "execution_count": 41,
   "id": "1d89884a",
   "metadata": {},
   "outputs": [
    {
     "data": {
      "text/plain": [
       "True"
      ]
     },
     "execution_count": 41,
     "metadata": {},
     "output_type": "execute_result"
    }
   ],
   "source": [
    "card1 >= card2"
   ]
  },
  {
   "cell_type": "code",
   "execution_count": 27,
   "id": "72f97162",
   "metadata": {},
   "outputs": [
    {
     "name": "stdout",
     "output_type": "stream",
     "text": [
      "Jack of Diamonds\n"
     ]
    }
   ],
   "source": [
    "print(card1)"
   ]
  },
  {
   "cell_type": "code",
   "execution_count": 28,
   "id": "94e8f191",
   "metadata": {},
   "outputs": [
    {
     "name": "stdout",
     "output_type": "stream",
     "text": [
      "3 of Diamonds\n"
     ]
    }
   ],
   "source": [
    "print(card2)"
   ]
  },
  {
   "cell_type": "code",
   "execution_count": 29,
   "id": "8ff24f4f",
   "metadata": {},
   "outputs": [
    {
     "data": {
      "text/plain": [
       "False"
      ]
     },
     "execution_count": 29,
     "metadata": {},
     "output_type": "execute_result"
    }
   ],
   "source": [
    "card1 == card2"
   ]
  },
  {
   "cell_type": "code",
   "execution_count": null,
   "id": "bf8f705a",
   "metadata": {},
   "outputs": [],
   "source": []
  },
  {
   "cell_type": "code",
   "execution_count": null,
   "id": "32cab1ae",
   "metadata": {},
   "outputs": [],
   "source": []
  },
  {
   "cell_type": "code",
   "execution_count": null,
   "id": "77e39b9c",
   "metadata": {},
   "outputs": [],
   "source": []
  },
  {
   "cell_type": "markdown",
   "id": "df75d098",
   "metadata": {},
   "source": [
    "**Decks of cards**"
   ]
  },
  {
   "cell_type": "code",
   "execution_count": 42,
   "id": "03cdcff8",
   "metadata": {},
   "outputs": [],
   "source": [
    "class Deck:\n",
    "    def __init__(self):\n",
    "        self.cards = []\n",
    "        for suit in range(4): # Outer loop enumerates the suits - 4 times\n",
    "            for rank in range(1, 14): # Inner loop enumerates the ranks - 13 times\n",
    "                self.cards.append(Card(suit, rank))   # 52 cards (4 x 13)"
   ]
  },
  {
   "cell_type": "code",
   "execution_count": 60,
   "id": "7862d34c",
   "metadata": {},
   "outputs": [],
   "source": [
    "red_deck = Deck()\n",
    "blue_deck = Deck()"
   ]
  },
  {
   "cell_type": "code",
   "execution_count": 69,
   "id": "54b0ddd1",
   "metadata": {},
   "outputs": [],
   "source": [
    "# Update the Deck class t=with method to print the deck of cards\n",
    "class Deck:\n",
    "    def __init__(self):\n",
    "        self.cards = []\n",
    "        for suit in range(4): # Outer loop enumerates the suits - 4 times\n",
    "            for rank in range(1, 14): # Inner loop enumerates the ranks - 13 times\n",
    "                self.cards.append(Card(suit, rank))   # 52 cards (4 x 13)\n",
    "\n",
    "                \n",
    "#     def print_deck(self):\n",
    "#         for card in self.cards:\n",
    "#             print(card)\n",
    "\n",
    "    def __str__(self):\n",
    "        s = \" \"\n",
    "        for i in range(len(self.cards)):\n",
    "            s = s + \" \" * i + str(self.cards[i]) + '\\n'\n",
    "        return s"
   ]
  },
  {
   "cell_type": "code",
   "execution_count": 70,
   "id": "a8802f71",
   "metadata": {},
   "outputs": [],
   "source": [
    "red_deck = Deck()\n",
    "blue_deck = Deck()"
   ]
  },
  {
   "cell_type": "code",
   "execution_count": 71,
   "id": "8fc3e86e",
   "metadata": {},
   "outputs": [
    {
     "name": "stdout",
     "output_type": "stream",
     "text": [
      " Ace of Clubs\n",
      " 2 of Clubs\n",
      "  3 of Clubs\n",
      "   4 of Clubs\n",
      "    5 of Clubs\n",
      "     6 of Clubs\n",
      "      7 of Clubs\n",
      "       8 of Clubs\n",
      "        9 of Clubs\n",
      "         10 of Clubs\n",
      "          Jack of Clubs\n",
      "           Queen of Clubs\n",
      "            King of Clubs\n",
      "             Ace of Diamonds\n",
      "              2 of Diamonds\n",
      "               3 of Diamonds\n",
      "                4 of Diamonds\n",
      "                 5 of Diamonds\n",
      "                  6 of Diamonds\n",
      "                   7 of Diamonds\n",
      "                    8 of Diamonds\n",
      "                     9 of Diamonds\n",
      "                      10 of Diamonds\n",
      "                       Jack of Diamonds\n",
      "                        Queen of Diamonds\n",
      "                         King of Diamonds\n",
      "                          Ace of Hearts\n",
      "                           2 of Hearts\n",
      "                            3 of Hearts\n",
      "                             4 of Hearts\n",
      "                              5 of Hearts\n",
      "                               6 of Hearts\n",
      "                                7 of Hearts\n",
      "                                 8 of Hearts\n",
      "                                  9 of Hearts\n",
      "                                   10 of Hearts\n",
      "                                    Jack of Hearts\n",
      "                                     Queen of Hearts\n",
      "                                      King of Hearts\n",
      "                                       Ace of Spades\n",
      "                                        2 of Spades\n",
      "                                         3 of Spades\n",
      "                                          4 of Spades\n",
      "                                           5 of Spades\n",
      "                                            6 of Spades\n",
      "                                             7 of Spades\n",
      "                                              8 of Spades\n",
      "                                               9 of Spades\n",
      "                                                10 of Spades\n",
      "                                                 Jack of Spades\n",
      "                                                  Queen of Spades\n",
      "                                                   King of Spades\n",
      "\n"
     ]
    }
   ],
   "source": [
    "print(red_deck)"
   ]
  },
  {
   "cell_type": "code",
   "execution_count": 5,
   "id": "da60a874",
   "metadata": {},
   "outputs": [],
   "source": [
    "# Update the Deck class with method to shuffle the deck of cards\n",
    "class Deck:\n",
    "    def __init__(self):\n",
    "        self.cards = []\n",
    "        for suit in range(4): # Outer loop enumerates the suits - 4 times\n",
    "            for rank in range(1, 14): # Inner loop enumerates the ranks - 13 times\n",
    "                self.cards.append(Card(suit, rank))   # 52 cards (4 x 13)\n",
    "\n",
    "                \n",
    "#     def print_deck(self):\n",
    "#         for card in self.cards:\n",
    "#             print(card)\n",
    "\n",
    "    def __str__(self):\n",
    "        s = \" \"\n",
    "        for i in range(len(self.cards)):\n",
    "            s = s + \" \" * i + str(self.cards[i]) + '\\n'\n",
    "        return s\n",
    "    \n",
    "    \n",
    "    def shuffle(self):\n",
    "        import random\n",
    "        rng = random.Random()   # Create a random generator\n",
    "        num_cards = len(self.cards)\n",
    "        for i in range(num_cards):\n",
    "            j = rng.randrange(i, num_cards)\n",
    "            (self.cards[i], self.cards[j]) = (self.cards[j], self.cards[i])\n",
    "            \n",
    "    # Another shuffle method using random().shuffle\n",
    "    def shuffle_rng(self):\n",
    "        import random\n",
    "        rng = random.Random()    # Create a random generator\n",
    "        rng.shuffle(self.cards)   # Use its shuffle method\n"
   ]
  },
  {
   "cell_type": "code",
   "execution_count": 6,
   "id": "fd304f2e",
   "metadata": {},
   "outputs": [],
   "source": [
    "# Update the Deck class with method to remove and deal cards\n",
    "# Update the Deck class with method to shuffle the deck of cards\n",
    "class Deck:\n",
    "    def __init__(self):\n",
    "        self.cards = []\n",
    "        for suit in range(4): # Outer loop enumerates the suits - 4 times\n",
    "            for rank in range(1, 14): # Inner loop enumerates the ranks - 13 times\n",
    "                self.cards.append(Card(suit, rank))   # 52 cards (4 x 13)\n",
    "\n",
    "                \n",
    "#     def print_deck(self):\n",
    "#         for card in self.cards:\n",
    "#             print(card)\n",
    "\n",
    "\n",
    "    def __str__(self):\n",
    "        s = \" \"\n",
    "        for i in range(len(self.cards)):\n",
    "            s = s + \" \" * i + str(self.cards[i]) + '\\n'\n",
    "        return s\n",
    "    \n",
    "    \n",
    "    def shuffle(self):\n",
    "        import random\n",
    "        rng = random.Random()   # Create a random generator\n",
    "        num_cards = len(self.cards)\n",
    "        for i in range(num_cards):\n",
    "            j = rng.randrange(i, num_cards)\n",
    "            (self.cards[i], self.cards[j]) = (self.cards[j], self.cards[i])\n",
    "      \n",
    "    \n",
    "    # Another shuffle method using random().shuffle\n",
    "    def shuffle_rng(self):\n",
    "        import random\n",
    "        rng = random.Random()    # Create a random generator\n",
    "        rng.shuffle(self.cards)   # Use its shuffle method\n",
    "\n",
    "        \n",
    "    def remove(self, card):\n",
    "        if card in self.cards:\n",
    "            self.cards.remove(card)\n",
    "            return True\n",
    "        else:\n",
    "            return False\n",
    "        \n",
    "        \n",
    "    def pop(self): # removes the last card - deal from the back\n",
    "        return self.cards.pop()\n",
    "    \n",
    "    \n",
    "    def is_empty(self):\n",
    "        return self.cards == []"
   ]
  },
  {
   "cell_type": "markdown",
   "id": "8d8370bc",
   "metadata": {},
   "source": [
    "The `Card` `Deck` classes will be utilised in the `card.py` file which in the same directory as this jupyter noteboook\n",
    "\n",
    "Additional classes (`OldMaidHand` ,`OldMaidGame`  are built in `card.py` and imported for use below"
   ]
  },
  {
   "cell_type": "code",
   "execution_count": 7,
   "id": "7414dbb5",
   "metadata": {},
   "outputs": [],
   "source": [
    "import card"
   ]
  },
  {
   "cell_type": "code",
   "execution_count": 8,
   "id": "cdb394db",
   "metadata": {},
   "outputs": [],
   "source": [
    "game = OldMaidGame()\n",
    "game.play(['Allen', 'Jeff', 'Chris'])"
   ]
  },
  {
   "cell_type": "markdown",
   "id": "9ea87c76",
   "metadata": {},
   "source": [
    "**Chapter 25: Linked List**"
   ]
  },
  {
   "cell_type": "code",
   "execution_count": null,
   "id": "50589457",
   "metadata": {},
   "outputs": [],
   "source": []
  }
 ],
 "metadata": {
  "kernelspec": {
   "display_name": "Python 3 (ipykernel)",
   "language": "python",
   "name": "python3"
  },
  "language_info": {
   "codemirror_mode": {
    "name": "ipython",
    "version": 3
   },
   "file_extension": ".py",
   "mimetype": "text/x-python",
   "name": "python",
   "nbconvert_exporter": "python",
   "pygments_lexer": "ipython3",
   "version": "3.11.3"
  },
  "toc": {
   "base_numbering": 1,
   "nav_menu": {},
   "number_sections": true,
   "sideBar": true,
   "skip_h1_title": true,
   "title_cell": "Table of Contents",
   "title_sidebar": "Contents",
   "toc_cell": false,
   "toc_position": {},
   "toc_section_display": true,
   "toc_window_display": false
  }
 },
 "nbformat": 4,
 "nbformat_minor": 5
}
