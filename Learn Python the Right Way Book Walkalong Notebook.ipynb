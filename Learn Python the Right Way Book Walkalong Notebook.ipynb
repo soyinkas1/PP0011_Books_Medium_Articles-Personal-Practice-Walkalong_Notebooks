{
 "cells": [
  {
   "cell_type": "code",
   "execution_count": 19,
   "id": "1c94d6e5",
   "metadata": {},
   "outputs": [],
   "source": [
    "import turtle\n",
    "wn = turtle.Screen()"
   ]
  },
  {
   "cell_type": "code",
   "execution_count": 20,
   "id": "d333d390",
   "metadata": {
    "scrolled": true
   },
   "outputs": [],
   "source": [
    "alex = turtle.Turtle()"
   ]
  },
  {
   "cell_type": "code",
   "execution_count": 21,
   "id": "869c9900",
   "metadata": {},
   "outputs": [],
   "source": [
    "alex.forward(50)"
   ]
  },
  {
   "cell_type": "code",
   "execution_count": 22,
   "id": "04224c0a",
   "metadata": {},
   "outputs": [],
   "source": [
    "alex.left(90)"
   ]
  },
  {
   "cell_type": "code",
   "execution_count": 23,
   "id": "398d8d0c",
   "metadata": {},
   "outputs": [],
   "source": [
    "alex.forward(30)\n",
    "alex.write('hekk')"
   ]
  },
  {
   "cell_type": "code",
   "execution_count": 24,
   "id": "0353a2d1",
   "metadata": {},
   "outputs": [],
   "source": [
    "wn.title('hello')"
   ]
  },
  {
   "cell_type": "code",
   "execution_count": 25,
   "id": "d7070335",
   "metadata": {},
   "outputs": [],
   "source": [
    "color = 'blue'\n",
    "alex.color(color.strip())"
   ]
  },
  {
   "cell_type": "code",
   "execution_count": 26,
   "id": "b488ccd4",
   "metadata": {},
   "outputs": [],
   "source": [
    "wn.mainloop()"
   ]
  },
  {
   "cell_type": "code",
   "execution_count": 27,
   "id": "78cce6f4",
   "metadata": {},
   "outputs": [
    {
     "ename": "Terminator",
     "evalue": "",
     "output_type": "error",
     "traceback": [
      "\u001b[1;31m---------------------------------------------------------------------------\u001b[0m",
      "\u001b[1;31mTerminator\u001b[0m                                Traceback (most recent call last)",
      "Cell \u001b[1;32mIn[27], line 14\u001b[0m\n\u001b[0;32m     11\u001b[0m wn \u001b[38;5;241m=\u001b[39m turtle\u001b[38;5;241m.\u001b[39mScreen()\n\u001b[0;32m     12\u001b[0m wn\u001b[38;5;241m.\u001b[39mbgcolor(\u001b[38;5;124m'\u001b[39m\u001b[38;5;124mlightgreen\u001b[39m\u001b[38;5;124m'\u001b[39m)\n\u001b[1;32m---> 14\u001b[0m tess \u001b[38;5;241m=\u001b[39m turtle\u001b[38;5;241m.\u001b[39mTurtle()\n\u001b[0;32m     15\u001b[0m tess\u001b[38;5;241m.\u001b[39mpensize(\u001b[38;5;241m3\u001b[39m)\n\u001b[0;32m     17\u001b[0m size \u001b[38;5;241m=\u001b[39m \u001b[38;5;241m20\u001b[39m\n",
      "File \u001b[1;32m~\\anaconda3\\Lib\\turtle.py:3831\u001b[0m, in \u001b[0;36mTurtle.__init__\u001b[1;34m(self, shape, undobuffersize, visible)\u001b[0m\n\u001b[0;32m   3829\u001b[0m \u001b[38;5;28;01mif\u001b[39;00m Turtle\u001b[38;5;241m.\u001b[39m_screen \u001b[38;5;129;01mis\u001b[39;00m \u001b[38;5;28;01mNone\u001b[39;00m:\n\u001b[0;32m   3830\u001b[0m     Turtle\u001b[38;5;241m.\u001b[39m_screen \u001b[38;5;241m=\u001b[39m Screen()\n\u001b[1;32m-> 3831\u001b[0m RawTurtle\u001b[38;5;241m.\u001b[39m\u001b[38;5;21m__init__\u001b[39m(\u001b[38;5;28mself\u001b[39m, Turtle\u001b[38;5;241m.\u001b[39m_screen,\n\u001b[0;32m   3832\u001b[0m                    shape\u001b[38;5;241m=\u001b[39mshape,\n\u001b[0;32m   3833\u001b[0m                    undobuffersize\u001b[38;5;241m=\u001b[39mundobuffersize,\n\u001b[0;32m   3834\u001b[0m                    visible\u001b[38;5;241m=\u001b[39mvisible)\n",
      "File \u001b[1;32m~\\anaconda3\\Lib\\turtle.py:2558\u001b[0m, in \u001b[0;36mRawTurtle.__init__\u001b[1;34m(self, canvas, shape, undobuffersize, visible)\u001b[0m\n\u001b[0;32m   2556\u001b[0m \u001b[38;5;28mself\u001b[39m\u001b[38;5;241m.\u001b[39m_undobuffersize \u001b[38;5;241m=\u001b[39m undobuffersize\n\u001b[0;32m   2557\u001b[0m \u001b[38;5;28mself\u001b[39m\u001b[38;5;241m.\u001b[39mundobuffer \u001b[38;5;241m=\u001b[39m Tbuffer(undobuffersize)\n\u001b[1;32m-> 2558\u001b[0m \u001b[38;5;28mself\u001b[39m\u001b[38;5;241m.\u001b[39m_update()\n",
      "File \u001b[1;32m~\\anaconda3\\Lib\\turtle.py:2661\u001b[0m, in \u001b[0;36mRawTurtle._update\u001b[1;34m(self)\u001b[0m\n\u001b[0;32m   2659\u001b[0m     \u001b[38;5;28;01mreturn\u001b[39;00m\n\u001b[0;32m   2660\u001b[0m \u001b[38;5;28;01melif\u001b[39;00m screen\u001b[38;5;241m.\u001b[39m_tracing \u001b[38;5;241m==\u001b[39m \u001b[38;5;241m1\u001b[39m:\n\u001b[1;32m-> 2661\u001b[0m     \u001b[38;5;28mself\u001b[39m\u001b[38;5;241m.\u001b[39m_update_data()\n\u001b[0;32m   2662\u001b[0m     \u001b[38;5;28mself\u001b[39m\u001b[38;5;241m.\u001b[39m_drawturtle()\n\u001b[0;32m   2663\u001b[0m     screen\u001b[38;5;241m.\u001b[39m_update()                  \u001b[38;5;66;03m# TurtleScreenBase\u001b[39;00m\n",
      "File \u001b[1;32m~\\anaconda3\\Lib\\turtle.py:2647\u001b[0m, in \u001b[0;36mRawTurtle._update_data\u001b[1;34m(self)\u001b[0m\n\u001b[0;32m   2646\u001b[0m \u001b[38;5;28;01mdef\u001b[39;00m \u001b[38;5;21m_update_data\u001b[39m(\u001b[38;5;28mself\u001b[39m):\n\u001b[1;32m-> 2647\u001b[0m     \u001b[38;5;28mself\u001b[39m\u001b[38;5;241m.\u001b[39mscreen\u001b[38;5;241m.\u001b[39m_incrementudc()\n\u001b[0;32m   2648\u001b[0m     \u001b[38;5;28;01mif\u001b[39;00m \u001b[38;5;28mself\u001b[39m\u001b[38;5;241m.\u001b[39mscreen\u001b[38;5;241m.\u001b[39m_updatecounter \u001b[38;5;241m!=\u001b[39m \u001b[38;5;241m0\u001b[39m:\n\u001b[0;32m   2649\u001b[0m         \u001b[38;5;28;01mreturn\u001b[39;00m\n",
      "File \u001b[1;32m~\\anaconda3\\Lib\\turtle.py:1293\u001b[0m, in \u001b[0;36mTurtleScreen._incrementudc\u001b[1;34m(self)\u001b[0m\n\u001b[0;32m   1291\u001b[0m \u001b[38;5;28;01mif\u001b[39;00m \u001b[38;5;129;01mnot\u001b[39;00m TurtleScreen\u001b[38;5;241m.\u001b[39m_RUNNING:\n\u001b[0;32m   1292\u001b[0m     TurtleScreen\u001b[38;5;241m.\u001b[39m_RUNNING \u001b[38;5;241m=\u001b[39m \u001b[38;5;28;01mTrue\u001b[39;00m\n\u001b[1;32m-> 1293\u001b[0m     \u001b[38;5;28;01mraise\u001b[39;00m Terminator\n\u001b[0;32m   1294\u001b[0m \u001b[38;5;28;01mif\u001b[39;00m \u001b[38;5;28mself\u001b[39m\u001b[38;5;241m.\u001b[39m_tracing \u001b[38;5;241m>\u001b[39m \u001b[38;5;241m0\u001b[39m:\n\u001b[0;32m   1295\u001b[0m     \u001b[38;5;28mself\u001b[39m\u001b[38;5;241m.\u001b[39m_updatecounter \u001b[38;5;241m+\u001b[39m\u001b[38;5;241m=\u001b[39m \u001b[38;5;241m1\u001b[39m\n",
      "\u001b[1;31mTerminator\u001b[0m: "
     ]
    }
   ],
   "source": [
    "# import turtle\n",
    "\n",
    "# def draw_multicolor_square(t, sz):\n",
    "#     \"\"\" Make turtle t draw a multi-color square of sz\"\"\"\n",
    "#     for i in ['red', 'purple', 'hotpink', 'blue']:\n",
    "#         t.color(i)\n",
    "#         t.forward(sz)\n",
    "#         t.left(90)\n",
    "        \n",
    "\n",
    "# wn = turtle.Screen()\n",
    "# wn.bgcolor('lightgreen')\n",
    "\n",
    "# tess = turtle.Turtle()\n",
    "# tess.pensize(3)\n",
    "\n",
    "# size = 20\n",
    "# for i in range(15):\n",
    "#     draw_multicolor_square(tess, size)\n",
    "#     size = size + 10\n",
    "#     tess.forward(10)\n",
    "#     tess.right(18)\n",
    "    \n",
    "# wn.mainloop()"
   ]
  },
  {
   "cell_type": "code",
   "execution_count": 1,
   "id": "ed1ff647",
   "metadata": {},
   "outputs": [
    {
     "name": "stdout",
     "output_type": "stream",
     "text": [
      "3 is odd\n"
     ]
    }
   ],
   "source": [
    "x = 3\n",
    "\n",
    "if x % 2 == 0:\n",
    "    print(x , 'is even')\n",
    "else:\n",
    "    print(x, 'is odd')\n",
    "\n"
   ]
  },
  {
   "cell_type": "code",
   "execution_count": 2,
   "id": "aadd88fa",
   "metadata": {},
   "outputs": [],
   "source": [
    "def print_sqr_root(x):\n",
    "    if x <= 0:\n",
    "        print('Positive numbers only, please')\n",
    "        return\n",
    "    result =  x**0.5\n",
    "    print('The square root of', x, 'is', result)"
   ]
  },
  {
   "cell_type": "code",
   "execution_count": 3,
   "id": "5f12be94",
   "metadata": {},
   "outputs": [
    {
     "name": "stdout",
     "output_type": "stream",
     "text": [
      "Positive numbers only, please\n"
     ]
    }
   ],
   "source": [
    "print_sqr_root(0)"
   ]
  },
  {
   "cell_type": "code",
   "execution_count": 4,
   "id": "80b035eb",
   "metadata": {},
   "outputs": [
    {
     "ename": "NameError",
     "evalue": "name 'alex' is not defined",
     "output_type": "error",
     "traceback": [
      "\u001b[1;31m---------------------------------------------------------------------------\u001b[0m",
      "\u001b[1;31mNameError\u001b[0m                                 Traceback (most recent call last)",
      "Cell \u001b[1;32mIn[4], line 1\u001b[0m\n\u001b[1;32m----> 1\u001b[0m alex\u001b[38;5;241m.\u001b[39mwrite(\u001b[38;5;124m'\u001b[39m\u001b[38;5;124mhekk\u001b[39m\u001b[38;5;124m'\u001b[39m)\n",
      "\u001b[1;31mNameError\u001b[0m: name 'alex' is not defined"
     ]
    }
   ],
   "source": [
    "# alex.write('hekk')"
   ]
  },
  {
   "cell_type": "code",
   "execution_count": 5,
   "id": "64414b97",
   "metadata": {},
   "outputs": [],
   "source": [
    "def area(radius):\n",
    "    area = (3.142 * radius)**2\n",
    "    return area"
   ]
  },
  {
   "cell_type": "code",
   "execution_count": 6,
   "id": "e3dd954b",
   "metadata": {},
   "outputs": [
    {
     "data": {
      "text/plain": [
       "1421.5916160000002"
      ]
     },
     "execution_count": 6,
     "metadata": {},
     "output_type": "execute_result"
    }
   ],
   "source": [
    "area(12)"
   ]
  },
  {
   "cell_type": "code",
   "execution_count": 7,
   "id": "9d3d62b0",
   "metadata": {},
   "outputs": [],
   "source": [
    "def absolute_value(x):\n",
    "    if x < 0:\n",
    "        return -x\n",
    "    return x\n",
    "\n",
    "def bad_absolute_value(x):\n",
    "    if x < 0:\n",
    "        return -x\n",
    "    elif x > 0:\n",
    "        return x\n",
    "    \n"
   ]
  },
  {
   "cell_type": "code",
   "execution_count": 8,
   "id": "67b5e4ed",
   "metadata": {},
   "outputs": [
    {
     "data": {
      "text/plain": [
       "2"
      ]
     },
     "execution_count": 8,
     "metadata": {},
     "output_type": "execute_result"
    }
   ],
   "source": [
    "absolute_value(-2)"
   ]
  },
  {
   "cell_type": "code",
   "execution_count": 9,
   "id": "921ff52c",
   "metadata": {},
   "outputs": [
    {
     "name": "stdout",
     "output_type": "stream",
     "text": [
      "None\n"
     ]
    }
   ],
   "source": [
    "print(bad_absolute_value(0))"
   ]
  },
  {
   "cell_type": "code",
   "execution_count": 10,
   "id": "628c6748",
   "metadata": {},
   "outputs": [],
   "source": [
    "# Write the function to find distance between two points\n",
    "\n",
    "def distance(x1, y1, x2, y2):\n",
    "    \"\"\"\n",
    "    parameters:\n",
    "        x1: distance from origin on x-coordinates for point 1\n",
    "        y1: distance from origin on y-coordinates for point 1\n",
    "        x2: distance from origin on x-coordinates for point 2\n",
    "        y2: distance from origin on y-coordinates for point 2\n",
    "    \n",
    "    returns:\n",
    "        The linear distance between point 1 and point 2 \n",
    "    \n",
    "    \"\"\"\n",
    "    dx = x2 - x1\n",
    "    dy = y2 - y1\n",
    "    \n",
    "    sum_squares = dx * dx + dy * dy\n",
    "        \n",
    "    return sum_squares**0.5"
   ]
  },
  {
   "cell_type": "code",
   "execution_count": 11,
   "id": "abf3e892",
   "metadata": {},
   "outputs": [],
   "source": [
    "# Given the centre of a circe and a point on the perimeter, we can then get the area of the circle using functions\n",
    "\n",
    "def area2(xc, yc, xp, yp):\n",
    "    \n",
    "    \"\"\"\n",
    "    parameters:\n",
    "        xc: distance from origin on x-coordinates for centre of the circle\n",
    "        yc: distance from origin on y-coordinates for centre of the circle\n",
    "        xp: distance from origin on x-coordinates for point on perimeter of circle\n",
    "        yp: distance from origin on y-coordinates for point on perimeter of circle\n",
    "    \n",
    "    returns:\n",
    "        The area of the circle\n",
    "    \n",
    "    \"\"\"\n",
    "    radius = distance(xc, yc, xp, yp)\n",
    "    result = area(radius)\n",
    "    return result\n",
    "\n"
   ]
  },
  {
   "cell_type": "code",
   "execution_count": 12,
   "id": "c64c3a47",
   "metadata": {},
   "outputs": [
    {
     "data": {
      "text/plain": [
       "493.6082"
      ]
     },
     "execution_count": 12,
     "metadata": {},
     "output_type": "execute_result"
    }
   ],
   "source": [
    "area2(1, 3, 6, 8)"
   ]
  },
  {
   "cell_type": "markdown",
   "id": "b434e9b0",
   "metadata": {},
   "source": [
    "**Unit Tests**"
   ]
  },
  {
   "cell_type": "code",
   "execution_count": 13,
   "id": "5d0e27fd",
   "metadata": {},
   "outputs": [],
   "source": [
    "import sys\n",
    "\n",
    "def test(did_pass):\n",
    "    \"\"\" Print the results of a test\"\"\"\n",
    "    linenum = sys._getframe(1).f_lineno # Get the caller's line number\n",
    "    if did_pass:\n",
    "        msg = 'Test at the line{0} ok'.format(linenum)\n",
    "    else:\n",
    "        msg = 'Test at the line{0} FAILED'.format(linenum)\n",
    "    print(msg)"
   ]
  },
  {
   "cell_type": "code",
   "execution_count": 14,
   "id": "6951ebbc",
   "metadata": {},
   "outputs": [],
   "source": [
    "def test_suite():\n",
    "    \"\"\"\n",
    "    Run the suite of tests for code in the module (this file)\n",
    "    \"\"\"\n",
    "    test(absolute_value(17) == 17)\n",
    "    test(absolute_value(-17) == 17)\n",
    "    test(absolute_value(0) == 0)\n",
    "    test(absolute_value(3.14) == 3.14)\n",
    "    test(absolute_value(-3.14) == 3.14)\n",
    "    test(bad_absolute_value(17) == 17)\n",
    "    test(bad_absolute_value(0) == 0)"
   ]
  },
  {
   "cell_type": "code",
   "execution_count": 15,
   "id": "1f9d62c6",
   "metadata": {},
   "outputs": [
    {
     "name": "stdout",
     "output_type": "stream",
     "text": [
      "Test at the line5 ok\n",
      "Test at the line6 ok\n",
      "Test at the line7 ok\n",
      "Test at the line8 ok\n",
      "Test at the line9 ok\n",
      "Test at the line10 ok\n",
      "Test at the line11 FAILED\n"
     ]
    }
   ],
   "source": [
    "test_suite()"
   ]
  },
  {
   "cell_type": "code",
   "execution_count": 16,
   "id": "e2c956a7",
   "metadata": {},
   "outputs": [],
   "source": [
    "class YouSabi:\n",
    "    \n",
    "    def __init__(self):\n",
    "        self.test = 2"
   ]
  },
  {
   "cell_type": "code",
   "execution_count": 17,
   "id": "f1195343",
   "metadata": {},
   "outputs": [],
   "source": [
    "isabi = YouSabi()"
   ]
  },
  {
   "cell_type": "code",
   "execution_count": 18,
   "id": "5b67b5a1",
   "metadata": {},
   "outputs": [
    {
     "data": {
      "text/plain": [
       "2"
      ]
     },
     "execution_count": 18,
     "metadata": {},
     "output_type": "execute_result"
    }
   ],
   "source": [
    "isabi.test"
   ]
  },
  {
   "cell_type": "code",
   "execution_count": 19,
   "id": "11d49607",
   "metadata": {},
   "outputs": [],
   "source": [
    "def seq3np1(n):\n",
    "    \"\"\" Print the 3n+1 sequence from n,\n",
    "    terminating when it reaches 1\n",
    "    \"\"\"\n",
    "    while n != 1:\n",
    "        print(n, end=\", \")\n",
    "        if n % 2 == 0:   # n is even\n",
    "            n = n // 2 \n",
    "        else:\n",
    "            n = n * 3 + 1\n",
    "    print(n, end=\".\\n\")"
   ]
  },
  {
   "cell_type": "code",
   "execution_count": 20,
   "id": "67abdfc4",
   "metadata": {},
   "outputs": [
    {
     "name": "stdout",
     "output_type": "stream",
     "text": [
      "77, 232, 116, 58, 29, 88, 44, 22, 11, 34, 17, 52, 26, 13, 40, 20, 10, 5, 16, 8, 4, 2, 1.\n"
     ]
    }
   ],
   "source": [
    "seq3np1(77)"
   ]
  },
  {
   "cell_type": "code",
   "execution_count": 21,
   "id": "920722b5",
   "metadata": {},
   "outputs": [
    {
     "name": "stdout",
     "output_type": "stream",
     "text": [
      "28, 14, 7, 22, 11, 34, 17, 52, 26, 13, 40, 20, 10, 5, 16, 8, 4, 2, 1.\n"
     ]
    }
   ],
   "source": [
    "seq3np1(28\n",
    "       )"
   ]
  },
  {
   "cell_type": "code",
   "execution_count": 22,
   "id": "9431215f",
   "metadata": {},
   "outputs": [
    {
     "name": "stdout",
     "output_type": "stream",
     "text": [
      "\n",
      "Guess my number between 1 and 1000: 3\n"
     ]
    },
    {
     "ename": "KeyboardInterrupt",
     "evalue": "Interrupted by user",
     "output_type": "error",
     "traceback": [
      "\u001b[1;31m---------------------------------------------------------------------------\u001b[0m",
      "\u001b[1;31mKeyboardInterrupt\u001b[0m                         Traceback (most recent call last)",
      "Cell \u001b[1;32mIn[22], line 9\u001b[0m\n\u001b[0;32m      6\u001b[0m msg \u001b[38;5;241m=\u001b[39m \u001b[38;5;124m\"\u001b[39m\u001b[38;5;124m\"\u001b[39m\n\u001b[0;32m      8\u001b[0m \u001b[38;5;28;01mwhile\u001b[39;00m \u001b[38;5;28;01mTrue\u001b[39;00m:\n\u001b[1;32m----> 9\u001b[0m     guess \u001b[38;5;241m=\u001b[39m \u001b[38;5;28mint\u001b[39m(\u001b[38;5;28minput\u001b[39m(msg \u001b[38;5;241m+\u001b[39m \u001b[38;5;124m\"\u001b[39m\u001b[38;5;130;01m\\n\u001b[39;00m\u001b[38;5;124mGuess my number between 1 and 1000: \u001b[39m\u001b[38;5;124m\"\u001b[39m))\n\u001b[0;32m     10\u001b[0m     guesses \u001b[38;5;241m+\u001b[39m\u001b[38;5;241m=\u001b[39m \u001b[38;5;241m1\u001b[39m\n\u001b[0;32m     11\u001b[0m     \u001b[38;5;28;01mif\u001b[39;00m guess \u001b[38;5;241m>\u001b[39m number:\n",
      "File \u001b[1;32m~\\anaconda3\\Lib\\site-packages\\ipykernel\\kernelbase.py:1175\u001b[0m, in \u001b[0;36mKernel.raw_input\u001b[1;34m(self, prompt)\u001b[0m\n\u001b[0;32m   1171\u001b[0m \u001b[38;5;28;01mif\u001b[39;00m \u001b[38;5;129;01mnot\u001b[39;00m \u001b[38;5;28mself\u001b[39m\u001b[38;5;241m.\u001b[39m_allow_stdin:\n\u001b[0;32m   1172\u001b[0m     \u001b[38;5;28;01mraise\u001b[39;00m StdinNotImplementedError(\n\u001b[0;32m   1173\u001b[0m         \u001b[38;5;124m\"\u001b[39m\u001b[38;5;124mraw_input was called, but this frontend does not support input requests.\u001b[39m\u001b[38;5;124m\"\u001b[39m\n\u001b[0;32m   1174\u001b[0m     )\n\u001b[1;32m-> 1175\u001b[0m \u001b[38;5;28;01mreturn\u001b[39;00m \u001b[38;5;28mself\u001b[39m\u001b[38;5;241m.\u001b[39m_input_request(\n\u001b[0;32m   1176\u001b[0m     \u001b[38;5;28mstr\u001b[39m(prompt),\n\u001b[0;32m   1177\u001b[0m     \u001b[38;5;28mself\u001b[39m\u001b[38;5;241m.\u001b[39m_parent_ident[\u001b[38;5;124m\"\u001b[39m\u001b[38;5;124mshell\u001b[39m\u001b[38;5;124m\"\u001b[39m],\n\u001b[0;32m   1178\u001b[0m     \u001b[38;5;28mself\u001b[39m\u001b[38;5;241m.\u001b[39mget_parent(\u001b[38;5;124m\"\u001b[39m\u001b[38;5;124mshell\u001b[39m\u001b[38;5;124m\"\u001b[39m),\n\u001b[0;32m   1179\u001b[0m     password\u001b[38;5;241m=\u001b[39m\u001b[38;5;28;01mFalse\u001b[39;00m,\n\u001b[0;32m   1180\u001b[0m )\n",
      "File \u001b[1;32m~\\anaconda3\\Lib\\site-packages\\ipykernel\\kernelbase.py:1217\u001b[0m, in \u001b[0;36mKernel._input_request\u001b[1;34m(self, prompt, ident, parent, password)\u001b[0m\n\u001b[0;32m   1214\u001b[0m             \u001b[38;5;28;01mbreak\u001b[39;00m\n\u001b[0;32m   1215\u001b[0m \u001b[38;5;28;01mexcept\u001b[39;00m \u001b[38;5;167;01mKeyboardInterrupt\u001b[39;00m:\n\u001b[0;32m   1216\u001b[0m     \u001b[38;5;66;03m# re-raise KeyboardInterrupt, to truncate traceback\u001b[39;00m\n\u001b[1;32m-> 1217\u001b[0m     \u001b[38;5;28;01mraise\u001b[39;00m \u001b[38;5;167;01mKeyboardInterrupt\u001b[39;00m(\u001b[38;5;124m\"\u001b[39m\u001b[38;5;124mInterrupted by user\u001b[39m\u001b[38;5;124m\"\u001b[39m) \u001b[38;5;28;01mfrom\u001b[39;00m \u001b[38;5;28;01mNone\u001b[39;00m\n\u001b[0;32m   1218\u001b[0m \u001b[38;5;28;01mexcept\u001b[39;00m \u001b[38;5;167;01mException\u001b[39;00m:\n\u001b[0;32m   1219\u001b[0m     \u001b[38;5;28mself\u001b[39m\u001b[38;5;241m.\u001b[39mlog\u001b[38;5;241m.\u001b[39mwarning(\u001b[38;5;124m\"\u001b[39m\u001b[38;5;124mInvalid Message:\u001b[39m\u001b[38;5;124m\"\u001b[39m, exc_info\u001b[38;5;241m=\u001b[39m\u001b[38;5;28;01mTrue\u001b[39;00m)\n",
      "\u001b[1;31mKeyboardInterrupt\u001b[0m: Interrupted by user"
     ]
    }
   ],
   "source": [
    "import random \n",
    "rng = random.Random()\n",
    "number = rng.randrange(1, 1000)\n",
    "\n",
    "guesses = 0\n",
    "msg = \"\"\n",
    "\n",
    "while True:\n",
    "    guess = int(input(msg + \"\\nGuess my number between 1 and 1000: \"))\n",
    "    guesses += 1\n",
    "    if guess > number:\n",
    "        msg += str(guess) + \" is too high. \\n\"\n",
    "    elif guess < number:\n",
    "        msg += str(guess) + \" is too low.\\n \"\n",
    "    else:\n",
    "        break200\n",
    "        \n",
    "input(\"\\n\\nGreat, you got it in {0} guesses!\\n\\n\".format(guesses))"
   ]
  },
  {
   "cell_type": "markdown",
   "id": "bca1c279",
   "metadata": {},
   "source": [
    "`Continue` causes the program to immediately skip the processing of the rest of the body of the loop for the current iteration. But the loop still carries on running for its remaining iterations"
   ]
  },
  {
   "cell_type": "code",
   "execution_count": 23,
   "id": "64622582",
   "metadata": {},
   "outputs": [
    {
     "name": "stdout",
     "output_type": "stream",
     "text": [
      "12\n",
      "16\n",
      "24\n",
      "30\n",
      "done\n"
     ]
    }
   ],
   "source": [
    "for i in [12, 16, 17, 24, 29, 30]:\n",
    "    if i % 2 == 1:\n",
    "        continue\n",
    "    print(i)\n",
    "print('done')"
   ]
  },
  {
   "cell_type": "markdown",
   "id": "d4c0e727",
   "metadata": {},
   "source": [
    "***Looping a paired data***"
   ]
  },
  {
   "cell_type": "code",
   "execution_count": 24,
   "id": "137fbef2",
   "metadata": {},
   "outputs": [
    {
     "name": "stdout",
     "output_type": "stream",
     "text": [
      "Brad pitt\n",
      "Jack Nicholson\n"
     ]
    }
   ],
   "source": [
    "celebs = [('Brad pitt', 1963), ('Jack Nicholson', 1937), ('Justin Bieber', 1994)]\n",
    "\n",
    "for (nm, yr) in celebs:\n",
    "    if yr <1980:\n",
    "        print(nm)"
   ]
  },
  {
   "cell_type": "markdown",
   "id": "1a595923",
   "metadata": {},
   "source": [
    "We’ve used a pair of variable names, (nm, yr), instead. The loop is executed three\n",
    "times — once for each pair in the list, and on each iteration both the variables are assigned values\n",
    "from the pair of data that is being handled."
   ]
  },
  {
   "cell_type": "code",
   "execution_count": 25,
   "id": "f02aee88",
   "metadata": {},
   "outputs": [],
   "source": [
    "ss = 'tester '"
   ]
  },
  {
   "cell_type": "code",
   "execution_count": 26,
   "id": "ac6954dd",
   "metadata": {},
   "outputs": [
    {
     "data": {
      "text/plain": [
       "'TESTER '"
      ]
     },
     "execution_count": 26,
     "metadata": {},
     "output_type": "execute_result"
    }
   ],
   "source": [
    "ss.upper()"
   ]
  },
  {
   "cell_type": "code",
   "execution_count": 27,
   "id": "980a93e7",
   "metadata": {},
   "outputs": [
    {
     "data": {
      "text/plain": [
       "'tester '"
      ]
     },
     "execution_count": 27,
     "metadata": {},
     "output_type": "execute_result"
    }
   ],
   "source": [
    "# ss remained unchanged!\n",
    "ss"
   ]
  },
  {
   "cell_type": "code",
   "execution_count": 28,
   "id": "764342cc",
   "metadata": {},
   "outputs": [],
   "source": [
    "\n",
    "fruit = 'banana'"
   ]
  },
  {
   "cell_type": "code",
   "execution_count": 29,
   "id": "6ade7196",
   "metadata": {},
   "outputs": [
    {
     "data": {
      "text/plain": [
       "'an'"
      ]
     },
     "execution_count": 29,
     "metadata": {},
     "output_type": "execute_result"
    }
   ],
   "source": [
    "fruit[::-3]"
   ]
  },
  {
   "cell_type": "code",
   "execution_count": 36,
   "id": "b9136d1f",
   "metadata": {},
   "outputs": [
    {
     "name": "stdout",
     "output_type": "stream",
     "text": [
      "Test at the line13 ok\n",
      "Test at the line14 ok\n"
     ]
    }
   ],
   "source": [
    "def find(strn, ch):\n",
    "    \"\"\"\n",
    "    Find and return the index of ch in strng\n",
    "    Return -1 if ch does not occur in strng\n",
    "    \"\"\"\n",
    "    idx = 0\n",
    "    while idx < len(strn):\n",
    "        if strn[idx] == ch:\n",
    "            return idx\n",
    "        idx += 1\n",
    "    return -1\n",
    "\n",
    "test(find(\"Compsci\", 'p') == 3)\n",
    "test(find(\"Compsci\", 'x') == -1)"
   ]
  },
  {
   "cell_type": "code",
   "execution_count": 37,
   "id": "da1197a8",
   "metadata": {},
   "outputs": [
    {
     "data": {
      "text/plain": [
       "2"
      ]
     },
     "execution_count": 37,
     "metadata": {},
     "output_type": "execute_result"
    }
   ],
   "source": [
    "'banana'.find('nan')"
   ]
  },
  {
   "cell_type": "code",
   "execution_count": 38,
   "id": "f6ded54e",
   "metadata": {},
   "outputs": [
    {
     "data": {
      "text/plain": [
       "4"
      ]
     },
     "execution_count": 38,
     "metadata": {},
     "output_type": "execute_result"
    }
   ],
   "source": [
    "'banana'.find('na', 3)"
   ]
  },
  {
   "cell_type": "code",
   "execution_count": 39,
   "id": "0cfea80c",
   "metadata": {},
   "outputs": [
    {
     "data": {
      "text/plain": [
       "['Well', 'I', 'never', 'did', 'said', 'Alice']"
      ]
     },
     "execution_count": 39,
     "metadata": {},
     "output_type": "execute_result"
    }
   ],
   "source": [
    "ss = 'Well I never did said Alice'\n",
    "\n",
    "wds = ss.split()\n",
    "\n",
    "wds"
   ]
  },
  {
   "cell_type": "code",
   "execution_count": 42,
   "id": "9c1b72a1",
   "metadata": {},
   "outputs": [
    {
     "name": "stdout",
     "output_type": "stream",
     "text": [
      "Test at the line11 ok\n"
     ]
    }
   ],
   "source": [
    "#punctuation = \"!\\\"#$%&'()*+,-./:;<=>?@[\\\\]^_`{|}~\"\n",
    "\n",
    "import string\n",
    "def remove_punctuation(s):\n",
    "    s_san_punc = \"\"\n",
    "    for letter in s:\n",
    "        if letter not in string.punctuation:\n",
    "            s_san_punc += letter\n",
    "    return s_san_punc\n",
    "\n",
    "test(remove_punctuation('\"Well, I never did!\", said Alice,') == \"Well I never did said Alice\")"
   ]
  },
  {
   "cell_type": "code",
   "execution_count": 43,
   "id": "96dc3c46",
   "metadata": {},
   "outputs": [
    {
     "name": "stdout",
     "output_type": "stream",
     "text": [
      "['Pythons', 'are', 'constrictors', 'which', 'means', 'that', 'they', 'will', 'squeeze', 'the', 'life', 'out', 'of', 'their', 'prey', 'They', 'coil', 'themselves', 'around', 'their', 'prey', 'and', 'with', 'each', 'breath', 'the', 'creature', 'takes', 'the', 'snake', 'will', 'squeeze', 'a', 'little', 'tighter', 'until', 'they', 'stop', 'breathing', 'completely', 'Once', 'the', 'heart', 'stops', 'the', 'prey', 'is', 'swallowed', 'whole', 'The', 'entire', 'animal', 'is', 'digested', 'in', 'the', 'snakes', 'stomach', 'except', 'for', 'fur', 'or', 'feathers', 'What', 'do', 'you', 'think', 'happens', 'to', 'the', 'fur', 'feathers', 'beaks', 'and', 'eggshells', 'The', 'extra', 'stuff', 'gets', 'passed', 'out', 'as', 'you', 'guessed', 'it', 'snake', 'POOP']\n"
     ]
    }
   ],
   "source": [
    "my_story = \"\"\"\n",
    "Pythons are constrictors, which means that they will 'squeeze' the life\n",
    " out of their prey. They coil themselves around their prey and with\n",
    "each breath the creature takes the snake will squeeze a little tighter\n",
    "until they stop breathing completely. Once the heart stops the prey\n",
    "is swallowed whole. The entire animal is digested in the snake's\n",
    "stomach except for fur or feathers. What do you think happens to the fur,\n",
    "feathers, beaks, and eggshells? The 'extra stuff' gets passed out as ---\n",
    "you guessed it --- snake POOP! \"\"\"\n",
    "\n",
    "wds = remove_punctuation(my_story).split()\n",
    "print(wds)"
   ]
  },
  {
   "cell_type": "markdown",
   "id": "b03d31a9",
   "metadata": {},
   "source": [
    "**Format** Method"
   ]
  },
  {
   "cell_type": "code",
   "execution_count": 45,
   "id": "d95809a9",
   "metadata": {},
   "outputs": [
    {
     "name": "stdout",
     "output_type": "stream",
     "text": [
      "His name is Authur\n"
     ]
    }
   ],
   "source": [
    "s1 = 'His name is {0}'.format('Authur')\n",
    "print(s1)"
   ]
  },
  {
   "cell_type": "code",
   "execution_count": 47,
   "id": "8cbc2ce9",
   "metadata": {},
   "outputs": [
    {
     "name": "stdout",
     "output_type": "stream",
     "text": [
      "I am Alice and I am 10 years old\n"
     ]
    }
   ],
   "source": [
    "name = 'Alice'\n",
    "age = 10\n",
    "s2 = 'I am {1} and I am {0} years old'.format(age, name)\n",
    "print(s2)"
   ]
  },
  {
   "cell_type": "code",
   "execution_count": 55,
   "id": "f5b61b7d",
   "metadata": {},
   "outputs": [
    {
     "name": "stdout",
     "output_type": "stream",
     "text": [
      "2**10 = 1024 and 4 * 5 = 20.00\n"
     ]
    }
   ],
   "source": [
    "n1 = 4\n",
    "n2 = 5\n",
    "s3 = '2**10 = {0} and {1} * {2} = {3:.2f}'.format(2**10, n1, n2, n1*n2)\n",
    "print(s3)"
   ]
  },
  {
   "cell_type": "code",
   "execution_count": 58,
   "id": "10cb2ee7",
   "metadata": {},
   "outputs": [
    {
     "name": "stdout",
     "output_type": "stream",
     "text": [
      "Pi to three decimal places is 3.142\n",
      "123456789 123456789 123456789 123456789 123456789 123456789\n",
      "|||Paris          |||    Whitney    |||         Hilton|||Born in 1981|||\n",
      "The decimal value 123456 converts to hex value 1e240\n"
     ]
    }
   ],
   "source": [
    "n1 = 'Paris'\n",
    "n2 = 'Whitney'\n",
    "n3 = 'Hilton'\n",
    "\n",
    "print('Pi to three decimal places is {0:.3f}'.format(3.1415935))\n",
    "print('123456789 123456789 123456789 123456789 123456789 123456789')\n",
    "print(\"|||{0:<15}|||{1:^15}|||{2:>15}|||Born in {3}|||\"\n",
    "      .format(n1, n2, n3, 1981))\n",
    "print('The decimal value {0} converts to hex value {0:x}'\n",
    "     .format(123456))\n",
    "\n",
    "      \n"
   ]
  },
  {
   "cell_type": "code",
   "execution_count": 60,
   "id": "e5d83956",
   "metadata": {},
   "outputs": [
    {
     "name": "stdout",
     "output_type": "stream",
     "text": [
      "   i  i**2    i**5        i**10                   i**20\n",
      "   1     1       1            1                       1\n",
      "   2     4      32         1024                 1048576\n",
      "   3     9     243        59049              3486784401\n",
      "   4    16    1024      1048576           1099511627776\n",
      "   5    25    3125      9765625          95367431640625\n",
      "   6    36    7776     60466176        3656158440062976\n",
      "   7    49   16807    282475249       79792266297612001\n",
      "   8    64   32768   1073741824     1152921504606846976\n",
      "   9    81   59049   3486784401    12157665459056928801\n",
      "  10   100  100000  10000000000   100000000000000000000\n"
     ]
    }
   ],
   "source": [
    "layout = '{0:>4}{1:>6}{3:>8}{4:>13}{5:>24}'\n",
    "print(layout.format('i', 'i**2', 'i**3', 'i**5', 'i**10', 'i**20'))\n",
    "for i in range(1, 11):\n",
    "    print(layout.format(i, i**2, i**3, i**5, i**10, i**20))"
   ]
  },
  {
   "cell_type": "code",
   "execution_count": 61,
   "id": "7d3c8578",
   "metadata": {},
   "outputs": [],
   "source": [
    "year_born = 'Hilton', 1981"
   ]
  },
  {
   "cell_type": "code",
   "execution_count": 66,
   "id": "887ae15f",
   "metadata": {},
   "outputs": [
    {
     "data": {
      "text/plain": [
       "tuple"
      ]
     },
     "execution_count": 66,
     "metadata": {},
     "output_type": "execute_result"
    }
   ],
   "source": [
    "type(year_born)"
   ]
  },
  {
   "cell_type": "code",
   "execution_count": 67,
   "id": "6a6700db",
   "metadata": {},
   "outputs": [],
   "source": [
    "julia_more_info = (('Juia', 'Robert'), (8, 'October', 1967),\n",
    "                  'Actress', ('Atlanta', 'Georgia'),\n",
    "                  [('Duplicty', 2009),\n",
    "                  ('Notting Hill', 1999),\n",
    "                  ('Pretty Woman', 1990),\n",
    "                  ('Erin Brockovich', 2000),\n",
    "                  ('Eat Pray Love', 2010),\n",
    "                  ('Mona Lisa Smile', 2003),\n",
    "                  ('Oceans Twelve', 2004)])"
   ]
  },
  {
   "cell_type": "code",
   "execution_count": 69,
   "id": "bac084f7",
   "metadata": {},
   "outputs": [
    {
     "data": {
      "text/plain": [
       "(8, 'October', 1967)"
      ]
     },
     "execution_count": 69,
     "metadata": {},
     "output_type": "execute_result"
    }
   ],
   "source": [
    "julia_more_info[1]"
   ]
  },
  {
   "cell_type": "code",
   "execution_count": 72,
   "id": "c4769364",
   "metadata": {},
   "outputs": [
    {
     "data": {
      "text/plain": [
       "[('Duplicty', 2009),\n",
       " ('Notting Hill', 1999),\n",
       " ('Pretty Woman', 1990),\n",
       " ('Erin Brockovich', 2000),\n",
       " ('Eat Pray Love', 2010),\n",
       " ('Mona Lisa Smile', 2003),\n",
       " ('Oceans Twelve', 2004)]"
      ]
     },
     "execution_count": 72,
     "metadata": {},
     "output_type": "execute_result"
    }
   ],
   "source": [
    "julia_more_info[4]"
   ]
  },
  {
   "cell_type": "code",
   "execution_count": 73,
   "id": "03ac1067",
   "metadata": {},
   "outputs": [
    {
     "data": {
      "text/plain": [
       "('Notting Hill', 1999)"
      ]
     },
     "execution_count": 73,
     "metadata": {},
     "output_type": "execute_result"
    }
   ],
   "source": [
    "julia_more_info[4][1]"
   ]
  },
  {
   "cell_type": "code",
   "execution_count": 74,
   "id": "3949348d",
   "metadata": {},
   "outputs": [
    {
     "data": {
      "text/plain": [
       "'Notting Hill'"
      ]
     },
     "execution_count": 74,
     "metadata": {},
     "output_type": "execute_result"
    }
   ],
   "source": [
    "julia_more_info[4][1][0]"
   ]
  },
  {
   "cell_type": "code",
   "execution_count": 75,
   "id": "d808523b",
   "metadata": {},
   "outputs": [],
   "source": [
    "# Tuple multi-variable assignment \n",
    "(name, dob, prof, loc, movies) = julia_more_info\n",
    "\n",
    "# No of variables must be equal to No of elements in tuple"
   ]
  },
  {
   "cell_type": "code",
   "execution_count": 76,
   "id": "d50e2703",
   "metadata": {},
   "outputs": [
    {
     "data": {
      "text/plain": [
       "('Juia', 'Robert')"
      ]
     },
     "execution_count": 76,
     "metadata": {},
     "output_type": "execute_result"
    }
   ],
   "source": [
    "name"
   ]
  },
  {
   "cell_type": "code",
   "execution_count": 77,
   "id": "b5a5e654",
   "metadata": {},
   "outputs": [
    {
     "data": {
      "text/plain": [
       "(8, 'October', 1967)"
      ]
     },
     "execution_count": 77,
     "metadata": {},
     "output_type": "execute_result"
    }
   ],
   "source": [
    "dob"
   ]
  },
  {
   "cell_type": "code",
   "execution_count": 78,
   "id": "4f69507b",
   "metadata": {},
   "outputs": [
    {
     "data": {
      "text/plain": [
       "'Actress'"
      ]
     },
     "execution_count": 78,
     "metadata": {},
     "output_type": "execute_result"
    }
   ],
   "source": [
    "prof"
   ]
  },
  {
   "cell_type": "code",
   "execution_count": 79,
   "id": "b288df1c",
   "metadata": {},
   "outputs": [
    {
     "data": {
      "text/plain": [
       "('Atlanta', 'Georgia')"
      ]
     },
     "execution_count": 79,
     "metadata": {},
     "output_type": "execute_result"
    }
   ],
   "source": [
    "loc"
   ]
  },
  {
   "cell_type": "code",
   "execution_count": 80,
   "id": "23c39589",
   "metadata": {},
   "outputs": [
    {
     "data": {
      "text/plain": [
       "[('Duplicty', 2009),\n",
       " ('Notting Hill', 1999),\n",
       " ('Pretty Woman', 1990),\n",
       " ('Erin Brockovich', 2000),\n",
       " ('Eat Pray Love', 2010),\n",
       " ('Mona Lisa Smile', 2003),\n",
       " ('Oceans Twelve', 2004)]"
      ]
     },
     "execution_count": 80,
     "metadata": {},
     "output_type": "execute_result"
    }
   ],
   "source": [
    "movies"
   ]
  },
  {
   "cell_type": "markdown",
   "id": "7f0fced7",
   "metadata": {},
   "source": [
    "**Event Handling**"
   ]
  },
  {
   "cell_type": "code",
   "execution_count": 81,
   "id": "79a96c5d",
   "metadata": {},
   "outputs": [],
   "source": [
    "import turtle\n",
    "\n",
    "turtle.setup(400,500)\n",
    "wn = turtle.Screen()\n",
    "wn.title('Handling keypresses!')\n",
    "wn.bgcolor('lightgreen')\n",
    "tess = turtle.Turtle()\n",
    "\n",
    "# The nex four functions are our 'event handlers'\n",
    "def h1():\n",
    "    tess.forward(30)\n",
    "\n",
    "def h2():\n",
    "    tess.left(45)\n",
    "    \n",
    "def h3():\n",
    "    tess.right(45)\n",
    "    \n",
    "def h4():\n",
    "    wn.bye()\n",
    "    \n",
    "# These lines 'wire up' keypresses to the handlers we've defined\n",
    "wn.onkey(h1, 'Up')\n",
    "wn.onkey(h2, 'Left')\n",
    "wn.onkey(h3, 'Right')\n",
    "wn.onkey(h4, 'q')\n",
    "\n",
    "# Now we need to tell the window to start listening for events\n",
    "# If any of the keys that we're monitoring is pressed, its handler will be called \n",
    "wn.listen()\n",
    "wn.mainloop()"
   ]
  },
  {
   "cell_type": "code",
   "execution_count": 85,
   "id": "26c1a1aa",
   "metadata": {},
   "outputs": [],
   "source": [
    "import turtle\n",
    "\n",
    "turtle.setup(400, 500)\n",
    "wn = turtle.Screen()\n",
    "wn.title('How to handle mouse clicks on the window!')\n",
    "wn.bgcolor('lightgreen')\n",
    "\n",
    "tess = turtle.Turtle()\n",
    "#tess.color('purple')\n",
    "tess.pensize(3)\n",
    "tess.shape('turtle')\n",
    "\n",
    "def h1(x, y):\n",
    "    wn.title('Got click at coords {0} {1}'.format(x,y))\n",
    "    tess.goto(x, y)\n",
    "    \n",
    "wn.onclick(h1) # Wire up a click on the window\n",
    "wn.mainloop()\n"
   ]
  },
  {
   "cell_type": "code",
   "execution_count": 100,
   "id": "24dab903",
   "metadata": {
    "run_control": {
     "marked": true
    }
   },
   "outputs": [],
   "source": [
    "# Seperate handlers for each turtle\n",
    "\n",
    "import turtle\n",
    "\n",
    "turtle.setup(400, 500)               # Determine the window size\n",
    "wn = turtle.Screen()                 # Get a reference to the window\n",
    "wn.title('Handling mouse clicks!')   # Change the window title\n",
    "wn.bgcolor('lightgreen')             # Set the background color\n",
    "tess = turtle.Turtle()               # Create the first turtle\n",
    "tess.color('red')\n",
    "\n",
    "alex = turtle.Turtle()                 # Create the second turtle\n",
    "alex.color('blue')\n",
    "alex.forward(100)\n",
    "\n",
    "def handler_for_tess(x, y):\n",
    "    wn.title('Tess clicked at {0}, {1}'.format(x, y))\n",
    "    tess.left(42)\n",
    "    tess.forward(30)\n",
    "    \n",
    "def handler_for_alex(x, y):\n",
    "    wn.title('Alex clicked at {0}, {1}'.format(x, y))\n",
    "    alex.right(84)\n",
    "    alex.forward(50)\n",
    "    \n",
    "tess.onclick(handler_for_tess)\n",
    "alex.onclick(handler_for_alex)\n",
    "\n",
    "wn.mainloop()\n"
   ]
  },
  {
   "cell_type": "code",
   "execution_count": 98,
   "id": "161d0e7e",
   "metadata": {},
   "outputs": [],
   "source": [
    "# Using a timer for event trigger\n",
    "import turtle\n",
    "\n",
    "turtle.setup(400, 500)\n",
    "wn = turtle.Screen()\n",
    "wn.title('Using a timer')\n",
    "wn.bgcolor('lightgreen')\n",
    "\n",
    "tess = turtle.Turtle()\n",
    "#tess.color('blue')\n",
    "tess.shape('turtle')\n",
    "tess.pensize(6)\n",
    "\n",
    "def h1():\n",
    "    tess.forward(100)\n",
    "    tess.left(56)\n",
    "    \n",
    "wn.ontimer(h1, 2000)\n",
    "wn.mainloop()"
   ]
  },
  {
   "cell_type": "code",
   "execution_count": 104,
   "id": "63ebf2bd",
   "metadata": {},
   "outputs": [],
   "source": [
    "# Restart the timer insider the timer\n",
    "import turtle\n",
    "\n",
    "turtle.setup(400, 500)\n",
    "wn = turtle.Screen()\n",
    "wn.title('Using a timer to get events')\n",
    "wn.bgcolor('lightgreen')\n",
    "\n",
    "tess = turtle.Turtle()\n",
    "tess.color('red')\n",
    "\n",
    "def h1():\n",
    "    tess.forward(100)\n",
    "    tess.left(56)\n",
    "    wn.ontimer(h1, 60)\n",
    "    \n",
    "h1()\n",
    "wn.mainloop()"
   ]
  },
  {
   "cell_type": "code",
   "execution_count": null,
   "id": "a8efe8a2",
   "metadata": {
    "scrolled": true
   },
   "outputs": [
    {
     "name": "stderr",
     "output_type": "stream",
     "text": [
      "Exception in Tkinter callback\n",
      "Traceback (most recent call last):\n",
      "  File \"C:\\Users\\admin\\anaconda3\\Lib\\tkinter\\__init__.py\", line 1948, in __call__\n",
      "    return self.func(*args)\n",
      "           ^^^^^^^^^^^^^^^^\n",
      "  File \"C:\\Users\\admin\\anaconda3\\Lib\\tkinter\\__init__.py\", line 861, in callit\n",
      "    func(*args)\n",
      "  File \"C:\\Users\\admin\\AppData\\Local\\Temp\\ipykernel_17664\\955595093.py\", line 13, in h1\n",
      "    tess.forward(100)\n",
      "  File \"C:\\Users\\admin\\anaconda3\\Lib\\turtle.py\", line 1638, in forward\n",
      "    self._go(distance)\n",
      "  File \"C:\\Users\\admin\\anaconda3\\Lib\\turtle.py\", line 1606, in _go\n",
      "    self._goto(ende)\n",
      "  File \"C:\\Users\\admin\\anaconda3\\Lib\\turtle.py\", line 3175, in _goto\n",
      "    screen._pointlist(self.currentLineItem),\n",
      "    ^^^^^^^^^^^^^^^^^^^^^^^^^^^^^^^^^^^^^^^\n",
      "  File \"C:\\Users\\admin\\anaconda3\\Lib\\turtle.py\", line 754, in _pointlist\n",
      "    cl = self.cv.coords(item)\n",
      "         ^^^^^^^^^^^^^^^^^^^^\n",
      "  File \"<string>\", line 1, in coords\n",
      "  File \"C:\\Users\\admin\\anaconda3\\Lib\\tkinter\\__init__.py\", line 2822, in coords\n",
      "    self.tk.call((self._w, 'coords') + args))]\n",
      "    ^^^^^^^^^^^^^^^^^^^^^^^^^^^^^^^^^^^^^^^^\n",
      "_tkinter.TclError: invalid command name \".!canvas\"\n"
     ]
    }
   ],
   "source": [
    "# Tess becomes a traffic light\n",
    "\n",
    "import turtle\n",
    "\n",
    "turtle.setup(400, 500)\n",
    "wn = turtle.Screen()\n",
    "wn.title('Tess becomes a traffic light')\n",
    "wn.bgcolor('lightgreen')\n",
    "tess = turtle.Turtle()\n",
    "\n",
    "def draw_housing():\n",
    "    \"\"\" Draw a nice housing to hold the traffic light\"\"\"\n",
    "    tess.pensize(3)\n",
    "    #tess.color(\"black\", \"darkgrey\")\n",
    "    tess.begin_fill()\n",
    "    tess.forward(80)\n",
    "    tess.left(90)\n",
    "    tess.forward(200)\n",
    "    tess.circle(40, 180)\n",
    "    tess.forward(200)\n",
    "    tess.left(90)\n",
    "    tess.end_fill()\n",
    "    \n",
    "draw_housing()\n",
    "\n",
    "tess.penup()\n",
    "# Position tess onto the place where the green light should be \n",
    "tess.forward(40)\n",
    "tess.left(90)\n",
    "tess.forward(50)\n",
    "# Turn tess into a big green circle\n",
    "tess.shape('circle')\n",
    "tess.shapesize(3)\n",
    "tess.fillcolor('green')\n",
    "\n",
    "# A traffic light is a kind of state machine with three states,\n",
    "# Green, Orange, Red. We number these states 0, 1, 2\n",
    "# When the machine changes state, we change tess's position and her fillcolor\n",
    "\n",
    "# This variable holds the current state of the machine\n",
    "state_num = 0\n",
    "\n",
    "\n",
    "def advance_state_machine():\n",
    "    global state_num\n",
    "    if state_num == 0:  # Transition from state 0 to state 1\n",
    "        tess.forward(70)\n",
    "        tess.fillcolor('orange')\n",
    "        state_num = 1\n",
    "    elif state_num == 1:\n",
    "        tess.forward(70)\n",
    "        tess.fillcolor('red')\n",
    "        state_num = 2\n",
    "    else:\n",
    "        tess.back(140)\n",
    "        tess.fillcolor('green')\n",
    "        state_num = 0\n",
    "        \n",
    "# Bind the event handler to the space key\n",
    "wn.onkey(advance_state_machine, 'space')\n",
    "\n",
    "wn.listen()\n",
    "wn.mainloop()"
   ]
  },
  {
   "cell_type": "code",
   "execution_count": null,
   "id": "1ac22f8d",
   "metadata": {},
   "outputs": [],
   "source": []
  }
 ],
 "metadata": {
  "kernelspec": {
   "display_name": "Python 3 (ipykernel)",
   "language": "python",
   "name": "python3"
  },
  "language_info": {
   "codemirror_mode": {
    "name": "ipython",
    "version": 3
   },
   "file_extension": ".py",
   "mimetype": "text/x-python",
   "name": "python",
   "nbconvert_exporter": "python",
   "pygments_lexer": "ipython3",
   "version": "3.11.3"
  },
  "toc": {
   "base_numbering": 1,
   "nav_menu": {},
   "number_sections": true,
   "sideBar": true,
   "skip_h1_title": true,
   "title_cell": "Table of Contents",
   "title_sidebar": "Contents",
   "toc_cell": false,
   "toc_position": {},
   "toc_section_display": true,
   "toc_window_display": false
  }
 },
 "nbformat": 4,
 "nbformat_minor": 5
}
