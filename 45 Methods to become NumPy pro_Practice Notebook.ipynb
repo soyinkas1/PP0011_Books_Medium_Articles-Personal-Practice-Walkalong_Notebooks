{
 "cells": [
  {
   "cell_type": "markdown",
   "id": "7bd607d5",
   "metadata": {},
   "source": [
    "## Introduction \n",
    "The article writes about 45 methods in NumPy that you should master to become a pro. This notebook is for practice of all the methods and codes described in the article\n",
    "\n",
    "Article link - https://medium.com/geekculture/the-only-45-methods-you-should-master-to-become-a-numpy-pro-6ea77a8638a6\n",
    "\n",
    "Soyinka Sowoolu\n",
    "29th April 2023 "
   ]
  },
  {
   "cell_type": "code",
   "execution_count": 1,
   "id": "34c43c73",
   "metadata": {},
   "outputs": [
    {
     "ename": "ModuleNotFoundError",
     "evalue": "No module named 'numpy'",
     "output_type": "error",
     "traceback": [
      "\u001b[1;31m---------------------------------------------------------------------------\u001b[0m",
      "\u001b[1;31mModuleNotFoundError\u001b[0m                       Traceback (most recent call last)",
      "Cell \u001b[1;32mIn[1], line 2\u001b[0m\n\u001b[0;32m      1\u001b[0m \u001b[38;5;66;03m# Import the NumPy library and Pandas as well\u001b[39;00m\n\u001b[1;32m----> 2\u001b[0m \u001b[38;5;28;01mimport\u001b[39;00m \u001b[38;5;21;01mnumpy\u001b[39;00m \u001b[38;5;28;01mas\u001b[39;00m \u001b[38;5;21;01mnp\u001b[39;00m\n\u001b[0;32m      3\u001b[0m \u001b[38;5;28;01mimport\u001b[39;00m \u001b[38;5;21;01mpandas\u001b[39;00m \u001b[38;5;28;01mas\u001b[39;00m \u001b[38;5;21;01mpd\u001b[39;00m \n",
      "\u001b[1;31mModuleNotFoundError\u001b[0m: No module named 'numpy'"
     ]
    }
   ],
   "source": [
    "# Import the NumPy library and Pandas as well\n",
    "import numpy as np\n",
    "import pandas as pd "
   ]
  },
  {
   "cell_type": "markdown",
   "id": "0f693721",
   "metadata": {},
   "source": [
    "### (1-10) NumPy array creation methods "
   ]
  },
  {
   "cell_type": "markdown",
   "id": "5377aaaf",
   "metadata": {},
   "source": [
    "**#1  NumPy array from a python list**"
   ]
  },
  {
   "cell_type": "code",
   "execution_count": 2,
   "id": "2683bad7",
   "metadata": {},
   "outputs": [
    {
     "data": {
      "text/plain": [
       "array([1, 2, 3])"
      ]
     },
     "execution_count": 2,
     "metadata": {},
     "output_type": "execute_result"
    }
   ],
   "source": [
    "# Using the 'np.array()' method\n",
    "a = [1, 2, 3]\n",
    "np.array(a)"
   ]
  },
  {
   "cell_type": "code",
   "execution_count": 3,
   "id": "ba9c3ba9",
   "metadata": {},
   "outputs": [
    {
     "data": {
      "text/plain": [
       "numpy.ndarray"
      ]
     },
     "execution_count": 3,
     "metadata": {},
     "output_type": "execute_result"
    }
   ],
   "source": [
    "# We can verify the datatype using the 'type()' method in python\n",
    "type(np.array(a))"
   ]
  },
  {
   "cell_type": "code",
   "execution_count": 4,
   "id": "b981bbf2",
   "metadata": {},
   "outputs": [
    {
     "data": {
      "text/plain": [
       "array([[1, 2, 3],\n",
       "       [3, 5, 6]])"
      ]
     },
     "execution_count": 4,
     "metadata": {},
     "output_type": "execute_result"
    }
   ],
   "source": [
    "# We can create a multi-dimensional array using a list of list e.g. 2 -dimensions as below\n",
    "a = [[1, 2, 3], [3, 5, 6]]\n",
    "np.array(a)"
   ]
  },
  {
   "cell_type": "code",
   "execution_count": 5,
   "id": "cbf4434e",
   "metadata": {},
   "outputs": [
    {
     "data": {
      "text/plain": [
       "numpy.ndarray"
      ]
     },
     "execution_count": 5,
     "metadata": {},
     "output_type": "execute_result"
    }
   ],
   "source": [
    "type(np.array(a))"
   ]
  },
  {
   "cell_type": "code",
   "execution_count": 6,
   "id": "6159ec69",
   "metadata": {},
   "outputs": [
    {
     "data": {
      "text/plain": [
       "array([[1., 2., 3.],\n",
       "       [4., 6., 9.]], dtype=float32)"
      ]
     },
     "execution_count": 6,
     "metadata": {},
     "output_type": "execute_result"
    }
   ],
   "source": [
    "# To create a NumPy array of a specific type , pass the dtype argument\n",
    "a = [[1, 2 ,3], [4,6,9]]\n",
    "np.array(a,dtype = np.float32)"
   ]
  },
  {
   "cell_type": "markdown",
   "id": "b8ff3332",
   "metadata": {},
   "source": [
    "**#2 Create a NumPy array of Zeros**"
   ]
  },
  {
   "cell_type": "code",
   "execution_count": 7,
   "id": "0d263390",
   "metadata": {},
   "outputs": [
    {
     "data": {
      "text/plain": [
       "array([0., 0., 0., 0., 0.])"
      ]
     },
     "execution_count": 7,
     "metadata": {},
     "output_type": "execute_result"
    }
   ],
   "source": [
    "# This is done with the 'np.zeros()' method\n",
    "np.zeros(5)\n"
   ]
  },
  {
   "cell_type": "code",
   "execution_count": 8,
   "id": "cb0ca5a0",
   "metadata": {},
   "outputs": [
    {
     "data": {
      "text/plain": [
       "array([[0., 0., 0., 0., 0., 0., 0., 0., 0.],\n",
       "       [0., 0., 0., 0., 0., 0., 0., 0., 0.],\n",
       "       [0., 0., 0., 0., 0., 0., 0., 0., 0.]])"
      ]
     },
     "execution_count": 8,
     "metadata": {},
     "output_type": "execute_result"
    }
   ],
   "source": [
    "# For multi-dimensional zeros array\n",
    "np.zeros((3,9)) # not using a tuple will give a data type error"
   ]
  },
  {
   "cell_type": "markdown",
   "id": "7d0d352a",
   "metadata": {},
   "source": [
    "**#3 Create a NumPy array of ones**"
   ]
  },
  {
   "cell_type": "code",
   "execution_count": 9,
   "id": "ea3b6d5e",
   "metadata": {},
   "outputs": [
    {
     "data": {
      "text/plain": [
       "array([1., 1., 1., 1.])"
      ]
     },
     "execution_count": 9,
     "metadata": {},
     "output_type": "execute_result"
    }
   ],
   "source": [
    "# This is done with the 'np.ones()' method\n",
    "np.ones(4)"
   ]
  },
  {
   "cell_type": "code",
   "execution_count": 10,
   "id": "053f6ee2",
   "metadata": {},
   "outputs": [
    {
     "data": {
      "text/plain": [
       "array([[[1., 1., 1., 1., 1., 1., 1.],\n",
       "        [1., 1., 1., 1., 1., 1., 1.],\n",
       "        [1., 1., 1., 1., 1., 1., 1.],\n",
       "        [1., 1., 1., 1., 1., 1., 1.],\n",
       "        [1., 1., 1., 1., 1., 1., 1.],\n",
       "        [1., 1., 1., 1., 1., 1., 1.]],\n",
       "\n",
       "       [[1., 1., 1., 1., 1., 1., 1.],\n",
       "        [1., 1., 1., 1., 1., 1., 1.],\n",
       "        [1., 1., 1., 1., 1., 1., 1.],\n",
       "        [1., 1., 1., 1., 1., 1., 1.],\n",
       "        [1., 1., 1., 1., 1., 1., 1.],\n",
       "        [1., 1., 1., 1., 1., 1., 1.]],\n",
       "\n",
       "       [[1., 1., 1., 1., 1., 1., 1.],\n",
       "        [1., 1., 1., 1., 1., 1., 1.],\n",
       "        [1., 1., 1., 1., 1., 1., 1.],\n",
       "        [1., 1., 1., 1., 1., 1., 1.],\n",
       "        [1., 1., 1., 1., 1., 1., 1.],\n",
       "        [1., 1., 1., 1., 1., 1., 1.]],\n",
       "\n",
       "       [[1., 1., 1., 1., 1., 1., 1.],\n",
       "        [1., 1., 1., 1., 1., 1., 1.],\n",
       "        [1., 1., 1., 1., 1., 1., 1.],\n",
       "        [1., 1., 1., 1., 1., 1., 1.],\n",
       "        [1., 1., 1., 1., 1., 1., 1.],\n",
       "        [1., 1., 1., 1., 1., 1., 1.]]])"
      ]
     },
     "execution_count": 10,
     "metadata": {},
     "output_type": "execute_result"
    }
   ],
   "source": [
    "# For multi-dimensional array pass a tuple of the array shape e.g. 3-D\n",
    "np.ones((4,6,7))"
   ]
  },
  {
   "cell_type": "markdown",
   "id": "8f0cb68f",
   "metadata": {},
   "source": [
    "**#4 Create an identity Numpy Array**"
   ]
  },
  {
   "cell_type": "code",
   "execution_count": 11,
   "id": "e728e269",
   "metadata": {},
   "outputs": [
    {
     "data": {
      "text/plain": [
       "array([[1., 0., 0., 0., 0.],\n",
       "       [0., 1., 0., 0., 0.],\n",
       "       [0., 0., 1., 0., 0.],\n",
       "       [0., 0., 0., 1., 0.],\n",
       "       [0., 0., 0., 0., 1.]])"
      ]
     },
     "execution_count": 11,
     "metadata": {},
     "output_type": "execute_result"
    }
   ],
   "source": [
    "# This is an array where '1' are on the diagonal and others filled with '0' \n",
    "\n",
    "# This is done using the 'np.eye()' method\n",
    "np.eye(5)"
   ]
  },
  {
   "cell_type": "markdown",
   "id": "6762ef30",
   "metadata": {},
   "source": [
    "**#5 Create an equally spaced array with a specific step skipped**"
   ]
  },
  {
   "cell_type": "code",
   "execution_count": 12,
   "id": "5ee095d1",
   "metadata": {},
   "outputs": [
    {
     "data": {
      "text/plain": [
       "array([ 0,  1,  2,  3,  4,  5,  6,  7,  8,  9, 10])"
      ]
     },
     "execution_count": 12,
     "metadata": {},
     "output_type": "execute_result"
    }
   ],
   "source": [
    "# This is created using the 'np.arange()' method\n",
    "# Generate values from 0 -10 with 1 step\n",
    "np.arange(0, 11, 1)"
   ]
  },
  {
   "cell_type": "code",
   "execution_count": 13,
   "id": "542bb184",
   "metadata": {},
   "outputs": [
    {
     "data": {
      "text/plain": [
       "array([0, 1, 2, 3, 4, 5, 6, 7, 8, 9])"
      ]
     },
     "execution_count": 13,
     "metadata": {},
     "output_type": "execute_result"
    }
   ],
   "source": [
    "# Generate without starting start point (defaults from 0 and steps 1)\n",
    "np.arange(10)"
   ]
  },
  {
   "cell_type": "code",
   "execution_count": 14,
   "id": "e2909c78",
   "metadata": {},
   "outputs": [
    {
     "data": {
      "text/plain": [
       "array([5, 7, 9])"
      ]
     },
     "execution_count": 14,
     "metadata": {},
     "output_type": "execute_result"
    }
   ],
   "source": [
    "# Generate from 5-11 step 2\n",
    "np.arange(5, 11, 2)"
   ]
  },
  {
   "cell_type": "markdown",
   "id": "264ae264",
   "metadata": {},
   "source": [
    "**#6 Create an equally spaced array with a specific array size**"
   ]
  },
  {
   "cell_type": "code",
   "execution_count": 15,
   "id": "f6537afc",
   "metadata": {},
   "outputs": [
    {
     "data": {
      "text/plain": [
       "array([ 2.        ,  4.55555556,  7.11111111,  9.66666667, 12.22222222,\n",
       "       14.77777778, 17.33333333, 19.88888889, 22.44444444, 25.        ])"
      ]
     },
     "execution_count": 15,
     "metadata": {},
     "output_type": "execute_result"
    }
   ],
   "source": [
    "# Generate n-nums (items) equally spaced within the interval defined using 'np.linspace(start=x, stop =y, num = n)'\n",
    "np.linspace(2, 25, 10)"
   ]
  },
  {
   "cell_type": "markdown",
   "id": "00687b33",
   "metadata": {},
   "source": [
    "**#7-8 Create a random NumPy array**"
   ]
  },
  {
   "cell_type": "code",
   "execution_count": 16,
   "id": "54bf2486",
   "metadata": {},
   "outputs": [
    {
     "data": {
      "text/plain": [
       "(array([ 8, 15, 14,  9, 12]), array([17, 41,  5, 36]))"
      ]
     },
     "execution_count": 16,
     "metadata": {},
     "output_type": "execute_result"
    }
   ],
   "source": [
    "# Generate random array of integers\n",
    "np.random.randint(low=5, high=16, size=5),np.random.randint(low=3, high=46, size=4)"
   ]
  },
  {
   "cell_type": "code",
   "execution_count": 17,
   "id": "ee339a87",
   "metadata": {},
   "outputs": [
    {
     "data": {
      "text/plain": [
       "(array([0.80540327, 0.56325764, 0.14439973, 0.76525774, 0.6328077 ,\n",
       "        0.09542334, 0.19213061, 0.01946985, 0.84509799, 0.52635273]),\n",
       " array([0.04295742, 0.15090704, 0.01977598, 0.75971838, 0.23263461,\n",
       "        0.24798641, 0.31336707]))"
      ]
     },
     "execution_count": 17,
     "metadata": {},
     "output_type": "execute_result"
    }
   ],
   "source": [
    "# Generate a random float sample\n",
    "np.random.random(size = 10),np.random.random(7) # takes only one positional argument"
   ]
  },
  {
   "cell_type": "markdown",
   "id": "f1603512",
   "metadata": {},
   "source": [
    "**#9-10 Generate NumPy array from Pandas Series**\n"
   ]
  },
  {
   "cell_type": "code",
   "execution_count": 18,
   "id": "1477f1b7",
   "metadata": {},
   "outputs": [
    {
     "data": {
      "text/plain": [
       "array([1, 2, 3, 4, 5], dtype=int64)"
      ]
     },
     "execution_count": 18,
     "metadata": {},
     "output_type": "execute_result"
    }
   ],
   "source": [
    "# This can be done two ways. 1. using 'np.array()' 2. using 'np.asarray()'\n",
    "s =pd.Series([1, 2, 3, 4, 5], name = 'col')\n",
    "# method 1\n",
    "np.array(s)\n"
   ]
  },
  {
   "cell_type": "code",
   "execution_count": 19,
   "id": "0e6445f1",
   "metadata": {},
   "outputs": [
    {
     "data": {
      "text/plain": [
       "array([1, 2, 3, 4, 5], dtype=int64)"
      ]
     },
     "execution_count": 19,
     "metadata": {},
     "output_type": "execute_result"
    }
   ],
   "source": [
    "# method 2 \n",
    "np.asarray(s)"
   ]
  },
  {
   "cell_type": "markdown",
   "id": "e79a63fa",
   "metadata": {},
   "source": [
    "### (11-21) NumPy array Manipulation methods "
   ]
  },
  {
   "cell_type": "markdown",
   "id": "fb79ac58",
   "metadata": {},
   "source": [
    "**#11 Shape of the NumPy array**"
   ]
  },
  {
   "cell_type": "code",
   "execution_count": 20,
   "id": "7b2d42bb",
   "metadata": {},
   "outputs": [
    {
     "name": "stdout",
     "output_type": "stream",
     "text": [
      "The shape of the array- method 1 (2, 3)\n",
      "The shape of the array- method 2 (2, 3)\n"
     ]
    }
   ],
   "source": [
    "# To determine the shape use 'np.shape()' method or the 'shape attribute of the ndarray'\n",
    "a = np.ones((2,3))\n",
    "print(f'The shape of the array- method 1 {np.shape(a)}')\n",
    "print(f'The shape of the array- method 2 {a.shape}')"
   ]
  },
  {
   "cell_type": "markdown",
   "id": "5b42a58b",
   "metadata": {},
   "source": [
    "**#12 Reshape the NumPy array**"
   ]
  },
  {
   "cell_type": "code",
   "execution_count": 21,
   "id": "1c62b3c1",
   "metadata": {},
   "outputs": [
    {
     "data": {
      "text/plain": [
       "array([0, 1, 2, 3, 4, 5, 6, 7, 8, 9])"
      ]
     },
     "execution_count": 21,
     "metadata": {},
     "output_type": "execute_result"
    }
   ],
   "source": [
    "# This is giving a new shape to the array without altering its contents\n",
    "# This is done using the 'np.reshape()' method\n",
    "a = np.arange(10)\n",
    "a"
   ]
  },
  {
   "cell_type": "code",
   "execution_count": 22,
   "id": "e0f37a7d",
   "metadata": {},
   "outputs": [
    {
     "data": {
      "text/plain": [
       "array([[0, 1, 2, 3, 4],\n",
       "       [5, 6, 7, 8, 9]])"
      ]
     },
     "execution_count": 22,
     "metadata": {},
     "output_type": "execute_result"
    }
   ],
   "source": [
    "a.reshape(2,5)"
   ]
  },
  {
   "cell_type": "markdown",
   "id": "b51f3f18",
   "metadata": {},
   "source": [
    "**#13 -14 Transpose the NumPy Array**"
   ]
  },
  {
   "cell_type": "code",
   "execution_count": 23,
   "id": "2179a286",
   "metadata": {},
   "outputs": [
    {
     "data": {
      "text/plain": [
       "array([[ 0,  1],\n",
       "       [ 2,  3],\n",
       "       [ 4,  5],\n",
       "       [ 6,  7],\n",
       "       [ 8,  9],\n",
       "       [10, 11]])"
      ]
     },
     "execution_count": 23,
     "metadata": {},
     "output_type": "execute_result"
    }
   ],
   "source": [
    "# Tranposing an array (turning the rows to columns) is done using 'np.transpose()' or 'ndarray.T' \n",
    "a = np.arange(12).reshape(6,2)\n",
    "a"
   ]
  },
  {
   "cell_type": "code",
   "execution_count": 24,
   "id": "ea75dff5",
   "metadata": {},
   "outputs": [
    {
     "data": {
      "text/plain": [
       "array([[ 0,  2,  4,  6,  8, 10],\n",
       "       [ 1,  3,  5,  7,  9, 11]])"
      ]
     },
     "execution_count": 24,
     "metadata": {},
     "output_type": "execute_result"
    }
   ],
   "source": [
    "# method 1\n",
    "np.transpose(a)"
   ]
  },
  {
   "cell_type": "code",
   "execution_count": 25,
   "id": "46e64cde",
   "metadata": {},
   "outputs": [
    {
     "data": {
      "text/plain": [
       "array([[ 0,  2,  4,  6,  8, 10],\n",
       "       [ 1,  3,  5,  7,  9, 11]])"
      ]
     },
     "execution_count": 25,
     "metadata": {},
     "output_type": "execute_result"
    }
   ],
   "source": [
    "# method 2\n",
    "a.T"
   ]
  },
  {
   "cell_type": "markdown",
   "id": "92a5bb41",
   "metadata": {},
   "source": [
    "**#15-17 Concatenate multiple NumPy arrays to form one NumPy array**"
   ]
  },
  {
   "cell_type": "code",
   "execution_count": 26,
   "id": "bcc5d297",
   "metadata": {},
   "outputs": [
    {
     "data": {
      "text/plain": [
       "array([[1, 2],\n",
       "       [3, 4],\n",
       "       [5, 6]])"
      ]
     },
     "execution_count": 26,
     "metadata": {},
     "output_type": "execute_result"
    }
   ],
   "source": [
    "# You use the 'np.concatenate()' method to join sequence of arrays and obtain new array\n",
    "# Concatenate row-wise\n",
    "a = np.array([[1, 2],[3, 4]])\n",
    "b = np.array([[5, 6]])\n",
    "np.concatenate((a, b), axis =0)"
   ]
  },
  {
   "cell_type": "code",
   "execution_count": 27,
   "id": "6fe7004e",
   "metadata": {},
   "outputs": [
    {
     "data": {
      "text/plain": [
       "array([[5, 6]])"
      ]
     },
     "execution_count": 27,
     "metadata": {},
     "output_type": "execute_result"
    }
   ],
   "source": [
    "b # We will need to transpose for the next operation"
   ]
  },
  {
   "cell_type": "code",
   "execution_count": 28,
   "id": "cb81879a",
   "metadata": {},
   "outputs": [
    {
     "data": {
      "text/plain": [
       "array([[1, 2, 5],\n",
       "       [3, 4, 6]])"
      ]
     },
     "execution_count": 28,
     "metadata": {},
     "output_type": "execute_result"
    }
   ],
   "source": [
    "# Concatenate column-wise\n",
    "np.concatenate((a,b.T),axis=1)"
   ]
  },
  {
   "cell_type": "code",
   "execution_count": 29,
   "id": "229fd6b3",
   "metadata": {},
   "outputs": [
    {
     "data": {
      "text/plain": [
       "array([1, 2, 3, 4, 5, 6])"
      ]
     },
     "execution_count": 29,
     "metadata": {},
     "output_type": "execute_result"
    }
   ],
   "source": [
    "# Concatenate to generate a flat NumPy array\n",
    "np.concatenate((a,b),axis=None) "
   ]
  },
  {
   "cell_type": "markdown",
   "id": "98f858d7",
   "metadata": {},
   "source": [
    "**#18 Flatten NumPy Array**"
   ]
  },
  {
   "cell_type": "code",
   "execution_count": 30,
   "id": "dae99789",
   "metadata": {},
   "outputs": [
    {
     "data": {
      "text/plain": [
       "(array([[1, 2],\n",
       "        [4, 8]]),\n",
       " array([1, 2, 4, 8]))"
      ]
     },
     "execution_count": 30,
     "metadata": {},
     "output_type": "execute_result"
    }
   ],
   "source": [
    "# You can collapse the NumPy array into a single dimension using 'ndarray.flatten()'\n",
    "a = np.array([[1, 2],[4, 8]])\n",
    "a, a.flatten()"
   ]
  },
  {
   "cell_type": "markdown",
   "id": "9a5bac36",
   "metadata": {},
   "source": [
    "**#19 Unique elements of a NumPy Array**"
   ]
  },
  {
   "cell_type": "code",
   "execution_count": 31,
   "id": "0cc14993",
   "metadata": {},
   "outputs": [
    {
     "data": {
      "text/plain": [
       "array([3, 4, 8])"
      ]
     },
     "execution_count": 31,
     "metadata": {},
     "output_type": "execute_result"
    }
   ],
   "source": [
    "# Use the 'np.unique()' method\n",
    "a = np.array([[3, 4],[3, 8],[8, 4]])\n",
    "np.unique(a)"
   ]
  },
  {
   "cell_type": "code",
   "execution_count": 32,
   "id": "fd3ed483",
   "metadata": {},
   "outputs": [
    {
     "data": {
      "text/plain": [
       "array([[3, 4],\n",
       "       [3, 8],\n",
       "       [8, 4]])"
      ]
     },
     "execution_count": 32,
     "metadata": {},
     "output_type": "execute_result"
    }
   ],
   "source": [
    "a"
   ]
  },
  {
   "cell_type": "code",
   "execution_count": 33,
   "id": "5144bd2c",
   "metadata": {
    "scrolled": true
   },
   "outputs": [
    {
     "data": {
      "text/plain": [
       "array([[5, 6]])"
      ]
     },
     "execution_count": 33,
     "metadata": {},
     "output_type": "execute_result"
    }
   ],
   "source": [
    "b"
   ]
  },
  {
   "cell_type": "code",
   "execution_count": 34,
   "id": "48485aec",
   "metadata": {},
   "outputs": [
    {
     "data": {
      "text/plain": [
       "array([[1, 1, 3],\n",
       "       [2, 2, 3]])"
      ]
     },
     "execution_count": 34,
     "metadata": {},
     "output_type": "execute_result"
    }
   ],
   "source": [
    "# unique rows\n",
    "b = np.array([[1, 1, 3], [1, 1, 3], [2, 2, 3]])\n",
    "np.unique(b,axis=0)"
   ]
  },
  {
   "cell_type": "code",
   "execution_count": 35,
   "id": "33af52cb",
   "metadata": {},
   "outputs": [
    {
     "data": {
      "text/plain": [
       "array([[1, 3],\n",
       "       [1, 3],\n",
       "       [2, 3]])"
      ]
     },
     "execution_count": 35,
     "metadata": {},
     "output_type": "execute_result"
    }
   ],
   "source": [
    "# Unique columns\n",
    "np.unique(b,axis=1)"
   ]
  },
  {
   "cell_type": "markdown",
   "id": "77fec142",
   "metadata": {},
   "source": [
    "**#20 Squeeze a NumPy Array**"
   ]
  },
  {
   "cell_type": "code",
   "execution_count": 36,
   "id": "4748f3e4",
   "metadata": {},
   "outputs": [
    {
     "data": {
      "text/plain": [
       "array([[[0],\n",
       "        [1],\n",
       "        [2]]])"
      ]
     },
     "execution_count": 36,
     "metadata": {},
     "output_type": "execute_result"
    }
   ],
   "source": [
    "# You can remove axes of length one from your NumPy array, use the 'np.squeeze()' method'\n",
    "x = np.array([[[0], [1], [2]]])\n",
    "x"
   ]
  },
  {
   "cell_type": "code",
   "execution_count": 37,
   "id": "6333679d",
   "metadata": {},
   "outputs": [
    {
     "data": {
      "text/plain": [
       "(1, 3, 1)"
      ]
     },
     "execution_count": 37,
     "metadata": {},
     "output_type": "execute_result"
    }
   ],
   "source": [
    "x.shape"
   ]
  },
  {
   "cell_type": "code",
   "execution_count": 39,
   "id": "d328e02d",
   "metadata": {},
   "outputs": [
    {
     "data": {
      "text/plain": [
       "array([0, 1, 2])"
      ]
     },
     "execution_count": 39,
     "metadata": {},
     "output_type": "execute_result"
    }
   ],
   "source": [
    "x_squeeze = np.squeeze(x)\n",
    "x_squeeze"
   ]
  },
  {
   "cell_type": "code",
   "execution_count": 40,
   "id": "793d4756",
   "metadata": {},
   "outputs": [
    {
     "data": {
      "text/plain": [
       "(3,)"
      ]
     },
     "execution_count": 40,
     "metadata": {},
     "output_type": "execute_result"
    }
   ],
   "source": [
    "x_squeeze.shape"
   ]
  },
  {
   "cell_type": "markdown",
   "id": "cc77d139",
   "metadata": {},
   "source": [
    "**#21 Transfrom NumPy array to Python list**"
   ]
  },
  {
   "cell_type": "code",
   "execution_count": 43,
   "id": "8887747c",
   "metadata": {},
   "outputs": [
    {
     "data": {
      "text/plain": [
       "array([[1, 1, 3],\n",
       "       [1, 1, 3],\n",
       "       [1, 1, 4]])"
      ]
     },
     "execution_count": 43,
     "metadata": {},
     "output_type": "execute_result"
    }
   ],
   "source": [
    "# Create a Python list from a NumPy array using the 'ndarray.tolist()' method\n",
    "# define the NumPy array\n",
    "a = np.array([[1, 1, 3], [1, 1, 3], [1, 1, 4]])\n",
    "a"
   ]
  },
  {
   "cell_type": "code",
   "execution_count": 44,
   "id": "75fa8048",
   "metadata": {},
   "outputs": [
    {
     "data": {
      "text/plain": [
       "[[1, 1, 3], [1, 1, 3], [1, 1, 4]]"
      ]
     },
     "execution_count": 44,
     "metadata": {},
     "output_type": "execute_result"
    }
   ],
   "source": [
    "# Convert to a list\n",
    "a.tolist()"
   ]
  },
  {
   "cell_type": "markdown",
   "id": "e7f29a22",
   "metadata": {},
   "source": [
    "### (22-33) Mathematical Operations on NumPy arrays**"
   ]
  },
  {
   "cell_type": "markdown",
   "id": "9a36553d",
   "metadata": {},
   "source": [
    "**#22-24 Trigonometric Functions**"
   ]
  },
  {
   "cell_type": "code",
   "execution_count": 45,
   "id": "509def41",
   "metadata": {},
   "outputs": [
    {
     "name": "stdout",
     "output_type": "stream",
     "text": [
      "Trigonometric Sine : [0.84147098 0.90929743 0.14112001]\n",
      "Trigonometric Cosine : [ 0.54030231 -0.41614684 -0.9899925 ]\n",
      "Trigonometric Tangent : [ 1.55740772 -2.18503986 -0.14254654]\n"
     ]
    }
   ],
   "source": [
    "a = np.array([1, 2, 3])\n",
    "print('Trigonometric Sine :', np.sin(a))\n",
    "print('Trigonometric Cosine :', np.cos(a))\n",
    "print('Trigonometric Tangent :', np.tan(a))\n"
   ]
  },
  {
   "cell_type": "markdown",
   "id": "b5446ea0",
   "metadata": {},
   "source": [
    "**#25-28 Rounding Functions**\n"
   ]
  },
  {
   "cell_type": "markdown",
   "id": "f27a67bb",
   "metadata": {},
   "source": [
    "You can use the following :\n",
    "\n",
    "   *  return the element-wise floor using `np.floor()` method\n",
    "   *  Return the element-wise ceiling using the `np.ceil()` method\n",
    "   *  Round to the nearest integer using the `np.rint()` method\n"
   ]
  },
  {
   "cell_type": "code",
   "execution_count": 47,
   "id": "d605d0f3",
   "metadata": {},
   "outputs": [
    {
     "data": {
      "text/plain": [
       "array([1.  , 1.25, 1.5 , 1.75, 2.  ])"
      ]
     },
     "execution_count": 47,
     "metadata": {},
     "output_type": "execute_result"
    }
   ],
   "source": [
    "a = np.linspace(1, 2, 5)\n",
    "a"
   ]
  },
  {
   "cell_type": "code",
   "execution_count": 48,
   "id": "fe53580e",
   "metadata": {},
   "outputs": [
    {
     "data": {
      "text/plain": [
       "array([1., 1., 1., 1., 2.])"
      ]
     },
     "execution_count": 48,
     "metadata": {},
     "output_type": "execute_result"
    }
   ],
   "source": [
    "np.floor(a)"
   ]
  },
  {
   "cell_type": "code",
   "execution_count": 50,
   "id": "79e9b844",
   "metadata": {},
   "outputs": [
    {
     "data": {
      "text/plain": [
       "array([1., 2., 2., 2., 2.])"
      ]
     },
     "execution_count": 50,
     "metadata": {},
     "output_type": "execute_result"
    }
   ],
   "source": [
    "np.ceil(a)"
   ]
  },
  {
   "cell_type": "code",
   "execution_count": 51,
   "id": "68cd2d17",
   "metadata": {},
   "outputs": [
    {
     "data": {
      "text/plain": [
       "array([1., 1., 2., 2., 2.])"
      ]
     },
     "execution_count": 51,
     "metadata": {},
     "output_type": "execute_result"
    }
   ],
   "source": [
    "np.rint(a)"
   ]
  },
  {
   "cell_type": "code",
   "execution_count": 53,
   "id": "ff50f192",
   "metadata": {},
   "outputs": [
    {
     "data": {
      "text/plain": [
       "array([1.  , 1.17, 1.33, 1.5 , 1.67, 1.83, 2.  ])"
      ]
     },
     "execution_count": 53,
     "metadata": {},
     "output_type": "execute_result"
    }
   ],
   "source": [
    "# round up to a given number of decimals using the `np.round()`\n",
    "a = np.linspace(1, 2, 7)\n",
    "np.round(a,2)"
   ]
  },
  {
   "cell_type": "markdown",
   "id": "34f48453",
   "metadata": {},
   "source": [
    "**#29-30 Exponents and logarithms**\n"
   ]
  },
  {
   "cell_type": "code",
   "execution_count": 55,
   "id": "ec31f75f",
   "metadata": {},
   "outputs": [
    {
     "data": {
      "text/plain": [
       "array([1, 2, 3, 4, 5])"
      ]
     },
     "execution_count": 55,
     "metadata": {},
     "output_type": "execute_result"
    }
   ],
   "source": [
    "# Calculate the element-wise exponential using the `np.exp()` method\n",
    "# Calculate the element-wise natural logarithm using the np.log() method\n",
    "\n",
    "a = np.arange(1, 6)\n",
    "a\n"
   ]
  },
  {
   "cell_type": "code",
   "execution_count": 56,
   "id": "bfd9a80b",
   "metadata": {},
   "outputs": [
    {
     "data": {
      "text/plain": [
       "array([  2.72,   7.39,  20.09,  54.6 , 148.41])"
      ]
     },
     "execution_count": 56,
     "metadata": {},
     "output_type": "execute_result"
    }
   ],
   "source": [
    "np.exp(a).round(2)"
   ]
  },
  {
   "cell_type": "code",
   "execution_count": 57,
   "id": "4ff4d3e7",
   "metadata": {},
   "outputs": [
    {
     "data": {
      "text/plain": [
       "array([0.  , 0.69, 1.1 , 1.39, 1.61])"
      ]
     },
     "execution_count": 57,
     "metadata": {},
     "output_type": "execute_result"
    }
   ],
   "source": [
    "np.log(a).round(2)"
   ]
  },
  {
   "cell_type": "markdown",
   "id": "02f17f3b",
   "metadata": {},
   "source": [
    "**#31-32 Sum and Product**"
   ]
  },
  {
   "cell_type": "code",
   "execution_count": 59,
   "id": "a2adaeef",
   "metadata": {},
   "outputs": [
    {
     "data": {
      "text/plain": [
       "10"
      ]
     },
     "execution_count": 59,
     "metadata": {},
     "output_type": "execute_result"
    }
   ],
   "source": [
    "# Use the `np.sum()` to calculate the sum of array elements\n",
    "a =np.array([[1, 2], [3, 4]])\n",
    "np.sum(a)"
   ]
  },
  {
   "cell_type": "code",
   "execution_count": 60,
   "id": "a951b818",
   "metadata": {},
   "outputs": [
    {
     "data": {
      "text/plain": [
       "array([3, 7])"
      ]
     },
     "execution_count": 60,
     "metadata": {},
     "output_type": "execute_result"
    }
   ],
   "source": [
    "# Sum the columns\n",
    "np.sum(a, axis=1) "
   ]
  },
  {
   "cell_type": "code",
   "execution_count": 61,
   "id": "040307df",
   "metadata": {},
   "outputs": [
    {
     "data": {
      "text/plain": [
       "array([4, 6])"
      ]
     },
     "execution_count": 61,
     "metadata": {},
     "output_type": "execute_result"
    }
   ],
   "source": [
    "# Sum the rows\n",
    "np.sum(a, axis=0)"
   ]
  },
  {
   "cell_type": "code",
   "execution_count": 62,
   "id": "5a2fdb00",
   "metadata": {},
   "outputs": [
    {
     "data": {
      "text/plain": [
       "24"
      ]
     },
     "execution_count": 62,
     "metadata": {},
     "output_type": "execute_result"
    }
   ],
   "source": [
    "# Use the `np.prod()` to calculate the products of the elements\n",
    "np.prod(a)"
   ]
  },
  {
   "cell_type": "code",
   "execution_count": 63,
   "id": "9fd7f454",
   "metadata": {},
   "outputs": [
    {
     "data": {
      "text/plain": [
       "array([ 2, 12])"
      ]
     },
     "execution_count": 63,
     "metadata": {},
     "output_type": "execute_result"
    }
   ],
   "source": [
    "# Calculate the product of the columns\n",
    "np.prod(a, axis=1)"
   ]
  },
  {
   "cell_type": "code",
   "execution_count": 65,
   "id": "484ac780",
   "metadata": {},
   "outputs": [
    {
     "data": {
      "text/plain": [
       "array([3, 8])"
      ]
     },
     "execution_count": 65,
     "metadata": {},
     "output_type": "execute_result"
    }
   ],
   "source": [
    "# Calculate the product of the rows\n",
    "np.prod(a, axis=0)"
   ]
  },
  {
   "cell_type": "markdown",
   "id": "27654f19",
   "metadata": {},
   "source": [
    "**#33 Square root**"
   ]
  },
  {
   "cell_type": "code",
   "execution_count": 66,
   "id": "7f5cd706",
   "metadata": {},
   "outputs": [
    {
     "data": {
      "text/plain": [
       "array([[1, 2],\n",
       "       [3, 4]])"
      ]
     },
     "execution_count": 66,
     "metadata": {},
     "output_type": "execute_result"
    }
   ],
   "source": [
    "# Use the `np.sqrt()` method\n",
    "a = np.array([[1, 2], [3, 4]])\n",
    "a"
   ]
  },
  {
   "cell_type": "code",
   "execution_count": 68,
   "id": "e8ebc939",
   "metadata": {},
   "outputs": [
    {
     "data": {
      "text/plain": [
       "array([[1.   , 1.414],\n",
       "       [1.732, 2.   ]])"
      ]
     },
     "execution_count": 68,
     "metadata": {},
     "output_type": "execute_result"
    }
   ],
   "source": [
    "np.sqrt(a).round(3)"
   ]
  },
  {
   "cell_type": "markdown",
   "id": "ee5c2547",
   "metadata": {},
   "source": [
    "### (34-36) Matrix and Vector Operations"
   ]
  },
  {
   "cell_type": "markdown",
   "id": "e9ce7389",
   "metadata": {},
   "source": [
    "**#34 Dot product**"
   ]
  },
  {
   "cell_type": "code",
   "execution_count": 69,
   "id": "7283b9cd",
   "metadata": {},
   "outputs": [
    {
     "data": {
      "text/plain": [
       "array([[3, 3],\n",
       "       [7, 7]])"
      ]
     },
     "execution_count": 69,
     "metadata": {},
     "output_type": "execute_result"
    }
   ],
   "source": [
    "# Use the `np.dot()` to calculate dot product of two arrays\n",
    "a = np.array([[1, 2], [3, 4]])\n",
    "b = np.array([[1, 1], [1, 1]])\n",
    "\n",
    "np.dot(a,b)"
   ]
  },
  {
   "cell_type": "markdown",
   "id": "6c1b4d39",
   "metadata": {},
   "source": [
    "**#35 Matrix Product**"
   ]
  },
  {
   "cell_type": "code",
   "execution_count": 70,
   "id": "339514de",
   "metadata": {},
   "outputs": [
    {
     "data": {
      "text/plain": [
       "array([[3, 3],\n",
       "       [7, 7]])"
      ]
     },
     "execution_count": 70,
     "metadata": {},
     "output_type": "execute_result"
    }
   ],
   "source": [
    "# Use the `np.matmul()` to calculate dot product of two arrays\n",
    "a = np.array([[1, 2], [3, 4]])\n",
    "b = np.array([[1, 1], [1, 1]])\n",
    "np.matmul(a, b)"
   ]
  },
  {
   "cell_type": "markdown",
   "id": "b87f0816",
   "metadata": {},
   "source": [
    "The output of np.matmul() and np.dot() are the same for 1-D & 2-D matrices but not same for matrices N > 2"
   ]
  },
  {
   "cell_type": "markdown",
   "id": "1576025c",
   "metadata": {},
   "source": [
    "**#36 Vector Norm**"
   ]
  },
  {
   "cell_type": "code",
   "execution_count": 71,
   "id": "11aa7fc0",
   "metadata": {},
   "outputs": [
    {
     "data": {
      "text/plain": [
       "7.745966692414834"
      ]
     },
     "execution_count": 71,
     "metadata": {},
     "output_type": "execute_result"
    }
   ],
   "source": [
    "# The vector norm is used to calculate the length of a vector using `np.linalg.norm()`\n",
    "a = np.arange(-4, 5)\n",
    "np.linalg.norm(a) ## L2 Norm"
   ]
  },
  {
   "cell_type": "code",
   "execution_count": 72,
   "id": "d14d4a80",
   "metadata": {},
   "outputs": [
    {
     "data": {
      "text/plain": [
       "20.0"
      ]
     },
     "execution_count": 72,
     "metadata": {},
     "output_type": "execute_result"
    }
   ],
   "source": [
    "np.linalg.norm(a, 1) ## L1 Norm"
   ]
  },
  {
   "cell_type": "markdown",
   "id": "867dd842",
   "metadata": {},
   "source": [
    "### (37-38) Sorting Methods"
   ]
  },
  {
   "cell_type": "markdown",
   "id": "4765277e",
   "metadata": {},
   "source": [
    "**#37 Sort a NumPy array**"
   ]
  },
  {
   "cell_type": "code",
   "execution_count": 73,
   "id": "b5bb84b2",
   "metadata": {},
   "outputs": [],
   "source": [
    "# Sort the elements in the array using the `np.sort()` method\n",
    "a = np.array([[1,4], [3, 1]])"
   ]
  },
  {
   "cell_type": "code",
   "execution_count": 80,
   "id": "091251d2",
   "metadata": {},
   "outputs": [
    {
     "data": {
      "text/plain": [
       "array([[1, 4],\n",
       "       [1, 3]])"
      ]
     },
     "execution_count": 80,
     "metadata": {},
     "output_type": "execute_result"
    }
   ],
   "source": [
    "# Sort each row (default)\n",
    "np.sort(a)"
   ]
  },
  {
   "cell_type": "code",
   "execution_count": 81,
   "id": "e5e9ca06",
   "metadata": {},
   "outputs": [
    {
     "data": {
      "text/plain": [
       "array([1, 1, 3, 4])"
      ]
     },
     "execution_count": 81,
     "metadata": {},
     "output_type": "execute_result"
    }
   ],
   "source": [
    "# Sort the flattened array\n",
    "np.sort(a, axis=None)"
   ]
  },
  {
   "cell_type": "code",
   "execution_count": 82,
   "id": "ed10b931",
   "metadata": {},
   "outputs": [
    {
     "data": {
      "text/plain": [
       "array([[1, 1],\n",
       "       [3, 4]])"
      ]
     },
     "execution_count": 82,
     "metadata": {},
     "output_type": "execute_result"
    }
   ],
   "source": [
    "# Sort each column\n",
    "np.sort(a, axis=0)"
   ]
  },
  {
   "cell_type": "markdown",
   "id": "b6eca58f",
   "metadata": {},
   "source": [
    "**#38 Order of indices in Sorted NumPy Array**"
   ]
  },
  {
   "cell_type": "code",
   "execution_count": 84,
   "id": "fcc1c7c3",
   "metadata": {},
   "outputs": [
    {
     "data": {
      "text/plain": [
       "array([1, 2, 0], dtype=int64)"
      ]
     },
     "execution_count": 84,
     "metadata": {},
     "output_type": "execute_result"
    }
   ],
   "source": [
    "# To return the order of the matrix indices that will sort the array use `np.argsort()` method\n",
    "x = np.array([3, 1, 2])\n",
    "np.argsort(x)"
   ]
  },
  {
   "cell_type": "markdown",
   "id": "abd4f31a",
   "metadata": {},
   "source": [
    "### (39-42) Searching Methods"
   ]
  },
  {
   "cell_type": "markdown",
   "id": "f505b4a6",
   "metadata": {},
   "source": [
    "**#39 Indices corresponding to maximum values**\n",
    "\n"
   ]
  },
  {
   "cell_type": "code",
   "execution_count": 85,
   "id": "3f95f5b2",
   "metadata": {},
   "outputs": [
    {
     "data": {
      "text/plain": [
       "array([[ 7,  9, 18,  3,  4],\n",
       "       [ 6, 19,  1,  3,  7]])"
      ]
     },
     "execution_count": 85,
     "metadata": {},
     "output_type": "execute_result"
    }
   ],
   "source": [
    "# Use the `np.argmax()` method\n",
    "a = np.random.randint(1, 20, 10).reshape(2,5)\n",
    "a"
   ]
  },
  {
   "cell_type": "code",
   "execution_count": 86,
   "id": "00e1fb20",
   "metadata": {},
   "outputs": [
    {
     "data": {
      "text/plain": [
       "6"
      ]
     },
     "execution_count": 86,
     "metadata": {},
     "output_type": "execute_result"
    }
   ],
   "source": [
    "# Max index in a flatten array\n",
    "np.argmax(a)"
   ]
  },
  {
   "cell_type": "code",
   "execution_count": 87,
   "id": "613271c8",
   "metadata": {},
   "outputs": [
    {
     "data": {
      "text/plain": [
       "array([0, 1, 0, 0, 1], dtype=int64)"
      ]
     },
     "execution_count": 87,
     "metadata": {},
     "output_type": "execute_result"
    }
   ],
   "source": [
    "# Max index along the column \n",
    "np.argmax(a, axis=0)"
   ]
  },
  {
   "cell_type": "code",
   "execution_count": 88,
   "id": "2d29da99",
   "metadata": {},
   "outputs": [
    {
     "data": {
      "text/plain": [
       "array([2, 1], dtype=int64)"
      ]
     },
     "execution_count": 88,
     "metadata": {},
     "output_type": "execute_result"
    }
   ],
   "source": [
    "# Max index along the row"
   ]
  },
  {
   "cell_type": "code",
   "execution_count": 89,
   "id": "5988f4e5",
   "metadata": {},
   "outputs": [
    {
     "data": {
      "text/plain": [
       "(1, 1)"
      ]
     },
     "execution_count": 89,
     "metadata": {},
     "output_type": "execute_result"
    }
   ],
   "source": [
    "# To get the index in a non-flattened array\n",
    "ind = np.unravel_index(np.argmax(a),a.shape)\n",
    "ind"
   ]
  },
  {
   "cell_type": "markdown",
   "id": "be3ae3cc",
   "metadata": {},
   "source": [
    "**#40 Indices corresponding to minimum values**"
   ]
  },
  {
   "cell_type": "code",
   "execution_count": 91,
   "id": "785b28ec",
   "metadata": {},
   "outputs": [
    {
     "data": {
      "text/plain": [
       "array([[ 1,  1,  6, 14,  9],\n",
       "       [10,  4, 12, 18, 12]])"
      ]
     },
     "execution_count": 91,
     "metadata": {},
     "output_type": "execute_result"
    }
   ],
   "source": [
    "# Use the `np.argmin()`\n",
    "a = np.random.randint(1, 20, 10).reshape(2, 5)\n",
    "a"
   ]
  },
  {
   "cell_type": "code",
   "execution_count": 93,
   "id": "5cde67ce",
   "metadata": {},
   "outputs": [
    {
     "data": {
      "text/plain": [
       "0"
      ]
     },
     "execution_count": 93,
     "metadata": {},
     "output_type": "execute_result"
    }
   ],
   "source": [
    "# Min index in a flatten array\n",
    "np.argmin(a) "
   ]
  },
  {
   "cell_type": "code",
   "execution_count": 94,
   "id": "f32fcf08",
   "metadata": {},
   "outputs": [
    {
     "data": {
      "text/plain": [
       "array([0, 0, 0, 0, 0], dtype=int64)"
      ]
     },
     "execution_count": 94,
     "metadata": {},
     "output_type": "execute_result"
    }
   ],
   "source": [
    "# Min index along the column\n",
    "np.argmin(a, axis=0)"
   ]
  },
  {
   "cell_type": "code",
   "execution_count": 95,
   "id": "b93cd6c9",
   "metadata": {},
   "outputs": [
    {
     "data": {
      "text/plain": [
       "array([0, 1], dtype=int64)"
      ]
     },
     "execution_count": 95,
     "metadata": {},
     "output_type": "execute_result"
    }
   ],
   "source": [
    "# Min index along the row\n",
    "np.argmin(a, axis=1)"
   ]
  },
  {
   "cell_type": "markdown",
   "id": "01489785",
   "metadata": {},
   "source": [
    "**#41 Search based on a condition**"
   ]
  },
  {
   "cell_type": "code",
   "execution_count": 97,
   "id": "d2a24b9d",
   "metadata": {},
   "outputs": [
    {
     "data": {
      "text/plain": [
       "array([-3, -6, -7,  1,  8,  2, -4, -9,  5,  9])"
      ]
     },
     "execution_count": 97,
     "metadata": {},
     "output_type": "execute_result"
    }
   ],
   "source": [
    "# To select between two arrays based on a condition, use the `np.where()` method.\n",
    "a = np.random.randint(-10, 10, 10)\n",
    "a"
   ]
  },
  {
   "cell_type": "code",
   "execution_count": 101,
   "id": "b4c56c98",
   "metadata": {},
   "outputs": [
    {
     "data": {
      "text/plain": [
       "array([0, 0, 0, 1, 8, 2, 0, 0, 5, 9])"
      ]
     },
     "execution_count": 101,
     "metadata": {},
     "output_type": "execute_result"
    }
   ],
   "source": [
    "np.where(a <0, 0, a)\n",
    "# '''\n",
    "# if element < 0 \n",
    "#     return 0\n",
    "# else\n",
    "#     return element\n",
    "\n",
    "# '''"
   ]
  },
  {
   "cell_type": "markdown",
   "id": "5378b1bd",
   "metadata": {},
   "source": [
    "### (43-45) Statistical Methods"
   ]
  },
  {
   "cell_type": "markdown",
   "id": "bc815f9d",
   "metadata": {},
   "source": [
    "These are methods to compute standard descriptive statistics on NumPy"
   ]
  },
  {
   "cell_type": "markdown",
   "id": "3651edde",
   "metadata": {},
   "source": [
    "**#43 Mean**"
   ]
  },
  {
   "cell_type": "code",
   "execution_count": 109,
   "id": "092fb4d4",
   "metadata": {},
   "outputs": [
    {
     "data": {
      "text/plain": [
       "array([[1, 2],\n",
       "       [3, 4]])"
      ]
     },
     "execution_count": 109,
     "metadata": {},
     "output_type": "execute_result"
    }
   ],
   "source": [
    "# To find the mean along an axis use `np.mean()` method\n",
    "a = np.array([[1, 2], [3, 4]])\n",
    "a"
   ]
  },
  {
   "cell_type": "code",
   "execution_count": 104,
   "id": "ab7b5480",
   "metadata": {},
   "outputs": [
    {
     "data": {
      "text/plain": [
       "2.5"
      ]
     },
     "execution_count": 104,
     "metadata": {},
     "output_type": "execute_result"
    }
   ],
   "source": [
    "# All the elements\n",
    "np.mean(a)"
   ]
  },
  {
   "cell_type": "code",
   "execution_count": 105,
   "id": "529e04eb",
   "metadata": {},
   "outputs": [
    {
     "data": {
      "text/plain": [
       "array([2., 3.])"
      ]
     },
     "execution_count": 105,
     "metadata": {},
     "output_type": "execute_result"
    }
   ],
   "source": [
    "# Mean along the columns\n",
    "np.mean(a, axis=0)"
   ]
  },
  {
   "cell_type": "code",
   "execution_count": 106,
   "id": "12521318",
   "metadata": {},
   "outputs": [
    {
     "data": {
      "text/plain": [
       "array([1.5, 3.5])"
      ]
     },
     "execution_count": 106,
     "metadata": {},
     "output_type": "execute_result"
    }
   ],
   "source": [
    "# Mean along the rows\n",
    "np.mean(a, axis=1)"
   ]
  },
  {
   "cell_type": "markdown",
   "id": "eb9f72e0",
   "metadata": {},
   "source": [
    "**#44 Median**"
   ]
  },
  {
   "cell_type": "code",
   "execution_count": 108,
   "id": "6a360f92",
   "metadata": {},
   "outputs": [
    {
     "data": {
      "text/plain": [
       "array([[1, 2],\n",
       "       [3, 4]])"
      ]
     },
     "execution_count": 108,
     "metadata": {},
     "output_type": "execute_result"
    }
   ],
   "source": [
    "a = np.array([[1, 2], [3, 4]])\n",
    "a"
   ]
  },
  {
   "cell_type": "code",
   "execution_count": 110,
   "id": "e25b2801",
   "metadata": {},
   "outputs": [
    {
     "data": {
      "text/plain": [
       "2.5"
      ]
     },
     "execution_count": 110,
     "metadata": {},
     "output_type": "execute_result"
    }
   ],
   "source": [
    "# Median of all elements\n",
    "np.median(a)"
   ]
  },
  {
   "cell_type": "code",
   "execution_count": 111,
   "id": "d5c061c9",
   "metadata": {},
   "outputs": [
    {
     "data": {
      "text/plain": [
       "array([2., 3.])"
      ]
     },
     "execution_count": 111,
     "metadata": {},
     "output_type": "execute_result"
    }
   ],
   "source": [
    "# Median along the columns\n",
    "np.median(a, axis=0)"
   ]
  },
  {
   "cell_type": "code",
   "execution_count": 112,
   "id": "e343a1a9",
   "metadata": {},
   "outputs": [
    {
     "data": {
      "text/plain": [
       "array([1.5, 3.5])"
      ]
     },
     "execution_count": 112,
     "metadata": {},
     "output_type": "execute_result"
    }
   ],
   "source": [
    "# Median along the rows\n",
    "np.median(a, axis=1)"
   ]
  },
  {
   "cell_type": "markdown",
   "id": "a3f76ee0",
   "metadata": {},
   "source": [
    "**#45 Standard Deviation**"
   ]
  },
  {
   "cell_type": "code",
   "execution_count": 113,
   "id": "34fbbf9c",
   "metadata": {},
   "outputs": [],
   "source": [
    "# To compute the standard deviation of a NumPy array along a specified array use the `np.std()` method\n",
    "a = np.array([[1, 2], [3, 4]])"
   ]
  },
  {
   "cell_type": "code",
   "execution_count": 114,
   "id": "36d9713f",
   "metadata": {},
   "outputs": [
    {
     "data": {
      "text/plain": [
       "1.118033988749895"
      ]
     },
     "execution_count": 114,
     "metadata": {},
     "output_type": "execute_result"
    }
   ],
   "source": [
    "# Standard deviation of all the elements\n",
    "np.std(a)"
   ]
  },
  {
   "cell_type": "code",
   "execution_count": 115,
   "id": "d40952be",
   "metadata": {},
   "outputs": [
    {
     "data": {
      "text/plain": [
       "array([1., 1.])"
      ]
     },
     "execution_count": 115,
     "metadata": {},
     "output_type": "execute_result"
    }
   ],
   "source": [
    "# SD along the columns\n",
    "np.std(a, axis=0)"
   ]
  },
  {
   "cell_type": "code",
   "execution_count": 116,
   "id": "9c90c668",
   "metadata": {},
   "outputs": [
    {
     "data": {
      "text/plain": [
       "array([0.5, 0.5])"
      ]
     },
     "execution_count": 116,
     "metadata": {},
     "output_type": "execute_result"
    }
   ],
   "source": [
    "# SD along the rows\n",
    "np.std(a, axis=1)"
   ]
  },
  {
   "cell_type": "code",
   "execution_count": null,
   "id": "29b6fc66",
   "metadata": {},
   "outputs": [],
   "source": []
  }
 ],
 "metadata": {
  "kernelspec": {
   "display_name": "Python 3 (ipykernel)",
   "language": "python",
   "name": "python3"
  },
  "language_info": {
   "codemirror_mode": {
    "name": "ipython",
    "version": 3
   },
   "file_extension": ".py",
   "mimetype": "text/x-python",
   "name": "python",
   "nbconvert_exporter": "python",
   "pygments_lexer": "ipython3",
   "version": "3.9.13"
  }
 },
 "nbformat": 4,
 "nbformat_minor": 5
}
