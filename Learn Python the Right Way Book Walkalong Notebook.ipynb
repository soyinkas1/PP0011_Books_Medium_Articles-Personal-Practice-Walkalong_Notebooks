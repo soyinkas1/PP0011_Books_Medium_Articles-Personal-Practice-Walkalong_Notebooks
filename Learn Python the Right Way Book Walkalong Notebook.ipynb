{
 "cells": [
  {
   "cell_type": "code",
   "execution_count": 1,
   "id": "1c94d6e5",
   "metadata": {},
   "outputs": [],
   "source": [
    "import turtle\n",
    "wn = turtle.Screen()"
   ]
  },
  {
   "cell_type": "code",
   "execution_count": 2,
   "id": "d333d390",
   "metadata": {
    "scrolled": true
   },
   "outputs": [],
   "source": [
    "alex = turtle.Turtle()"
   ]
  },
  {
   "cell_type": "code",
   "execution_count": 3,
   "id": "869c9900",
   "metadata": {},
   "outputs": [],
   "source": [
    "alex.forward(50)"
   ]
  },
  {
   "cell_type": "code",
   "execution_count": 4,
   "id": "04224c0a",
   "metadata": {},
   "outputs": [],
   "source": [
    "alex.left(90)"
   ]
  },
  {
   "cell_type": "code",
   "execution_count": 5,
   "id": "398d8d0c",
   "metadata": {},
   "outputs": [],
   "source": [
    "alex.forward(30)\n",
    "alex.write('hekk')"
   ]
  },
  {
   "cell_type": "code",
   "execution_count": 6,
   "id": "0353a2d1",
   "metadata": {},
   "outputs": [],
   "source": [
    "wn.title('hello')"
   ]
  },
  {
   "cell_type": "code",
   "execution_count": 7,
   "id": "d7070335",
   "metadata": {},
   "outputs": [],
   "source": [
    "color = 'blue'\n",
    "alex.color(color.strip())"
   ]
  },
  {
   "cell_type": "code",
   "execution_count": 8,
   "id": "b488ccd4",
   "metadata": {},
   "outputs": [],
   "source": [
    "wn.mainloop()"
   ]
  },
  {
   "cell_type": "code",
   "execution_count": 9,
   "id": "78cce6f4",
   "metadata": {},
   "outputs": [],
   "source": [
    "# import turtle\n",
    "\n",
    "# def draw_multicolor_square(t, sz):\n",
    "#     \"\"\" Make turtle t draw a multi-color square of sz\"\"\"\n",
    "#     for i in ['red', 'purple', 'hotpink', 'blue']:\n",
    "#         t.color(i)\n",
    "#         t.forward(sz)\n",
    "#         t.left(90)\n",
    "        \n",
    "\n",
    "# wn = turtle.Screen()\n",
    "# wn.bgcolor('lightgreen')\n",
    "\n",
    "# tess = turtle.Turtle()\n",
    "# tess.pensize(3)\n",
    "\n",
    "# size = 20\n",
    "# for i in range(15):\n",
    "#     draw_multicolor_square(tess, size)\n",
    "#     size = size + 10\n",
    "#     tess.forward(10)\n",
    "#     tess.right(18)\n",
    "    \n",
    "# wn.mainloop()"
   ]
  },
  {
   "cell_type": "code",
   "execution_count": 10,
   "id": "ed1ff647",
   "metadata": {},
   "outputs": [
    {
     "name": "stdout",
     "output_type": "stream",
     "text": [
      "3 is odd\n"
     ]
    }
   ],
   "source": [
    "x = 3\n",
    "\n",
    "if x % 2 == 0:\n",
    "    print(x , 'is even')\n",
    "else:\n",
    "    print(x, 'is odd')\n",
    "\n"
   ]
  },
  {
   "cell_type": "code",
   "execution_count": 11,
   "id": "aadd88fa",
   "metadata": {},
   "outputs": [],
   "source": [
    "def print_sqr_root(x):\n",
    "    if x <= 0:\n",
    "        print('Positive numbers only, please')\n",
    "        return\n",
    "    result =  x**0.5\n",
    "    print('The square root of', x, 'is', result)"
   ]
  },
  {
   "cell_type": "code",
   "execution_count": 12,
   "id": "5f12be94",
   "metadata": {},
   "outputs": [
    {
     "name": "stdout",
     "output_type": "stream",
     "text": [
      "Positive numbers only, please\n"
     ]
    }
   ],
   "source": [
    "print_sqr_root(0)"
   ]
  },
  {
   "cell_type": "code",
   "execution_count": 13,
   "id": "80b035eb",
   "metadata": {},
   "outputs": [],
   "source": [
    "# alex.write('hekk')"
   ]
  },
  {
   "cell_type": "code",
   "execution_count": 14,
   "id": "64414b97",
   "metadata": {},
   "outputs": [],
   "source": [
    "def area(radius):\n",
    "    area = (3.142 * radius)**2\n",
    "    return area"
   ]
  },
  {
   "cell_type": "code",
   "execution_count": 15,
   "id": "e3dd954b",
   "metadata": {},
   "outputs": [
    {
     "data": {
      "text/plain": [
       "1421.5916160000002"
      ]
     },
     "execution_count": 15,
     "metadata": {},
     "output_type": "execute_result"
    }
   ],
   "source": [
    "area(12)"
   ]
  },
  {
   "cell_type": "code",
   "execution_count": 16,
   "id": "9d3d62b0",
   "metadata": {},
   "outputs": [],
   "source": [
    "def absolute_value(x):\n",
    "    if x < 0:\n",
    "        return -x\n",
    "    return x\n",
    "\n",
    "def bad_absolute_value(x):\n",
    "    if x < 0:\n",
    "        return -x\n",
    "    elif x > 0:\n",
    "        return x\n",
    "    \n"
   ]
  },
  {
   "cell_type": "code",
   "execution_count": 17,
   "id": "67b5e4ed",
   "metadata": {},
   "outputs": [
    {
     "data": {
      "text/plain": [
       "2"
      ]
     },
     "execution_count": 17,
     "metadata": {},
     "output_type": "execute_result"
    }
   ],
   "source": [
    "absolute_value(-2)"
   ]
  },
  {
   "cell_type": "code",
   "execution_count": 18,
   "id": "921ff52c",
   "metadata": {},
   "outputs": [
    {
     "name": "stdout",
     "output_type": "stream",
     "text": [
      "None\n"
     ]
    }
   ],
   "source": [
    "print(bad_absolute_value(0))"
   ]
  },
  {
   "cell_type": "code",
   "execution_count": 19,
   "id": "628c6748",
   "metadata": {},
   "outputs": [],
   "source": [
    "# Write the function to find distance between two points\n",
    "\n",
    "def distance(x1, y1, x2, y2):\n",
    "    \"\"\"\n",
    "    parameters:\n",
    "        x1: distance from origin on x-coordinates for point 1\n",
    "        y1: distance from origin on y-coordinates for point 1\n",
    "        x2: distance from origin on x-coordinates for point 2\n",
    "        y2: distance from origin on y-coordinates for point 2\n",
    "    \n",
    "    returns:\n",
    "        The linear distance between point 1 and point 2 \n",
    "    \n",
    "    \"\"\"\n",
    "    dx = x2 - x1\n",
    "    dy = y2 - y1\n",
    "    \n",
    "    sum_squares = dx * dx + dy * dy\n",
    "        \n",
    "    return sum_squares**0.5"
   ]
  },
  {
   "cell_type": "code",
   "execution_count": 20,
   "id": "abf3e892",
   "metadata": {},
   "outputs": [],
   "source": [
    "# Given the centre of a circe and a point on the perimeter, we can then get the area of the circle using functions\n",
    "\n",
    "def area2(xc, yc, xp, yp):\n",
    "    \n",
    "    \"\"\"\n",
    "    parameters:\n",
    "        xc: distance from origin on x-coordinates for centre of the circle\n",
    "        yc: distance from origin on y-coordinates for centre of the circle\n",
    "        xp: distance from origin on x-coordinates for point on perimeter of circle\n",
    "        yp: distance from origin on y-coordinates for point on perimeter of circle\n",
    "    \n",
    "    returns:\n",
    "        The area of the circle\n",
    "    \n",
    "    \"\"\"\n",
    "    radius = distance(xc, yc, xp, yp)\n",
    "    result = area(radius)\n",
    "    return result\n",
    "\n"
   ]
  },
  {
   "cell_type": "code",
   "execution_count": 21,
   "id": "c64c3a47",
   "metadata": {},
   "outputs": [
    {
     "data": {
      "text/plain": [
       "493.6082"
      ]
     },
     "execution_count": 21,
     "metadata": {},
     "output_type": "execute_result"
    }
   ],
   "source": [
    "area2(1, 3, 6, 8)"
   ]
  },
  {
   "cell_type": "markdown",
   "id": "b434e9b0",
   "metadata": {},
   "source": [
    "**Unit Tests**"
   ]
  },
  {
   "cell_type": "code",
   "execution_count": 22,
   "id": "5d0e27fd",
   "metadata": {},
   "outputs": [],
   "source": [
    "import sys\n",
    "\n",
    "def test(did_pass):\n",
    "    \"\"\" Print the results of a test\"\"\"\n",
    "    linenum = sys._getframe(1).f_lineno # Get the caller's line number\n",
    "    if did_pass:\n",
    "        msg = 'Test at the line{0} ok'.format(linenum)\n",
    "    else:\n",
    "        msg = 'Test at the line{0} FAILED'.format(linenum)\n",
    "    print(msg)"
   ]
  },
  {
   "cell_type": "code",
   "execution_count": 23,
   "id": "6951ebbc",
   "metadata": {},
   "outputs": [],
   "source": [
    "def test_suite():\n",
    "    \"\"\"\n",
    "    Run the suite of tests for code in the module (this file)\n",
    "    \"\"\"\n",
    "    test(absolute_value(17) == 17)\n",
    "    test(absolute_value(-17) == 17)\n",
    "    test(absolute_value(0) == 0)\n",
    "    test(absolute_value(3.14) == 3.14)\n",
    "    test(absolute_value(-3.14) == 3.14)\n",
    "    test(bad_absolute_value(17) == 17)\n",
    "    test(bad_absolute_value(0) == 0)"
   ]
  },
  {
   "cell_type": "code",
   "execution_count": 24,
   "id": "1f9d62c6",
   "metadata": {},
   "outputs": [
    {
     "name": "stdout",
     "output_type": "stream",
     "text": [
      "Test at the line5 ok\n",
      "Test at the line6 ok\n",
      "Test at the line7 ok\n",
      "Test at the line8 ok\n",
      "Test at the line9 ok\n",
      "Test at the line10 ok\n",
      "Test at the line11 FAILED\n"
     ]
    }
   ],
   "source": [
    "test_suite()"
   ]
  },
  {
   "cell_type": "code",
   "execution_count": 25,
   "id": "e2c956a7",
   "metadata": {},
   "outputs": [],
   "source": [
    "class YouSabi:\n",
    "    \n",
    "    def __init__(self):\n",
    "        self.test = 2"
   ]
  },
  {
   "cell_type": "code",
   "execution_count": 26,
   "id": "f1195343",
   "metadata": {},
   "outputs": [],
   "source": [
    "isabi = YouSabi()"
   ]
  },
  {
   "cell_type": "code",
   "execution_count": 27,
   "id": "5b67b5a1",
   "metadata": {},
   "outputs": [
    {
     "data": {
      "text/plain": [
       "2"
      ]
     },
     "execution_count": 27,
     "metadata": {},
     "output_type": "execute_result"
    }
   ],
   "source": [
    "isabi.test"
   ]
  },
  {
   "cell_type": "code",
   "execution_count": 28,
   "id": "11d49607",
   "metadata": {},
   "outputs": [],
   "source": [
    "def seq3np1(n):\n",
    "    \"\"\" Print the 3n+1 sequence from n,\n",
    "    terminating when it reaches 1\n",
    "    \"\"\"\n",
    "    while n != 1:\n",
    "        print(n, end=\", \")\n",
    "        if n % 2 == 0:   # n is even\n",
    "            n = n // 2 \n",
    "        else:\n",
    "            n = n * 3 + 1\n",
    "    print(n, end=\".\\n\")"
   ]
  },
  {
   "cell_type": "code",
   "execution_count": 29,
   "id": "67abdfc4",
   "metadata": {},
   "outputs": [
    {
     "name": "stdout",
     "output_type": "stream",
     "text": [
      "77, 232, 116, 58, 29, 88, 44, 22, 11, 34, 17, 52, 26, 13, 40, 20, 10, 5, 16, 8, 4, 2, 1.\n"
     ]
    }
   ],
   "source": [
    "seq3np1(77)"
   ]
  },
  {
   "cell_type": "code",
   "execution_count": 30,
   "id": "920722b5",
   "metadata": {},
   "outputs": [
    {
     "name": "stdout",
     "output_type": "stream",
     "text": [
      "28, 14, 7, 22, 11, 34, 17, 52, 26, 13, 40, 20, 10, 5, 16, 8, 4, 2, 1.\n"
     ]
    }
   ],
   "source": [
    "seq3np1(28\n",
    "       )"
   ]
  },
  {
   "cell_type": "code",
   "execution_count": 31,
   "id": "9431215f",
   "metadata": {},
   "outputs": [
    {
     "name": "stdout",
     "output_type": "stream",
     "text": [
      "\n",
      "Guess my number between 1 and 1000: e\n"
     ]
    },
    {
     "ename": "ValueError",
     "evalue": "invalid literal for int() with base 10: 'e'",
     "output_type": "error",
     "traceback": [
      "\u001b[1;31m---------------------------------------------------------------------------\u001b[0m",
      "\u001b[1;31mValueError\u001b[0m                                Traceback (most recent call last)",
      "Cell \u001b[1;32mIn[31], line 9\u001b[0m\n\u001b[0;32m      6\u001b[0m msg \u001b[38;5;241m=\u001b[39m \u001b[38;5;124m\"\u001b[39m\u001b[38;5;124m\"\u001b[39m\n\u001b[0;32m      8\u001b[0m \u001b[38;5;28;01mwhile\u001b[39;00m \u001b[38;5;28;01mTrue\u001b[39;00m:\n\u001b[1;32m----> 9\u001b[0m     guess \u001b[38;5;241m=\u001b[39m \u001b[38;5;28mint\u001b[39m(\u001b[38;5;28minput\u001b[39m(msg \u001b[38;5;241m+\u001b[39m \u001b[38;5;124m\"\u001b[39m\u001b[38;5;130;01m\\n\u001b[39;00m\u001b[38;5;124mGuess my number between 1 and 1000: \u001b[39m\u001b[38;5;124m\"\u001b[39m))\n\u001b[0;32m     10\u001b[0m     guesses \u001b[38;5;241m+\u001b[39m\u001b[38;5;241m=\u001b[39m \u001b[38;5;241m1\u001b[39m\n\u001b[0;32m     11\u001b[0m     \u001b[38;5;28;01mif\u001b[39;00m guess \u001b[38;5;241m>\u001b[39m number:\n",
      "\u001b[1;31mValueError\u001b[0m: invalid literal for int() with base 10: 'e'"
     ]
    }
   ],
   "source": [
    "import random \n",
    "rng = random.Random()\n",
    "number = rng.randrange(1, 1000)\n",
    "\n",
    "guesses = 0\n",
    "msg = \"\"\n",
    "\n",
    "while True:\n",
    "    guess = int(input(msg + \"\\nGuess my number between 1 and 1000: \"))\n",
    "    guesses += 1\n",
    "    if guess > number:\n",
    "        msg += str(guess) + \" is too high. \\n\"\n",
    "    elif guess < number:\n",
    "        msg += str(guess) + \" is too low.\\n \"\n",
    "    else:\n",
    "        break200\n",
    "        \n",
    "input(\"\\n\\nGreat, you got it in {0} guesses!\\n\\n\".format(guesses))"
   ]
  },
  {
   "cell_type": "markdown",
   "id": "17131d66",
   "metadata": {},
   "source": [
    "`Continue` causes the program to immediately skip the processing of the rest of the body of the loop for the current iteration. But the loop still carries on running for its remaining iterations"
   ]
  },
  {
   "cell_type": "code",
   "execution_count": 32,
   "id": "1cd7eb93",
   "metadata": {},
   "outputs": [
    {
     "name": "stdout",
     "output_type": "stream",
     "text": [
      "12\n",
      "16\n",
      "24\n",
      "30\n",
      "done\n"
     ]
    }
   ],
   "source": [
    "for i in [12, 16, 17, 24, 29, 30]:\n",
    "    if i % 2 == 1:\n",
    "        continue\n",
    "    print(i)\n",
    "print('done')"
   ]
  },
  {
   "cell_type": "markdown",
   "id": "7dac052d",
   "metadata": {},
   "source": [
    "***Looping a paired data***"
   ]
  },
  {
   "cell_type": "code",
   "execution_count": 33,
   "id": "dc86bc59",
   "metadata": {},
   "outputs": [
    {
     "name": "stdout",
     "output_type": "stream",
     "text": [
      "Brad pitt\n",
      "Jack Nicholson\n"
     ]
    }
   ],
   "source": [
    "celebs = [('Brad pitt', 1963), ('Jack Nicholson', 1937), ('Justin Bieber', 1994)]\n",
    "\n",
    "for (nm, yr) in celebs:\n",
    "    if yr <1980:\n",
    "        print(nm)"
   ]
  },
  {
   "cell_type": "markdown",
   "id": "9e6da257",
   "metadata": {},
   "source": [
    "We’ve used a pair of variable names, (nm, yr), instead. The loop is executed three\n",
    "times — once for each pair in the list, and on each iteration both the variables are assigned values\n",
    "from the pair of data that is being handled."
   ]
  },
  {
   "cell_type": "code",
   "execution_count": 34,
   "id": "5c213586",
   "metadata": {},
   "outputs": [],
   "source": [
    "ss = 'tester '"
   ]
  },
  {
   "cell_type": "code",
   "execution_count": 35,
   "id": "93a00a20",
   "metadata": {},
   "outputs": [
    {
     "data": {
      "text/plain": [
       "'TESTER '"
      ]
     },
     "execution_count": 35,
     "metadata": {},
     "output_type": "execute_result"
    }
   ],
   "source": [
    "ss.upper()"
   ]
  },
  {
   "cell_type": "code",
   "execution_count": 36,
   "id": "2754260c",
   "metadata": {},
   "outputs": [
    {
     "data": {
      "text/plain": [
       "'tester '"
      ]
     },
     "execution_count": 36,
     "metadata": {},
     "output_type": "execute_result"
    }
   ],
   "source": [
    "# ss remained unchanged!\n",
    "ss"
   ]
  },
  {
   "cell_type": "code",
   "execution_count": 37,
   "id": "9877f92f",
   "metadata": {},
   "outputs": [],
   "source": [
    "\n",
    "fruit = 'banana'"
   ]
  },
  {
   "cell_type": "code",
   "execution_count": 38,
   "id": "6e7f0d37",
   "metadata": {},
   "outputs": [
    {
     "data": {
      "text/plain": [
       "'an'"
      ]
     },
     "execution_count": 38,
     "metadata": {},
     "output_type": "execute_result"
    }
   ],
   "source": [
    "fruit[::-3]"
   ]
  },
  {
   "cell_type": "code",
   "execution_count": 39,
   "id": "d58316f6",
   "metadata": {},
   "outputs": [
    {
     "name": "stdout",
     "output_type": "stream",
     "text": [
      "Test at the line13 ok\n",
      "Test at the line14 ok\n"
     ]
    }
   ],
   "source": [
    "def find(strn, ch):\n",
    "    \"\"\"\n",
    "    Find and return the index of ch in strng\n",
    "    Return -1 if ch does not occur in strng\n",
    "    \"\"\"\n",
    "    idx = 0\n",
    "    while idx < len(strn):\n",
    "        if strn[idx] == ch:\n",
    "            return idx\n",
    "        idx += 1\n",
    "    return -1\n",
    "\n",
    "test(find(\"Compsci\", 'p') == 3)\n",
    "test(find(\"Compsci\", 'x') == -1)"
   ]
  },
  {
   "cell_type": "code",
   "execution_count": 40,
   "id": "60111b67",
   "metadata": {},
   "outputs": [
    {
     "data": {
      "text/plain": [
       "2"
      ]
     },
     "execution_count": 40,
     "metadata": {},
     "output_type": "execute_result"
    }
   ],
   "source": [
    "'banana'.find('nan')"
   ]
  },
  {
   "cell_type": "code",
   "execution_count": 41,
   "id": "462796ad",
   "metadata": {},
   "outputs": [
    {
     "data": {
      "text/plain": [
       "4"
      ]
     },
     "execution_count": 41,
     "metadata": {},
     "output_type": "execute_result"
    }
   ],
   "source": [
    "'banana'.find('na', 3)"
   ]
  },
  {
   "cell_type": "code",
   "execution_count": 42,
   "id": "231c3184",
   "metadata": {},
   "outputs": [
    {
     "data": {
      "text/plain": [
       "['Well', 'I', 'never', 'did', 'said', 'Alice']"
      ]
     },
     "execution_count": 42,
     "metadata": {},
     "output_type": "execute_result"
    }
   ],
   "source": [
    "ss = 'Well I never did said Alice'\n",
    "\n",
    "wds = ss.split()\n",
    "\n",
    "wds"
   ]
  },
  {
   "cell_type": "code",
   "execution_count": 43,
   "id": "3da16ad0",
   "metadata": {},
   "outputs": [
    {
     "name": "stdout",
     "output_type": "stream",
     "text": [
      "Test at the line11 ok\n"
     ]
    }
   ],
   "source": [
    "#punctuation = \"!\\\"#$%&'()*+,-./:;<=>?@[\\\\]^_`{|}~\"\n",
    "\n",
    "import string\n",
    "def remove_punctuation(s):\n",
    "    s_san_punc = \"\"\n",
    "    for letter in s:\n",
    "        if letter not in string.punctuation:\n",
    "            s_san_punc += letter\n",
    "    return s_san_punc\n",
    "\n",
    "test(remove_punctuation('\"Well, I never did!\", said Alice,') == \"Well I never did said Alice\")"
   ]
  },
  {
   "cell_type": "code",
   "execution_count": 44,
   "id": "bb14a2f1",
   "metadata": {},
   "outputs": [
    {
     "name": "stdout",
     "output_type": "stream",
     "text": [
      "['Pythons', 'are', 'constrictors', 'which', 'means', 'that', 'they', 'will', 'squeeze', 'the', 'life', 'out', 'of', 'their', 'prey', 'They', 'coil', 'themselves', 'around', 'their', 'prey', 'and', 'with', 'each', 'breath', 'the', 'creature', 'takes', 'the', 'snake', 'will', 'squeeze', 'a', 'little', 'tighter', 'until', 'they', 'stop', 'breathing', 'completely', 'Once', 'the', 'heart', 'stops', 'the', 'prey', 'is', 'swallowed', 'whole', 'The', 'entire', 'animal', 'is', 'digested', 'in', 'the', 'snakes', 'stomach', 'except', 'for', 'fur', 'or', 'feathers', 'What', 'do', 'you', 'think', 'happens', 'to', 'the', 'fur', 'feathers', 'beaks', 'and', 'eggshells', 'The', 'extra', 'stuff', 'gets', 'passed', 'out', 'as', 'you', 'guessed', 'it', 'snake', 'POOP']\n"
     ]
    }
   ],
   "source": [
    "my_story = \"\"\"\n",
    "Pythons are constrictors, which means that they will 'squeeze' the life\n",
    " out of their prey. They coil themselves around their prey and with\n",
    "each breath the creature takes the snake will squeeze a little tighter\n",
    "until they stop breathing completely. Once the heart stops the prey\n",
    "is swallowed whole. The entire animal is digested in the snake's\n",
    "stomach except for fur or feathers. What do you think happens to the fur,\n",
    "feathers, beaks, and eggshells? The 'extra stuff' gets passed out as ---\n",
    "you guessed it --- snake POOP! \"\"\"\n",
    "\n",
    "wds = remove_punctuation(my_story).split()\n",
    "print(wds)"
   ]
  },
  {
   "cell_type": "markdown",
   "id": "73bd5e34",
   "metadata": {},
   "source": [
    "**Format** Method"
   ]
  },
  {
   "cell_type": "code",
   "execution_count": 45,
   "id": "853b2ae7",
   "metadata": {},
   "outputs": [
    {
     "name": "stdout",
     "output_type": "stream",
     "text": [
      "His name is Authur\n"
     ]
    }
   ],
   "source": [
    "s1 = 'His name is {0}'.format('Authur')\n",
    "print(s1)"
   ]
  },
  {
   "cell_type": "code",
   "execution_count": 46,
   "id": "0fe22ab3",
   "metadata": {},
   "outputs": [
    {
     "name": "stdout",
     "output_type": "stream",
     "text": [
      "I am Alice and I am 10 years old\n"
     ]
    }
   ],
   "source": [
    "name = 'Alice'\n",
    "age = 10\n",
    "s2 = 'I am {1} and I am {0} years old'.format(age, name)\n",
    "print(s2)"
   ]
  },
  {
   "cell_type": "code",
   "execution_count": 47,
   "id": "6828a201",
   "metadata": {},
   "outputs": [
    {
     "name": "stdout",
     "output_type": "stream",
     "text": [
      "2**10 = 1024 and 4 * 5 = 20.00\n"
     ]
    }
   ],
   "source": [
    "n1 = 4\n",
    "n2 = 5\n",
    "s3 = '2**10 = {0} and {1} * {2} = {3:.2f}'.format(2**10, n1, n2, n1*n2)\n",
    "print(s3)"
   ]
  },
  {
   "cell_type": "code",
   "execution_count": 48,
   "id": "122fcbd0",
   "metadata": {},
   "outputs": [
    {
     "name": "stdout",
     "output_type": "stream",
     "text": [
      "Pi to three decimal places is 3.142\n",
      "123456789 123456789 123456789 123456789 123456789 123456789\n",
      "|||Paris          |||    Whitney    |||         Hilton|||Born in 1981|||\n",
      "The decimal value 123456 converts to hex value 1e240\n"
     ]
    }
   ],
   "source": [
    "n1 = 'Paris'\n",
    "n2 = 'Whitney'\n",
    "n3 = 'Hilton'\n",
    "\n",
    "print('Pi to three decimal places is {0:.3f}'.format(3.1415935))\n",
    "print('123456789 123456789 123456789 123456789 123456789 123456789')\n",
    "print(\"|||{0:<15}|||{1:^15}|||{2:>15}|||Born in {3}|||\"\n",
    "      .format(n1, n2, n3, 1981))\n",
    "print('The decimal value {0} converts to hex value {0:x}'\n",
    "     .format(123456))\n",
    "\n",
    "      \n"
   ]
  },
  {
   "cell_type": "code",
   "execution_count": 49,
   "id": "b9eea3ef",
   "metadata": {},
   "outputs": [
    {
     "name": "stdout",
     "output_type": "stream",
     "text": [
      "   i  i**2    i**5        i**10                   i**20\n",
      "   1     1       1            1                       1\n",
      "   2     4      32         1024                 1048576\n",
      "   3     9     243        59049              3486784401\n",
      "   4    16    1024      1048576           1099511627776\n",
      "   5    25    3125      9765625          95367431640625\n",
      "   6    36    7776     60466176        3656158440062976\n",
      "   7    49   16807    282475249       79792266297612001\n",
      "   8    64   32768   1073741824     1152921504606846976\n",
      "   9    81   59049   3486784401    12157665459056928801\n",
      "  10   100  100000  10000000000   100000000000000000000\n"
     ]
    }
   ],
   "source": [
    "layout = '{0:>4}{1:>6}{3:>8}{4:>13}{5:>24}'\n",
    "print(layout.format('i', 'i**2', 'i**3', 'i**5', 'i**10', 'i**20'))\n",
    "for i in range(1, 11):\n",
    "    print(layout.format(i, i**2, i**3, i**5, i**10, i**20))"
   ]
  },
  {
   "cell_type": "code",
   "execution_count": 50,
   "id": "72a4911f",
   "metadata": {},
   "outputs": [],
   "source": [
    "year_born = 'Hilton', 1981"
   ]
  },
  {
   "cell_type": "code",
   "execution_count": 51,
   "id": "ff53a9cd",
   "metadata": {},
   "outputs": [
    {
     "data": {
      "text/plain": [
       "tuple"
      ]
     },
     "execution_count": 51,
     "metadata": {},
     "output_type": "execute_result"
    }
   ],
   "source": [
    "type(year_born)"
   ]
  },
  {
   "cell_type": "code",
   "execution_count": 52,
   "id": "d45c7077",
   "metadata": {},
   "outputs": [],
   "source": [
    "julia_more_info = (('Juia', 'Robert'), (8, 'October', 1967),\n",
    "                  'Actress', ('Atlanta', 'Georgia'),\n",
    "                  [('Duplicty', 2009),\n",
    "                  ('Notting Hill', 1999),\n",
    "                  ('Pretty Woman', 1990),\n",
    "                  ('Erin Brockovich', 2000),\n",
    "                  ('Eat Pray Love', 2010),\n",
    "                  ('Mona Lisa Smile', 2003),\n",
    "                  ('Oceans Twelve', 2004)])"
   ]
  },
  {
   "cell_type": "code",
   "execution_count": 53,
   "id": "0ff8707e",
   "metadata": {},
   "outputs": [
    {
     "data": {
      "text/plain": [
       "(8, 'October', 1967)"
      ]
     },
     "execution_count": 53,
     "metadata": {},
     "output_type": "execute_result"
    }
   ],
   "source": [
    "julia_more_info[1]"
   ]
  },
  {
   "cell_type": "code",
   "execution_count": 54,
   "id": "67424e36",
   "metadata": {},
   "outputs": [
    {
     "data": {
      "text/plain": [
       "[('Duplicty', 2009),\n",
       " ('Notting Hill', 1999),\n",
       " ('Pretty Woman', 1990),\n",
       " ('Erin Brockovich', 2000),\n",
       " ('Eat Pray Love', 2010),\n",
       " ('Mona Lisa Smile', 2003),\n",
       " ('Oceans Twelve', 2004)]"
      ]
     },
     "execution_count": 54,
     "metadata": {},
     "output_type": "execute_result"
    }
   ],
   "source": [
    "julia_more_info[4]"
   ]
  },
  {
   "cell_type": "code",
   "execution_count": 55,
   "id": "b5cd2cb5",
   "metadata": {},
   "outputs": [
    {
     "data": {
      "text/plain": [
       "('Notting Hill', 1999)"
      ]
     },
     "execution_count": 55,
     "metadata": {},
     "output_type": "execute_result"
    }
   ],
   "source": [
    "julia_more_info[4][1]"
   ]
  },
  {
   "cell_type": "code",
   "execution_count": 56,
   "id": "3246a3fa",
   "metadata": {},
   "outputs": [
    {
     "data": {
      "text/plain": [
       "'Notting Hill'"
      ]
     },
     "execution_count": 56,
     "metadata": {},
     "output_type": "execute_result"
    }
   ],
   "source": [
    "julia_more_info[4][1][0]"
   ]
  },
  {
   "cell_type": "code",
   "execution_count": 57,
   "id": "3899d239",
   "metadata": {},
   "outputs": [],
   "source": [
    "# Tuple multi-variable assignment \n",
    "(name, dob, prof, loc, movies) = julia_more_info\n",
    "\n",
    "# No of variables must be equal to No of elements in tuple"
   ]
  },
  {
   "cell_type": "code",
   "execution_count": 58,
   "id": "41a5ae33",
   "metadata": {},
   "outputs": [
    {
     "data": {
      "text/plain": [
       "('Juia', 'Robert')"
      ]
     },
     "execution_count": 58,
     "metadata": {},
     "output_type": "execute_result"
    }
   ],
   "source": [
    "name"
   ]
  },
  {
   "cell_type": "code",
   "execution_count": 59,
   "id": "4427cf48",
   "metadata": {},
   "outputs": [
    {
     "data": {
      "text/plain": [
       "(8, 'October', 1967)"
      ]
     },
     "execution_count": 59,
     "metadata": {},
     "output_type": "execute_result"
    }
   ],
   "source": [
    "dob"
   ]
  },
  {
   "cell_type": "code",
   "execution_count": 60,
   "id": "d07075a0",
   "metadata": {},
   "outputs": [
    {
     "data": {
      "text/plain": [
       "'Actress'"
      ]
     },
     "execution_count": 60,
     "metadata": {},
     "output_type": "execute_result"
    }
   ],
   "source": [
    "prof"
   ]
  },
  {
   "cell_type": "code",
   "execution_count": 61,
   "id": "46b1f41f",
   "metadata": {},
   "outputs": [
    {
     "data": {
      "text/plain": [
       "('Atlanta', 'Georgia')"
      ]
     },
     "execution_count": 61,
     "metadata": {},
     "output_type": "execute_result"
    }
   ],
   "source": [
    "loc"
   ]
  },
  {
   "cell_type": "code",
   "execution_count": 62,
   "id": "ff8e5e89",
   "metadata": {},
   "outputs": [
    {
     "data": {
      "text/plain": [
       "[('Duplicty', 2009),\n",
       " ('Notting Hill', 1999),\n",
       " ('Pretty Woman', 1990),\n",
       " ('Erin Brockovich', 2000),\n",
       " ('Eat Pray Love', 2010),\n",
       " ('Mona Lisa Smile', 2003),\n",
       " ('Oceans Twelve', 2004)]"
      ]
     },
     "execution_count": 62,
     "metadata": {},
     "output_type": "execute_result"
    }
   ],
   "source": [
    "movies"
   ]
  },
  {
   "cell_type": "markdown",
   "id": "5cf9831a",
   "metadata": {},
   "source": [
    "**Event Handling**"
   ]
  },
  {
   "cell_type": "code",
   "execution_count": 63,
   "id": "5f1fc31e",
   "metadata": {},
   "outputs": [
    {
     "ename": "Terminator",
     "evalue": "",
     "output_type": "error",
     "traceback": [
      "\u001b[1;31m---------------------------------------------------------------------------\u001b[0m",
      "\u001b[1;31mTerminator\u001b[0m                                Traceback (most recent call last)",
      "Cell \u001b[1;32mIn[63], line 3\u001b[0m\n\u001b[0;32m      1\u001b[0m \u001b[38;5;28;01mimport\u001b[39;00m \u001b[38;5;21;01mturtle\u001b[39;00m\n\u001b[1;32m----> 3\u001b[0m turtle\u001b[38;5;241m.\u001b[39msetup(\u001b[38;5;241m400\u001b[39m,\u001b[38;5;241m500\u001b[39m)\n\u001b[0;32m      4\u001b[0m wn \u001b[38;5;241m=\u001b[39m turtle\u001b[38;5;241m.\u001b[39mScreen()\n\u001b[0;32m      5\u001b[0m wn\u001b[38;5;241m.\u001b[39mtitle(\u001b[38;5;124m'\u001b[39m\u001b[38;5;124mHandling keypresses!\u001b[39m\u001b[38;5;124m'\u001b[39m)\n",
      "File \u001b[1;32m<string>:5\u001b[0m, in \u001b[0;36msetup\u001b[1;34m(width, height, startx, starty)\u001b[0m\n",
      "\u001b[1;31mTerminator\u001b[0m: "
     ]
    }
   ],
   "source": [
    "import turtle\n",
    "\n",
    "turtle.setup(400,500)\n",
    "wn = turtle.Screen()\n",
    "wn.title('Handling keypresses!')\n",
    "wn.bgcolor('lightgreen')\n",
    "tess = turtle.Turtle()\n",
    "\n",
    "# The nex four functions are our 'event handlers'\n",
    "def h1():\n",
    "    tess.forward(30)\n",
    "\n",
    "def h2():\n",
    "    tess.left(45)\n",
    "    \n",
    "def h3():\n",
    "    tess.right(45)\n",
    "    \n",
    "def h4():\n",
    "    wn.bye()\n",
    "    \n",
    "# These lines 'wire up' keypresses to the handlers we've defined\n",
    "wn.onkey(h1, 'Up')\n",
    "wn.onkey(h2, 'Left')\n",
    "wn.onkey(h3, 'Right')\n",
    "wn.onkey(h4, 'q')\n",
    "\n",
    "# Now we need to tell the window to start listening for events\n",
    "# If any of the keys that we're monitoring is pressed, its handler will be called \n",
    "wn.listen()\n",
    "wn.mainloop()"
   ]
  },
  {
   "cell_type": "code",
   "execution_count": 64,
   "id": "9e809c3a",
   "metadata": {},
   "outputs": [],
   "source": [
    "import turtle\n",
    "\n",
    "turtle.setup(400, 500)\n",
    "wn = turtle.Screen()\n",
    "wn.title('How to handle mouse clicks on the window!')\n",
    "wn.bgcolor('lightgreen')\n",
    "\n",
    "tess = turtle.Turtle()\n",
    "#tess.color('purple')\n",
    "tess.pensize(3)\n",
    "tess.shape('turtle')\n",
    "\n",
    "def h1(x, y):\n",
    "    wn.title('Got click at coords {0} {1}'.format(x,y))\n",
    "    tess.goto(x, y)\n",
    "    \n",
    "wn.onclick(h1) # Wire up a click on the window\n",
    "wn.mainloop()\n"
   ]
  },
  {
   "cell_type": "code",
   "execution_count": 65,
   "id": "706509e4",
   "metadata": {
    "run_control": {
     "marked": true
    }
   },
   "outputs": [
    {
     "ename": "Terminator",
     "evalue": "",
     "output_type": "error",
     "traceback": [
      "\u001b[1;31m---------------------------------------------------------------------------\u001b[0m",
      "\u001b[1;31mTerminator\u001b[0m                                Traceback (most recent call last)",
      "Cell \u001b[1;32mIn[65], line 5\u001b[0m\n\u001b[0;32m      1\u001b[0m \u001b[38;5;66;03m# Seperate handlers for each turtle\u001b[39;00m\n\u001b[0;32m      3\u001b[0m \u001b[38;5;28;01mimport\u001b[39;00m \u001b[38;5;21;01mturtle\u001b[39;00m\n\u001b[1;32m----> 5\u001b[0m turtle\u001b[38;5;241m.\u001b[39msetup(\u001b[38;5;241m400\u001b[39m, \u001b[38;5;241m500\u001b[39m)               \u001b[38;5;66;03m# Determine the window size\u001b[39;00m\n\u001b[0;32m      6\u001b[0m wn \u001b[38;5;241m=\u001b[39m turtle\u001b[38;5;241m.\u001b[39mScreen()                 \u001b[38;5;66;03m# Get a reference to the window\u001b[39;00m\n\u001b[0;32m      7\u001b[0m wn\u001b[38;5;241m.\u001b[39mtitle(\u001b[38;5;124m'\u001b[39m\u001b[38;5;124mHandling mouse clicks!\u001b[39m\u001b[38;5;124m'\u001b[39m)   \u001b[38;5;66;03m# Change the window title\u001b[39;00m\n",
      "File \u001b[1;32m<string>:5\u001b[0m, in \u001b[0;36msetup\u001b[1;34m(width, height, startx, starty)\u001b[0m\n",
      "\u001b[1;31mTerminator\u001b[0m: "
     ]
    }
   ],
   "source": [
    "# Seperate handlers for each turtle\n",
    "\n",
    "import turtle\n",
    "\n",
    "turtle.setup(400, 500)               # Determine the window size\n",
    "wn = turtle.Screen()                 # Get a reference to the window\n",
    "wn.title('Handling mouse clicks!')   # Change the window title\n",
    "wn.bgcolor('lightgreen')             # Set the background color\n",
    "tess = turtle.Turtle()               # Create the first turtle\n",
    "tess.color('red')\n",
    "\n",
    "alex = turtle.Turtle()                 # Create the second turtle\n",
    "alex.color('blue')\n",
    "alex.forward(100)\n",
    "\n",
    "def handler_for_tess(x, y):\n",
    "    wn.title('Tess clicked at {0}, {1}'.format(x, y))\n",
    "    tess.left(42)\n",
    "    tess.forward(30)\n",
    "    \n",
    "def handler_for_alex(x, y):\n",
    "    wn.title('Alex clicked at {0}, {1}'.format(x, y))\n",
    "    alex.right(84)\n",
    "    alex.forward(50)\n",
    "    \n",
    "tess.onclick(handler_for_tess)\n",
    "alex.onclick(handler_for_alex)\n",
    "\n",
    "wn.mainloop()\n"
   ]
  },
  {
   "cell_type": "code",
   "execution_count": 66,
   "id": "36185b1a",
   "metadata": {},
   "outputs": [],
   "source": [
    "# Using a timer for event trigger\n",
    "import turtle\n",
    "\n",
    "turtle.setup(400, 500)\n",
    "wn = turtle.Screen()\n",
    "wn.title('Using a timer')\n",
    "wn.bgcolor('lightgreen')\n",
    "\n",
    "tess = turtle.Turtle()\n",
    "#tess.color('blue')\n",
    "tess.shape('turtle')\n",
    "tess.pensize(6)\n",
    "\n",
    "def h1():\n",
    "    tess.forward(100)\n",
    "    tess.left(56)\n",
    "    \n",
    "wn.ontimer(h1, 2000)\n",
    "wn.mainloop()"
   ]
  },
  {
   "cell_type": "code",
   "execution_count": 67,
   "id": "8e892164",
   "metadata": {},
   "outputs": [
    {
     "ename": "Terminator",
     "evalue": "",
     "output_type": "error",
     "traceback": [
      "\u001b[1;31m---------------------------------------------------------------------------\u001b[0m",
      "\u001b[1;31mTerminator\u001b[0m                                Traceback (most recent call last)",
      "Cell \u001b[1;32mIn[67], line 4\u001b[0m\n\u001b[0;32m      1\u001b[0m \u001b[38;5;66;03m# Restart the timer insider the timer\u001b[39;00m\n\u001b[0;32m      2\u001b[0m \u001b[38;5;28;01mimport\u001b[39;00m \u001b[38;5;21;01mturtle\u001b[39;00m\n\u001b[1;32m----> 4\u001b[0m turtle\u001b[38;5;241m.\u001b[39msetup(\u001b[38;5;241m400\u001b[39m, \u001b[38;5;241m500\u001b[39m)\n\u001b[0;32m      5\u001b[0m wn \u001b[38;5;241m=\u001b[39m turtle\u001b[38;5;241m.\u001b[39mScreen()\n\u001b[0;32m      6\u001b[0m wn\u001b[38;5;241m.\u001b[39mtitle(\u001b[38;5;124m'\u001b[39m\u001b[38;5;124mUsing a timer to get events\u001b[39m\u001b[38;5;124m'\u001b[39m)\n",
      "File \u001b[1;32m<string>:5\u001b[0m, in \u001b[0;36msetup\u001b[1;34m(width, height, startx, starty)\u001b[0m\n",
      "\u001b[1;31mTerminator\u001b[0m: "
     ]
    }
   ],
   "source": [
    "# Restart the timer insider the timer\n",
    "import turtle\n",
    "\n",
    "turtle.setup(400, 500)\n",
    "wn = turtle.Screen()\n",
    "wn.title('Using a timer to get events')\n",
    "wn.bgcolor('lightgreen')\n",
    "\n",
    "tess = turtle.Turtle()\n",
    "tess.color('red')\n",
    "\n",
    "def h1():\n",
    "    tess.forward(100)\n",
    "    tess.left(56)\n",
    "    wn.ontimer(h1, 60)\n",
    "    \n",
    "h1()\n",
    "wn.mainloop()"
   ]
  },
  {
   "cell_type": "code",
   "execution_count": 68,
   "id": "cf4c43d8",
   "metadata": {
    "scrolled": true
   },
   "outputs": [],
   "source": [
    "# Tess becomes a traffic light\n",
    "\n",
    "import turtle\n",
    "\n",
    "turtle.setup(400, 500)\n",
    "wn = turtle.Screen()\n",
    "wn.title('Tess becomes a traffic light')\n",
    "wn.bgcolor('lightgreen')\n",
    "tess = turtle.Turtle()\n",
    "\n",
    "def draw_housing():\n",
    "    \"\"\" Draw a nice housing to hold the traffic light\"\"\"\n",
    "    tess.pensize(3)\n",
    "    #tess.color(\"black\", \"darkgrey\")\n",
    "    tess.begin_fill()\n",
    "    tess.forward(80)\n",
    "    tess.left(90)\n",
    "    tess.forward(200)\n",
    "    tess.circle(40, 180)\n",
    "    tess.forward(200)\n",
    "    tess.left(90)\n",
    "    tess.end_fill()\n",
    "    \n",
    "draw_housing()\n",
    "\n",
    "tess.penup()\n",
    "# Position tess onto the place where the green light should be \n",
    "tess.forward(40)\n",
    "tess.left(90)\n",
    "tess.forward(50)\n",
    "# Turn tess into a big green circle\n",
    "tess.shape('circle')\n",
    "tess.shapesize(3)\n",
    "tess.fillcolor('green')\n",
    "\n",
    "# A traffic light is a kind of state machine with three states,\n",
    "# Green, Orange, Red. We number these states 0, 1, 2\n",
    "# When the machine changes state, we change tess's position and her fillcolor\n",
    "\n",
    "# This variable holds the current state of the machine\n",
    "state_num = 0\n",
    "\n",
    "\n",
    "def advance_state_machine():\n",
    "    global state_num\n",
    "    if state_num == 0:  # Transition from state 0 to state 1\n",
    "        tess.forward(70)\n",
    "        tess.fillcolor('orange')\n",
    "        state_num = 1\n",
    "    elif state_num == 1:\n",
    "        tess.forward(70)\n",
    "        tess.fillcolor('red')\n",
    "        state_num = 2\n",
    "    else:\n",
    "        tess.back(140)\n",
    "        tess.fillcolor('green')\n",
    "        state_num = 0\n",
    "        \n",
    "# Bind the event handler to the space key\n",
    "wn.onkey(advance_state_machine, 'space')\n",
    "\n",
    "wn.listen()\n",
    "wn.mainloop()"
   ]
  },
  {
   "cell_type": "code",
   "execution_count": 69,
   "id": "6514704f",
   "metadata": {},
   "outputs": [
    {
     "name": "stdout",
     "output_type": "stream",
     "text": [
      "Test at the line10 ok\n",
      "Test at the line11 ok\n"
     ]
    }
   ],
   "source": [
    "def f(n):\n",
    "    \"\"\" \n",
    "    Find the first positive integer between 101 and less than n that is \n",
    "    divisible by 21\n",
    "    \"\"\"\n",
    "    for i in range(101, n):\n",
    "        if i % 21 == 0:\n",
    "            return i\n",
    "        \n",
    "test(f(110) == 105)\n",
    "test(f(1000000000) == 105)"
   ]
  },
  {
   "cell_type": "code",
   "execution_count": 70,
   "id": "413862a5",
   "metadata": {},
   "outputs": [],
   "source": [
    "s = 'this is a string'"
   ]
  },
  {
   "cell_type": "code",
   "execution_count": 71,
   "id": "3e89c370",
   "metadata": {},
   "outputs": [
    {
     "ename": "NameError",
     "evalue": "name 'upper' is not defined",
     "output_type": "error",
     "traceback": [
      "\u001b[1;31m---------------------------------------------------------------------------\u001b[0m",
      "\u001b[1;31mNameError\u001b[0m                                 Traceback (most recent call last)",
      "Cell \u001b[1;32mIn[71], line 1\u001b[0m\n\u001b[1;32m----> 1\u001b[0m upper(s)\n",
      "\u001b[1;31mNameError\u001b[0m: name 'upper' is not defined"
     ]
    }
   ],
   "source": [
    "upper(s)"
   ]
  },
  {
   "cell_type": "code",
   "execution_count": 72,
   "id": "01001a8e",
   "metadata": {},
   "outputs": [
    {
     "data": {
      "text/plain": [
       "'THIS IS A STRING'"
      ]
     },
     "execution_count": 72,
     "metadata": {},
     "output_type": "execute_result"
    }
   ],
   "source": [
    "s.upper()"
   ]
  },
  {
   "cell_type": "code",
   "execution_count": 73,
   "id": "c9d1dbbc",
   "metadata": {},
   "outputs": [
    {
     "name": "stdout",
     "output_type": "stream",
     "text": [
      "17 10 3\n"
     ]
    }
   ],
   "source": [
    "n = 10\n",
    "m = 3\n",
    "def f(n):\n",
    "    m = 7\n",
    "    return 2*n+m\n",
    "\n",
    "print(f(5), n, m)"
   ]
  },
  {
   "cell_type": "code",
   "execution_count": 74,
   "id": "7bb4f212",
   "metadata": {},
   "outputs": [],
   "source": [
    "# Write into a file\n",
    "\n",
    "myfile = open('test.txt', 'w') \n",
    "myfile.write('My first file written from Python\\n')\n",
    "myfile.write('----------------------------------\\n')\n",
    "myfile.write('Hello, world!\\n')\n",
    "myfile.close()"
   ]
  },
  {
   "cell_type": "code",
   "execution_count": 75,
   "id": "d3b99294",
   "metadata": {},
   "outputs": [
    {
     "name": "stdout",
     "output_type": "stream",
     "text": [
      "My first file written from Python\n",
      "----------------------------------\n",
      "Hello, world!\n"
     ]
    }
   ],
   "source": [
    "# Read from a file\n",
    "\n",
    "mynewhandle = open('test.txt', 'r')\n",
    "while True:\n",
    "    theline = mynewhandle.readline()\n",
    "    if len(theline) == 0:\n",
    "        break\n",
    "        \n",
    "    print(theline, end='')\n",
    "    \n",
    "mynewhandle.close()"
   ]
  },
  {
   "cell_type": "code",
   "execution_count": 76,
   "id": "2d28c56d",
   "metadata": {},
   "outputs": [
    {
     "data": {
      "text/plain": [
       "['My first file written from Python\\n',\n",
       " '----------------------------------\\n',\n",
       " 'Hello, world!\\n']"
      ]
     },
     "execution_count": 76,
     "metadata": {},
     "output_type": "execute_result"
    }
   ],
   "source": [
    "mynewhandle = open('test.txt', 'r')\n",
    "\n",
    "mynewhandle.readlines()"
   ]
  },
  {
   "cell_type": "code",
   "execution_count": 77,
   "id": "60eee43f",
   "metadata": {},
   "outputs": [
    {
     "name": "stdout",
     "output_type": "stream",
     "text": [
      "There are 9 words in this file\n",
      "There are 9 words in this file\n"
     ]
    }
   ],
   "source": [
    "f = open('test.txt', 'r')\n",
    "content = f.read()\n",
    "\n",
    "print(f'There are {len(content.split())} words in this file')\n",
    "print('There are {0} words in this file'.format(len(content.split())))"
   ]
  },
  {
   "cell_type": "code",
   "execution_count": 78,
   "id": "5ac4d9c5",
   "metadata": {},
   "outputs": [],
   "source": [
    "from urllib import request"
   ]
  },
  {
   "cell_type": "code",
   "execution_count": 79,
   "id": "18627b25",
   "metadata": {},
   "outputs": [
    {
     "data": {
      "text/plain": [
       "('rfc793.txt', <http.client.HTTPMessage at 0x209752e01d0>)"
      ]
     },
     "execution_count": 79,
     "metadata": {},
     "output_type": "execute_result"
    }
   ],
   "source": [
    "url = \"https://www.ietf.org/rfc/rfc793.txt\"\n",
    "destination_filename = 'rfc793.txt'\n",
    "\n",
    "request.urlretrieve(url, destination_filename)"
   ]
  },
  {
   "cell_type": "markdown",
   "id": "78ce1d8a",
   "metadata": {},
   "source": [
    "**Test Driven Development**"
   ]
  },
  {
   "cell_type": "code",
   "execution_count": 1,
   "id": "b0429cc5",
   "metadata": {},
   "outputs": [],
   "source": [
    "def search_linear(xs, target):\n",
    "    \"\"\"\n",
    "    Find and return the index of target in sequence xs\n",
    "    \"\"\"\n",
    "    for (i, v) in enumerate(xs):\n",
    "        if v == target:\n",
    "            return i\n",
    "    return -1"
   ]
  },
  {
   "cell_type": "code",
   "execution_count": 2,
   "id": "46616579",
   "metadata": {},
   "outputs": [
    {
     "name": "stdout",
     "output_type": "stream",
     "text": [
      "Test at the line  git 6 ok\n",
      "Test at the line  git 7 ok\n",
      "Test at the line  git 8 ok\n",
      "Test at the line  git 9 ok\n"
     ]
    }
   ],
   "source": [
    "# test.py module created in root directory notebook runs from\n",
    "from test import test\n",
    "\n",
    "# Lets write some tests\n",
    "friends = ['Joe', 'Zoe', 'Brad', 'Angelina', 'Zuki', 'Thandi', 'Paris']\n",
    "test(search_linear(friends, 'Zoe') == 1)\n",
    "test(search_linear(friends, 'Joe') == 0)\n",
    "test(search_linear(friends, 'Paris') == 6)\n",
    "test(search_linear(friends, 'Bill') == -1)\n",
    "\n",
    "\n",
    "\n",
    "\n",
    "\n"
   ]
  },
  {
   "cell_type": "code",
   "execution_count": 5,
   "id": "e7474af1",
   "metadata": {},
   "outputs": [
    {
     "name": "stdout",
     "output_type": "stream",
     "text": [
      "Test at the line  git 4 ok\n",
      "Test at the line  git 5 ok\n",
      "Test at the line  git 6 ok\n"
     ]
    }
   ],
   "source": [
    "vocab = ['apple', 'boy', 'dog', 'down', 'fell', 'girl', 'grass', 'the', 'tree']\n",
    "book_words = 'the apple fell from the tree to the grass'.split()\n",
    "\n",
    "test(find_unknown_words(vocab, book_words) == ['from', 'to'])\n",
    "test(find_unknown_words([], book_words) == book_words)\n",
    "test(find_unknown_words(vocab, ['the', 'boy', 'fell']) == [])\n",
    "\n"
   ]
  },
  {
   "cell_type": "code",
   "execution_count": 4,
   "id": "665ad7d8",
   "metadata": {},
   "outputs": [],
   "source": [
    "def find_unknown_words(vocab, wds):\n",
    "    \"\"\" Return a list of words in wds that do not occur in vocab\"\"\"\n",
    "    result = []\n",
    "    for w in wds:\n",
    "        if (search_linear(vocab, w) < 0):\n",
    "            result.append(w)\n",
    "    return result"
   ]
  },
  {
   "cell_type": "code",
   "execution_count": 6,
   "id": "15e8b85f",
   "metadata": {},
   "outputs": [
    {
     "name": "stdout",
     "output_type": "stream",
     "text": [
      "There are 19455 words in the vocab, starting with\n",
      " ['a', 'aback', 'abacus', 'abandon', 'abandoned', 'abandonment'] \n"
     ]
    }
   ],
   "source": [
    "# Read words from file\n",
    "def load_words_from_file(filename):\n",
    "    \"\"\" Read words from filename, return list of words\"\"\"\n",
    "    f = open(filename, 'r')\n",
    "    file_content = f.read()\n",
    "    f.close()\n",
    "    wds = file_content.split()\n",
    "    return wds\n",
    "\n",
    "bigger_vocab = load_words_from_file('vocab.txt')\n",
    "print('There are {0} words in the vocab, starting with\\n {1} '.format(len(bigger_vocab), bigger_vocab[:6]))\n",
    "\n",
    "\n"
   ]
  },
  {
   "cell_type": "code",
   "execution_count": 7,
   "id": "f9fe93e2",
   "metadata": {},
   "outputs": [],
   "source": [
    "def text_to_words(the_text):\n",
    "    \"\"\" Return a list of words with all punctuation removed, and \n",
    "    all in lowercase\n",
    "    \"\"\"\n",
    "    \n",
    "    my_substitutions = the_text.maketrans(\n",
    "    # If you find any of these)\n",
    "    \"ABCDEFGHIJKLMNOPQRSTUVWXYZ0123456789!\\\"#$%&()*+,-./:;<=>?@[]^_`{|}~'\\\\\",\n",
    "    # Replace them with these\n",
    "        \"abcdefghijklmnopqrstuvwxyz                                          \")\n",
    "        \n",
    "    # Translate the text now.\n",
    "    cleaned_text = the_text.translate(my_substitutions)\n",
    "    wds = cleaned_text.split()\n",
    "    return wds\n",
    "    "
   ]
  },
  {
   "cell_type": "code",
   "execution_count": 8,
   "id": "f757f8be",
   "metadata": {
    "scrolled": true
   },
   "outputs": [
    {
     "name": "stdout",
     "output_type": "stream",
     "text": [
      "Test at the line  1 FAILED\n",
      "Test at the line  git 2 ok\n",
      "Test at the line  git 3 ok\n"
     ]
    }
   ],
   "source": [
    "test(text_to_words('My name is Earl!') == ['my', 'name', 'is', 'Earl'])\n",
    "test(text_to_words('My name is Earl!') == ['my', 'name', 'is', 'earl'])\n",
    "test(text_to_words('\"Well, I never!\", said Alice.') == ['well', 'i', 'never', 'said', 'alice'])"
   ]
  },
  {
   "cell_type": "code",
   "execution_count": 9,
   "id": "13b37d23",
   "metadata": {
    "run_control": {
     "marked": false
    }
   },
   "outputs": [],
   "source": [
    "# Merge two sorted list\n",
    "def merge(xs, ys):\n",
    "    \"\"\" merge sorted lists xs and ys. Return a sorted result\"\"\"\n",
    "    result = []\n",
    "    xi = 0\n",
    "    yi = 0\n",
    "    \n",
    "    while True:\n",
    "        if xi >= len(xs):           # If xs list is finished ,\n",
    "            result.extend(ys[yi:])  # Add remaining items from ys\n",
    "            return result           # And we are done\n",
    "        \n",
    "        if yi >= len(ys):           # Same again, but swap roles\n",
    "            result.extend(xs[xi:])\n",
    "            return result\n",
    "            \n",
    "        # Both lists shall have items, copy smaller item to result.\n",
    "        if xs[xi] <= ys[yi]:\n",
    "            result.append(xs[xi])\n",
    "            xi += 1\n",
    "        else:\n",
    "            result.append(ys[yi])\n",
    "            yi += 1\n",
    "            \n",
    "            \n",
    "    # Unit Tests\n",
    "    xs = [1, 3, 5, 7, 9, 11, 13, 15, 17, 19]\n",
    "    ys = [4, 8, 12, 16, 20, 24]\n",
    "    zs = xs + ys\n",
    "    zs.sort()\n",
    "    test(merge(xs, []) == xs)\n",
    "    test(merge([], ys) == ys)\n",
    "    test(merge([], []) == [])\n",
    "    test(merge(xs, ys) == zs)\n",
    "    test(merge([1, 2, 3], [3, 4, 5]) == [1, 2, 3, 3, 4, 5])\n",
    "    test(merge(['a', 'big', 'cat'], ['big', 'bite', 'dog']) ==\n",
    "        ['a', 'big', 'big', 'bite', 'cat', 'dog'])"
   ]
  },
  {
   "cell_type": "code",
   "execution_count": 10,
   "id": "a583ada3",
   "metadata": {},
   "outputs": [
    {
     "name": "stdout",
     "output_type": "stream",
     "text": [
      "Test at the line  git 5 ok\n",
      "Test at the line  git 6 ok\n",
      "Test at the line  git 7 ok\n",
      "Test at the line  git 8 ok\n",
      "Test at the line  git 9 ok\n",
      "Test at the line  git 10 ok\n"
     ]
    }
   ],
   "source": [
    "xs = [1, 3, 5, 7, 9, 11, 13, 15, 17, 19]\n",
    "ys = [4, 8, 12, 16, 20, 24]\n",
    "zs = xs + ys\n",
    "zs.sort()\n",
    "test(merge(xs, []) == xs)\n",
    "test(merge([], ys) == ys)\n",
    "test(merge([], []) == [])\n",
    "test(merge(xs, ys) == zs)\n",
    "test(merge([1, 2, 3], [3, 4, 5]) == [1, 2, 3, 3, 4, 5])\n",
    "test(merge(['a', 'big', 'cat'], ['big', 'bite', 'dog']) ==\n",
    "    ['a', 'big', 'big', 'bite', 'cat', 'dog'])"
   ]
  },
  {
   "cell_type": "code",
   "execution_count": 11,
   "id": "4a43c860",
   "metadata": {},
   "outputs": [],
   "source": [
    "# 8 Queens Puzzle\n",
    "def share_diagonal(x0, y0, x1, y1):\n",
    "    \"\"\" Is (x0, y0) on a shared diagonal with (x1, y1)? \"\"\"\n",
    "    dy = abs(y1 - y0)          # Calc the absolute y distance\n",
    "    dx = abs(x1 - x0)          # Calc the absolute x distance\n",
    "    return dx == dy\n",
    "\n",
    "\n"
   ]
  },
  {
   "cell_type": "code",
   "execution_count": 12,
   "id": "27206b1a",
   "metadata": {},
   "outputs": [
    {
     "name": "stdout",
     "output_type": "stream",
     "text": [
      "Test at the line  git 1 ok\n",
      "Test at the line  git 2 ok\n",
      "Test at the line  git 3 ok\n",
      "Test at the line  git 4 ok\n"
     ]
    }
   ],
   "source": [
    "test(not share_diagonal(5, 2, 2, 0))\n",
    "test(share_diagonal(5, 2, 3, 0))\n",
    "test(share_diagonal(5, 2, 4, 3))\n",
    "test(share_diagonal(5, 2, 4, 1))"
   ]
  },
  {
   "cell_type": "code",
   "execution_count": 13,
   "id": "bd391174",
   "metadata": {},
   "outputs": [],
   "source": [
    "def col_clashes(bs, c):\n",
    "    \"\"\" Return True if the queen at column c clashes\n",
    "    with any queen to its left\"\"\"\n",
    "    for i in range(c):      # Look at all the columns to the left of c\n",
    "        if share_diagonal(i, bs[i], c, bs[c]):\n",
    "            return True\n",
    "    else:\n",
    "        return False        # No clashses - col c has a safe placement"
   ]
  },
  {
   "cell_type": "code",
   "execution_count": 14,
   "id": "3485712e",
   "metadata": {},
   "outputs": [],
   "source": [
    "def has_clashes(the_board):\n",
    "    \"\"\" Determine whether we have any queen clashing on the diagonal\n",
    "    We are assuming here that the_board is a permutation of column numbers, so we are not\n",
    "    explicittly checking row or column clashes\n",
    "    \"\"\"\n",
    "    \n",
    "    for col in range(1, len(the_board)):\n",
    "        if col_clashes(the_board, col):\n",
    "            return True\n",
    "    \n",
    "    return False\n",
    "\n"
   ]
  },
  {
   "cell_type": "code",
   "execution_count": 15,
   "id": "21fbb4f5",
   "metadata": {},
   "outputs": [
    {
     "name": "stdout",
     "output_type": "stream",
     "text": [
      "Test at the line  git 2 ok\n"
     ]
    }
   ],
   "source": [
    "# unit tests\n",
    "test(not has_clashes([6, 4, 2, 0, 5, 7, 1, 3]))"
   ]
  },
  {
   "cell_type": "code",
   "execution_count": 17,
   "id": "1bb2696e",
   "metadata": {},
   "outputs": [
    {
     "name": "stdout",
     "output_type": "stream",
     "text": [
      "Found solution [3, 7, 0, 2, 5, 1, 6, 4] in 955 tries.\n",
      "Found solution [5, 3, 0, 4, 7, 1, 6, 2] in 430 tries.\n",
      "Found solution [2, 5, 3, 0, 7, 4, 6, 1] in 24 tries.\n",
      "Found solution [0, 5, 7, 2, 6, 3, 1, 4] in 735 tries.\n",
      "Found solution [3, 0, 4, 7, 1, 6, 2, 5] in 51 tries.\n",
      "Found solution [4, 2, 7, 3, 6, 0, 5, 1] in 268 tries.\n",
      "Found solution [5, 3, 0, 4, 7, 1, 6, 2] in 404 tries.\n",
      "Found solution [5, 2, 6, 1, 3, 7, 0, 4] in 741 tries.\n",
      "Found solution [2, 0, 6, 4, 7, 1, 3, 5] in 728 tries.\n",
      "Found solution [5, 3, 6, 0, 2, 4, 1, 7] in 134 tries.\n"
     ]
    }
   ],
   "source": [
    "def main():\n",
    "    import random\n",
    "    rng = random.Random()    # Instantiate a generator\n",
    "    \n",
    "    bd = list(range(8))      # Generate the initial permutation\n",
    "    num_found = 0\n",
    "    tries = 0\n",
    "    while num_found < 10:\n",
    "        rng.shuffle(bd)\n",
    "        tries += 1\n",
    "        if not has_clashes(bd):\n",
    "            print(\"Found solution {0} in {1} tries.\".format(bd, tries))\n",
    "            tries = 0\n",
    "            num_found += 1\n",
    "            \n",
    "            \n",
    "main()"
   ]
  },
  {
   "cell_type": "markdown",
   "id": "bfc74b55",
   "metadata": {},
   "source": [
    "**Chapter 15: Classes and Objects-The basics**"
   ]
  },
  {
   "cell_type": "code",
   "execution_count": 18,
   "id": "89943f7f",
   "metadata": {},
   "outputs": [],
   "source": [
    "class Point:\n",
    "    \"\"\" Point class represents and manipulates x, y coords. \"\"\"\n",
    "    def __init__(self):\n",
    "        \"\"\" Create a new point at the origin\"\"\"\n",
    "        self.x = 0\n",
    "        self.y = 0\n",
    "        "
   ]
  },
  {
   "cell_type": "code",
   "execution_count": 22,
   "id": "9a4af8c0",
   "metadata": {},
   "outputs": [
    {
     "name": "stdout",
     "output_type": "stream",
     "text": [
      "0 0 0 0\n"
     ]
    }
   ],
   "source": [
    "p = Point()\n",
    "q = Point()\n",
    "\n",
    "print(p.x, p.y, q.x, q.y)"
   ]
  },
  {
   "cell_type": "code",
   "execution_count": 28,
   "id": "21d63da9",
   "metadata": {},
   "outputs": [],
   "source": [
    "p.x = 0"
   ]
  },
  {
   "cell_type": "code",
   "execution_count": 31,
   "id": "e5a05cac",
   "metadata": {},
   "outputs": [],
   "source": [
    "p.x = 3 \n",
    "p.y = 4"
   ]
  },
  {
   "cell_type": "code",
   "execution_count": 32,
   "id": "4e64e01a",
   "metadata": {},
   "outputs": [
    {
     "name": "stdout",
     "output_type": "stream",
     "text": [
      "3 4 0 0\n"
     ]
    }
   ],
   "source": [
    "print(p.x, p.y, q.x, q.y)"
   ]
  },
  {
   "cell_type": "code",
   "execution_count": 34,
   "id": "38e8f9fb",
   "metadata": {},
   "outputs": [
    {
     "name": "stdout",
     "output_type": "stream",
     "text": [
      "(x=3, y=4)\n",
      "Distance from origin is 25\n"
     ]
    }
   ],
   "source": [
    "print('(x={0}, y={1})'.format(p.x, p.y))\n",
    "distance_squared_from_origin = p.x * p.x + p.y ** 2\n",
    "print(f'Distance from origin is {distance_squared_from_origin}')"
   ]
  },
  {
   "cell_type": "code",
   "execution_count": 35,
   "id": "dd9b1599",
   "metadata": {},
   "outputs": [],
   "source": [
    "# update the Point class with extra parameters with default values\n",
    "class Point:\n",
    "    \"\"\" Point class represents and manipulates x, y coords\"\"\"\n",
    "    \n",
    "    def __init__(self, x=0, y=0):\n",
    "        \"\"\" Create a new point at x, y\"\"\"\n",
    "        self.x = x  # options x and y are optional, if not supplied the default values of 0 is returned.\n",
    "        self.y = y\n",
    "        \n",
    "    "
   ]
  },
  {
   "cell_type": "code",
   "execution_count": 36,
   "id": "1429c794",
   "metadata": {},
   "outputs": [
    {
     "name": "stdout",
     "output_type": "stream",
     "text": [
      "4 3 0\n"
     ]
    }
   ],
   "source": [
    "p = Point(4, 2)\n",
    "q = Point(6, 3)\n",
    "r = Point()\n",
    "\n",
    "print(p.x, q.y, r.x)"
   ]
  },
  {
   "cell_type": "code",
   "execution_count": 37,
   "id": "6b0b6e3b",
   "metadata": {},
   "outputs": [],
   "source": [
    "# update the Point class with another method to calculate distance from origin\n",
    "class Point:\n",
    "    \"\"\" Point class represents and manipulates x, y coords\"\"\"\n",
    "    \n",
    "    def __init__(self, x=0, y=0):\n",
    "        \"\"\" Create a new point at x, y\"\"\"\n",
    "        self.x = x  # options x and y are optional, if not supplied the default values of 0 is returned.\n",
    "        self.y = y\n",
    "        \n",
    "        \n",
    "    def distance_from_origin(self):\n",
    "        \"\"\" Compute the distance from the origin\"\"\"\n",
    "        return ((self.x ** 2) + (self.y ** 2)) ** 0.5"
   ]
  },
  {
   "cell_type": "code",
   "execution_count": 38,
   "id": "91cde272",
   "metadata": {},
   "outputs": [],
   "source": [
    "p = Point(3, 4)\n"
   ]
  },
  {
   "cell_type": "code",
   "execution_count": 40,
   "id": "146b5a4f",
   "metadata": {},
   "outputs": [
    {
     "data": {
      "text/plain": [
       "(3, 4)"
      ]
     },
     "execution_count": 40,
     "metadata": {},
     "output_type": "execute_result"
    }
   ],
   "source": [
    "p.x, p.y"
   ]
  },
  {
   "cell_type": "code",
   "execution_count": 41,
   "id": "7f0793c5",
   "metadata": {},
   "outputs": [
    {
     "data": {
      "text/plain": [
       "5.0"
      ]
     },
     "execution_count": 41,
     "metadata": {},
     "output_type": "execute_result"
    }
   ],
   "source": [
    "p.distance_from_origin()"
   ]
  },
  {
   "cell_type": "code",
   "execution_count": 42,
   "id": "2adffff5",
   "metadata": {},
   "outputs": [
    {
     "data": {
      "text/plain": [
       "13.0"
      ]
     },
     "execution_count": 42,
     "metadata": {},
     "output_type": "execute_result"
    }
   ],
   "source": [
    "q = Point(5, 12)\n",
    "q.distance_from_origin(\n",
    ")"
   ]
  },
  {
   "cell_type": "code",
   "execution_count": 43,
   "id": "9e3ab726",
   "metadata": {},
   "outputs": [],
   "source": [
    "# update the Point class with another method to print as a string\n",
    "class Point:\n",
    "    \"\"\" Point class represents and manipulates x, y coords\"\"\"\n",
    "    \n",
    "    def __init__(self, x=0, y=0):\n",
    "        \"\"\" Create a new point at x, y\"\"\"\n",
    "        self.x = x  # options x and y are optional, if not supplied the default values of 0 is returned.\n",
    "        self.y = y\n",
    "        \n",
    "        \n",
    "    def distance_from_origin(self):\n",
    "        \"\"\" Compute the distance from the origin\"\"\"\n",
    "        return ((self.x ** 2) + (self.y ** 2)) ** 0.5\n",
    "    \n",
    "    \n",
    "    def to_string(self):\n",
    "        \"\"\" to return point as a string\"\"\"\n",
    "        return '({0}, {1})'.format(self.x, self.y)"
   ]
  },
  {
   "cell_type": "code",
   "execution_count": 45,
   "id": "7cc9b546",
   "metadata": {},
   "outputs": [
    {
     "name": "stdout",
     "output_type": "stream",
     "text": [
      "(3, 8)\n"
     ]
    }
   ],
   "source": [
    "p = Point(3, 8)\n",
    "print(p.to_string())"
   ]
  },
  {
   "cell_type": "code",
   "execution_count": 49,
   "id": "991b163b",
   "metadata": {},
   "outputs": [],
   "source": [
    "# update the Point class with another method to print as a string and naming it __str__\n",
    "class Point:\n",
    "    \"\"\" Point class represents and manipulates x, y coords\"\"\"\n",
    "    \n",
    "    def __init__(self, x=0, y=0):\n",
    "        \"\"\" Create a new point at x, y\"\"\"\n",
    "        self.x = x  # options x and y are optional, if not supplied the default values of 0 is returned.\n",
    "        self.y = y\n",
    "        \n",
    "        \n",
    "    def distance_from_origin(self):\n",
    "        \"\"\" Compute the distance from the origin\"\"\"\n",
    "        return ((self.x ** 2) + (self.y ** 2)) ** 0.5\n",
    "    \n",
    "    \n",
    "    def __str__(self):\n",
    "        \"\"\" to return point as a string\"\"\"\n",
    "        return '({0}, {1})'.format(self.x, self.y)"
   ]
  },
  {
   "cell_type": "code",
   "execution_count": 50,
   "id": "d5070bef",
   "metadata": {},
   "outputs": [
    {
     "data": {
      "text/plain": [
       "'(3, 8)'"
      ]
     },
     "execution_count": 50,
     "metadata": {},
     "output_type": "execute_result"
    }
   ],
   "source": [
    "p = Point(3, 8)\n",
    "str(p)"
   ]
  },
  {
   "cell_type": "code",
   "execution_count": 51,
   "id": "acb78819",
   "metadata": {},
   "outputs": [
    {
     "name": "stdout",
     "output_type": "stream",
     "text": [
      "(3, 8)\n"
     ]
    }
   ],
   "source": [
    "print(p)"
   ]
  },
  {
   "cell_type": "code",
   "execution_count": 52,
   "id": "653c68b5",
   "metadata": {},
   "outputs": [],
   "source": [
    "# update the Point class with another method to calculate the halfway between initialised point and a target\n",
    "class Point:\n",
    "    \"\"\" Point class represents and manipulates x, y coords\"\"\"\n",
    "    \n",
    "    def __init__(self, x=0, y=0):\n",
    "        \"\"\" Create a new point at x, y\"\"\"\n",
    "        self.x = x  # options x and y are optional, if not supplied the default values of 0 is returned.\n",
    "        self.y = y\n",
    "        \n",
    "        \n",
    "    def distance_from_origin(self):\n",
    "        \"\"\" Compute the distance from the origin\"\"\"\n",
    "        return ((self.x ** 2) + (self.y ** 2)) ** 0.5\n",
    "    \n",
    "    \n",
    "    def __str__(self):\n",
    "        \"\"\" To return point as a string\"\"\"\n",
    "        return '({0}, {1})'.format(self.x, self.y)\n",
    "    \n",
    "    \n",
    "    def halfway(self, target):\n",
    "        \"\"\" Return the halfway point between myself and target\"\"\"\n",
    "        mx = (self.x + target.x)/2\n",
    "        my = (self.y + target.y)/2\n",
    "        return Point(mx, my)"
   ]
  },
  {
   "cell_type": "code",
   "execution_count": 57,
   "id": "cc99ccb2",
   "metadata": {},
   "outputs": [
    {
     "name": "stdout",
     "output_type": "stream",
     "text": [
      "(4.0, 8.0)\n"
     ]
    }
   ],
   "source": [
    "p = Point(3, 4)\n",
    "q = Point(5, 12)\n",
    "r = p.halfway(q)\n",
    "print(r)"
   ]
  },
  {
   "cell_type": "code",
   "execution_count": 54,
   "id": "c5d1fcfa",
   "metadata": {},
   "outputs": [
    {
     "data": {
      "text/plain": [
       "<__main__.Point at 0x149b8e41d50>"
      ]
     },
     "execution_count": 54,
     "metadata": {},
     "output_type": "execute_result"
    }
   ],
   "source": [
    "r\n"
   ]
  },
  {
   "cell_type": "code",
   "execution_count": 56,
   "id": "c00e50b1",
   "metadata": {},
   "outputs": [
    {
     "name": "stdout",
     "output_type": "stream",
     "text": [
      "(3, 4)\n"
     ]
    }
   ],
   "source": [
    "print(Point(3, 4))"
   ]
  },
  {
   "cell_type": "markdown",
   "id": "80847a8e",
   "metadata": {},
   "source": [
    "Objects are most useful when we also need to keep some state that is updated from time to time.\n",
    "Consider a turtle object. Its state consists of things like its position, its heading, its color, and its\n",
    "shape. \n",
    "\n",
    "A method like left(90) updates the turtle’s heading, forward changes its position, and so on.\n",
    "\n",
    "\n",
    "For a bank account object, a main component of the state would be the current balance, and perhaps\n",
    "a log of all transactions. The methods would allow us to query the current balance, deposit new\n",
    "funds, or make a payment. \n",
    "\n",
    "Making a payment would include an amount, and a description, so that this could be\n",
    "added to the transaction log. We’d also want a method to show the transaction log."
   ]
  },
  {
   "cell_type": "code",
   "execution_count": 64,
   "id": "26d60819",
   "metadata": {},
   "outputs": [],
   "source": [
    "# Exercise No.2 update the Point class with another method that returns a new Point , one which is the reflection of the point about the x-axis\n",
    "class Point:\n",
    "    \"\"\" Point class represents and manipulates x, y coords\"\"\"\n",
    "    \n",
    "    def __init__(self, x=0, y=0):\n",
    "        \"\"\" Create a new point at x, y\"\"\"\n",
    "        self.x = x  # options x and y are optional, if not supplied the default values of 0 is returned.\n",
    "        self.y = y\n",
    "        \n",
    "        \n",
    "    def distance_from_origin(self):\n",
    "        \"\"\" Compute the distance from the origin\"\"\"\n",
    "        return ((self.x ** 2) + (self.y ** 2)) ** 0.5\n",
    "    \n",
    "    \n",
    "    def __str__(self):\n",
    "        \"\"\" To return point as a string\"\"\"\n",
    "        return '({0}, {1})'.format(self.x, self.y)\n",
    "    \n",
    "    \n",
    "    def halfway(self, target):\n",
    "        \"\"\" Return the halfway point between myself and target\"\"\"\n",
    "        mx = (self.x + target.x)/2\n",
    "        my = (self.y + target.y)/2\n",
    "        return Point(mx, my)\n",
    "    \n",
    "    \n",
    "    def reflect_x(self):\n",
    "        \"\"\" Return the reflection Point about x-axis \"\"\"\n",
    "        rx = self.x\n",
    "        ry = -self.y\n",
    "        return print(Point(rx, ry))"
   ]
  },
  {
   "cell_type": "code",
   "execution_count": 65,
   "id": "28377b24",
   "metadata": {},
   "outputs": [],
   "source": [
    "p = Point(-3, 10)"
   ]
  },
  {
   "cell_type": "code",
   "execution_count": 66,
   "id": "35a517fa",
   "metadata": {},
   "outputs": [
    {
     "name": "stdout",
     "output_type": "stream",
     "text": [
      "(-3, -10)\n"
     ]
    }
   ],
   "source": [
    "p.reflect_x()"
   ]
  },
  {
   "cell_type": "markdown",
   "id": "82a0f19a",
   "metadata": {},
   "source": [
    "**Chapter 16: Classes and Objects —Digging a little deeper**"
   ]
  },
  {
   "cell_type": "code",
   "execution_count": 68,
   "id": "83a24abb",
   "metadata": {},
   "outputs": [],
   "source": [
    "class Rectangle:\n",
    "    \"\"\" A class to manufacture rectangles objects\"\"\"\n",
    "    def __init__(self, posn, w, h):\n",
    "        \"\"\" Initialise rectangle at posn, with width w, height h\"\"\"\n",
    "        self.corner = posn\n",
    "        self.width = w\n",
    "        self.height = h\n",
    "        \n",
    "        \n",
    "    def __str__(self):\n",
    "        return '({0}, {1}, {2})'.format(self.corner, self.width, self.height)"
   ]
  },
  {
   "cell_type": "code",
   "execution_count": 69,
   "id": "5d10be05",
   "metadata": {},
   "outputs": [
    {
     "name": "stdout",
     "output_type": "stream",
     "text": [
      "box:  ((0, 0), 100, 200)\n",
      "bomb:  ((100, 80), 5, 10)\n"
     ]
    }
   ],
   "source": [
    "box = Rectangle(Point(0,0), 100, 200)\n",
    "bomb = Rectangle(Point(100,80), 5, 10)\n",
    "print('box: ', box)\n",
    "print('bomb: ', bomb)"
   ]
  },
  {
   "cell_type": "code",
   "execution_count": 73,
   "id": "23ee4406",
   "metadata": {},
   "outputs": [
    {
     "name": "stdout",
     "output_type": "stream",
     "text": [
      "(0, 0)\n"
     ]
    }
   ],
   "source": [
    "print(box.corner)"
   ]
  },
  {
   "cell_type": "code",
   "execution_count": 74,
   "id": "b4220434",
   "metadata": {},
   "outputs": [],
   "source": [
    "# Update the Rectangle class with methods to grow the size and move to another point\n",
    "class Rectangle:\n",
    "    \"\"\" A class to manufacture rectangles objects\"\"\"\n",
    "    def __init__(self, posn, w, h):\n",
    "        \"\"\" Initialise rectangle at posn, with width w, height h\"\"\"\n",
    "        self.corner = posn\n",
    "        self.width = w\n",
    "        self.height = h\n",
    "        \n",
    "        \n",
    "    def __str__(self):\n",
    "        return '({0}, {1}, {2})'.format(self.corner, self.width, self.height)\n",
    "    \n",
    "    \n",
    "    def grow(self, delta_width, delta_height):\n",
    "        \"\"\" Grow (or shrink) this object by the deltas\"\"\"\n",
    "        self.width += delta_width\n",
    "        self.height += delta_height\n",
    "        \n",
    "    def move(self, dx, dy):\n",
    "        \"\"\" Move this object by the deltas\"\"\"\n",
    "        self.corner.x += dx\n",
    "        self.corner.y += dy\n",
    "        \n",
    "        "
   ]
  },
  {
   "cell_type": "code",
   "execution_count": 79,
   "id": "391a314b",
   "metadata": {},
   "outputs": [
    {
     "name": "stdout",
     "output_type": "stream",
     "text": [
      "((10, 5), 100, 50)\n"
     ]
    }
   ],
   "source": [
    "r = Rectangle(Point(10, 5), 100, 50)\n",
    "print(r)"
   ]
  },
  {
   "cell_type": "code",
   "execution_count": 80,
   "id": "8d927513",
   "metadata": {},
   "outputs": [
    {
     "name": "stdout",
     "output_type": "stream",
     "text": [
      "((10, 5), 125, 40)\n"
     ]
    }
   ],
   "source": [
    "r.grow(25, -10)\n",
    "print(r)"
   ]
  },
  {
   "cell_type": "code",
   "execution_count": 81,
   "id": "dfc6dd74",
   "metadata": {},
   "outputs": [
    {
     "name": "stdout",
     "output_type": "stream",
     "text": [
      "((0, 15), 125, 40)\n"
     ]
    }
   ],
   "source": [
    "r.move(-10, 10)\n",
    "print(r)"
   ]
  },
  {
   "cell_type": "markdown",
   "id": "1c4da375",
   "metadata": {},
   "source": [
    "`is` operator allows us to find out if two references refer to the same object"
   ]
  },
  {
   "cell_type": "code",
   "execution_count": 91,
   "id": "764fe7c5",
   "metadata": {},
   "outputs": [
    {
     "data": {
      "text/plain": [
       "False"
      ]
     },
     "execution_count": 91,
     "metadata": {},
     "output_type": "execute_result"
    }
   ],
   "source": [
    "p1 = Point(3, 4)\n",
    "p2 = Point(3, 4)\n",
    "p1 is p2"
   ]
  },
  {
   "cell_type": "code",
   "execution_count": 92,
   "id": "ef099326",
   "metadata": {},
   "outputs": [
    {
     "data": {
      "text/plain": [
       "False"
      ]
     },
     "execution_count": 92,
     "metadata": {},
     "output_type": "execute_result"
    }
   ],
   "source": [
    "p1 == p2"
   ]
  },
  {
   "cell_type": "code",
   "execution_count": 86,
   "id": "3356dbef",
   "metadata": {},
   "outputs": [
    {
     "data": {
      "text/plain": [
       "True"
      ]
     },
     "execution_count": 86,
     "metadata": {},
     "output_type": "execute_result"
    }
   ],
   "source": [
    "p3 = p1\n",
    "p1 is p3\n",
    "\n",
    "# This is a `shallow equality` because it compares only the references, not the contents of the objects."
   ]
  },
  {
   "cell_type": "code",
   "execution_count": 87,
   "id": "337eebde",
   "metadata": {},
   "outputs": [],
   "source": [
    "# A function to compare the contents of the objects `deep equality` :\n",
    "def same_coordinates(p1, p2):\n",
    "    return (p1.x == p2.x) and (p1.y == p2.y)"
   ]
  },
  {
   "cell_type": "code",
   "execution_count": 88,
   "id": "430fba4c",
   "metadata": {},
   "outputs": [
    {
     "data": {
      "text/plain": [
       "True"
      ]
     },
     "execution_count": 88,
     "metadata": {},
     "output_type": "execute_result"
    }
   ],
   "source": [
    "p1 = Point(3, 4)\n",
    "p2 = Point(3, 4)\n",
    "same_coordinates(p1, p2)"
   ]
  },
  {
   "cell_type": "markdown",
   "id": "e9bbf9da",
   "metadata": {},
   "source": [
    "**Beware of ==**"
   ]
  },
  {
   "cell_type": "code",
   "execution_count": 93,
   "id": "2dd1396d",
   "metadata": {},
   "outputs": [
    {
     "name": "stdout",
     "output_type": "stream",
     "text": [
      "== on points returns False\n",
      "== on lists returns True\n"
     ]
    }
   ],
   "source": [
    "p = Point(4, 2)\n",
    "s = Point(4, 2)\n",
    "print('== on points returns', p == s)\n",
    "# By default, == on Point objects does a shallow equality test\n",
    "\n",
    "a = [2, 3]\n",
    "b = [2, 3]\n",
    "print('== on lists returns', a == b)\n",
    "# But by default, == does a deep equality test on lists"
   ]
  },
  {
   "cell_type": "markdown",
   "id": "bbc5ecd2",
   "metadata": {},
   "source": [
    "So we conclude that even though the two lists (or tuples, etc.) are distinct objects with different\n",
    "memory addresses, for lists the == operator tests for deep equality, while in the case of points it\n",
    "makes a shallow test."
   ]
  },
  {
   "cell_type": "markdown",
   "id": "5a91d4e4",
   "metadata": {},
   "source": [
    "**Copying**"
   ]
  },
  {
   "cell_type": "code",
   "execution_count": 94,
   "id": "a5ec793c",
   "metadata": {},
   "outputs": [],
   "source": [
    "import copy\n",
    "p1 = Point(3, 4)\n",
    "p2 = copy.copy(p1)\n"
   ]
  },
  {
   "cell_type": "code",
   "execution_count": 95,
   "id": "74e84133",
   "metadata": {},
   "outputs": [
    {
     "data": {
      "text/plain": [
       "False"
      ]
     },
     "execution_count": 95,
     "metadata": {},
     "output_type": "execute_result"
    }
   ],
   "source": [
    "p1 is p2"
   ]
  },
  {
   "cell_type": "code",
   "execution_count": 96,
   "id": "04d0b4da",
   "metadata": {},
   "outputs": [
    {
     "data": {
      "text/plain": [
       "True"
      ]
     },
     "execution_count": 96,
     "metadata": {},
     "output_type": "execute_result"
    }
   ],
   "source": [
    "same_coordinates(p1, p2)"
   ]
  },
  {
   "cell_type": "markdown",
   "id": "148c9efc",
   "metadata": {},
   "source": [
    "To copy a simple object like a Point, which doesn’t contain any embedded objects, copy is sufficient.\n",
    "This is called shallow copying.\n",
    "\n",
    "For something like a Rectangle, which contains a reference to a Point, copy doesn’t do quite the\n",
    "right thing. \n",
    "\n",
    "It copies the reference to the Point object, so both the old Rectangle and the new one\n",
    "refer to a single Point.\n",
    "\n",
    "Fortunately, the copy module contains a function named deepcopy that copies not only the object\n",
    "but also any embedded objects. It won’t be surprising to learn that this operation is called a deep\n",
    "copy."
   ]
  },
  {
   "cell_type": "code",
   "execution_count": 120,
   "id": "4085b164",
   "metadata": {},
   "outputs": [],
   "source": [
    "\n",
    "b1 = Rectangle(Point(10, 5), 100, 50)\n",
    "b2 = copy.deepcopy(b1)"
   ]
  },
  {
   "cell_type": "code",
   "execution_count": 121,
   "id": "a7c01eae",
   "metadata": {},
   "outputs": [
    {
     "name": "stdout",
     "output_type": "stream",
     "text": [
      "((10, 5), 100, 50) ((10, 5), 100, 50)\n"
     ]
    }
   ],
   "source": [
    "print(b1, b2) "
   ]
  },
  {
   "cell_type": "code",
   "execution_count": 122,
   "id": "dbb68264",
   "metadata": {},
   "outputs": [],
   "source": [
    "b3 = copy.copy(b1)\n",
    "b4 = copy.deepcopy(b1)"
   ]
  },
  {
   "cell_type": "code",
   "execution_count": 123,
   "id": "cdd71bb2",
   "metadata": {},
   "outputs": [
    {
     "name": "stdout",
     "output_type": "stream",
     "text": [
      "((10, 5), 100, 50)\n"
     ]
    }
   ],
   "source": [
    "print(b3)"
   ]
  },
  {
   "cell_type": "code",
   "execution_count": 124,
   "id": "ed74765a",
   "metadata": {},
   "outputs": [],
   "source": [
    "b1.corner.x = 15"
   ]
  },
  {
   "cell_type": "code",
   "execution_count": 125,
   "id": "a4d6cada",
   "metadata": {},
   "outputs": [
    {
     "name": "stdout",
     "output_type": "stream",
     "text": [
      "((10, 5), 100, 50) ((15, 5), 100, 50) ((15, 5), 100, 50) ((10, 5), 100, 50)\n"
     ]
    }
   ],
   "source": [
    "print(b2, b3, b1, b4)"
   ]
  },
  {
   "attachments": {
    "image.png": {
     "image/png": "[encoded data removed]"
    }
   },
   "cell_type": "markdown",
   "id": "820cc957",
   "metadata": {},
   "source": [
    "![image.png](attachment:image.png)\n",
    "\n",
    "`copy()` The shallow copy has created an alias to the Point that represents the corner.\n",
    "\n",
    "`deep copy()` To copy the contents of an object as well as any embedded objects, and any objects embedded in them, and so on; implemented by the deepcopy function in the copy module."
   ]
  },
  {
   "cell_type": "code",
   "execution_count": 126,
   "id": "e96aaf48",
   "metadata": {},
   "outputs": [],
   "source": [
    "# Exercise No.2 Write a perimeter method in the Rectangle class so that we can find the perimeter of any rectangle\n",
    "class Rectangle:\n",
    "    \"\"\" A class to manufacture rectangles objects\"\"\"\n",
    "    def __init__(self, posn, w, h):\n",
    "        \"\"\" Initialise rectangle at posn, with width w, height h\"\"\"\n",
    "        self.corner = posn\n",
    "        self.width = w\n",
    "        self.height = h\n",
    "        \n",
    "        \n",
    "    def __str__(self):\n",
    "        return '({0}, {1}, {2})'.format(self.corner, self.width, self.height)\n",
    "    \n",
    "    \n",
    "    def grow(self, delta_width, delta_height):\n",
    "        \"\"\" Grow (or shrink) this object by the deltas\"\"\"\n",
    "        self.width += delta_width\n",
    "        self.height += delta_height\n",
    "        \n",
    "    def move(self, dx, dy):\n",
    "        \"\"\" Move this object by the deltas\"\"\"\n",
    "        self.corner.x += dx\n",
    "        self.corner.y += dy\n",
    "        \n",
    "    def perimeter(self):\n",
    "        return 2 * (self.width + self.height)"
   ]
  },
  {
   "cell_type": "code",
   "execution_count": 134,
   "id": "8a89c4df",
   "metadata": {},
   "outputs": [
    {
     "name": "stdout",
     "output_type": "stream",
     "text": [
      "Test at the line  git 2 ok\n"
     ]
    }
   ],
   "source": [
    "r = Rectangle(Point(0, 0), 10, 5)\n",
    "test(r.perimeter() == 30)"
   ]
  },
  {
   "cell_type": "markdown",
   "id": "6ec794f0",
   "metadata": {},
   "source": [
    "**Pygame**"
   ]
  },
  {
   "cell_type": "code",
   "execution_count": 1,
   "id": "827cb410",
   "metadata": {
    "scrolled": true
   },
   "outputs": [
    {
     "name": "stdout",
     "output_type": "stream",
     "text": [
      "pygame 2.5.2 (SDL 2.28.3, Python 3.11.3)\n",
      "Hello from the pygame community. https://www.pygame.org/contribute.html\n"
     ]
    }
   ],
   "source": [
    "import pygame"
   ]
  },
  {
   "cell_type": "code",
   "execution_count": 6,
   "id": "4dc0a366",
   "metadata": {},
   "outputs": [],
   "source": [
    "\n",
    "\n",
    "def main():\n",
    "    \"\"\" Set up the game and run the main game loop\"\"\"\n",
    "    pygame.init()       # Prepare the pygame module for use\n",
    "    surface_sz = 480    # Desired physical surface size, in pixels.\n",
    "    \n",
    "    # Create surface of (width, height), and its window.\n",
    "    main_surface = pygame.display.set_mode((surface_sz, surface_sz))\n",
    "    \n",
    "    # Set up some data to describe a small rectangle and its color\n",
    "    small_rect = (300, 200, 150, 90)\n",
    "    some_color = (255, 0, 0)       # A color is a mix of (Red, Green, Blue)\n",
    "    \n",
    "    while True:\n",
    "        ev = pygame.event.poll()     # Look for any event\n",
    "        if ev.type == pygame.QUIT:    # Window close button clicked?\n",
    "            break                    # ......leave game loop\n",
    "        \n",
    "        # Update your game objects and data structure here....\n",
    "        \n",
    "        # We draw everything from scratch on each frame.\n",
    "        # So first fill everything with the background color\n",
    "        main_surface.fill((0, 200, 255))\n",
    "        \n",
    "        \n",
    "        # Overpaint a smaller rectangle on the main surface\n",
    "        main_surface.fill(some_color, small_rect)\n",
    "        \n",
    "        # Now the surface is ready, tell pygame to display it!\n",
    "        pygame.display.flip()\n",
    "        \n",
    "    pygame.quit()     # Once we leave the loop, close the window\n",
    "    \n",
    "main()"
   ]
  },
  {
   "cell_type": "code",
   "execution_count": 5,
   "id": "36056e66",
   "metadata": {},
   "outputs": [],
   "source": [
    "import time\n",
    "\n",
    "def main():\n",
    "    \"\"\" Set up the game and run the main game loop\"\"\"\n",
    "    pygame.init()       # Prepare the pygame module for use\n",
    "    main_surface = pygame.display.set_mode((480, 240))    # Desired physical surface size, in pixels.\n",
    "    \n",
    "    # Load an image to draw.\n",
    "    # PyGame handles gif, jpg, png, etc image types\n",
    "    \n",
    "    ball = pygame.image.load('data/ball.png')\n",
    "    \n",
    "    # Create a font for rendering text\n",
    "    my_font = pygame.font.SysFont('Courier', 16)\n",
    "    \n",
    "    \n",
    "    frame_count = 0\n",
    "    frame_rate = 0\n",
    "    t0 = time.process_time()\n",
    "    \n",
    "    \n",
    "    while True:\n",
    "        \n",
    "        # Look for an event from keyboard, mouse, joystick, etc.\n",
    "        ev = pygame.event.poll()     # Look for any event\n",
    "        if ev.type == pygame.QUIT:    # Window close button clicked?\n",
    "            break                    # ......leave game loop\n",
    "        \n",
    "        # Do other bits of logic for the game here\n",
    "        frame_count += 1\n",
    "        if frame_count % 500 == 0:\n",
    "            t1 = time.process_time()\n",
    "            frame_rate = 500 / (t1 - t0)\n",
    "            t0 = t1\n",
    "                    \n",
    "        # Completely redraw the surface, starting with background\n",
    "        main_surface.fill((0, 200, 255))\n",
    "        \n",
    "        \n",
    "        # Put a red rectangle somewhere on the surface\n",
    "        main_surface.fill((255, 0, 0), (300, 100, 150, 90))\n",
    "        \n",
    "        # Copy our image to the surface, at this (x, y) posn\n",
    "        main_surface.blit(ball, (50,70))\n",
    "        \n",
    "        # Make a new surface with an image of the text\n",
    "        the_text = my_font.render('Frame = {0}, rate = {1:.2f} fps'.format(frame_count, frame_rate), True, (0,0,0))\n",
    "        \n",
    "        # Copy the text surface to the main surface\n",
    "        main_surface.blit(the_text, (10, 10))\n",
    "        \n",
    "        # Now that everything is drawn, put it on display!\n",
    "        pygame.display.flip()\n",
    "        \n",
    "    pygame.quit()     # Once we leave the loop, close the window\n",
    "    \n",
    "main()"
   ]
  },
  {
   "cell_type": "code",
   "execution_count": 9,
   "id": "d3c2ab40",
   "metadata": {},
   "outputs": [],
   "source": [
    "def draw_board(the_board):\n",
    "    \"\"\" Draw a chess board with queens, from the_board. \"\"\"\n",
    "    \n",
    "    pygame.init()\n",
    "    colors = [(255, 0, 0), (0, 0, 0)]       # Set up colors [red, black]\n",
    "    \n",
    "    n = len(the_board)                      # This is an NxN chess board\n",
    "    surface_sz = 480                        # Proposed physical surface size.\n",
    "    \n",
    "    sq_sz = surface_sz // n                 # sq_sz is length of a square.\n",
    "    surface_sz = n * sq_sz                  # Adjust to exactly fit n squares.\n",
    "\n",
    "    \n",
    "    # Create the surface of (width, height), and its window.\n",
    "    surface = pygame.display.set_mode((surface_sz, surface_sz))\n",
    "    \n",
    "    ball = pygame.display.set_mode((surface_sz, surface_sz))\n",
    "    \n",
    "    ball = pygame.image.load('data/ball.png')\n",
    "    \n",
    "    # Use an extra offset to centre the ball in its square.\n",
    "    # If the square is too small, offset becomes negative,\n",
    "    # but it will still be centered :-)\n",
    "    \n",
    "    ball_offset = (sq_sz-ball.get_width()) // 2\n",
    "    \n",
    "    while True:\n",
    "        \n",
    "        # Look for an event from keyboard, mouse etc.\n",
    "        ev = pygame.event.poll()\n",
    "        if ev.type == pygame.QUIT:\n",
    "            break;\n",
    "    \n",
    "    # Draw a fresh background ( a blank chess board)\n",
    "    for row in range(n):                  # Draw each row of the board\n",
    "        c_indx = row % 2                  # Change starting color on each row\n",
    "        for col in range(n):              # Run through cols drawing squares\n",
    "            the_square = (col*sq_sz, row*sq_sz, sq_sz, sq_sz)\n",
    "            surface.fill(colors[c_indx], the_square)\n",
    "            # Now flip the color index for the next square\n",
    "            c_indx = (c_indx + 1) % 2\n",
    "            \n",
    "    # Now that squares are drawn, draw the queens.\n",
    "    for (col, row) in enumerate(the_board):\n",
    "        surface.blit(ball,\n",
    "                    (col * sq_sz + ball_offset, row * sq_sz + ball_offset))\n",
    "        \n",
    "    pygame.display.flip()\n",
    "    \n",
    "pygame.quit()\n",
    "\n",
    "if __name__ == '__main__':\n",
    "    draw_board([0, 5, 3, 1, 6, 4, 2])     # 7 x 7 to test window size\n",
    "    draw_board([6, 4, 2, 0, 5, 7, 1, 3])\n",
    "    draw_board([9, 6, 0, 3, 10, 7, 2, 4, 12, 8, 11, 5, 1])  # 13 x 13\n",
    "    draw_board([11, 4, 8, 12, 2, 7, 3, 15, 0, 14, 10, 6, 13, 1, 5, 9])"
   ]
  },
  {
   "cell_type": "code",
   "execution_count": 1,
   "id": "f0818d35",
   "metadata": {},
   "outputs": [],
   "source": [
    "class QueenSprite:\n",
    "    \n",
    "    def __init__(self, img, target_posn):\n",
    "        self.image = img\n",
    "        self.target_posn = target_posn\n",
    "        (x, y) = target_posn\n",
    "        self.posn = (x, 0)      # Start ball at top of its column\n",
    "        self.y_velocity = 0     # with zero initial velocity\n",
    "        \n",
    "    \n",
    "    def update(self):\n",
    "        self.y_velocity += gravity           # Gravity changes velocity\n",
    "        (x, y) = self.posn\n",
    "        new_y_pos = y + self.y_velocity      # Velocity moves the ball\n",
    "                                             #  to this new position.\n",
    "        (target_x, target_y) = self.target_posn  # Unpack the position\n",
    "        dist_to_go = target_y - new_y_posn       # How far to our floor\n",
    "        \n",
    "        if dist_to_go < 0:                       # Are we under floor\n",
    "            self.y_velocity = -0.65 * self.y_velocity    # Bounce\n",
    "            new_y_pos = target_y + dist_to_go            # Move back above floor\n",
    "            \n",
    "        self.posn = (x, new_y_pos)                      # Set our new position      \n",
    "        \n",
    "    def draw(self, target_surface):          # Same as before\n",
    "        target_surface.blit(self.image, self.posn)\n",
    "        \n",
    "    "
   ]
  },
  {
   "cell_type": "markdown",
   "id": "6d356a25",
   "metadata": {},
   "source": [
    "Chapter 18. **Recursion**\n",
    "\n",
    "Recursion means defining something in terms of itself. e.g. \" A human being is someone whose mother is a human being\""
   ]
  },
  {
   "cell_type": "code",
   "execution_count": 3,
   "id": "098d7fc0",
   "metadata": {},
   "outputs": [],
   "source": [
    "def koch(t, order, size):\n",
    "    \"\"\"\n",
    "        Make turtle t draw a Koch fractal of 'order' and 'size'\n",
    "        Leave the turtle facing the same direction\n",
    "    \"\"\"\n",
    "    \n",
    "    if order == 0:            # The base casse is just a straight line\n",
    "        t.forward(size)\n",
    "    else:\n",
    "        koch(t, order-1, size/3)          # Go 1/3 of the way # Koch calls itself recursively here\n",
    "        t.left(60)\n",
    "        koch(t, order01, size/3)\n",
    "        t.right(120)\n",
    "        koch(t, order-1, size/3)\n",
    "        t.left(60)\n",
    "        koch(t, order-1, size/3)\n",
    "        \n",
    "        \n"
   ]
  },
  {
   "cell_type": "code",
   "execution_count": 4,
   "id": "2da8feb0",
   "metadata": {},
   "outputs": [],
   "source": [
    "def r_sum(nested_sum_list):\n",
    "    tot = 0\n",
    "    for element in nested_sum_list:\n",
    "        if type(element) == type([]):\n",
    "            tot += r_sum(element)\n",
    "        else:\n",
    "            tot += element\n",
    "    return tot"
   ]
  },
  {
   "cell_type": "code",
   "execution_count": 5,
   "id": "f1b2a6d8",
   "metadata": {},
   "outputs": [
    {
     "data": {
      "text/plain": [
       "35"
      ]
     },
     "execution_count": 5,
     "metadata": {},
     "output_type": "execute_result"
    }
   ],
   "source": [
    "r_sum([1, 2, [11, 13], 8])"
   ]
  },
  {
   "cell_type": "code",
   "execution_count": 6,
   "id": "0c44fb9d",
   "metadata": {},
   "outputs": [],
   "source": [
    "from test import test"
   ]
  },
  {
   "cell_type": "code",
   "execution_count": 8,
   "id": "6df5953a",
   "metadata": {},
   "outputs": [
    {
     "name": "stdout",
     "output_type": "stream",
     "text": [
      "Test at the line 30 ok\n",
      "Test at the line 31 ok\n",
      "Test at the line 32 ok\n",
      "Test at the line 33 ok\n"
     ]
    }
   ],
   "source": [
    "def r_max(nxs):\n",
    "    \"\"\"\n",
    "    Find the maximum in a recursive structure of lists within\n",
    "    other lists.\n",
    "    Precondition: No lists or sublists are empty\n",
    "    \"\"\"\n",
    "    \n",
    "    largest = None\n",
    "    first_time = True\n",
    "    for e in nxs:\n",
    "        if type(e) == type([]):\n",
    "            val = r_max(e)\n",
    "        else:\n",
    "            val = e\n",
    "            \n",
    "        if first_time or val > largest:\n",
    "            largest = None\n",
    "            first_time = True \n",
    "            for e in nxs:\n",
    "                if type(e) == type([]):\n",
    "                    val = r_max(e)\n",
    "                else:\n",
    "                    val = e\n",
    "                    \n",
    "                if first_time or val > largest:\n",
    "                    largest = val\n",
    "                    first_time = False\n",
    "    return largest\n",
    "\n",
    "test(r_max([2, 9, [1, 13], 8, 6]) == 13)\n",
    "test(r_max([2, [[100, 7], 90], [1, 3], 8, 6]) == 100)\n",
    "test(r_max([[[13, 7], 90], 2, [1, 100], 8, 6]) == 100)\n",
    "test(r_max(['joe', ['sam', 'ben']]) == 'sam')"
   ]
  },
  {
   "cell_type": "code",
   "execution_count": 9,
   "id": "ce1834cd",
   "metadata": {},
   "outputs": [],
   "source": [
    "# Fibonacci\n",
    "def fib(n):\n",
    "    if n <= 1:\n",
    "        return n\n",
    "    t = fib(n-1) + fib(n-2)\n",
    "    return t"
   ]
  },
  {
   "cell_type": "code",
   "execution_count": 11,
   "id": "2aa264f4",
   "metadata": {},
   "outputs": [
    {
     "name": "stdout",
     "output_type": "stream",
     "text": [
      "fib(35) = 9227465, (3.97 secs)\n"
     ]
    }
   ],
   "source": [
    "import time\n",
    "\n",
    "t0 = time.process_time()\n",
    "n = 35\n",
    "result = fib(n)\n",
    "t1 = time.process_time()\n",
    "\n",
    "print('fib({0}) = {1}, ({2:.2f} secs)'.format(n, result, t1-t0))"
   ]
  },
  {
   "cell_type": "markdown",
   "id": "28ec305b",
   "metadata": {},
   "source": [
    "Example with recursive directories and files"
   ]
  },
  {
   "cell_type": "code",
   "execution_count": 13,
   "id": "c0a3f308",
   "metadata": {},
   "outputs": [],
   "source": [
    "import os\n",
    "\n",
    "def get_dirlist(path):\n",
    "    \"\"\"\n",
    "    Return a sorted list of all entries in path.\n",
    "    This returns just the names, not the full path to the names.\n",
    "    \"\"\"\n",
    "    dirlist = os.listdir(path)\n",
    "    dirlist.sort()\n",
    "    return dirlist\n",
    "\n",
    "\n",
    "def print_files(path, prefix= \"\"):\n",
    "    \"\"\" Print recursive listing of contents of path \"\"\"\n",
    "    if prefix == \"\": # Detect outermost call, print a heading\n",
    "        print('Folder listing for', path)\n",
    "        prefix = '|'\n",
    "        \n",
    "    dirlist = get_dirlist(path)\n",
    "    for f in dirlist:\n",
    "        print(prefix+f)              # Print the line\n",
    "        fullname = os.path.join(path, f)   # Turn name into full pathname\n",
    "        if os.path.isdir(fullname):        # If a directory, recurse\n",
    "            print_files(fullname, prefix + \"|\")"
   ]
  },
  {
   "cell_type": "code",
   "execution_count": 14,
   "id": "2cde214f",
   "metadata": {},
   "outputs": [
    {
     "name": "stdout",
     "output_type": "stream",
     "text": [
      "Folder listing for D:\\OneDrive\\Documents\\PERSONAL\\PERSONAL DEVELOPMENT\\DATA SCIENCE\\medium.com article practice notebooks\n",
      "|.git\n",
      "||COMMIT_EDITMSG\n",
      "||FETCH_HEAD\n",
      "||HEAD\n",
      "||ORIG_HEAD\n",
      "||config\n",
      "||description\n",
      "||hooks\n",
      "|||applypatch-msg.sample\n",
      "|||commit-msg.sample\n",
      "|||fsmonitor-watchman.sample\n",
      "|||post-update.sample\n",
      "|||pre-applypatch.sample\n",
      "|||pre-commit.sample\n",
      "|||pre-merge-commit.sample\n",
      "|||pre-push.sample\n",
      "|||pre-rebase.sample\n",
      "|||pre-receive.sample\n",
      "|||prepare-commit-msg.sample\n",
      "|||push-to-checkout.sample\n",
      "|||update.sample\n",
      "||index\n",
      "||info\n",
      "|||exclude\n",
      "||logs\n",
      "|||HEAD\n",
      "|||refs\n",
      "||||heads\n",
      "|||||main\n",
      "||||remotes\n",
      "|||||origin\n",
      "||||||main\n",
      "||objects\n",
      "|||00\n",
      "||||248fa436119337c1159f594afdfed469311a80\n",
      "|||02\n",
      "||||e36c27e7fef1cecebe56bf3875eff7f431b0f1\n",
      "|||04\n",
      "||||434bfaa4beab5979035de2ac7a299aeb18f73f\n",
      "||||7c514a82b5ed884ec43190eea037533af9844f\n",
      "|||10\n",
      "||||5ce2da2d6447d11dfe32bfb846c3d5b199fc99\n",
      "|||14\n",
      "||||d77231f52c66a19381125b05fe1af817327e41\n",
      "|||17\n",
      "||||1e061b2f8ad2234bfbe48178d20ef5d61bc0e8\n",
      "||||92b8d9318e76272413fa6dd1f82af79256f3b4\n",
      "|||18\n",
      "||||00e01a3b7810c69c7481e1b90e1a15c60665af\n",
      "|||1d\n",
      "||||d227ca70cff3786a9cfda15a6473d3c9696a2a\n",
      "|||20\n",
      "||||63078f15c11d8448e6025b66dd48d25cac573a\n",
      "|||22\n",
      "||||fbdf5ed98d80071329b6ca9cfb412238a26566\n",
      "|||26\n",
      "||||491d1054659949125dc98230b15ea383aa2d5f\n",
      "||||d33521af10bcc7fd8cea344038eaaeb78d0ef5\n",
      "|||27\n",
      "||||97595a0d9d377d31685e8f1b527725593c191c\n",
      "|||36\n",
      "||||3fcab7ed6e9634e198cf5555ceb88932c9a245\n",
      "|||38\n",
      "||||0b03c151fc87c072c788d5ab0b90a6ca966a13\n",
      "|||39\n",
      "||||ff20955fb8b5291fc90a401c579ecc5008597a\n",
      "|||3f\n",
      "||||d767c40e0d9094cac90e79e3ed0a270434177d\n",
      "|||43\n",
      "||||b8872f0624575ad2d55a92db8058356d6b7349\n",
      "|||47\n",
      "||||214ceb52c22bb0eb12ffa3c32548fa61f6b7f0\n",
      "|||48\n",
      "||||01596b98b5465b0b24c33f10959acb72c021ff\n",
      "|||49\n",
      "||||1adbc3f72e41817296effa8019866c354046a0\n",
      "|||52\n",
      "||||145950fa2a82bb2884c43fe79e9af26c9c00bd\n",
      "|||58\n",
      "||||877849459deb7a3426049eeb38ea166e60c65a\n",
      "|||5a\n",
      "||||7b86a903615f56e477c15cac846edf5ede1217\n",
      "|||5b\n",
      "||||ab5a1b0c0415c30eef86620fa85483426dc142\n",
      "|||5f\n",
      "||||b6916559bb8c56ed0fc757e2963039ebbee2dd\n",
      "|||60\n",
      "||||3a78c8af0666213e3f4924ca7a92278367f6dc\n",
      "|||61\n",
      "||||1f711724a038f9b0932745dd94cf025a43d574\n",
      "|||63\n",
      "||||26d50798fa5c6d856c7291c147d4294e7a9d2e\n",
      "|||67\n",
      "||||737589276dc2d7eb86c4e5459637235cce0cdf\n",
      "||||c52981b40edb91a0457798cc4be4ebfa60737f\n",
      "|||68\n",
      "||||3cdb4a28e8758992126846b406cc35a8d4fd53\n",
      "||||bc17f9ff2104a9d7b6777058bb4c343ca72609\n",
      "|||6a\n",
      "||||f19bb1ac58f4580a9f61cca55244517d14af52\n",
      "|||70\n",
      "||||fb6b21d71a688f33dc43e48547d9bf91848a08\n",
      "|||71\n",
      "||||8e8446c6b2fcff1c3787ae4bf35045eccad052\n",
      "|||76\n",
      "||||33eb1ed8a6cb711dd322e71b595b052e014546\n",
      "||||e8978b8664e372720e8a8f664b14ece54f71bb\n",
      "|||77\n",
      "||||5583fc5f399e50b43154c77527e7532a723a53\n",
      "|||78\n",
      "||||ae192198fb8d0815c84e51779d6740fd70bb0a\n",
      "|||79\n",
      "||||cca6e2888c563221ec94ed09585a170608e2d8\n",
      "|||7f\n",
      "||||a43c777ad6258195582ce0d9b509e33a666a8f\n",
      "||||d834d03fa16f6f83208b9d84308bf9d23224e4\n",
      "|||80\n",
      "||||4a9de1540d93eb4ba1a65f3c17c20995ab2867\n",
      "|||82\n",
      "||||ae5a5c23475d627b7a5741c47fdc30557a010a\n",
      "|||83\n",
      "||||88dbc88e9e141893654c3ba2c7dc0d36bddcb0\n",
      "|||87\n",
      "||||661795019529743d29e11644bb79b3a6e1993d\n",
      "|||88\n",
      "||||3b7f70f189a989410baa41f811b895e3d0851a\n",
      "|||8a\n",
      "||||d0ead9bd45ea73f5f6d818308cb2bffc07b4e2\n",
      "|||8b\n",
      "||||2746dbaabb89a5cfcc9a3fddb3ebdd25fad7c7\n",
      "|||8f\n",
      "||||5afb62d346b4105dc5276dcc1f8d7fcb3e76df\n",
      "|||94\n",
      "||||a25f7f4cb416c083d265558da75d457237d671\n",
      "|||96\n",
      "||||7a11a7bee192aea9a7eac9f130f1d670e44677\n",
      "|||97\n",
      "||||824ec9b0149e48c91dce4fee530335b327c686\n",
      "|||98\n",
      "||||3aa7684b5988597b89268890f8fcb9c84cdce1\n",
      "|||9d\n",
      "||||a2c5c26a8babfe39c7591023b6d75284ac0dd8\n",
      "|||a6\n",
      "||||ab8bb7fc06c477b72b3d8a1c956d9e6e9e3399\n",
      "|||a9\n",
      "||||71a2c93136ccb7f8094a2783d905d33dff9163\n",
      "|||aa\n",
      "||||3f4cd18fea0fbb446065e5a521afc4f32afc8f\n",
      "|||ab\n",
      "||||7d5de791231acc296c0513340e731724dc3f1c\n",
      "|||af\n",
      "||||9f96f88c3236d053865d9a7e2142b59be95024\n",
      "|||b2\n",
      "||||42f8ddc4bc686e13bc38c808530bf4c6ac7679\n",
      "||||ee95ec9a95f73a7e6842231c76e1d56effd2fc\n",
      "|||b5\n",
      "||||61265fe3c82361be4c48aeacbebcb7f999a46f\n",
      "|||cf\n",
      "||||4a1392013e525fb02928bc826efef89c23adde\n",
      "||||e662b9faa755f34b886b937e5fc8001ca7ca22\n",
      "|||d0\n",
      "||||876a78d06ac03b5d78c8dcdb95570281c6f1d6\n",
      "|||d4\n",
      "||||c11c4e9df9af7d22be2a996b66a115a3bcdde0\n",
      "|||d5\n",
      "||||6657add3eb3c246989284ec6e6a8475603cf1d\n",
      "|||d7\n",
      "||||956719bb202da46588b5af6df0f7816a91e898\n",
      "|||d8\n",
      "||||955c52005758e4b5a8e99c84c9556a736131ce\n",
      "|||df\n",
      "||||82240eaa393d9b956c92d7590ca431c8da811b\n",
      "|||e0\n",
      "||||584643fe80bd14d0c54e4aaafdeba9c04f07b5\n",
      "||||df5f6b48e805e8a78d3d8e30ef9eced16cb291\n",
      "|||e4\n",
      "||||cfa866811f2753c8ad94715b623f4ca3a660e8\n",
      "|||e5\n",
      "||||c2ae53acff1a42c578131643e15c5ad3c418bf\n",
      "|||e6\n",
      "||||4a52f7f1d24a77a6c6aaf7c24518379f6b824d\n",
      "||||9de29bb2d1d6434b8b29ae775ad8c2e48c5391\n",
      "|||e8\n",
      "||||f26f0cb43ecc8dc234b6f96fbce03adae79420\n",
      "|||ed\n",
      "||||7ba8265da8ed4aaa8102442bf584053dc5dbc9\n",
      "|||ee\n",
      "||||0e86ce9d6ee49fe653ed8f5dbf13087a702a21\n",
      "|||ef\n",
      "||||ed0a5405689276613ff8950de363536d28caba\n",
      "|||info\n",
      "|||pack\n",
      "||refs\n",
      "|||heads\n",
      "||||main\n",
      "|||remotes\n",
      "||||origin\n",
      "|||||main\n",
      "|||tags\n",
      "|.gitignore\n",
      "|.idea\n",
      "||.gitignore\n",
      "||inspectionProfiles\n",
      "|||profiles_settings.xml\n",
      "||medium.com article practice notebooks.iml\n",
      "||misc.xml\n",
      "||modules.xml\n",
      "||vcs.xml\n",
      "||workspace.xml\n",
      "|.ipynb_checkpoints\n",
      "||25 Pandas Functions You Didn't Know Existed-checkpoint.ipynb\n",
      "||30 Methods to Become Pandas Pro_Practice Notebook-checkpoint.ipynb\n",
      "||45 Methods to become NumPy pro_Practice Notebook-checkpoint.ipynb\n",
      "||Learn Python the Right Way Book Walkalong Notebook-checkpoint.ipynb\n",
      "|.pytest_cache\n",
      "||.gitignore\n",
      "||CACHEDIR.TAG\n",
      "||README.md\n",
      "||v\n",
      "|||cache\n",
      "||||lastfailed\n",
      "||||nodeids\n",
      "||||stepwise\n",
      "|25 Pandas Functions You Didn't Know Existed.ipynb\n",
      "|30 Methods to Become Pandas Pro_Practice Notebook.ipynb\n",
      "|45 Methods to become NumPy pro_Practice Notebook.ipynb\n",
      "|Learn Python the Right Way Book Walkalong Notebook.ipynb\n",
      "|README.md\n",
      "|__pycache__\n",
      "||test.cpython-311-pytest-7.3.1.pyc\n",
      "||test.cpython-311.pyc\n",
      "|data\n",
      "||alice_in_wonderland.txt\n",
      "||ball.png\n",
      "||file_to_path2.zip\n",
      "||path_to_file.xlsx\n",
      "||path_to_file1.xlsx\n",
      "||path_to_file2.xlsx\n",
      "||path_to_file4.xlsx\n",
      "||path_to_file5.xlsx\n",
      "||rfc793.txt\n",
      "||uk_accidents_pd\n",
      "||uk_accidents_pd.csv\n",
      "||vocab.txt\n",
      "|test.py\n",
      "|test.txt\n"
     ]
    }
   ],
   "source": [
    "print_files(\"D:\\OneDrive\\Documents\\PERSONAL\\PERSONAL DEVELOPMENT\\DATA SCIENCE\\medium.com article practice notebooks\")"
   ]
  },
  {
   "cell_type": "code",
   "execution_count": 26,
   "id": "2aa29e39",
   "metadata": {},
   "outputs": [],
   "source": [
    "import pygame, math\n",
    "pygame.init()                # Prepare the pygame module for use\n",
    "\n",
    "# Create a new surface and window\n",
    "surface_size = 1024\n",
    "main_surface = pygame.display.set_mode((surface_size, surface_size))\n",
    "my_clock = pygame.time.Clock()\n",
    "\n",
    "def draw_tree(order, theta, sz, posn, heading, color=(0,0,0), depth=0):\n",
    "    \n",
    "    trunk_ratio = 0.29         # How big is the trunk relative to whole tree?\n",
    "    trunk = sz * trunk_ratio   # lenght of trunk\n",
    "    delta_x = trunk * math.cos(heading)\n",
    "    delta_y = trunk * math.sin (heading)\n",
    "    (u, v) = posn\n",
    "    newpos = (u + delta_x, v + delta_y)\n",
    "    pygame.draw.line(main_surface, color, posn, newpos)\n",
    "    \n",
    "    if order > 0:     # Draw another layer of subtrees\n",
    "        \n",
    "        # These next six lines are a simple hack to make the two major halves \n",
    "        # of the recursive different colors. Fiddle here to change colors\n",
    "        # at the other depths, or when depth is even, or , odd, etc.\n",
    "        if depth == 0:\n",
    "            color1 = (255, 0, 0)\n",
    "            color2 = (0, 0, 255)\n",
    "        else:\n",
    "            color1 = color\n",
    "            color2 = color\n",
    "\n",
    "        # Make the recursive calls to draw the two subtrees\n",
    "        newsz = sz * (1- trunk_ratio)\n",
    "        draw_tree(order-1, theta, newsz, newpos, heading-theta, color1, depth+1)\n",
    "        draw_tree(order-1, theta, newsz, newpos, heading+theta, color2, depth+1)\n",
    "    \n",
    "    \n",
    "def gameloop():\n",
    "    \n",
    "    theta = 0\n",
    "    while True:\n",
    "        \n",
    "        # Handle events from keyboard, mouse etc.\n",
    "        ev = pygame.event.poll()\n",
    "        if ev.type == pygame.QUIT:\n",
    "            break;\n",
    "            \n",
    "        # Updates - change the angle\n",
    "        theta += 0.01\n",
    "        \n",
    "        # Draw everything\n",
    "        main_surface.fill((255, 255, 0))\n",
    "        draw_tree(9, theta, surface_size * 0.9, (surface_size // 2, surface_size - 50),math.pi/2)\n",
    "        \n",
    "        pygame.display.flip()\n",
    "        my_clock.tick(120)\n",
    "        \n",
    "gameloop()\n",
    "pygame.quit()"
   ]
  },
  {
   "cell_type": "markdown",
   "id": "581c521d",
   "metadata": {},
   "source": [
    "Chapter 19 **Exceptions**"
   ]
  },
  {
   "cell_type": "code",
   "execution_count": 27,
   "id": "79dc689a",
   "metadata": {},
   "outputs": [
    {
     "ename": "ZeroDivisionError",
     "evalue": "division by zero",
     "output_type": "error",
     "traceback": [
      "\u001b[1;31m---------------------------------------------------------------------------\u001b[0m",
      "\u001b[1;31mZeroDivisionError\u001b[0m                         Traceback (most recent call last)",
      "Cell \u001b[1;32mIn[27], line 2\u001b[0m\n\u001b[0;32m      1\u001b[0m \u001b[38;5;66;03m# Dividing by zero creates an exception:\u001b[39;00m\n\u001b[1;32m----> 2\u001b[0m \u001b[38;5;28mprint\u001b[39m(\u001b[38;5;241m55\u001b[39m\u001b[38;5;241m/\u001b[39m\u001b[38;5;241m0\u001b[39m)\n",
      "\u001b[1;31mZeroDivisionError\u001b[0m: division by zero"
     ]
    }
   ],
   "source": [
    "# Dividing by zero creates an exception:\n",
    "print(55/0)"
   ]
  },
  {
   "cell_type": "code",
   "execution_count": 28,
   "id": "1353dfaf",
   "metadata": {},
   "outputs": [
    {
     "ename": "IndexError",
     "evalue": "list index out of range",
     "output_type": "error",
     "traceback": [
      "\u001b[1;31m---------------------------------------------------------------------------\u001b[0m",
      "\u001b[1;31mIndexError\u001b[0m                                Traceback (most recent call last)",
      "Cell \u001b[1;32mIn[28], line 3\u001b[0m\n\u001b[0;32m      1\u001b[0m \u001b[38;5;66;03m# Accessing a non-existent list item\u001b[39;00m\n\u001b[0;32m      2\u001b[0m a \u001b[38;5;241m=\u001b[39m []\n\u001b[1;32m----> 3\u001b[0m \u001b[38;5;28mprint\u001b[39m(a[\u001b[38;5;241m5\u001b[39m])\n",
      "\u001b[1;31mIndexError\u001b[0m: list index out of range"
     ]
    }
   ],
   "source": [
    "# Accessing a non-existent list item\n",
    "a = []\n",
    "print(a[5])"
   ]
  },
  {
   "cell_type": "code",
   "execution_count": 29,
   "id": "7b7c7f41",
   "metadata": {},
   "outputs": [
    {
     "ename": "TypeError",
     "evalue": "'tuple' object does not support item assignment",
     "output_type": "error",
     "traceback": [
      "\u001b[1;31m---------------------------------------------------------------------------\u001b[0m",
      "\u001b[1;31mTypeError\u001b[0m                                 Traceback (most recent call last)",
      "Cell \u001b[1;32mIn[29], line 3\u001b[0m\n\u001b[0;32m      1\u001b[0m \u001b[38;5;66;03m# Trying to make an item assignment on a tuple\u001b[39;00m\n\u001b[0;32m      2\u001b[0m tup \u001b[38;5;241m=\u001b[39m (\u001b[38;5;124m'\u001b[39m\u001b[38;5;124ma\u001b[39m\u001b[38;5;124m'\u001b[39m, \u001b[38;5;124m'\u001b[39m\u001b[38;5;124mb\u001b[39m\u001b[38;5;124m'\u001b[39m, \u001b[38;5;124m'\u001b[39m\u001b[38;5;124md\u001b[39m\u001b[38;5;124m'\u001b[39m, \u001b[38;5;124m'\u001b[39m\u001b[38;5;124md\u001b[39m\u001b[38;5;124m'\u001b[39m)\n\u001b[1;32m----> 3\u001b[0m tup[\u001b[38;5;241m2\u001b[39m]\u001b[38;5;241m=\u001b[39m \u001b[38;5;124m'\u001b[39m\u001b[38;5;124mc\u001b[39m\u001b[38;5;124m'\u001b[39m\n",
      "\u001b[1;31mTypeError\u001b[0m: 'tuple' object does not support item assignment"
     ]
    }
   ],
   "source": [
    "# Trying to make an item assignment on a tuple\n",
    "tup = ('a', 'b', 'd', 'd')\n",
    "tup[2]= 'c'"
   ]
  },
  {
   "cell_type": "code",
   "execution_count": 30,
   "id": "253e19dc",
   "metadata": {},
   "outputs": [
    {
     "name": "stdout",
     "output_type": "stream",
     "text": [
      "Enter a file name: se.hy\n",
      "There is no file named se.hy\n"
     ]
    }
   ],
   "source": [
    "filename = input('Enter a file name: ')\n",
    "try:\n",
    "    f = open(filename, 'r')\n",
    "\n",
    "except:\n",
    "    print('There is no file named', filename)"
   ]
  },
  {
   "cell_type": "code",
   "execution_count": 31,
   "id": "a7bf9b2b",
   "metadata": {},
   "outputs": [
    {
     "name": "stdout",
     "output_type": "stream",
     "text": [
      "exist\n"
     ]
    }
   ],
   "source": [
    "import os\n",
    "\n",
    "# This is the preferred way to check is a file exists.\n",
    "if os.path.isfile('data/ball.png'):\n",
    "    print('exist')"
   ]
  },
  {
   "cell_type": "code",
   "execution_count": 32,
   "id": "3e8eaa6e",
   "metadata": {},
   "outputs": [
    {
     "name": "stdout",
     "output_type": "stream",
     "text": [
      "Recursion depth number 0\n",
      "Recursion depth number 1\n",
      "Recursion depth number 2\n",
      "Recursion depth number 3\n",
      "Recursion depth number 4\n",
      "Recursion depth number 5\n",
      "Recursion depth number 6\n",
      "Recursion depth number 7\n",
      "Recursion depth number 8\n",
      "Recursion depth number 9\n",
      "Recursion depth number 10\n",
      "Recursion depth number 11\n",
      "Recursion depth number 12\n",
      "Recursion depth number 13\n",
      "Recursion depth number 14\n",
      "Recursion depth number 15\n",
      "Recursion depth number 16\n",
      "Recursion depth number 17\n",
      "Recursion depth number 18\n",
      "Recursion depth number 19\n",
      "Recursion depth number 20\n",
      "Recursion depth number 21\n",
      "Recursion depth number 22\n",
      "Recursion depth number 23\n",
      "Recursion depth number 24\n",
      "Recursion depth number 25\n",
      "Recursion depth number 26\n",
      "Recursion depth number 27\n",
      "Recursion depth number 28\n",
      "Recursion depth number 29\n",
      "Recursion depth number 30\n",
      "Recursion depth number 31\n",
      "Recursion depth number 32\n",
      "Recursion depth number 33\n",
      "Recursion depth number 34\n",
      "Recursion depth number 35\n",
      "Recursion depth number 36\n",
      "Recursion depth number 37\n",
      "Recursion depth number 38\n",
      "Recursion depth number 39\n",
      "Recursion depth number 40\n",
      "Recursion depth number 41\n",
      "Recursion depth number 42\n",
      "Recursion depth number 43\n",
      "Recursion depth number 44\n",
      "Recursion depth number 45\n",
      "Recursion depth number 46\n",
      "Recursion depth number 47\n",
      "Recursion depth number 48\n",
      "Recursion depth number 49\n",
      "Recursion depth number 50\n",
      "Recursion depth number 51\n",
      "Recursion depth number 52\n",
      "Recursion depth number 53\n",
      "Recursion depth number 54\n",
      "Recursion depth number 55\n",
      "Recursion depth number 56\n",
      "Recursion depth number 57\n",
      "Recursion depth number 58\n",
      "Recursion depth number 59\n",
      "Recursion depth number 60\n",
      "Recursion depth number 61\n",
      "Recursion depth number 62\n",
      "Recursion depth number 63\n",
      "Recursion depth number 64\n",
      "Recursion depth number 65\n",
      "Recursion depth number 66\n",
      "Recursion depth number 67\n",
      "Recursion depth number 68\n",
      "Recursion depth number 69\n",
      "Recursion depth number 70\n",
      "Recursion depth number 71\n",
      "Recursion depth number 72\n",
      "Recursion depth number 73\n",
      "Recursion depth number 74\n",
      "Recursion depth number 75\n",
      "Recursion depth number 76\n",
      "Recursion depth number 77\n",
      "Recursion depth number 78\n",
      "Recursion depth number 79\n",
      "Recursion depth number 80\n",
      "Recursion depth number 81\n",
      "Recursion depth number 82\n",
      "Recursion depth number 83\n",
      "Recursion depth number 84\n",
      "Recursion depth number 85\n",
      "Recursion depth number 86\n",
      "Recursion depth number 87\n",
      "Recursion depth number 88\n",
      "Recursion depth number 89\n",
      "Recursion depth number 90\n",
      "Recursion depth number 91\n",
      "Recursion depth number 92\n",
      "Recursion depth number 93\n",
      "Recursion depth number 94\n",
      "Recursion depth number 95\n",
      "Recursion depth number 96\n",
      "Recursion depth number 97\n",
      "Recursion depth number 98\n",
      "Recursion depth number 99\n",
      "Recursion depth number 100\n",
      "Recursion depth number 101\n",
      "Recursion depth number 102\n",
      "Recursion depth number 103\n",
      "Recursion depth number 104\n",
      "Recursion depth number 105\n",
      "Recursion depth number 106\n",
      "Recursion depth number 107\n",
      "Recursion depth number 108\n",
      "Recursion depth number 109\n",
      "Recursion depth number 110\n",
      "Recursion depth number 111\n",
      "Recursion depth number 112\n",
      "Recursion depth number 113\n",
      "Recursion depth number 114\n",
      "Recursion depth number 115\n",
      "Recursion depth number 116\n",
      "Recursion depth number 117\n",
      "Recursion depth number 118\n",
      "Recursion depth number 119\n",
      "Recursion depth number 120\n",
      "Recursion depth number 121\n",
      "Recursion depth number 122\n",
      "Recursion depth number 123\n",
      "Recursion depth number 124\n",
      "Recursion depth number 125\n",
      "Recursion depth number 126\n",
      "Recursion depth number 127\n",
      "Recursion depth number 128\n",
      "Recursion depth number 129\n",
      "Recursion depth number 130\n",
      "Recursion depth number 131\n",
      "Recursion depth number 132\n",
      "Recursion depth number 133\n",
      "Recursion depth number 134\n",
      "Recursion depth number 135\n",
      "Recursion depth number 136\n",
      "Recursion depth number 137\n",
      "Recursion depth number 138\n",
      "Recursion depth number 139\n",
      "Recursion depth number 140\n",
      "Recursion depth number 141\n",
      "Recursion depth number 142\n",
      "Recursion depth number 143\n",
      "Recursion depth number 144\n",
      "Recursion depth number 145\n",
      "Recursion depth number 146\n",
      "Recursion depth number 147\n",
      "Recursion depth number 148\n",
      "Recursion depth number 149\n",
      "Recursion depth number 150\n",
      "Recursion depth number 151\n",
      "Recursion depth number 152\n",
      "Recursion depth number 153\n",
      "Recursion depth number 154\n",
      "Recursion depth number 155\n",
      "Recursion depth number 156\n",
      "Recursion depth number 157\n",
      "Recursion depth number 158\n",
      "Recursion depth number 159\n",
      "Recursion depth number 160\n",
      "Recursion depth number 161\n",
      "Recursion depth number 162\n",
      "Recursion depth number 163\n",
      "Recursion depth number 164\n",
      "Recursion depth number 165\n",
      "Recursion depth number 166\n",
      "Recursion depth number 167\n",
      "Recursion depth number 168\n",
      "Recursion depth number 169\n",
      "Recursion depth number 170\n",
      "Recursion depth number 171\n",
      "Recursion depth number 172\n",
      "Recursion depth number 173\n",
      "Recursion depth number 174\n",
      "Recursion depth number 175\n",
      "Recursion depth number 176\n",
      "Recursion depth number 177\n",
      "Recursion depth number 178\n",
      "Recursion depth number 179\n",
      "Recursion depth number 180\n",
      "Recursion depth number 181\n",
      "Recursion depth number 182\n",
      "Recursion depth number 183\n",
      "Recursion depth number 184\n",
      "Recursion depth number 185\n",
      "Recursion depth number 186\n",
      "Recursion depth number 187\n",
      "Recursion depth number 188\n",
      "Recursion depth number 189\n",
      "Recursion depth number 190\n",
      "Recursion depth number 191\n",
      "Recursion depth number 192\n",
      "Recursion depth number 193\n",
      "Recursion depth number 194\n",
      "Recursion depth number 195\n",
      "Recursion depth number 196\n",
      "Recursion depth number 197\n",
      "Recursion depth number 198\n",
      "Recursion depth number 199\n",
      "Recursion depth number 200\n",
      "Recursion depth number 201\n",
      "Recursion depth number 202\n",
      "Recursion depth number 203\n",
      "Recursion depth number 204\n",
      "Recursion depth number 205\n",
      "Recursion depth number 206\n",
      "Recursion depth number 207\n",
      "Recursion depth number 208\n",
      "Recursion depth number 209\n",
      "Recursion depth number 210\n",
      "Recursion depth number 211\n",
      "Recursion depth number 212\n",
      "Recursion depth number 213\n",
      "Recursion depth number 214\n",
      "Recursion depth number 215\n",
      "Recursion depth number 216\n",
      "Recursion depth number 217\n",
      "Recursion depth number 218\n",
      "Recursion depth number 219\n",
      "Recursion depth number 220\n",
      "Recursion depth number 221\n",
      "Recursion depth number 222\n",
      "Recursion depth number 223\n",
      "Recursion depth number 224\n",
      "Recursion depth number 225\n",
      "Recursion depth number 226\n",
      "Recursion depth number 227\n",
      "Recursion depth number 228\n",
      "Recursion depth number 229\n",
      "Recursion depth number 230\n",
      "Recursion depth number 231\n",
      "Recursion depth number 232\n",
      "Recursion depth number 233\n",
      "Recursion depth number 234\n",
      "Recursion depth number 235\n",
      "Recursion depth number 236\n",
      "Recursion depth number 237\n",
      "Recursion depth number 238\n",
      "Recursion depth number 239\n",
      "Recursion depth number 240\n",
      "Recursion depth number 241\n",
      "Recursion depth number 242\n",
      "Recursion depth number 243\n",
      "Recursion depth number 244\n",
      "Recursion depth number 245\n",
      "Recursion depth number 246\n",
      "Recursion depth number 247\n",
      "Recursion depth number 248\n",
      "Recursion depth number 249\n",
      "Recursion depth number 250\n",
      "Recursion depth number 251\n",
      "Recursion depth number 252\n",
      "Recursion depth number 253\n",
      "Recursion depth number 254\n",
      "Recursion depth number 255\n",
      "Recursion depth number 256\n",
      "Recursion depth number 257\n",
      "Recursion depth number 258\n",
      "Recursion depth number 259\n",
      "Recursion depth number 260\n",
      "Recursion depth number 261\n",
      "Recursion depth number 262\n",
      "Recursion depth number 263\n",
      "Recursion depth number 264\n",
      "Recursion depth number 265\n",
      "Recursion depth number 266\n",
      "Recursion depth number 267\n",
      "Recursion depth number 268\n",
      "Recursion depth number 269\n",
      "Recursion depth number 270\n",
      "Recursion depth number 271\n",
      "Recursion depth number 272\n",
      "Recursion depth number 273\n",
      "Recursion depth number 274\n",
      "Recursion depth number 275\n",
      "Recursion depth number 276\n",
      "Recursion depth number 277\n",
      "Recursion depth number 278\n",
      "Recursion depth number 279\n",
      "Recursion depth number 280\n",
      "Recursion depth number 281\n",
      "Recursion depth number 282\n",
      "Recursion depth number 283\n",
      "Recursion depth number 284\n",
      "Recursion depth number 285\n",
      "Recursion depth number 286\n",
      "Recursion depth number 287\n",
      "Recursion depth number 288\n",
      "Recursion depth number 289\n",
      "Recursion depth number 290\n",
      "Recursion depth number 291\n",
      "Recursion depth number 292\n",
      "Recursion depth number 293\n",
      "Recursion depth number 294\n",
      "Recursion depth number 295\n",
      "Recursion depth number 296\n",
      "Recursion depth number 297\n",
      "Recursion depth number 298\n",
      "Recursion depth number 299\n",
      "Recursion depth number 300\n",
      "Recursion depth number 301\n",
      "Recursion depth number 302\n",
      "Recursion depth number 303\n",
      "Recursion depth number 304\n",
      "Recursion depth number 305\n",
      "Recursion depth number 306\n",
      "Recursion depth number 307\n",
      "Recursion depth number 308\n",
      "Recursion depth number 309\n",
      "Recursion depth number 310\n",
      "Recursion depth number 311\n",
      "Recursion depth number 312\n",
      "Recursion depth number 313\n",
      "Recursion depth number 314\n",
      "Recursion depth number 315\n",
      "Recursion depth number 316\n",
      "Recursion depth number 317\n",
      "Recursion depth number 318\n",
      "Recursion depth number 319\n",
      "Recursion depth number 320\n",
      "Recursion depth number 321\n",
      "Recursion depth number 322\n",
      "Recursion depth number 323\n",
      "Recursion depth number 324\n",
      "Recursion depth number 325\n",
      "Recursion depth number 326\n",
      "Recursion depth number 327\n",
      "Recursion depth number 328\n",
      "Recursion depth number 329\n",
      "Recursion depth number 330\n",
      "Recursion depth number 331\n",
      "Recursion depth number 332\n",
      "Recursion depth number 333\n",
      "Recursion depth number 334\n",
      "Recursion depth number 335\n",
      "Recursion depth number 336\n",
      "Recursion depth number 337\n",
      "Recursion depth number 338\n",
      "Recursion depth number 339\n",
      "Recursion depth number 340\n",
      "Recursion depth number 341\n",
      "Recursion depth number 342\n",
      "Recursion depth number 343\n",
      "Recursion depth number 344\n",
      "Recursion depth number 345\n",
      "Recursion depth number 346\n",
      "Recursion depth number 347\n",
      "Recursion depth number 348\n",
      "Recursion depth number 349\n",
      "Recursion depth number 350\n",
      "Recursion depth number 351\n",
      "Recursion depth number 352\n",
      "Recursion depth number 353\n",
      "Recursion depth number 354\n",
      "Recursion depth number 355\n",
      "Recursion depth number 356\n",
      "Recursion depth number 357\n",
      "Recursion depth number 358\n",
      "Recursion depth number 359\n",
      "Recursion depth number 360\n",
      "Recursion depth number 361\n",
      "Recursion depth number 362\n",
      "Recursion depth number 363\n",
      "Recursion depth number 364\n",
      "Recursion depth number 365\n",
      "Recursion depth number 366\n",
      "Recursion depth number 367\n",
      "Recursion depth number 368\n",
      "Recursion depth number 369\n",
      "Recursion depth number 370\n",
      "Recursion depth number 371\n",
      "Recursion depth number 372\n",
      "Recursion depth number 373\n",
      "Recursion depth number 374\n",
      "Recursion depth number 375\n",
      "Recursion depth number 376\n",
      "Recursion depth number 377\n",
      "Recursion depth number 378\n",
      "Recursion depth number 379\n",
      "Recursion depth number 380\n",
      "Recursion depth number 381\n",
      "Recursion depth number 382\n",
      "Recursion depth number 383\n",
      "Recursion depth number 384\n",
      "Recursion depth number 385\n",
      "Recursion depth number 386\n",
      "Recursion depth number 387\n",
      "Recursion depth number 388\n",
      "Recursion depth number 389\n",
      "Recursion depth number 390\n",
      "Recursion depth number 391\n",
      "Recursion depth number 392\n",
      "Recursion depth number 393\n",
      "Recursion depth number 394\n",
      "Recursion depth number 395\n",
      "Recursion depth number 396\n",
      "Recursion depth number 397\n",
      "Recursion depth number 398\n",
      "Recursion depth number 399\n",
      "Recursion depth number 400\n",
      "Recursion depth number 401\n",
      "Recursion depth number 402\n",
      "Recursion depth number 403\n",
      "Recursion depth number 404\n",
      "Recursion depth number 405\n",
      "Recursion depth number 406\n",
      "Recursion depth number 407\n",
      "Recursion depth number 408\n",
      "Recursion depth number 409\n",
      "Recursion depth number 410\n",
      "Recursion depth number 411\n",
      "Recursion depth number 412\n",
      "Recursion depth number 413\n",
      "Recursion depth number 414\n",
      "Recursion depth number 415\n",
      "Recursion depth number 416\n",
      "Recursion depth number 417\n",
      "Recursion depth number 418\n",
      "Recursion depth number 419\n",
      "Recursion depth number 420\n",
      "Recursion depth number 421\n",
      "Recursion depth number 422\n",
      "Recursion depth number 423\n",
      "Recursion depth number 424\n",
      "Recursion depth number 425\n",
      "Recursion depth number 426\n",
      "Recursion depth number 427\n",
      "Recursion depth number 428\n",
      "Recursion depth number 429\n",
      "Recursion depth number 430\n",
      "Recursion depth number 431\n",
      "Recursion depth number 432\n",
      "Recursion depth number 433\n",
      "Recursion depth number 434\n",
      "Recursion depth number 435\n",
      "Recursion depth number 436\n",
      "Recursion depth number 437\n",
      "Recursion depth number 438\n",
      "Recursion depth number 439\n",
      "Recursion depth number 440\n",
      "Recursion depth number 441\n",
      "Recursion depth number 442\n",
      "Recursion depth number 443\n",
      "Recursion depth number 444\n",
      "Recursion depth number 445\n",
      "Recursion depth number 446\n",
      "Recursion depth number 447\n",
      "Recursion depth number 448\n",
      "Recursion depth number 449\n",
      "Recursion depth number 450\n",
      "Recursion depth number 451\n",
      "Recursion depth number 452\n",
      "Recursion depth number 453\n",
      "Recursion depth number 454\n",
      "Recursion depth number 455\n",
      "Recursion depth number 456\n",
      "Recursion depth number 457\n",
      "Recursion depth number 458\n",
      "Recursion depth number 459\n",
      "Recursion depth number 460\n",
      "Recursion depth number 461\n",
      "Recursion depth number 462\n",
      "Recursion depth number 463\n",
      "Recursion depth number 464\n",
      "Recursion depth number 465\n",
      "Recursion depth number 466\n",
      "Recursion depth number 467\n",
      "Recursion depth number 468\n",
      "Recursion depth number 469\n",
      "Recursion depth number 470\n",
      "Recursion depth number 471\n",
      "Recursion depth number 472\n",
      "Recursion depth number 473\n",
      "Recursion depth number 474\n",
      "Recursion depth number 475\n",
      "Recursion depth number 476\n",
      "Recursion depth number 477\n",
      "Recursion depth number 478\n",
      "Recursion depth number 479\n",
      "Recursion depth number 480\n",
      "Recursion depth number 481\n",
      "Recursion depth number 482\n",
      "Recursion depth number 483\n",
      "Recursion depth number 484\n",
      "Recursion depth number 485\n",
      "Recursion depth number 486\n",
      "Recursion depth number 487\n",
      "Recursion depth number 488\n",
      "Recursion depth number 489\n",
      "Recursion depth number 490\n",
      "Recursion depth number 491\n",
      "Recursion depth number 492\n",
      "Recursion depth number 493\n",
      "Recursion depth number 494\n",
      "Recursion depth number 495\n",
      "Recursion depth number 496\n",
      "Recursion depth number 497\n",
      "Recursion depth number 498\n",
      "Recursion depth number 499\n",
      "Recursion depth number 500\n",
      "Recursion depth number 501\n",
      "Recursion depth number 502\n",
      "Recursion depth number 503\n",
      "Recursion depth number 504\n",
      "Recursion depth number 505\n",
      "Recursion depth number 506\n",
      "Recursion depth number 507\n",
      "Recursion depth number 508\n",
      "Recursion depth number 509\n",
      "Recursion depth number 510\n",
      "Recursion depth number 511\n",
      "Recursion depth number 512\n",
      "Recursion depth number 513\n",
      "Recursion depth number 514\n",
      "Recursion depth number 515\n",
      "Recursion depth number 516\n",
      "Recursion depth number 517\n",
      "Recursion depth number 518\n",
      "Recursion depth number 519\n",
      "Recursion depth number 520\n",
      "Recursion depth number 521\n",
      "Recursion depth number 522\n",
      "Recursion depth number 523\n",
      "Recursion depth number 524\n",
      "Recursion depth number 525\n",
      "Recursion depth number 526\n",
      "Recursion depth number 527\n",
      "Recursion depth number 528\n",
      "Recursion depth number 529\n",
      "Recursion depth number 530\n",
      "Recursion depth number 531\n",
      "Recursion depth number 532\n",
      "Recursion depth number 533\n",
      "Recursion depth number 534\n",
      "Recursion depth number 535\n",
      "Recursion depth number 536\n",
      "Recursion depth number 537\n",
      "Recursion depth number 538\n",
      "Recursion depth number 539\n",
      "Recursion depth number 540\n",
      "Recursion depth number 541\n",
      "Recursion depth number 542\n",
      "Recursion depth number 543\n",
      "Recursion depth number 544\n",
      "Recursion depth number 545\n",
      "Recursion depth number 546\n",
      "Recursion depth number 547\n",
      "Recursion depth number 548\n",
      "Recursion depth number 549\n",
      "Recursion depth number 550\n",
      "Recursion depth number 551\n",
      "Recursion depth number 552\n",
      "Recursion depth number 553\n",
      "Recursion depth number 554\n",
      "Recursion depth number 555\n",
      "Recursion depth number 556\n",
      "Recursion depth number 557\n",
      "Recursion depth number 558\n",
      "Recursion depth number 559\n",
      "Recursion depth number 560\n",
      "Recursion depth number 561\n",
      "Recursion depth number 562\n",
      "Recursion depth number 563\n",
      "Recursion depth number 564\n",
      "Recursion depth number 565\n",
      "Recursion depth number 566\n",
      "Recursion depth number 567\n",
      "Recursion depth number 568\n",
      "Recursion depth number 569\n",
      "Recursion depth number 570\n",
      "Recursion depth number 571\n",
      "Recursion depth number 572\n",
      "Recursion depth number 573\n",
      "Recursion depth number 574\n",
      "Recursion depth number 575\n",
      "Recursion depth number 576\n",
      "Recursion depth number 577\n",
      "Recursion depth number 578\n",
      "Recursion depth number 579\n",
      "Recursion depth number 580\n",
      "Recursion depth number 581\n",
      "Recursion depth number 582\n",
      "Recursion depth number 583\n",
      "Recursion depth number 584\n",
      "Recursion depth number 585\n",
      "Recursion depth number 586\n",
      "Recursion depth number 587\n",
      "Recursion depth number 588\n",
      "Recursion depth number 589\n",
      "Recursion depth number 590\n",
      "Recursion depth number 591\n",
      "Recursion depth number 592\n",
      "Recursion depth number 593\n",
      "Recursion depth number 594\n",
      "Recursion depth number 595\n",
      "Recursion depth number 596\n",
      "Recursion depth number 597\n",
      "Recursion depth number 598\n",
      "Recursion depth number 599\n",
      "Recursion depth number 600\n",
      "Recursion depth number 601\n",
      "Recursion depth number 602\n",
      "Recursion depth number 603\n",
      "Recursion depth number 604\n",
      "Recursion depth number 605\n",
      "Recursion depth number 606\n",
      "Recursion depth number 607\n",
      "Recursion depth number 608\n",
      "Recursion depth number 609\n",
      "Recursion depth number 610\n",
      "Recursion depth number 611\n",
      "Recursion depth number 612\n",
      "Recursion depth number 613\n",
      "Recursion depth number 614\n",
      "Recursion depth number 615\n",
      "Recursion depth number 616\n",
      "Recursion depth number 617\n",
      "Recursion depth number 618\n",
      "Recursion depth number 619\n",
      "Recursion depth number 620\n",
      "Recursion depth number 621\n",
      "Recursion depth number 622\n",
      "Recursion depth number 623\n",
      "Recursion depth number 624\n",
      "Recursion depth number 625\n",
      "Recursion depth number 626\n",
      "Recursion depth number 627\n",
      "Recursion depth number 628\n",
      "Recursion depth number 629\n",
      "Recursion depth number 630\n",
      "Recursion depth number 631\n",
      "Recursion depth number 632\n",
      "Recursion depth number 633\n",
      "Recursion depth number 634\n",
      "Recursion depth number 635\n",
      "Recursion depth number 636\n",
      "Recursion depth number 637\n",
      "Recursion depth number 638\n",
      "Recursion depth number 639\n",
      "Recursion depth number 640\n",
      "Recursion depth number 641\n",
      "Recursion depth number 642\n",
      "Recursion depth number 643\n",
      "Recursion depth number 644\n",
      "Recursion depth number 645\n",
      "Recursion depth number 646\n",
      "Recursion depth number 647\n",
      "Recursion depth number 648\n",
      "Recursion depth number 649\n",
      "Recursion depth number 650\n",
      "Recursion depth number 651\n",
      "Recursion depth number 652\n",
      "Recursion depth number 653\n",
      "Recursion depth number 654\n",
      "Recursion depth number 655\n",
      "Recursion depth number 656\n",
      "Recursion depth number 657\n",
      "Recursion depth number 658\n",
      "Recursion depth number 659\n",
      "Recursion depth number 660\n",
      "Recursion depth number 661\n",
      "Recursion depth number 662\n",
      "Recursion depth number 663\n",
      "Recursion depth number 664\n",
      "Recursion depth number 665\n",
      "Recursion depth number 666\n",
      "Recursion depth number 667\n",
      "Recursion depth number 668\n",
      "Recursion depth number 669\n",
      "Recursion depth number 670\n",
      "Recursion depth number 671\n",
      "Recursion depth number 672\n",
      "Recursion depth number 673\n",
      "Recursion depth number 674\n",
      "Recursion depth number 675\n",
      "Recursion depth number 676\n",
      "Recursion depth number 677\n",
      "Recursion depth number 678\n",
      "Recursion depth number 679\n",
      "Recursion depth number 680\n",
      "Recursion depth number 681\n",
      "Recursion depth number 682\n",
      "Recursion depth number 683\n",
      "Recursion depth number 684\n",
      "Recursion depth number 685\n",
      "Recursion depth number 686\n",
      "Recursion depth number 687\n",
      "Recursion depth number 688\n",
      "Recursion depth number 689\n",
      "Recursion depth number 690\n",
      "Recursion depth number 691\n",
      "Recursion depth number 692\n",
      "Recursion depth number 693\n",
      "Recursion depth number 694\n",
      "Recursion depth number 695\n",
      "Recursion depth number 696\n",
      "Recursion depth number 697\n",
      "Recursion depth number 698\n",
      "Recursion depth number 699\n",
      "Recursion depth number 700\n",
      "Recursion depth number 701\n",
      "Recursion depth number 702\n",
      "Recursion depth number 703\n",
      "Recursion depth number 704\n",
      "Recursion depth number 705\n",
      "Recursion depth number 706\n",
      "Recursion depth number 707\n",
      "Recursion depth number 708\n",
      "Recursion depth number 709\n",
      "Recursion depth number 710\n",
      "Recursion depth number 711\n",
      "Recursion depth number 712\n",
      "Recursion depth number 713\n",
      "Recursion depth number 714\n",
      "Recursion depth number 715\n",
      "Recursion depth number 716\n",
      "Recursion depth number 717\n",
      "Recursion depth number 718\n",
      "Recursion depth number 719\n",
      "Recursion depth number 720\n",
      "Recursion depth number 721\n",
      "Recursion depth number 722\n",
      "Recursion depth number 723\n",
      "Recursion depth number 724\n",
      "Recursion depth number 725\n",
      "Recursion depth number 726\n",
      "Recursion depth number 727\n",
      "Recursion depth number 728\n",
      "Recursion depth number 729\n",
      "Recursion depth number 730\n",
      "Recursion depth number 731\n",
      "Recursion depth number 732\n",
      "Recursion depth number 733\n",
      "Recursion depth number 734\n",
      "Recursion depth number 735\n",
      "Recursion depth number 736\n",
      "Recursion depth number 737\n",
      "Recursion depth number 738\n",
      "Recursion depth number 739\n",
      "Recursion depth number 740\n",
      "Recursion depth number 741\n",
      "Recursion depth number 742\n",
      "Recursion depth number 743\n",
      "Recursion depth number 744\n",
      "Recursion depth number 745\n",
      "Recursion depth number 746\n",
      "Recursion depth number 747\n",
      "Recursion depth number 748\n",
      "Recursion depth number 749\n",
      "Recursion depth number 750\n",
      "Recursion depth number 751\n",
      "Recursion depth number 752\n",
      "Recursion depth number 753\n",
      "Recursion depth number 754\n",
      "Recursion depth number 755\n",
      "Recursion depth number 756\n",
      "Recursion depth number 757\n",
      "Recursion depth number 758\n",
      "Recursion depth number 759\n",
      "Recursion depth number 760\n",
      "Recursion depth number 761\n",
      "Recursion depth number 762\n",
      "Recursion depth number 763\n",
      "Recursion depth number 764\n",
      "Recursion depth number 765\n",
      "Recursion depth number 766\n",
      "Recursion depth number 767\n",
      "Recursion depth number 768\n",
      "Recursion depth number 769\n",
      "Recursion depth number 770\n",
      "Recursion depth number 771\n",
      "Recursion depth number 772\n",
      "Recursion depth number 773\n",
      "Recursion depth number 774\n",
      "Recursion depth number 775\n",
      "Recursion depth number 776\n",
      "Recursion depth number 777\n",
      "Recursion depth number 778\n",
      "Recursion depth number 779\n",
      "Recursion depth number 780\n",
      "Recursion depth number 781\n",
      "Recursion depth number 782\n",
      "Recursion depth number 783\n",
      "Recursion depth number 784\n",
      "Recursion depth number 785\n",
      "Recursion depth number 786\n",
      "Recursion depth number 787\n",
      "Recursion depth number 788\n",
      "Recursion depth number 789\n",
      "Recursion depth number 790\n",
      "Recursion depth number 791\n",
      "Recursion depth number 792\n",
      "Recursion depth number 793\n",
      "Recursion depth number 794\n",
      "Recursion depth number 795\n",
      "Recursion depth number 796\n",
      "Recursion depth number 797\n",
      "Recursion depth number 798\n",
      "Recursion depth number 799\n",
      "Recursion depth number 800\n",
      "Recursion depth number 801\n",
      "Recursion depth number 802\n",
      "Recursion depth number 803\n",
      "Recursion depth number 804\n",
      "Recursion depth number 805\n",
      "Recursion depth number 806\n",
      "Recursion depth number 807\n",
      "Recursion depth number 808\n",
      "Recursion depth number 809\n",
      "Recursion depth number 810\n",
      "Recursion depth number 811\n",
      "Recursion depth number 812\n",
      "Recursion depth number 813\n",
      "Recursion depth number 814\n",
      "Recursion depth number 815\n",
      "Recursion depth number 816\n",
      "Recursion depth number 817\n",
      "Recursion depth number 818\n",
      "Recursion depth number 819\n",
      "Recursion depth number 820\n",
      "Recursion depth number 821\n",
      "Recursion depth number 822\n",
      "Recursion depth number 823\n",
      "Recursion depth number 824\n",
      "Recursion depth number 825\n",
      "Recursion depth number 826\n",
      "Recursion depth number 827\n",
      "Recursion depth number 828\n",
      "Recursion depth number 829\n",
      "Recursion depth number 830\n",
      "Recursion depth number 831\n",
      "Recursion depth number 832\n",
      "Recursion depth number 833\n",
      "Recursion depth number 834\n",
      "Recursion depth number 835\n",
      "Recursion depth number 836\n",
      "Recursion depth number 837\n",
      "Recursion depth number 838\n",
      "Recursion depth number 839\n",
      "Recursion depth number 840\n",
      "Recursion depth number 841\n",
      "Recursion depth number 842\n",
      "Recursion depth number 843\n",
      "Recursion depth number 844\n",
      "Recursion depth number 845\n",
      "Recursion depth number 846\n",
      "Recursion depth number 847\n",
      "Recursion depth number 848\n",
      "Recursion depth number 849\n",
      "Recursion depth number 850\n",
      "Recursion depth number 851\n",
      "Recursion depth number 852\n",
      "Recursion depth number 853\n",
      "Recursion depth number 854\n",
      "Recursion depth number 855\n",
      "Recursion depth number 856\n",
      "Recursion depth number 857\n",
      "Recursion depth number 858\n",
      "Recursion depth number 859\n",
      "Recursion depth number 860\n",
      "Recursion depth number 861\n",
      "Recursion depth number 862\n",
      "Recursion depth number 863\n",
      "Recursion depth number 864\n",
      "Recursion depth number 865\n",
      "Recursion depth number 866\n",
      "Recursion depth number 867\n",
      "Recursion depth number 868\n",
      "Recursion depth number 869\n",
      "Recursion depth number 870\n",
      "Recursion depth number 871\n",
      "Recursion depth number 872\n",
      "Recursion depth number 873\n",
      "Recursion depth number 874\n",
      "Recursion depth number 875\n",
      "Recursion depth number 876\n",
      "Recursion depth number 877\n",
      "Recursion depth number 878\n",
      "Recursion depth number 879\n",
      "Recursion depth number 880\n",
      "Recursion depth number 881\n",
      "Recursion depth number 882\n",
      "Recursion depth number 883\n",
      "Recursion depth number 884\n",
      "Recursion depth number 885\n",
      "Recursion depth number 886\n",
      "Recursion depth number 887\n",
      "Recursion depth number 888\n",
      "Recursion depth number 889\n",
      "Recursion depth number 890\n",
      "Recursion depth number 891\n",
      "Recursion depth number 892\n",
      "Recursion depth number 893\n",
      "Recursion depth number 894\n",
      "Recursion depth number 895\n",
      "Recursion depth number 896\n",
      "Recursion depth number 897\n",
      "Recursion depth number 898\n",
      "Recursion depth number 899\n",
      "Recursion depth number 900\n",
      "Recursion depth number 901\n",
      "Recursion depth number 902\n",
      "Recursion depth number 903\n",
      "Recursion depth number 904\n",
      "Recursion depth number 905\n",
      "Recursion depth number 906\n",
      "Recursion depth number 907\n",
      "Recursion depth number 908\n",
      "Recursion depth number 909\n",
      "Recursion depth number 910\n",
      "Recursion depth number 911\n",
      "Recursion depth number 912\n",
      "Recursion depth number 913\n",
      "Recursion depth number 914\n",
      "Recursion depth number 915\n",
      "Recursion depth number 916\n",
      "Recursion depth number 917\n",
      "Recursion depth number 918\n",
      "Recursion depth number 919\n",
      "Recursion depth number 920\n",
      "Recursion depth number 921\n",
      "Recursion depth number 922\n",
      "Recursion depth number 923\n",
      "Recursion depth number 924\n",
      "Recursion depth number 925\n",
      "Recursion depth number 926\n",
      "Recursion depth number 927\n",
      "Recursion depth number 928\n",
      "Recursion depth number 929\n",
      "Recursion depth number 930\n",
      "Recursion depth number 931\n",
      "Recursion depth number 932\n",
      "Recursion depth number 933\n",
      "Recursion depth number 934\n",
      "Recursion depth number 935\n",
      "Recursion depth number 936\n",
      "Recursion depth number 937\n",
      "Recursion depth number 938\n",
      "Recursion depth number 939\n",
      "Recursion depth number 940\n",
      "Recursion depth number 941\n",
      "Recursion depth number 942\n",
      "Recursion depth number 943\n",
      "Recursion depth number 944\n",
      "Recursion depth number 945\n",
      "Recursion depth number 946\n",
      "Recursion depth number 947\n",
      "Recursion depth number 948\n",
      "Recursion depth number 949\n",
      "Recursion depth number 950\n",
      "Recursion depth number 951\n",
      "Recursion depth number 952\n",
      "Recursion depth number 953\n",
      "Recursion depth number 954\n",
      "Recursion depth number 955\n",
      "Recursion depth number 956\n",
      "Recursion depth number 957\n",
      "Recursion depth number 958\n",
      "Recursion depth number 959\n",
      "Recursion depth number 960\n",
      "Recursion depth number 961\n",
      "Recursion depth number 962\n",
      "Recursion depth number 963\n",
      "Recursion depth number 964\n",
      "Recursion depth number 965\n",
      "Recursion depth number 966\n",
      "Recursion depth number 967\n",
      "Recursion depth number 968\n",
      "Recursion depth number 969\n",
      "Recursion depth number 970\n",
      "Recursion depth number 971\n",
      "Recursion depth number 972\n",
      "Recursion depth number 973\n",
      "Recursion depth number 974\n",
      "Recursion depth number 975\n",
      "Recursion depth number 976\n",
      "Recursion depth number 977\n",
      "Recursion depth number 978\n",
      "Recursion depth number 979\n",
      "Recursion depth number 980\n",
      "Recursion depth number 981\n",
      "Recursion depth number 982\n",
      "Recursion depth number 983\n",
      "Recursion depth number 984\n",
      "Recursion depth number 985\n",
      "Recursion depth number 986\n",
      "Recursion depth number 987\n",
      "Recursion depth number 988\n",
      "Recursion depth number 989\n",
      "Recursion depth number 990\n",
      "Recursion depth number 991\n",
      "Recursion depth number 992\n",
      "Recursion depth number 993\n",
      "Recursion depth number 994\n",
      "Recursion depth number 995\n",
      "Recursion depth number 996\n",
      "Recursion depth number 997\n",
      "Recursion depth number 998\n",
      "Recursion depth number 999\n",
      "Recursion depth number 1000\n",
      "Recursion depth number 1001\n",
      "Recursion depth number 1002\n",
      "Recursion depth number 1003\n",
      "Recursion depth number 1004\n",
      "Recursion depth number 1005\n",
      "Recursion depth number 1006\n",
      "Recursion depth number 1007\n",
      "Recursion depth number 1008\n",
      "Recursion depth number 1009\n",
      "Recursion depth number 1010\n",
      "Recursion depth number 1011\n",
      "Recursion depth number 1012\n",
      "Recursion depth number 1013\n",
      "Recursion depth number 1014\n",
      "Recursion depth number 1015\n",
      "Recursion depth number 1016\n",
      "Recursion depth number 1017\n",
      "Recursion depth number 1018\n",
      "Recursion depth number 1019\n",
      "Recursion depth number 1020\n",
      "Recursion depth number 1021\n",
      "Recursion depth number 1022\n",
      "Recursion depth number 1023\n",
      "Recursion depth number 1024\n",
      "Recursion depth number 1025\n",
      "Recursion depth number 1026\n",
      "Recursion depth number 1027\n",
      "Recursion depth number 1028\n",
      "Recursion depth number 1029\n",
      "Recursion depth number 1030\n",
      "Recursion depth number 1031\n",
      "Recursion depth number 1032\n",
      "Recursion depth number 1033\n",
      "Recursion depth number 1034\n",
      "Recursion depth number 1035\n",
      "Recursion depth number 1036\n",
      "Recursion depth number 1037\n",
      "Recursion depth number 1038\n",
      "Recursion depth number 1039\n",
      "Recursion depth number 1040\n",
      "Recursion depth number 1041\n",
      "Recursion depth number 1042\n",
      "Recursion depth number 1043\n",
      "Recursion depth number 1044\n",
      "Recursion depth number 1045\n",
      "Recursion depth number 1046\n",
      "Recursion depth number 1047\n",
      "Recursion depth number 1048\n",
      "Recursion depth number 1049\n",
      "Recursion depth number 1050\n",
      "Recursion depth number 1051\n",
      "Recursion depth number 1052\n",
      "Recursion depth number 1053\n",
      "Recursion depth number 1054\n",
      "Recursion depth number 1055\n",
      "Recursion depth number 1056\n",
      "Recursion depth number 1057\n",
      "Recursion depth number 1058\n",
      "Recursion depth number 1059\n",
      "Recursion depth number 1060\n",
      "Recursion depth number 1061\n",
      "Recursion depth number 1062\n",
      "Recursion depth number 1063\n",
      "Recursion depth number 1064\n",
      "Recursion depth number 1065\n",
      "Recursion depth number 1066\n",
      "Recursion depth number 1067\n",
      "Recursion depth number 1068\n",
      "Recursion depth number 1069\n",
      "Recursion depth number 1070\n",
      "Recursion depth number 1071\n",
      "Recursion depth number 1072\n",
      "Recursion depth number 1073\n",
      "Recursion depth number 1074\n",
      "Recursion depth number 1075\n",
      "Recursion depth number 1076\n",
      "Recursion depth number 1077\n",
      "Recursion depth number 1078\n",
      "Recursion depth number 1079\n",
      "Recursion depth number 1080\n",
      "Recursion depth number 1081\n",
      "Recursion depth number 1082\n",
      "Recursion depth number 1083\n",
      "Recursion depth number 1084\n",
      "Recursion depth number 1085\n",
      "Recursion depth number 1086\n",
      "Recursion depth number 1087\n",
      "Recursion depth number 1088\n",
      "Recursion depth number 1089\n",
      "Recursion depth number 1090\n",
      "Recursion depth number 1091\n",
      "Recursion depth number 1092\n",
      "Recursion depth number 1093\n",
      "Recursion depth number 1094\n",
      "Recursion depth number 1095\n",
      "Recursion depth number 1096\n",
      "Recursion depth number 1097\n",
      "Recursion depth number 1098\n",
      "Recursion depth number 1099\n",
      "Recursion depth number 1100\n",
      "Recursion depth number 1101\n",
      "Recursion depth number 1102\n",
      "Recursion depth number 1103\n",
      "Recursion depth number 1104\n",
      "Recursion depth number 1105\n",
      "Recursion depth number 1106\n",
      "Recursion depth number 1107\n",
      "Recursion depth number 1108\n",
      "Recursion depth number 1109\n",
      "Recursion depth number 1110\n",
      "Recursion depth number 1111\n",
      "Recursion depth number 1112\n",
      "Recursion depth number 1113\n",
      "Recursion depth number 1114\n",
      "Recursion depth number 1115\n",
      "Recursion depth number 1116\n",
      "Recursion depth number 1117\n",
      "Recursion depth number 1118\n",
      "Recursion depth number 1119\n",
      "Recursion depth number 1120\n",
      "Recursion depth number 1121\n",
      "Recursion depth number 1122\n",
      "Recursion depth number 1123\n",
      "Recursion depth number 1124\n",
      "Recursion depth number 1125\n",
      "Recursion depth number 1126\n",
      "Recursion depth number 1127\n",
      "Recursion depth number 1128\n",
      "Recursion depth number 1129\n",
      "Recursion depth number 1130\n",
      "Recursion depth number 1131\n",
      "Recursion depth number 1132\n",
      "Recursion depth number 1133\n",
      "Recursion depth number 1134\n",
      "Recursion depth number 1135\n",
      "Recursion depth number 1136\n",
      "Recursion depth number 1137\n",
      "Recursion depth number 1138\n",
      "Recursion depth number 1139\n",
      "Recursion depth number 1140\n",
      "Recursion depth number 1141\n",
      "Recursion depth number 1142\n",
      "Recursion depth number 1143\n",
      "Recursion depth number 1144\n",
      "Recursion depth number 1145\n",
      "Recursion depth number 1146\n",
      "Recursion depth number 1147\n",
      "Recursion depth number 1148\n",
      "Recursion depth number 1149\n",
      "Recursion depth number 1150\n",
      "Recursion depth number 1151\n",
      "Recursion depth number 1152\n",
      "Recursion depth number 1153\n",
      "Recursion depth number 1154\n",
      "Recursion depth number 1155\n",
      "Recursion depth number 1156\n",
      "Recursion depth number 1157\n",
      "Recursion depth number 1158\n",
      "Recursion depth number 1159\n",
      "Recursion depth number 1160\n",
      "Recursion depth number 1161\n",
      "Recursion depth number 1162\n",
      "Recursion depth number 1163\n",
      "Recursion depth number 1164\n",
      "Recursion depth number 1165\n",
      "Recursion depth number 1166\n",
      "Recursion depth number 1167\n",
      "Recursion depth number 1168\n",
      "Recursion depth number 1169\n",
      "Recursion depth number 1170\n",
      "Recursion depth number 1171\n",
      "Recursion depth number 1172\n",
      "Recursion depth number 1173\n",
      "Recursion depth number 1174\n",
      "Recursion depth number 1175\n",
      "Recursion depth number 1176\n",
      "Recursion depth number 1177\n",
      "Recursion depth number 1178\n",
      "Recursion depth number 1179\n",
      "Recursion depth number 1180\n",
      "Recursion depth number 1181\n",
      "Recursion depth number 1182\n",
      "Recursion depth number 1183\n",
      "Recursion depth number 1184\n",
      "Recursion depth number 1185\n",
      "Recursion depth number 1186\n",
      "Recursion depth number 1187\n",
      "Recursion depth number 1188\n",
      "Recursion depth number 1189\n",
      "Recursion depth number 1190\n",
      "Recursion depth number 1191\n",
      "Recursion depth number 1192\n",
      "Recursion depth number 1193\n",
      "Recursion depth number 1194\n",
      "Recursion depth number 1195\n",
      "Recursion depth number 1196\n",
      "Recursion depth number 1197\n",
      "Recursion depth number 1198\n",
      "Recursion depth number 1199\n",
      "Recursion depth number 1200\n",
      "Recursion depth number 1201\n",
      "Recursion depth number 1202\n",
      "Recursion depth number 1203\n",
      "Recursion depth number 1204\n",
      "Recursion depth number 1205\n",
      "Recursion depth number 1206\n",
      "Recursion depth number 1207\n",
      "Recursion depth number 1208\n",
      "Recursion depth number 1209\n",
      "Recursion depth number 1210\n",
      "Recursion depth number 1211\n",
      "Recursion depth number 1212\n",
      "Recursion depth number 1213\n",
      "Recursion depth number 1214\n",
      "Recursion depth number 1215\n",
      "Recursion depth number 1216\n",
      "Recursion depth number 1217\n",
      "Recursion depth number 1218\n",
      "Recursion depth number 1219\n",
      "Recursion depth number 1220\n",
      "Recursion depth number 1221\n",
      "Recursion depth number 1222\n",
      "Recursion depth number 1223\n",
      "Recursion depth number 1224\n",
      "Recursion depth number 1225\n",
      "Recursion depth number 1226\n",
      "Recursion depth number 1227\n",
      "Recursion depth number 1228\n",
      "Recursion depth number 1229\n",
      "Recursion depth number 1230\n",
      "Recursion depth number 1231\n",
      "Recursion depth number 1232\n",
      "Recursion depth number 1233\n",
      "Recursion depth number 1234\n",
      "Recursion depth number 1235\n",
      "Recursion depth number 1236\n",
      "Recursion depth number 1237\n",
      "Recursion depth number 1238\n",
      "Recursion depth number 1239\n",
      "Recursion depth number 1240\n",
      "Recursion depth number 1241\n",
      "Recursion depth number 1242\n",
      "Recursion depth number 1243\n",
      "Recursion depth number 1244\n",
      "Recursion depth number 1245\n",
      "Recursion depth number 1246\n",
      "Recursion depth number 1247\n",
      "Recursion depth number 1248\n",
      "Recursion depth number 1249\n",
      "Recursion depth number 1250\n",
      "Recursion depth number 1251\n",
      "Recursion depth number 1252\n",
      "Recursion depth number 1253\n",
      "Recursion depth number 1254\n",
      "Recursion depth number 1255\n",
      "Recursion depth number 1256\n",
      "Recursion depth number 1257\n",
      "Recursion depth number 1258\n",
      "Recursion depth number 1259\n",
      "Recursion depth number 1260\n",
      "Recursion depth number 1261\n",
      "Recursion depth number 1262\n",
      "Recursion depth number 1263\n",
      "Recursion depth number 1264\n",
      "Recursion depth number 1265\n",
      "Recursion depth number 1266\n",
      "Recursion depth number 1267\n",
      "Recursion depth number 1268\n",
      "Recursion depth number 1269\n",
      "Recursion depth number 1270\n",
      "Recursion depth number 1271\n",
      "Recursion depth number 1272\n",
      "Recursion depth number 1273\n",
      "Recursion depth number 1274\n",
      "Recursion depth number 1275\n",
      "Recursion depth number 1276\n",
      "Recursion depth number 1277\n",
      "Recursion depth number 1278\n",
      "Recursion depth number 1279\n",
      "Recursion depth number 1280\n",
      "Recursion depth number 1281\n",
      "Recursion depth number 1282\n",
      "Recursion depth number 1283\n",
      "Recursion depth number 1284\n",
      "Recursion depth number 1285\n",
      "Recursion depth number 1286\n",
      "Recursion depth number 1287\n",
      "Recursion depth number 1288\n",
      "Recursion depth number 1289\n",
      "Recursion depth number 1290\n",
      "Recursion depth number 1291\n",
      "Recursion depth number 1292\n",
      "Recursion depth number 1293\n",
      "Recursion depth number 1294\n",
      "Recursion depth number 1295\n",
      "Recursion depth number 1296\n",
      "Recursion depth number 1297\n",
      "Recursion depth number 1298\n",
      "Recursion depth number 1299\n",
      "Recursion depth number 1300\n",
      "Recursion depth number 1301\n",
      "Recursion depth number 1302\n",
      "Recursion depth number 1303\n",
      "Recursion depth number 1304\n",
      "Recursion depth number 1305\n",
      "Recursion depth number 1306\n",
      "Recursion depth number 1307\n",
      "Recursion depth number 1308\n",
      "Recursion depth number 1309\n",
      "Recursion depth number 1310\n",
      "Recursion depth number 1311\n",
      "Recursion depth number 1312\n",
      "Recursion depth number 1313\n",
      "Recursion depth number 1314\n",
      "Recursion depth number 1315\n",
      "Recursion depth number 1316\n",
      "Recursion depth number 1317\n",
      "Recursion depth number 1318\n",
      "Recursion depth number 1319\n",
      "Recursion depth number 1320\n",
      "Recursion depth number 1321\n",
      "Recursion depth number 1322\n",
      "Recursion depth number 1323\n",
      "Recursion depth number 1324\n",
      "Recursion depth number 1325\n",
      "Recursion depth number 1326\n",
      "Recursion depth number 1327\n",
      "Recursion depth number 1328\n",
      "Recursion depth number 1329\n",
      "Recursion depth number 1330\n",
      "Recursion depth number 1331\n",
      "Recursion depth number 1332\n",
      "Recursion depth number 1333\n",
      "Recursion depth number 1334\n",
      "Recursion depth number 1335\n",
      "Recursion depth number 1336\n",
      "Recursion depth number 1337\n",
      "Recursion depth number 1338\n",
      "Recursion depth number 1339\n",
      "Recursion depth number 1340\n",
      "Recursion depth number 1341\n",
      "Recursion depth number 1342\n",
      "Recursion depth number 1343\n",
      "Recursion depth number 1344\n",
      "Recursion depth number 1345\n",
      "Recursion depth number 1346\n",
      "Recursion depth number 1347\n",
      "Recursion depth number 1348\n",
      "Recursion depth number 1349\n",
      "Recursion depth number 1350\n",
      "Recursion depth number 1351\n",
      "Recursion depth number 1352\n",
      "Recursion depth number 1353\n",
      "Recursion depth number 1354\n",
      "Recursion depth number 1355\n",
      "Recursion depth number 1356\n",
      "Recursion depth number 1357\n",
      "Recursion depth number 1358\n",
      "Recursion depth number 1359\n",
      "Recursion depth number 1360\n",
      "Recursion depth number 1361\n",
      "Recursion depth number 1362\n",
      "Recursion depth number 1363\n",
      "Recursion depth number 1364\n",
      "Recursion depth number 1365\n",
      "Recursion depth number 1366\n",
      "Recursion depth number 1367\n",
      "Recursion depth number 1368\n",
      "Recursion depth number 1369\n",
      "Recursion depth number 1370\n",
      "Recursion depth number 1371\n",
      "Recursion depth number 1372\n",
      "Recursion depth number 1373\n",
      "Recursion depth number 1374\n",
      "Recursion depth number 1375\n",
      "Recursion depth number 1376\n",
      "Recursion depth number 1377\n",
      "Recursion depth number 1378\n",
      "Recursion depth number 1379\n",
      "Recursion depth number 1380\n",
      "Recursion depth number 1381\n",
      "Recursion depth number 1382\n",
      "Recursion depth number 1383\n",
      "Recursion depth number 1384\n",
      "Recursion depth number 1385\n",
      "Recursion depth number 1386\n",
      "Recursion depth number 1387\n",
      "Recursion depth number 1388\n",
      "Recursion depth number 1389\n",
      "Recursion depth number 1390\n",
      "Recursion depth number 1391\n",
      "Recursion depth number 1392\n",
      "Recursion depth number 1393\n",
      "Recursion depth number 1394\n",
      "Recursion depth number 1395\n",
      "Recursion depth number 1396\n",
      "Recursion depth number 1397\n",
      "Recursion depth number 1398\n",
      "Recursion depth number 1399\n",
      "Recursion depth number 1400\n",
      "Recursion depth number 1401\n",
      "Recursion depth number 1402\n",
      "Recursion depth number 1403\n",
      "Recursion depth number 1404\n",
      "Recursion depth number 1405\n",
      "Recursion depth number 1406\n",
      "Recursion depth number 1407\n",
      "Recursion depth number 1408\n",
      "Recursion depth number 1409\n",
      "Recursion depth number 1410\n",
      "Recursion depth number 1411\n",
      "Recursion depth number 1412\n",
      "Recursion depth number 1413\n",
      "Recursion depth number 1414\n",
      "Recursion depth number 1415\n",
      "Recursion depth number 1416\n",
      "Recursion depth number 1417\n",
      "Recursion depth number 1418\n",
      "Recursion depth number 1419\n",
      "Recursion depth number 1420\n",
      "Recursion depth number 1421\n",
      "Recursion depth number 1422\n",
      "Recursion depth number 1423\n",
      "Recursion depth number 1424\n",
      "Recursion depth number 1425\n",
      "Recursion depth number 1426\n",
      "Recursion depth number 1427\n",
      "Recursion depth number 1428\n",
      "Recursion depth number 1429\n",
      "Recursion depth number 1430\n",
      "Recursion depth number 1431\n",
      "Recursion depth number 1432\n",
      "Recursion depth number 1433\n",
      "Recursion depth number 1434\n",
      "Recursion depth number 1435\n",
      "Recursion depth number 1436\n",
      "Recursion depth number 1437\n",
      "Recursion depth number 1438\n",
      "Recursion depth number 1439\n",
      "Recursion depth number 1440\n",
      "Recursion depth number 1441\n",
      "Recursion depth number 1442\n",
      "Recursion depth number 1443\n",
      "Recursion depth number 1444\n",
      "Recursion depth number 1445\n",
      "Recursion depth number 1446\n",
      "Recursion depth number 1447\n",
      "Recursion depth number 1448\n",
      "Recursion depth number 1449\n",
      "Recursion depth number 1450\n",
      "Recursion depth number 1451\n",
      "Recursion depth number 1452\n",
      "Recursion depth number 1453\n",
      "Recursion depth number 1454\n",
      "Recursion depth number 1455\n",
      "Recursion depth number 1456\n",
      "Recursion depth number 1457\n",
      "Recursion depth number 1458\n",
      "Recursion depth number 1459\n",
      "Recursion depth number 1460\n",
      "Recursion depth number 1461\n",
      "Recursion depth number 1462\n",
      "Recursion depth number 1463\n",
      "Recursion depth number 1464\n",
      "Recursion depth number 1465\n",
      "Recursion depth number 1466\n",
      "Recursion depth number 1467\n",
      "Recursion depth number 1468\n",
      "Recursion depth number 1469\n",
      "Recursion depth number 1470\n",
      "Recursion depth number 1471\n",
      "Recursion depth number 1472\n",
      "Recursion depth number 1473\n",
      "Recursion depth number 1474\n",
      "Recursion depth number 1475\n",
      "Recursion depth number 1476\n",
      "Recursion depth number 1477\n",
      "Recursion depth number 1478\n",
      "Recursion depth number 1479\n",
      "Recursion depth number 1480\n",
      "Recursion depth number 1481\n",
      "Recursion depth number 1482\n",
      "Recursion depth number 1483\n",
      "Recursion depth number 1484\n",
      "Recursion depth number 1485\n",
      "Recursion depth number 1486\n",
      "Recursion depth number 1487\n",
      "Recursion depth number 1488\n",
      "Recursion depth number 1489\n",
      "Recursion depth number 1490\n",
      "Recursion depth number 1491\n",
      "Recursion depth number 1492\n",
      "Recursion depth number 1493\n",
      "Recursion depth number 1494\n",
      "Recursion depth number 1495\n",
      "Recursion depth number 1496\n",
      "Recursion depth number 1497\n",
      "Recursion depth number 1498\n",
      "Recursion depth number 1499\n",
      "Recursion depth number 1500\n",
      "Recursion depth number 1501\n",
      "Recursion depth number 1502\n",
      "Recursion depth number 1503\n",
      "Recursion depth number 1504\n",
      "Recursion depth number 1505\n",
      "Recursion depth number 1506\n",
      "Recursion depth number 1507\n",
      "Recursion depth number 1508\n",
      "Recursion depth number 1509\n",
      "Recursion depth number 1510\n",
      "Recursion depth number 1511\n",
      "Recursion depth number 1512\n",
      "Recursion depth number 1513\n",
      "Recursion depth number 1514\n",
      "Recursion depth number 1515\n",
      "Recursion depth number 1516\n",
      "Recursion depth number 1517\n",
      "Recursion depth number 1518\n",
      "Recursion depth number 1519\n",
      "Recursion depth number 1520\n",
      "Recursion depth number 1521\n",
      "Recursion depth number 1522\n",
      "Recursion depth number 1523\n",
      "Recursion depth number 1524\n",
      "Recursion depth number 1525\n",
      "Recursion depth number 1526\n",
      "Recursion depth number 1527\n",
      "Recursion depth number 1528\n",
      "Recursion depth number 1529\n",
      "Recursion depth number 1530\n",
      "Recursion depth number 1531\n",
      "Recursion depth number 1532\n",
      "Recursion depth number 1533\n",
      "Recursion depth number 1534\n",
      "Recursion depth number 1535\n",
      "Recursion depth number 1536\n",
      "Recursion depth number 1537\n",
      "Recursion depth number 1538\n",
      "Recursion depth number 1539\n",
      "Recursion depth number 1540\n",
      "Recursion depth number 1541\n",
      "Recursion depth number 1542\n",
      "Recursion depth number 1543\n",
      "Recursion depth number 1544\n",
      "Recursion depth number 1545\n",
      "Recursion depth number 1546\n",
      "Recursion depth number 1547\n",
      "Recursion depth number 1548\n",
      "Recursion depth number 1549\n",
      "Recursion depth number 1550\n",
      "Recursion depth number 1551\n",
      "Recursion depth number 1552\n",
      "Recursion depth number 1553\n",
      "Recursion depth number 1554\n",
      "Recursion depth number 1555\n",
      "Recursion depth number 1556\n",
      "Recursion depth number 1557\n",
      "Recursion depth number 1558\n",
      "Recursion depth number 1559\n",
      "Recursion depth number 1560\n",
      "Recursion depth number 1561\n",
      "Recursion depth number 1562\n",
      "Recursion depth number 1563\n",
      "Recursion depth number 1564\n",
      "Recursion depth number 1565\n",
      "Recursion depth number 1566\n",
      "Recursion depth number 1567\n",
      "Recursion depth number 1568\n",
      "Recursion depth number 1569\n",
      "Recursion depth number 1570\n",
      "Recursion depth number 1571\n",
      "Recursion depth number 1572\n",
      "Recursion depth number 1573\n",
      "Recursion depth number 1574\n",
      "Recursion depth number 1575\n",
      "Recursion depth number 1576\n",
      "Recursion depth number 1577\n",
      "Recursion depth number 1578\n",
      "Recursion depth number 1579\n",
      "Recursion depth number 1580\n",
      "Recursion depth number 1581\n",
      "Recursion depth number 1582\n",
      "Recursion depth number 1583\n",
      "Recursion depth number 1584\n",
      "Recursion depth number 1585\n",
      "Recursion depth number 1586\n",
      "Recursion depth number 1587\n",
      "Recursion depth number 1588\n",
      "Recursion depth number 1589\n",
      "Recursion depth number 1590\n",
      "Recursion depth number 1591\n",
      "Recursion depth number 1592\n",
      "Recursion depth number 1593\n",
      "Recursion depth number 1594\n",
      "Recursion depth number 1595\n",
      "Recursion depth number 1596\n",
      "Recursion depth number 1597\n",
      "Recursion depth number 1598\n",
      "Recursion depth number 1599\n",
      "Recursion depth number 1600\n",
      "Recursion depth number 1601\n",
      "Recursion depth number 1602\n",
      "Recursion depth number 1603\n",
      "Recursion depth number 1604\n",
      "Recursion depth number 1605\n",
      "Recursion depth number 1606\n",
      "Recursion depth number 1607\n",
      "Recursion depth number 1608\n",
      "Recursion depth number 1609\n",
      "Recursion depth number 1610\n",
      "Recursion depth number 1611\n",
      "Recursion depth number 1612\n",
      "Recursion depth number 1613\n",
      "Recursion depth number 1614\n",
      "Recursion depth number 1615\n",
      "Recursion depth number 1616\n",
      "Recursion depth number 1617\n",
      "Recursion depth number 1618\n",
      "Recursion depth number 1619\n",
      "Recursion depth number 1620\n",
      "Recursion depth number 1621\n",
      "Recursion depth number 1622\n",
      "Recursion depth number 1623\n",
      "Recursion depth number 1624\n",
      "Recursion depth number 1625\n",
      "Recursion depth number 1626\n",
      "Recursion depth number 1627\n",
      "Recursion depth number 1628\n",
      "Recursion depth number 1629\n",
      "Recursion depth number 1630\n",
      "Recursion depth number 1631\n",
      "Recursion depth number 1632\n",
      "Recursion depth number 1633\n",
      "Recursion depth number 1634\n",
      "Recursion depth number 1635\n",
      "Recursion depth number 1636\n",
      "Recursion depth number 1637\n",
      "Recursion depth number 1638\n",
      "Recursion depth number 1639\n",
      "Recursion depth number 1640\n",
      "Recursion depth number 1641\n",
      "Recursion depth number 1642\n",
      "Recursion depth number 1643\n",
      "Recursion depth number 1644\n",
      "Recursion depth number 1645\n",
      "Recursion depth number 1646\n",
      "Recursion depth number 1647\n",
      "Recursion depth number 1648\n",
      "Recursion depth number 1649\n",
      "Recursion depth number 1650\n",
      "Recursion depth number 1651\n",
      "Recursion depth number 1652\n",
      "Recursion depth number 1653\n",
      "Recursion depth number 1654\n",
      "Recursion depth number 1655\n",
      "Recursion depth number 1656\n",
      "Recursion depth number 1657\n",
      "Recursion depth number 1658\n",
      "Recursion depth number 1659\n",
      "Recursion depth number 1660\n",
      "Recursion depth number 1661\n",
      "Recursion depth number 1662\n",
      "Recursion depth number 1663\n",
      "Recursion depth number 1664\n",
      "Recursion depth number 1665\n",
      "Recursion depth number 1666\n",
      "Recursion depth number 1667\n",
      "Recursion depth number 1668\n",
      "Recursion depth number 1669\n",
      "Recursion depth number 1670\n",
      "Recursion depth number 1671\n",
      "Recursion depth number 1672\n",
      "Recursion depth number 1673\n",
      "Recursion depth number 1674\n",
      "Recursion depth number 1675\n",
      "Recursion depth number 1676\n",
      "Recursion depth number 1677\n",
      "Recursion depth number 1678\n",
      "Recursion depth number 1679\n",
      "Recursion depth number 1680\n",
      "Recursion depth number 1681\n",
      "Recursion depth number 1682\n",
      "Recursion depth number 1683\n",
      "Recursion depth number 1684\n",
      "Recursion depth number 1685\n",
      "Recursion depth number 1686\n",
      "Recursion depth number 1687\n",
      "Recursion depth number 1688\n",
      "Recursion depth number 1689\n",
      "Recursion depth number 1690\n",
      "Recursion depth number 1691\n",
      "Recursion depth number 1692\n",
      "Recursion depth number 1693\n",
      "Recursion depth number 1694\n",
      "Recursion depth number 1695\n",
      "Recursion depth number 1696\n",
      "Recursion depth number 1697\n",
      "Recursion depth number 1698\n",
      "Recursion depth number 1699\n",
      "Recursion depth number 1700\n",
      "Recursion depth number 1701\n",
      "Recursion depth number 1702\n",
      "Recursion depth number 1703\n",
      "Recursion depth number 1704\n",
      "Recursion depth number 1705\n",
      "Recursion depth number 1706\n",
      "Recursion depth number 1707\n",
      "Recursion depth number 1708\n",
      "Recursion depth number 1709\n",
      "Recursion depth number 1710\n",
      "Recursion depth number 1711\n",
      "Recursion depth number 1712\n",
      "Recursion depth number 1713\n",
      "Recursion depth number 1714\n",
      "Recursion depth number 1715\n",
      "Recursion depth number 1716\n",
      "Recursion depth number 1717\n",
      "Recursion depth number 1718\n",
      "Recursion depth number 1719\n",
      "Recursion depth number 1720\n",
      "Recursion depth number 1721\n",
      "Recursion depth number 1722\n",
      "Recursion depth number 1723\n",
      "Recursion depth number 1724\n",
      "Recursion depth number 1725\n",
      "Recursion depth number 1726\n",
      "Recursion depth number 1727\n",
      "Recursion depth number 1728\n",
      "Recursion depth number 1729\n",
      "Recursion depth number 1730\n",
      "Recursion depth number 1731\n",
      "Recursion depth number 1732\n",
      "Recursion depth number 1733\n",
      "Recursion depth number 1734\n",
      "Recursion depth number 1735\n",
      "Recursion depth number 1736\n",
      "Recursion depth number 1737\n",
      "Recursion depth number 1738\n",
      "Recursion depth number 1739\n",
      "Recursion depth number 1740\n",
      "Recursion depth number 1741\n",
      "Recursion depth number 1742\n",
      "Recursion depth number 1743\n",
      "Recursion depth number 1744\n",
      "Recursion depth number 1745\n",
      "Recursion depth number 1746\n",
      "Recursion depth number 1747\n",
      "Recursion depth number 1748\n",
      "Recursion depth number 1749\n",
      "Recursion depth number 1750\n",
      "Recursion depth number 1751\n",
      "Recursion depth number 1752\n",
      "Recursion depth number 1753\n",
      "Recursion depth number 1754\n",
      "Recursion depth number 1755\n",
      "Recursion depth number 1756\n",
      "Recursion depth number 1757\n",
      "Recursion depth number 1758\n",
      "Recursion depth number 1759\n",
      "Recursion depth number 1760\n",
      "Recursion depth number 1761\n",
      "Recursion depth number 1762\n",
      "Recursion depth number 1763\n",
      "Recursion depth number 1764\n",
      "Recursion depth number 1765\n",
      "Recursion depth number 1766\n",
      "Recursion depth number 1767\n",
      "Recursion depth number 1768\n",
      "Recursion depth number 1769\n",
      "Recursion depth number 1770\n",
      "Recursion depth number 1771\n",
      "Recursion depth number 1772\n",
      "Recursion depth number 1773\n",
      "Recursion depth number 1774\n",
      "Recursion depth number 1775\n",
      "Recursion depth number 1776\n",
      "Recursion depth number 1777\n",
      "Recursion depth number 1778\n",
      "Recursion depth number 1779\n",
      "Recursion depth number 1780\n",
      "Recursion depth number 1781\n",
      "Recursion depth number 1782\n",
      "Recursion depth number 1783\n",
      "Recursion depth number 1784\n",
      "Recursion depth number 1785\n",
      "Recursion depth number 1786\n",
      "Recursion depth number 1787\n",
      "Recursion depth number 1788\n",
      "Recursion depth number 1789\n",
      "Recursion depth number 1790\n",
      "Recursion depth number 1791\n",
      "Recursion depth number 1792\n",
      "Recursion depth number 1793\n",
      "Recursion depth number 1794\n",
      "Recursion depth number 1795\n",
      "Recursion depth number 1796\n",
      "Recursion depth number 1797\n",
      "Recursion depth number 1798\n",
      "Recursion depth number 1799\n",
      "Recursion depth number 1800\n",
      "Recursion depth number 1801\n",
      "Recursion depth number 1802\n",
      "Recursion depth number 1803\n",
      "Recursion depth number 1804\n",
      "Recursion depth number 1805\n",
      "Recursion depth number 1806\n",
      "Recursion depth number 1807\n",
      "Recursion depth number 1808\n",
      "Recursion depth number 1809\n",
      "Recursion depth number 1810\n",
      "Recursion depth number 1811\n",
      "Recursion depth number 1812\n",
      "Recursion depth number 1813\n",
      "Recursion depth number 1814\n",
      "Recursion depth number 1815\n",
      "Recursion depth number 1816\n",
      "Recursion depth number 1817\n",
      "Recursion depth number 1818\n",
      "Recursion depth number 1819\n",
      "Recursion depth number 1820\n",
      "Recursion depth number 1821\n",
      "Recursion depth number 1822\n",
      "Recursion depth number 1823\n",
      "Recursion depth number 1824\n",
      "Recursion depth number 1825\n",
      "Recursion depth number 1826\n",
      "Recursion depth number 1827\n",
      "Recursion depth number 1828\n",
      "Recursion depth number 1829\n",
      "Recursion depth number 1830\n",
      "Recursion depth number 1831\n",
      "Recursion depth number 1832\n",
      "Recursion depth number 1833\n",
      "Recursion depth number 1834\n",
      "Recursion depth number 1835\n",
      "Recursion depth number 1836\n",
      "Recursion depth number 1837\n",
      "Recursion depth number 1838\n",
      "Recursion depth number 1839\n",
      "Recursion depth number 1840\n",
      "Recursion depth number 1841\n",
      "Recursion depth number 1842\n",
      "Recursion depth number 1843\n",
      "Recursion depth number 1844\n",
      "Recursion depth number 1845\n",
      "Recursion depth number 1846\n",
      "Recursion depth number 1847\n",
      "Recursion depth number 1848\n",
      "Recursion depth number 1849\n",
      "Recursion depth number 1850\n",
      "Recursion depth number 1851\n",
      "Recursion depth number 1852\n",
      "Recursion depth number 1853\n",
      "Recursion depth number 1854\n",
      "Recursion depth number 1855\n",
      "Recursion depth number 1856\n",
      "Recursion depth number 1857\n",
      "Recursion depth number 1858\n",
      "Recursion depth number 1859\n",
      "Recursion depth number 1860\n",
      "Recursion depth number 1861\n",
      "Recursion depth number 1862\n",
      "Recursion depth number 1863\n",
      "Recursion depth number 1864\n",
      "Recursion depth number 1865\n",
      "Recursion depth number 1866\n",
      "Recursion depth number 1867\n",
      "Recursion depth number 1868\n",
      "Recursion depth number 1869\n",
      "Recursion depth number 1870\n",
      "Recursion depth number 1871\n",
      "Recursion depth number 1872\n",
      "Recursion depth number 1873\n",
      "Recursion depth number 1874\n",
      "Recursion depth number 1875\n",
      "Recursion depth number 1876\n",
      "Recursion depth number 1877\n",
      "Recursion depth number 1878\n",
      "Recursion depth number 1879\n",
      "Recursion depth number 1880\n",
      "Recursion depth number 1881\n",
      "Recursion depth number 1882\n",
      "Recursion depth number 1883\n",
      "Recursion depth number 1884\n",
      "Recursion depth number 1885\n",
      "Recursion depth number 1886\n",
      "Recursion depth number 1887\n",
      "Recursion depth number 1888\n",
      "Recursion depth number 1889\n",
      "Recursion depth number 1890\n",
      "Recursion depth number 1891\n",
      "Recursion depth number 1892\n",
      "Recursion depth number 1893\n",
      "Recursion depth number 1894\n",
      "Recursion depth number 1895\n",
      "Recursion depth number 1896\n",
      "Recursion depth number 1897\n",
      "Recursion depth number 1898\n",
      "Recursion depth number 1899\n",
      "Recursion depth number 1900\n",
      "Recursion depth number 1901\n",
      "Recursion depth number 1902\n",
      "Recursion depth number 1903\n",
      "Recursion depth number 1904\n",
      "Recursion depth number 1905\n",
      "Recursion depth number 1906\n",
      "Recursion depth number 1907\n",
      "Recursion depth number 1908\n",
      "Recursion depth number 1909\n",
      "Recursion depth number 1910\n",
      "Recursion depth number 1911\n",
      "Recursion depth number 1912\n",
      "Recursion depth number 1913\n",
      "Recursion depth number 1914\n",
      "Recursion depth number 1915\n",
      "Recursion depth number 1916\n",
      "Recursion depth number 1917\n",
      "Recursion depth number 1918\n",
      "Recursion depth number 1919\n",
      "Recursion depth number 1920\n",
      "Recursion depth number 1921\n",
      "Recursion depth number 1922\n",
      "Recursion depth number 1923\n",
      "Recursion depth number 1924\n",
      "Recursion depth number 1925\n",
      "Recursion depth number 1926\n",
      "Recursion depth number 1927\n",
      "Recursion depth number 1928\n",
      "Recursion depth number 1929\n",
      "Recursion depth number 1930\n",
      "Recursion depth number 1931\n",
      "Recursion depth number 1932\n",
      "Recursion depth number 1933\n",
      "Recursion depth number 1934\n",
      "Recursion depth number 1935\n",
      "Recursion depth number 1936\n",
      "Recursion depth number 1937\n",
      "Recursion depth number 1938\n",
      "Recursion depth number 1939\n",
      "Recursion depth number 1940\n",
      "Recursion depth number 1941\n",
      "Recursion depth number 1942\n",
      "Recursion depth number 1943\n",
      "Recursion depth number 1944\n",
      "Recursion depth number 1945\n",
      "Recursion depth number 1946\n",
      "Recursion depth number 1947\n",
      "Recursion depth number 1948\n",
      "Recursion depth number 1949\n",
      "Recursion depth number 1950\n",
      "Recursion depth number 1951\n",
      "Recursion depth number 1952\n",
      "Recursion depth number 1953\n",
      "Recursion depth number 1954\n",
      "Recursion depth number 1955\n",
      "Recursion depth number 1956\n",
      "Recursion depth number 1957\n",
      "Recursion depth number 1958\n",
      "Recursion depth number 1959\n",
      "Recursion depth number 1960\n",
      "Recursion depth number 1961\n",
      "Recursion depth number 1962\n",
      "Recursion depth number 1963\n",
      "Recursion depth number 1964\n",
      "Recursion depth number 1965\n",
      "Recursion depth number 1966\n",
      "Recursion depth number 1967\n",
      "Recursion depth number 1968\n",
      "Recursion depth number 1969\n",
      "Recursion depth number 1970\n",
      "Recursion depth number 1971\n",
      "Recursion depth number 1972\n",
      "Recursion depth number 1973\n",
      "Recursion depth number 1974\n",
      "Recursion depth number 1975\n",
      "Recursion depth number 1976\n",
      "Recursion depth number 1977\n",
      "Recursion depth number 1978\n",
      "Recursion depth number 1979\n",
      "Recursion depth number 1980\n",
      "Recursion depth number 1981\n",
      "Recursion depth number 1982\n",
      "Recursion depth number 1983\n",
      "Recursion depth number 1984\n",
      "Recursion depth number 1985\n",
      "Recursion depth number 1986\n",
      "Recursion depth number 1987\n",
      "Recursion depth number 1988\n",
      "Recursion depth number 1989\n",
      "Recursion depth number 1990\n",
      "Recursion depth number 1991\n",
      "Recursion depth number 1992\n",
      "Recursion depth number 1993\n",
      "Recursion depth number 1994\n",
      "Recursion depth number 1995\n",
      "Recursion depth number 1996\n",
      "Recursion depth number 1997\n",
      "Recursion depth number 1998\n",
      "Recursion depth number 1999\n",
      "Recursion depth number 2000\n",
      "Recursion depth number 2001\n",
      "Recursion depth number 2002\n",
      "Recursion depth number 2003\n",
      "Recursion depth number 2004\n",
      "Recursion depth number 2005\n",
      "Recursion depth number 2006\n",
      "Recursion depth number 2007\n",
      "Recursion depth number 2008\n",
      "Recursion depth number 2009\n",
      "Recursion depth number 2010\n",
      "Recursion depth number 2011\n",
      "Recursion depth number 2012\n",
      "Recursion depth number 2013\n",
      "Recursion depth number 2014\n",
      "Recursion depth number 2015\n",
      "Recursion depth number 2016\n",
      "Recursion depth number 2017\n",
      "Recursion depth number 2018\n",
      "Recursion depth number 2019\n",
      "Recursion depth number 2020\n",
      "Recursion depth number 2021\n",
      "Recursion depth number 2022\n",
      "Recursion depth number 2023\n",
      "Recursion depth number 2024\n",
      "Recursion depth number 2025\n",
      "Recursion depth number 2026\n",
      "Recursion depth number 2027\n",
      "Recursion depth number 2028\n",
      "Recursion depth number 2029\n",
      "Recursion depth number 2030\n",
      "Recursion depth number 2031\n",
      "Recursion depth number 2032\n",
      "Recursion depth number 2033\n",
      "Recursion depth number 2034\n",
      "Recursion depth number 2035\n",
      "Recursion depth number 2036\n",
      "Recursion depth number 2037\n",
      "Recursion depth number 2038\n",
      "Recursion depth number 2039\n",
      "Recursion depth number 2040\n",
      "Recursion depth number 2041\n",
      "Recursion depth number 2042\n",
      "Recursion depth number 2043\n",
      "Recursion depth number 2044\n",
      "Recursion depth number 2045\n",
      "Recursion depth number 2046\n",
      "Recursion depth number 2047\n",
      "Recursion depth number 2048\n",
      "Recursion depth number 2049\n",
      "Recursion depth number 2050\n",
      "Recursion depth number 2051\n",
      "Recursion depth number 2052\n",
      "Recursion depth number 2053\n",
      "Recursion depth number 2054\n",
      "Recursion depth number 2055\n",
      "Recursion depth number 2056\n",
      "Recursion depth number 2057\n",
      "Recursion depth number 2058\n",
      "Recursion depth number 2059\n",
      "Recursion depth number 2060\n",
      "Recursion depth number 2061\n",
      "Recursion depth number 2062\n",
      "Recursion depth number 2063\n",
      "Recursion depth number 2064\n",
      "Recursion depth number 2065\n",
      "Recursion depth number 2066\n",
      "Recursion depth number 2067\n",
      "Recursion depth number 2068\n",
      "Recursion depth number 2069\n",
      "Recursion depth number 2070\n",
      "Recursion depth number 2071\n",
      "Recursion depth number 2072\n",
      "Recursion depth number 2073\n",
      "Recursion depth number 2074\n",
      "Recursion depth number 2075\n",
      "Recursion depth number 2076\n",
      "Recursion depth number 2077\n",
      "Recursion depth number 2078\n",
      "Recursion depth number 2079\n",
      "Recursion depth number 2080\n",
      "Recursion depth number 2081\n",
      "Recursion depth number 2082\n",
      "Recursion depth number 2083\n",
      "Recursion depth number 2084\n",
      "Recursion depth number 2085\n",
      "Recursion depth number 2086\n",
      "Recursion depth number 2087\n",
      "Recursion depth number 2088\n",
      "Recursion depth number 2089\n",
      "Recursion depth number 2090\n",
      "Recursion depth number 2091\n",
      "Recursion depth number 2092\n",
      "Recursion depth number 2093\n",
      "Recursion depth number 2094\n",
      "Recursion depth number 2095\n",
      "Recursion depth number 2096\n",
      "Recursion depth number 2097\n",
      "Recursion depth number 2098\n",
      "Recursion depth number 2099\n",
      "Recursion depth number 2100\n",
      "Recursion depth number 2101\n",
      "Recursion depth number 2102\n",
      "Recursion depth number 2103\n",
      "Recursion depth number 2104\n",
      "Recursion depth number 2105\n",
      "Recursion depth number 2106\n",
      "Recursion depth number 2107\n",
      "Recursion depth number 2108\n",
      "Recursion depth number 2109\n",
      "Recursion depth number 2110\n",
      "Recursion depth number 2111\n",
      "Recursion depth number 2112\n",
      "Recursion depth number 2113\n",
      "Recursion depth number 2114\n",
      "Recursion depth number 2115\n",
      "Recursion depth number 2116\n",
      "Recursion depth number 2117\n",
      "Recursion depth number 2118\n",
      "Recursion depth number 2119\n",
      "Recursion depth number 2120\n",
      "Recursion depth number 2121\n",
      "Recursion depth number 2122\n",
      "Recursion depth number 2123\n",
      "Recursion depth number 2124\n",
      "Recursion depth number 2125\n",
      "Recursion depth number 2126\n",
      "Recursion depth number 2127\n",
      "Recursion depth number 2128\n",
      "Recursion depth number 2129\n",
      "Recursion depth number 2130\n",
      "Recursion depth number 2131\n",
      "Recursion depth number 2132\n",
      "Recursion depth number 2133\n",
      "Recursion depth number 2134\n",
      "Recursion depth number 2135\n",
      "Recursion depth number 2136\n",
      "Recursion depth number 2137\n",
      "Recursion depth number 2138\n",
      "Recursion depth number 2139\n",
      "Recursion depth number 2140\n",
      "Recursion depth number 2141\n",
      "Recursion depth number 2142\n",
      "Recursion depth number 2143\n",
      "Recursion depth number 2144\n",
      "Recursion depth number 2145\n",
      "Recursion depth number 2146\n",
      "Recursion depth number 2147\n",
      "Recursion depth number 2148\n",
      "Recursion depth number 2149\n",
      "Recursion depth number 2150\n",
      "Recursion depth number 2151\n",
      "Recursion depth number 2152\n",
      "Recursion depth number 2153\n",
      "Recursion depth number 2154\n",
      "Recursion depth number 2155\n",
      "Recursion depth number 2156\n",
      "Recursion depth number 2157\n",
      "Recursion depth number 2158\n",
      "Recursion depth number 2159\n",
      "Recursion depth number 2160\n",
      "Recursion depth number 2161\n",
      "Recursion depth number 2162\n",
      "Recursion depth number 2163\n",
      "Recursion depth number 2164\n",
      "Recursion depth number 2165\n",
      "Recursion depth number 2166\n",
      "Recursion depth number 2167\n",
      "Recursion depth number 2168\n",
      "Recursion depth number 2169\n",
      "Recursion depth number 2170\n",
      "Recursion depth number 2171\n",
      "Recursion depth number 2172\n",
      "Recursion depth number 2173\n",
      "Recursion depth number 2174\n",
      "Recursion depth number 2175\n",
      "Recursion depth number 2176\n",
      "Recursion depth number 2177\n",
      "Recursion depth number 2178\n",
      "Recursion depth number 2179\n",
      "Recursion depth number 2180\n",
      "Recursion depth number 2181\n",
      "Recursion depth number 2182\n",
      "Recursion depth number 2183\n",
      "Recursion depth number 2184\n",
      "Recursion depth number 2185\n",
      "Recursion depth number 2186\n",
      "Recursion depth number 2187\n",
      "Recursion depth number 2188\n",
      "Recursion depth number 2189\n",
      "Recursion depth number 2190\n",
      "Recursion depth number 2191\n",
      "Recursion depth number 2192\n",
      "Recursion depth number 2193\n",
      "Recursion depth number 2194\n",
      "Recursion depth number 2195\n",
      "Recursion depth number 2196\n",
      "Recursion depth number 2197\n",
      "Recursion depth number 2198\n",
      "Recursion depth number 2199\n",
      "Recursion depth number 2200\n",
      "Recursion depth number 2201\n",
      "Recursion depth number 2202\n",
      "Recursion depth number 2203\n",
      "Recursion depth number 2204\n",
      "Recursion depth number 2205\n",
      "Recursion depth number 2206\n",
      "Recursion depth number 2207\n",
      "Recursion depth number 2208\n",
      "Recursion depth number 2209\n",
      "Recursion depth number 2210\n",
      "Recursion depth number 2211\n",
      "Recursion depth number 2212\n",
      "Recursion depth number 2213\n",
      "Recursion depth number 2214\n",
      "Recursion depth number 2215\n",
      "Recursion depth number 2216\n",
      "Recursion depth number 2217\n",
      "Recursion depth number 2218\n",
      "Recursion depth number 2219\n",
      "Recursion depth number 2220\n",
      "Recursion depth number 2221\n",
      "Recursion depth number 2222\n",
      "Recursion depth number 2223\n",
      "Recursion depth number 2224\n",
      "Recursion depth number 2225\n",
      "Recursion depth number 2226\n",
      "Recursion depth number 2227\n",
      "Recursion depth number 2228\n",
      "Recursion depth number 2229\n",
      "Recursion depth number 2230\n",
      "Recursion depth number 2231\n",
      "Recursion depth number 2232\n",
      "Recursion depth number 2233\n",
      "Recursion depth number 2234\n",
      "Recursion depth number 2235\n",
      "Recursion depth number 2236\n",
      "Recursion depth number 2237\n",
      "Recursion depth number 2238\n",
      "Recursion depth number 2239\n",
      "Recursion depth number 2240\n",
      "Recursion depth number 2241\n",
      "Recursion depth number 2242\n",
      "Recursion depth number 2243\n",
      "Recursion depth number 2244\n",
      "Recursion depth number 2245\n",
      "Recursion depth number 2246\n",
      "Recursion depth number 2247\n",
      "Recursion depth number 2248\n",
      "Recursion depth number 2249\n",
      "Recursion depth number 2250\n",
      "Recursion depth number 2251\n",
      "Recursion depth number 2252\n",
      "Recursion depth number 2253\n",
      "Recursion depth number 2254\n",
      "Recursion depth number 2255\n",
      "Recursion depth number 2256\n",
      "Recursion depth number 2257\n",
      "Recursion depth number 2258\n",
      "Recursion depth number 2259\n",
      "Recursion depth number 2260\n",
      "Recursion depth number 2261\n",
      "Recursion depth number 2262\n",
      "Recursion depth number 2263\n",
      "Recursion depth number 2264\n",
      "Recursion depth number 2265\n",
      "Recursion depth number 2266\n",
      "Recursion depth number 2267\n",
      "Recursion depth number 2268\n",
      "Recursion depth number 2269\n",
      "Recursion depth number 2270\n",
      "Recursion depth number 2271\n",
      "Recursion depth number 2272\n",
      "Recursion depth number 2273\n",
      "Recursion depth number 2274\n",
      "Recursion depth number 2275\n",
      "Recursion depth number 2276\n",
      "Recursion depth number 2277\n",
      "Recursion depth number 2278\n",
      "Recursion depth number 2279\n",
      "Recursion depth number 2280\n",
      "Recursion depth number 2281\n",
      "Recursion depth number 2282\n",
      "Recursion depth number 2283\n",
      "Recursion depth number 2284\n",
      "Recursion depth number 2285\n",
      "Recursion depth number 2286\n",
      "Recursion depth number 2287\n",
      "Recursion depth number 2288\n",
      "Recursion depth number 2289\n",
      "Recursion depth number 2290\n",
      "Recursion depth number 2291\n",
      "Recursion depth number 2292\n",
      "Recursion depth number 2293\n",
      "Recursion depth number 2294\n",
      "Recursion depth number 2295\n",
      "Recursion depth number 2296\n",
      "Recursion depth number 2297\n",
      "Recursion depth number 2298\n",
      "Recursion depth number 2299\n",
      "Recursion depth number 2300\n",
      "Recursion depth number 2301\n",
      "Recursion depth number 2302\n",
      "Recursion depth number 2303\n",
      "Recursion depth number 2304\n",
      "Recursion depth number 2305\n",
      "Recursion depth number 2306\n",
      "Recursion depth number 2307\n",
      "Recursion depth number 2308\n",
      "Recursion depth number 2309\n",
      "Recursion depth number 2310\n",
      "Recursion depth number 2311\n",
      "Recursion depth number 2312\n",
      "Recursion depth number 2313\n",
      "Recursion depth number 2314\n",
      "Recursion depth number 2315\n",
      "Recursion depth number 2316\n",
      "Recursion depth number 2317\n",
      "Recursion depth number 2318\n",
      "Recursion depth number 2319\n",
      "Recursion depth number 2320\n",
      "Recursion depth number 2321\n",
      "Recursion depth number 2322\n",
      "Recursion depth number 2323\n",
      "Recursion depth number 2324\n",
      "Recursion depth number 2325\n",
      "Recursion depth number 2326\n",
      "Recursion depth number 2327\n",
      "Recursion depth number 2328\n",
      "Recursion depth number 2329\n",
      "Recursion depth number 2330\n",
      "Recursion depth number 2331\n",
      "Recursion depth number 2332\n",
      "Recursion depth number 2333\n",
      "Recursion depth number 2334\n",
      "Recursion depth number 2335\n",
      "Recursion depth number 2336\n",
      "Recursion depth number 2337\n",
      "Recursion depth number 2338\n",
      "Recursion depth number 2339\n",
      "Recursion depth number 2340\n",
      "Recursion depth number 2341\n",
      "Recursion depth number 2342\n",
      "Recursion depth number 2343\n",
      "Recursion depth number 2344\n",
      "Recursion depth number 2345\n",
      "Recursion depth number 2346\n",
      "Recursion depth number 2347\n",
      "Recursion depth number 2348\n",
      "Recursion depth number 2349\n",
      "Recursion depth number 2350\n",
      "Recursion depth number 2351\n",
      "Recursion depth number 2352\n",
      "Recursion depth number 2353\n",
      "Recursion depth number 2354\n",
      "Recursion depth number 2355\n",
      "Recursion depth number 2356\n",
      "Recursion depth number 2357\n",
      "Recursion depth number 2358\n",
      "Recursion depth number 2359\n",
      "Recursion depth number 2360\n",
      "Recursion depth number 2361\n",
      "Recursion depth number 2362\n",
      "Recursion depth number 2363\n",
      "Recursion depth number 2364\n",
      "Recursion depth number 2365\n",
      "Recursion depth number 2366\n",
      "Recursion depth number 2367\n",
      "Recursion depth number 2368\n",
      "Recursion depth number 2369\n",
      "Recursion depth number 2370\n",
      "Recursion depth number 2371\n",
      "Recursion depth number 2372\n",
      "Recursion depth number 2373\n",
      "Recursion depth number 2374\n",
      "Recursion depth number 2375\n",
      "Recursion depth number 2376\n",
      "Recursion depth number 2377\n",
      "Recursion depth number 2378\n",
      "Recursion depth number 2379\n",
      "Recursion depth number 2380\n",
      "Recursion depth number 2381\n",
      "Recursion depth number 2382\n",
      "Recursion depth number 2383\n",
      "Recursion depth number 2384\n",
      "Recursion depth number 2385\n",
      "Recursion depth number 2386\n",
      "Recursion depth number 2387\n",
      "Recursion depth number 2388\n",
      "Recursion depth number 2389\n",
      "Recursion depth number 2390\n",
      "Recursion depth number 2391\n",
      "Recursion depth number 2392\n",
      "Recursion depth number 2393\n",
      "Recursion depth number 2394\n",
      "Recursion depth number 2395\n",
      "Recursion depth number 2396\n",
      "Recursion depth number 2397\n",
      "Recursion depth number 2398\n",
      "Recursion depth number 2399\n",
      "Recursion depth number 2400\n",
      "Recursion depth number 2401\n",
      "Recursion depth number 2402\n",
      "Recursion depth number 2403\n",
      "Recursion depth number 2404\n",
      "Recursion depth number 2405\n",
      "Recursion depth number 2406\n",
      "Recursion depth number 2407\n",
      "Recursion depth number 2408\n",
      "Recursion depth number 2409\n",
      "Recursion depth number 2410\n",
      "Recursion depth number 2411\n",
      "Recursion depth number 2412\n",
      "Recursion depth number 2413\n",
      "Recursion depth number 2414\n",
      "Recursion depth number 2415\n",
      "Recursion depth number 2416\n",
      "Recursion depth number 2417\n",
      "Recursion depth number 2418\n",
      "Recursion depth number 2419\n",
      "Recursion depth number 2420\n",
      "Recursion depth number 2421\n",
      "Recursion depth number 2422\n",
      "Recursion depth number 2423\n",
      "Recursion depth number 2424\n",
      "Recursion depth number 2425\n",
      "Recursion depth number 2426\n",
      "Recursion depth number 2427\n",
      "Recursion depth number 2428\n",
      "Recursion depth number 2429\n",
      "Recursion depth number 2430\n",
      "Recursion depth number 2431\n",
      "Recursion depth number 2432\n",
      "Recursion depth number 2433\n",
      "Recursion depth number 2434\n",
      "Recursion depth number 2435\n",
      "Recursion depth number 2436\n",
      "Recursion depth number 2437\n",
      "Recursion depth number 2438\n",
      "Recursion depth number 2439\n",
      "Recursion depth number 2440\n",
      "Recursion depth number 2441\n",
      "Recursion depth number 2442\n",
      "Recursion depth number 2443\n",
      "Recursion depth number 2444\n",
      "Recursion depth number 2445\n",
      "Recursion depth number 2446\n",
      "Recursion depth number 2447\n",
      "Recursion depth number 2448\n",
      "Recursion depth number 2449\n",
      "Recursion depth number 2450\n",
      "Recursion depth number 2451\n",
      "Recursion depth number 2452\n",
      "Recursion depth number 2453\n",
      "Recursion depth number 2454\n",
      "Recursion depth number 2455\n",
      "Recursion depth number 2456\n",
      "Recursion depth number 2457\n",
      "Recursion depth number 2458\n",
      "Recursion depth number 2459\n",
      "Recursion depth number 2460\n",
      "Recursion depth number 2461\n",
      "Recursion depth number 2462\n",
      "Recursion depth number 2463\n",
      "Recursion depth number 2464\n",
      "Recursion depth number 2465\n",
      "Recursion depth number 2466\n",
      "Recursion depth number 2467\n",
      "Recursion depth number 2468\n",
      "Recursion depth number 2469\n",
      "Recursion depth number 2470\n",
      "Recursion depth number 2471\n",
      "Recursion depth number 2472\n",
      "Recursion depth number 2473\n",
      "Recursion depth number 2474\n",
      "Recursion depth number 2475\n",
      "Recursion depth number 2476\n",
      "Recursion depth number 2477\n",
      "Recursion depth number 2478\n",
      "Recursion depth number 2479\n",
      "Recursion depth number 2480\n",
      "Recursion depth number 2481\n",
      "Recursion depth number 2482\n",
      "Recursion depth number 2483\n",
      "Recursion depth number 2484\n",
      "Recursion depth number 2485\n",
      "Recursion depth number 2486\n",
      "Recursion depth number 2487\n",
      "Recursion depth number 2488\n",
      "Recursion depth number 2489\n",
      "Recursion depth number 2490\n",
      "Recursion depth number 2491\n",
      "Recursion depth number 2492\n",
      "Recursion depth number 2493\n",
      "Recursion depth number 2494\n",
      "Recursion depth number 2495\n",
      "Recursion depth number 2496\n",
      "Recursion depth number 2497\n",
      "Recursion depth number 2498\n",
      "Recursion depth number 2499\n",
      "Recursion depth number 2500\n",
      "Recursion depth number 2501\n",
      "Recursion depth number 2502\n",
      "Recursion depth number 2503\n",
      "Recursion depth number 2504\n",
      "Recursion depth number 2505\n",
      "Recursion depth number 2506\n",
      "Recursion depth number 2507\n",
      "Recursion depth number 2508\n",
      "Recursion depth number 2509\n",
      "Recursion depth number 2510\n",
      "Recursion depth number 2511\n",
      "Recursion depth number 2512\n",
      "Recursion depth number 2513\n",
      "Recursion depth number 2514\n",
      "Recursion depth number 2515\n",
      "Recursion depth number 2516\n",
      "Recursion depth number 2517\n",
      "Recursion depth number 2518\n",
      "Recursion depth number 2519\n",
      "Recursion depth number 2520\n",
      "Recursion depth number 2521\n",
      "Recursion depth number 2522\n",
      "Recursion depth number 2523\n",
      "Recursion depth number 2524\n",
      "Recursion depth number 2525\n",
      "Recursion depth number 2526\n",
      "Recursion depth number 2527\n",
      "Recursion depth number 2528\n",
      "Recursion depth number 2529\n",
      "Recursion depth number 2530\n",
      "Recursion depth number 2531\n",
      "Recursion depth number 2532\n",
      "Recursion depth number 2533\n",
      "Recursion depth number 2534\n",
      "Recursion depth number 2535\n",
      "Recursion depth number 2536\n",
      "Recursion depth number 2537\n",
      "Recursion depth number 2538\n",
      "Recursion depth number 2539\n",
      "Recursion depth number 2540\n",
      "Recursion depth number 2541\n",
      "Recursion depth number 2542\n",
      "Recursion depth number 2543\n",
      "Recursion depth number 2544\n",
      "Recursion depth number 2545\n",
      "Recursion depth number 2546\n",
      "Recursion depth number 2547\n",
      "Recursion depth number 2548\n",
      "Recursion depth number 2549\n",
      "Recursion depth number 2550\n",
      "Recursion depth number 2551\n",
      "Recursion depth number 2552\n",
      "Recursion depth number 2553\n",
      "Recursion depth number 2554\n",
      "Recursion depth number 2555\n",
      "Recursion depth number 2556\n",
      "Recursion depth number 2557\n",
      "Recursion depth number 2558\n",
      "Recursion depth number 2559\n",
      "Recursion depth number 2560\n",
      "Recursion depth number 2561\n",
      "Recursion depth number 2562\n",
      "Recursion depth number 2563\n",
      "Recursion depth number 2564\n",
      "Recursion depth number 2565\n",
      "Recursion depth number 2566\n",
      "Recursion depth number 2567\n",
      "Recursion depth number 2568\n",
      "Recursion depth number 2569\n",
      "Recursion depth number 2570\n",
      "Recursion depth number 2571\n",
      "Recursion depth number 2572\n",
      "Recursion depth number 2573\n",
      "Recursion depth number 2574\n",
      "Recursion depth number 2575\n",
      "Recursion depth number 2576\n",
      "Recursion depth number 2577\n",
      "Recursion depth number 2578\n",
      "Recursion depth number 2579\n",
      "Recursion depth number 2580\n",
      "Recursion depth number 2581\n",
      "Recursion depth number 2582\n",
      "Recursion depth number 2583\n",
      "Recursion depth number 2584\n",
      "Recursion depth number 2585\n",
      "Recursion depth number 2586\n",
      "Recursion depth number 2587\n",
      "Recursion depth number 2588\n",
      "Recursion depth number 2589\n",
      "Recursion depth number 2590\n",
      "Recursion depth number 2591\n",
      "Recursion depth number 2592\n",
      "Recursion depth number 2593\n",
      "Recursion depth number 2594\n",
      "Recursion depth number 2595\n",
      "Recursion depth number 2596\n",
      "Recursion depth number 2597\n",
      "Recursion depth number 2598\n",
      "Recursion depth number 2599\n",
      "Recursion depth number 2600\n",
      "Recursion depth number 2601\n",
      "Recursion depth number 2602\n",
      "Recursion depth number 2603\n",
      "Recursion depth number 2604\n",
      "Recursion depth number 2605\n",
      "Recursion depth number 2606\n",
      "Recursion depth number 2607\n",
      "Recursion depth number 2608\n",
      "Recursion depth number 2609\n",
      "Recursion depth number 2610\n",
      "Recursion depth number 2611\n",
      "Recursion depth number 2612\n",
      "Recursion depth number 2613\n",
      "Recursion depth number 2614\n",
      "Recursion depth number 2615\n",
      "Recursion depth number 2616\n",
      "Recursion depth number 2617\n",
      "Recursion depth number 2618\n",
      "Recursion depth number 2619\n",
      "Recursion depth number 2620\n",
      "Recursion depth number 2621\n",
      "Recursion depth number 2622\n",
      "Recursion depth number 2623\n",
      "Recursion depth number 2624\n",
      "Recursion depth number 2625\n",
      "Recursion depth number 2626\n",
      "Recursion depth number 2627\n",
      "Recursion depth number 2628\n",
      "Recursion depth number 2629\n",
      "Recursion depth number 2630\n",
      "Recursion depth number 2631\n",
      "Recursion depth number 2632\n",
      "Recursion depth number 2633\n",
      "Recursion depth number 2634\n",
      "Recursion depth number 2635\n",
      "Recursion depth number 2636\n",
      "Recursion depth number 2637\n",
      "Recursion depth number 2638\n",
      "Recursion depth number 2639\n",
      "Recursion depth number 2640\n",
      "Recursion depth number 2641\n",
      "Recursion depth number 2642\n",
      "Recursion depth number 2643\n",
      "Recursion depth number 2644\n",
      "Recursion depth number 2645\n",
      "Recursion depth number 2646\n",
      "Recursion depth number 2647\n",
      "Recursion depth number 2648\n",
      "Recursion depth number 2649\n",
      "Recursion depth number 2650\n",
      "Recursion depth number 2651\n",
      "Recursion depth number 2652\n",
      "Recursion depth number 2653\n",
      "Recursion depth number 2654\n",
      "Recursion depth number 2655\n",
      "Recursion depth number 2656\n",
      "Recursion depth number 2657\n",
      "Recursion depth number 2658\n",
      "Recursion depth number 2659\n",
      "Recursion depth number 2660\n",
      "Recursion depth number 2661\n",
      "Recursion depth number 2662\n",
      "Recursion depth number 2663\n",
      "Recursion depth number 2664\n",
      "Recursion depth number 2665\n",
      "Recursion depth number 2666\n",
      "Recursion depth number 2667\n",
      "Recursion depth number 2668\n",
      "Recursion depth number 2669\n",
      "Recursion depth number 2670\n",
      "Recursion depth number 2671\n",
      "Recursion depth number 2672\n",
      "Recursion depth number 2673\n",
      "Recursion depth number 2674\n",
      "Recursion depth number 2675\n",
      "Recursion depth number 2676\n",
      "Recursion depth number 2677\n",
      "Recursion depth number 2678\n",
      "Recursion depth number 2679\n",
      "Recursion depth number 2680\n",
      "Recursion depth number 2681\n",
      "Recursion depth number 2682\n",
      "Recursion depth number 2683\n",
      "Recursion depth number 2684\n",
      "Recursion depth number 2685\n",
      "Recursion depth number 2686\n",
      "Recursion depth number 2687\n",
      "Recursion depth number 2688\n",
      "Recursion depth number 2689\n",
      "Recursion depth number 2690\n",
      "Recursion depth number 2691\n",
      "Recursion depth number 2692\n",
      "Recursion depth number 2693\n",
      "Recursion depth number 2694\n",
      "Recursion depth number 2695\n",
      "Recursion depth number 2696\n",
      "Recursion depth number 2697\n",
      "Recursion depth number 2698\n",
      "Recursion depth number 2699\n",
      "Recursion depth number 2700\n",
      "Recursion depth number 2701\n",
      "Recursion depth number 2702\n",
      "Recursion depth number 2703\n",
      "Recursion depth number 2704\n",
      "Recursion depth number 2705\n",
      "Recursion depth number 2706\n",
      "Recursion depth number 2707\n",
      "Recursion depth number 2708\n",
      "Recursion depth number 2709\n",
      "Recursion depth number 2710\n",
      "Recursion depth number 2711\n",
      "Recursion depth number 2712\n",
      "Recursion depth number 2713\n",
      "Recursion depth number 2714\n",
      "Recursion depth number 2715\n",
      "Recursion depth number 2716\n",
      "Recursion depth number 2717\n",
      "Recursion depth number 2718\n",
      "Recursion depth number 2719\n",
      "Recursion depth number 2720\n",
      "Recursion depth number 2721\n",
      "Recursion depth number 2722\n",
      "Recursion depth number 2723\n",
      "Recursion depth number 2724\n",
      "Recursion depth number 2725\n",
      "Recursion depth number 2726\n",
      "Recursion depth number 2727\n",
      "Recursion depth number 2728\n",
      "Recursion depth number 2729\n",
      "Recursion depth number 2730\n",
      "Recursion depth number 2731\n",
      "Recursion depth number 2732\n",
      "Recursion depth number 2733\n",
      "Recursion depth number 2734\n",
      "Recursion depth number 2735\n",
      "Recursion depth number 2736\n",
      "Recursion depth number 2737\n",
      "Recursion depth number 2738\n",
      "Recursion depth number 2739\n",
      "Recursion depth number 2740\n",
      "Recursion depth number 2741\n",
      "Recursion depth number 2742\n",
      "Recursion depth number 2743\n",
      "Recursion depth number 2744\n",
      "Recursion depth number 2745\n",
      "Recursion depth number 2746\n",
      "Recursion depth number 2747\n",
      "Recursion depth number 2748\n",
      "Recursion depth number 2749\n",
      "Recursion depth number 2750\n",
      "Recursion depth number 2751\n",
      "Recursion depth number 2752\n",
      "Recursion depth number 2753\n",
      "Recursion depth number 2754\n",
      "Recursion depth number 2755\n",
      "Recursion depth number 2756\n",
      "Recursion depth number 2757\n",
      "Recursion depth number 2758\n",
      "Recursion depth number 2759\n",
      "Recursion depth number 2760\n",
      "Recursion depth number 2761\n",
      "Recursion depth number 2762\n",
      "Recursion depth number 2763\n",
      "Recursion depth number 2764\n",
      "Recursion depth number 2765\n",
      "Recursion depth number 2766\n",
      "Recursion depth number 2767\n",
      "Recursion depth number 2768\n",
      "Recursion depth number 2769\n",
      "Recursion depth number 2770\n",
      "Recursion depth number 2771\n",
      "Recursion depth number 2772\n",
      "Recursion depth number 2773\n",
      "Recursion depth number 2774\n",
      "Recursion depth number 2775\n",
      "Recursion depth number 2776\n",
      "Recursion depth number 2777\n",
      "Recursion depth number 2778\n",
      "Recursion depth number 2779\n",
      "Recursion depth number 2780\n",
      "Recursion depth number 2781\n",
      "Recursion depth number 2782\n",
      "Recursion depth number 2783\n",
      "Recursion depth number 2784\n",
      "Recursion depth number 2785\n",
      "Recursion depth number 2786\n",
      "Recursion depth number 2787\n",
      "Recursion depth number 2788\n",
      "Recursion depth number 2789\n",
      "Recursion depth number 2790\n",
      "Recursion depth number 2791\n",
      "Recursion depth number 2792\n",
      "Recursion depth number 2793\n",
      "Recursion depth number 2794\n",
      "Recursion depth number 2795\n",
      "Recursion depth number 2796\n",
      "Recursion depth number 2797\n",
      "Recursion depth number 2798\n",
      "Recursion depth number 2799\n",
      "Recursion depth number 2800\n",
      "Recursion depth number 2801\n",
      "Recursion depth number 2802\n",
      "Recursion depth number 2803\n",
      "Recursion depth number 2804\n",
      "Recursion depth number 2805\n",
      "Recursion depth number 2806\n",
      "Recursion depth number 2807\n",
      "Recursion depth number 2808\n",
      "Recursion depth number 2809\n",
      "Recursion depth number 2810\n",
      "Recursion depth number 2811\n",
      "Recursion depth number 2812\n",
      "Recursion depth number 2813\n",
      "Recursion depth number 2814\n",
      "Recursion depth number 2815\n",
      "Recursion depth number 2816\n",
      "Recursion depth number 2817\n",
      "Recursion depth number 2818\n",
      "Recursion depth number 2819\n",
      "Recursion depth number 2820\n",
      "Recursion depth number 2821\n",
      "Recursion depth number 2822\n",
      "Recursion depth number 2823\n",
      "Recursion depth number 2824\n",
      "Recursion depth number 2825\n",
      "Recursion depth number 2826\n",
      "Recursion depth number 2827\n",
      "Recursion depth number 2828\n",
      "Recursion depth number 2829\n",
      "Recursion depth number 2830\n",
      "Recursion depth number 2831\n",
      "Recursion depth number 2832\n",
      "Recursion depth number 2833\n",
      "Recursion depth number 2834\n",
      "Recursion depth number 2835\n",
      "Recursion depth number 2836\n",
      "Recursion depth number 2837\n",
      "Recursion depth number 2838\n",
      "Recursion depth number 2839\n",
      "Recursion depth number 2840\n",
      "Recursion depth number 2841\n",
      "Recursion depth number 2842\n",
      "Recursion depth number 2843\n",
      "Recursion depth number 2844\n",
      "Recursion depth number 2845\n",
      "Recursion depth number 2846\n",
      "Recursion depth number 2847\n",
      "Recursion depth number 2848\n",
      "Recursion depth number 2849\n",
      "Recursion depth number 2850\n",
      "Recursion depth number 2851\n",
      "Recursion depth number 2852\n",
      "Recursion depth number 2853\n",
      "Recursion depth number 2854\n",
      "Recursion depth number 2855\n",
      "Recursion depth number 2856\n",
      "Recursion depth number 2857\n",
      "Recursion depth number 2858\n",
      "Recursion depth number 2859\n",
      "Recursion depth number 2860\n",
      "Recursion depth number 2861\n",
      "Recursion depth number 2862\n",
      "Recursion depth number 2863\n",
      "Recursion depth number 2864\n",
      "Recursion depth number 2865\n",
      "Recursion depth number 2866\n",
      "Recursion depth number 2867\n",
      "Recursion depth number 2868\n",
      "Recursion depth number 2869\n",
      "Recursion depth number 2870\n",
      "Recursion depth number 2871\n",
      "Recursion depth number 2872\n",
      "Recursion depth number 2873\n",
      "Recursion depth number 2874\n",
      "Recursion depth number 2875\n",
      "Recursion depth number 2876\n",
      "Recursion depth number 2877\n",
      "Recursion depth number 2878\n",
      "Recursion depth number 2879\n",
      "Recursion depth number 2880\n",
      "Recursion depth number 2881\n",
      "Recursion depth number 2882\n",
      "Recursion depth number 2883\n",
      "Recursion depth number 2884\n",
      "Recursion depth number 2885\n",
      "Recursion depth number 2886\n",
      "Recursion depth number 2887\n",
      "Recursion depth number 2888\n",
      "Recursion depth number 2889\n",
      "Recursion depth number 2890\n",
      "Recursion depth number 2891\n",
      "Recursion depth number 2892\n",
      "Recursion depth number 2893\n",
      "Recursion depth number 2894\n",
      "Recursion depth number 2895\n",
      "Recursion depth number 2896\n",
      "Recursion depth number 2897\n",
      "Recursion depth number 2898\n",
      "Recursion depth number 2899\n",
      "Recursion depth number 2900\n",
      "Recursion depth number 2901\n",
      "Recursion depth number 2902\n",
      "Recursion depth number 2903\n",
      "Recursion depth number 2904\n",
      "Recursion depth number 2905\n",
      "Recursion depth number 2906\n",
      "Recursion depth number 2907\n",
      "Recursion depth number 2908\n",
      "Recursion depth number 2909\n",
      "Recursion depth number 2910\n",
      "Recursion depth number 2911\n",
      "Recursion depth number 2912\n",
      "Recursion depth number 2913\n",
      "Recursion depth number 2914\n",
      "Recursion depth number 2915\n",
      "Recursion depth number 2916\n",
      "Recursion depth number 2917\n",
      "Recursion depth number 2918\n",
      "Recursion depth number 2919\n",
      "Recursion depth number 2920\n",
      "Recursion depth number 2921\n",
      "Recursion depth number 2922\n",
      "Recursion depth number 2923\n",
      "Recursion depth number 2924\n",
      "Recursion depth number 2925\n",
      "Recursion depth number 2926\n",
      "Recursion depth number 2927\n",
      "Recursion depth number 2928\n",
      "Recursion depth number 2929\n",
      "Recursion depth number 2930\n",
      "Recursion depth number 2931\n",
      "Recursion depth number 2932\n",
      "Recursion depth number 2933\n",
      "Recursion depth number 2934\n",
      "Recursion depth number 2935\n",
      "Recursion depth number 2936\n",
      "Recursion depth number 2937\n",
      "Recursion depth number 2938\n",
      "Recursion depth number 2939\n",
      "Recursion depth number 2940\n",
      "Recursion depth number 2941\n",
      "Recursion depth number 2942\n",
      "Recursion depth number 2943\n",
      "Recursion depth number 2944\n",
      "Recursion depth number 2945\n",
      "Recursion depth number 2946\n",
      "Recursion depth number 2947\n",
      "Recursion depth number 2948\n",
      "Recursion depth number 2949\n",
      "Recursion depth number 2950\n",
      "Recursion depth number 2951\n",
      "Recursion depth number 2952\n",
      "Recursion depth number 2953\n",
      "Recursion depth number 2954\n",
      "Recursion depth number 2955\n",
      "Recursion depth number 2956\n",
      "Recursion depth number 2957\n",
      "Recursion depth number 2958\n",
      "Recursion depth number 2959\n",
      "Recursion depth number 2960\n",
      "Recursion depth number 2961\n",
      "Recursion depth number 2962\n",
      "Recursion depth number 2963\n",
      "Recursion depth number 2964\n",
      "Recursion depth number 2965\n",
      "Recursion depth number 2966\n",
      "Recursion depth number 2967\n",
      "Recursion depth number 2968\n",
      "Recursion depth number 2969\n",
      "Recursion depth number 2970\n",
      "I cannot go any deeper into this wormhole\n"
     ]
    }
   ],
   "source": [
    "def recursion_depth(number):\n",
    "    print('Recursion depth number', number)\n",
    "    try:\n",
    "        recursion_depth(number + 1)\n",
    "    except:\n",
    "        print('I cannot go any deeper into this wormhole')\n",
    "        \n",
    "        \n",
    "recursion_depth(0)"
   ]
  },
  {
   "cell_type": "code",
   "execution_count": 33,
   "id": "c08d46fe",
   "metadata": {},
   "outputs": [
    {
     "name": "stdout",
     "output_type": "stream",
     "text": [
      "How mny sides do you want in your polygon4\n"
     ]
    },
    {
     "ename": "Terminator",
     "evalue": "",
     "output_type": "error",
     "traceback": [
      "\u001b[1;31m---------------------------------------------------------------------------\u001b[0m",
      "\u001b[1;31mTerminator\u001b[0m                                Traceback (most recent call last)",
      "Cell \u001b[1;32mIn[33], line 22\u001b[0m\n\u001b[0;32m     19\u001b[0m         win\u001b[38;5;241m.\u001b[39mbye()              \u001b[38;5;66;03m# Close the turtle's window\u001b[39;00m\n\u001b[0;32m     21\u001b[0m show_poly()\n\u001b[1;32m---> 22\u001b[0m show_poly()\n\u001b[0;32m     23\u001b[0m show_poly()\n",
      "Cell \u001b[1;32mIn[33], line 7\u001b[0m, in \u001b[0;36mshow_poly\u001b[1;34m()\u001b[0m\n\u001b[0;32m      5\u001b[0m \u001b[38;5;28;01mtry\u001b[39;00m:\n\u001b[0;32m      6\u001b[0m     win \u001b[38;5;241m=\u001b[39m turtle\u001b[38;5;241m.\u001b[39mScreen()     \u001b[38;5;66;03m# Grab/create a resource, e.g a window\u001b[39;00m\n\u001b[1;32m----> 7\u001b[0m     tess \u001b[38;5;241m=\u001b[39m turtle\u001b[38;5;241m.\u001b[39mTurtle()\n\u001b[0;32m      9\u001b[0m     \u001b[38;5;66;03m# This diaog could be cancelled,\u001b[39;00m\n\u001b[0;32m     10\u001b[0m     \u001b[38;5;66;03m# or the conversion to int might fail, or might be zero\u001b[39;00m\n\u001b[0;32m     12\u001b[0m     n \u001b[38;5;241m=\u001b[39m\u001b[38;5;28mint\u001b[39m(\u001b[38;5;28minput\u001b[39m(\u001b[38;5;124m'\u001b[39m\u001b[38;5;124mHow mny sides do you want in your polygon\u001b[39m\u001b[38;5;124m'\u001b[39m))\n",
      "File \u001b[1;32m~\\anaconda3\\Lib\\turtle.py:3831\u001b[0m, in \u001b[0;36mTurtle.__init__\u001b[1;34m(self, shape, undobuffersize, visible)\u001b[0m\n\u001b[0;32m   3829\u001b[0m \u001b[38;5;28;01mif\u001b[39;00m Turtle\u001b[38;5;241m.\u001b[39m_screen \u001b[38;5;129;01mis\u001b[39;00m \u001b[38;5;28;01mNone\u001b[39;00m:\n\u001b[0;32m   3830\u001b[0m     Turtle\u001b[38;5;241m.\u001b[39m_screen \u001b[38;5;241m=\u001b[39m Screen()\n\u001b[1;32m-> 3831\u001b[0m RawTurtle\u001b[38;5;241m.\u001b[39m\u001b[38;5;21m__init__\u001b[39m(\u001b[38;5;28mself\u001b[39m, Turtle\u001b[38;5;241m.\u001b[39m_screen,\n\u001b[0;32m   3832\u001b[0m                    shape\u001b[38;5;241m=\u001b[39mshape,\n\u001b[0;32m   3833\u001b[0m                    undobuffersize\u001b[38;5;241m=\u001b[39mundobuffersize,\n\u001b[0;32m   3834\u001b[0m                    visible\u001b[38;5;241m=\u001b[39mvisible)\n",
      "File \u001b[1;32m~\\anaconda3\\Lib\\turtle.py:2558\u001b[0m, in \u001b[0;36mRawTurtle.__init__\u001b[1;34m(self, canvas, shape, undobuffersize, visible)\u001b[0m\n\u001b[0;32m   2556\u001b[0m \u001b[38;5;28mself\u001b[39m\u001b[38;5;241m.\u001b[39m_undobuffersize \u001b[38;5;241m=\u001b[39m undobuffersize\n\u001b[0;32m   2557\u001b[0m \u001b[38;5;28mself\u001b[39m\u001b[38;5;241m.\u001b[39mundobuffer \u001b[38;5;241m=\u001b[39m Tbuffer(undobuffersize)\n\u001b[1;32m-> 2558\u001b[0m \u001b[38;5;28mself\u001b[39m\u001b[38;5;241m.\u001b[39m_update()\n",
      "File \u001b[1;32m~\\anaconda3\\Lib\\turtle.py:2661\u001b[0m, in \u001b[0;36mRawTurtle._update\u001b[1;34m(self)\u001b[0m\n\u001b[0;32m   2659\u001b[0m     \u001b[38;5;28;01mreturn\u001b[39;00m\n\u001b[0;32m   2660\u001b[0m \u001b[38;5;28;01melif\u001b[39;00m screen\u001b[38;5;241m.\u001b[39m_tracing \u001b[38;5;241m==\u001b[39m \u001b[38;5;241m1\u001b[39m:\n\u001b[1;32m-> 2661\u001b[0m     \u001b[38;5;28mself\u001b[39m\u001b[38;5;241m.\u001b[39m_update_data()\n\u001b[0;32m   2662\u001b[0m     \u001b[38;5;28mself\u001b[39m\u001b[38;5;241m.\u001b[39m_drawturtle()\n\u001b[0;32m   2663\u001b[0m     screen\u001b[38;5;241m.\u001b[39m_update()                  \u001b[38;5;66;03m# TurtleScreenBase\u001b[39;00m\n",
      "File \u001b[1;32m~\\anaconda3\\Lib\\turtle.py:2647\u001b[0m, in \u001b[0;36mRawTurtle._update_data\u001b[1;34m(self)\u001b[0m\n\u001b[0;32m   2646\u001b[0m \u001b[38;5;28;01mdef\u001b[39;00m \u001b[38;5;21m_update_data\u001b[39m(\u001b[38;5;28mself\u001b[39m):\n\u001b[1;32m-> 2647\u001b[0m     \u001b[38;5;28mself\u001b[39m\u001b[38;5;241m.\u001b[39mscreen\u001b[38;5;241m.\u001b[39m_incrementudc()\n\u001b[0;32m   2648\u001b[0m     \u001b[38;5;28;01mif\u001b[39;00m \u001b[38;5;28mself\u001b[39m\u001b[38;5;241m.\u001b[39mscreen\u001b[38;5;241m.\u001b[39m_updatecounter \u001b[38;5;241m!=\u001b[39m \u001b[38;5;241m0\u001b[39m:\n\u001b[0;32m   2649\u001b[0m         \u001b[38;5;28;01mreturn\u001b[39;00m\n",
      "File \u001b[1;32m~\\anaconda3\\Lib\\turtle.py:1293\u001b[0m, in \u001b[0;36mTurtleScreen._incrementudc\u001b[1;34m(self)\u001b[0m\n\u001b[0;32m   1291\u001b[0m \u001b[38;5;28;01mif\u001b[39;00m \u001b[38;5;129;01mnot\u001b[39;00m TurtleScreen\u001b[38;5;241m.\u001b[39m_RUNNING:\n\u001b[0;32m   1292\u001b[0m     TurtleScreen\u001b[38;5;241m.\u001b[39m_RUNNING \u001b[38;5;241m=\u001b[39m \u001b[38;5;28;01mTrue\u001b[39;00m\n\u001b[1;32m-> 1293\u001b[0m     \u001b[38;5;28;01mraise\u001b[39;00m Terminator\n\u001b[0;32m   1294\u001b[0m \u001b[38;5;28;01mif\u001b[39;00m \u001b[38;5;28mself\u001b[39m\u001b[38;5;241m.\u001b[39m_tracing \u001b[38;5;241m>\u001b[39m \u001b[38;5;241m0\u001b[39m:\n\u001b[0;32m   1295\u001b[0m     \u001b[38;5;28mself\u001b[39m\u001b[38;5;241m.\u001b[39m_updatecounter \u001b[38;5;241m+\u001b[39m\u001b[38;5;241m=\u001b[39m \u001b[38;5;241m1\u001b[39m\n",
      "\u001b[1;31mTerminator\u001b[0m: "
     ]
    }
   ],
   "source": [
    "import turtle\n",
    "import time\n",
    "\n",
    "def show_poly():\n",
    "    try:\n",
    "        win = turtle.Screen()     # Grab/create a resource, e.g a window\n",
    "        tess = turtle.Turtle()\n",
    "        \n",
    "        # This diaog could be cancelled,\n",
    "        # or the conversion to int might fail, or might be zero\n",
    "        \n",
    "        n =int(input('How mny sides do you want in your polygon'))\n",
    "        angle = 360 / n\n",
    "        for i in range(n):    # Draw the ploygon\n",
    "            tess.forward(10)\n",
    "            tess.left(angle)\n",
    "        time.sleep(3)          # Make program wait a few seconds\n",
    "    finally:\n",
    "        win.bye()              # Close the turtle's window\n",
    "        \n",
    "show_poly()\n",
    "show_poly()\n",
    "show_poly()"
   ]
  },
  {
   "cell_type": "markdown",
   "id": "a13f4153",
   "metadata": {},
   "source": [
    "**Dictionaries**"
   ]
  },
  {
   "cell_type": "code",
   "execution_count": 2,
   "id": "66bcb498",
   "metadata": {},
   "outputs": [],
   "source": [
    "eng2spa = {}\n",
    "\n",
    "eng2spa['one'] = 'uno'\n",
    "eng2spa['two'] = 'dos'"
   ]
  },
  {
   "cell_type": "code",
   "execution_count": 3,
   "id": "ba7bb4fc",
   "metadata": {},
   "outputs": [
    {
     "name": "stdout",
     "output_type": "stream",
     "text": [
      "{'one': 'uno', 'two': 'dos'}\n"
     ]
    }
   ],
   "source": [
    "print(eng2spa)"
   ]
  },
  {
   "cell_type": "code",
   "execution_count": 4,
   "id": "6ce1a8f9",
   "metadata": {},
   "outputs": [],
   "source": [
    "eng3spa = {'one': 'uno', 'two': 'dos', 'three': 'tree'}"
   ]
  },
  {
   "cell_type": "code",
   "execution_count": 5,
   "id": "58b85151",
   "metadata": {},
   "outputs": [
    {
     "data": {
      "text/plain": [
       "{'one': 'uno', 'two': 'dos', 'three': 'tree'}"
      ]
     },
     "execution_count": 5,
     "metadata": {},
     "output_type": "execute_result"
    }
   ],
   "source": [
    "eng3spa"
   ]
  },
  {
   "cell_type": "code",
   "execution_count": 12,
   "id": "7aca98e7",
   "metadata": {},
   "outputs": [
    {
     "name": "stdout",
     "output_type": "stream",
     "text": [
      "{'bananas': 312, 'apples': 430, 'oranges': 525, 'pears': 217}\n"
     ]
    }
   ],
   "source": [
    "# Dictionary operations\n",
    "inventory = { 'bananas': 312,'apples': 430, 'oranges': 525, 'pears': 217}\n",
    "print(inventory)"
   ]
  },
  {
   "cell_type": "code",
   "execution_count": 13,
   "id": "6021e17d",
   "metadata": {},
   "outputs": [],
   "source": [
    "# use del methods to remove entry (key, value pair)\n",
    "del inventory['pears']"
   ]
  },
  {
   "cell_type": "code",
   "execution_count": 14,
   "id": "3133eafc",
   "metadata": {},
   "outputs": [
    {
     "data": {
      "text/plain": [
       "{'bananas': 312, 'apples': 430, 'oranges': 525}"
      ]
     },
     "execution_count": 14,
     "metadata": {},
     "output_type": "execute_result"
    }
   ],
   "source": [
    "inventory"
   ]
  },
  {
   "cell_type": "code",
   "execution_count": 15,
   "id": "00a7d626",
   "metadata": {},
   "outputs": [],
   "source": [
    "# Change value associalted with 'pears'\n",
    "inventory['pears'] = 0"
   ]
  },
  {
   "cell_type": "code",
   "execution_count": 16,
   "id": "ba6bd396",
   "metadata": {},
   "outputs": [
    {
     "data": {
      "text/plain": [
       "{'bananas': 312, 'apples': 430, 'oranges': 525, 'pears': 0}"
      ]
     },
     "execution_count": 16,
     "metadata": {},
     "output_type": "execute_result"
    }
   ],
   "source": [
    "inventory"
   ]
  },
  {
   "cell_type": "code",
   "execution_count": 17,
   "id": "a9c035c4",
   "metadata": {},
   "outputs": [],
   "source": [
    "# add new shipment of 'bananas'\n",
    "inventory['bananas'] += 200"
   ]
  },
  {
   "cell_type": "code",
   "execution_count": 18,
   "id": "c025d672",
   "metadata": {},
   "outputs": [
    {
     "data": {
      "text/plain": [
       "{'bananas': 512, 'apples': 430, 'oranges': 525, 'pears': 0}"
      ]
     },
     "execution_count": 18,
     "metadata": {},
     "output_type": "execute_result"
    }
   ],
   "source": [
    "inventory"
   ]
  },
  {
   "cell_type": "code",
   "execution_count": 19,
   "id": "e0af1406",
   "metadata": {},
   "outputs": [
    {
     "data": {
      "text/plain": [
       "4"
      ]
     },
     "execution_count": 19,
     "metadata": {},
     "output_type": "execute_result"
    }
   ],
   "source": [
    "# len function gives the number of key:value pairs\n",
    "len(inventory)"
   ]
  },
  {
   "cell_type": "code",
   "execution_count": 21,
   "id": "a9778a22",
   "metadata": {},
   "outputs": [
    {
     "name": "stdout",
     "output_type": "stream",
     "text": [
      "Got key one which maps to value uno\n",
      "Got key two which maps to value dos\n",
      "Got key three which maps to value tree\n",
      "['one', 'two', 'three']\n"
     ]
    }
   ],
   "source": [
    "# Dictionary Methods\n",
    "for k in eng3spa.keys():  # the order of the k's is not defined\n",
    "    print('Got key', k, 'which maps to value', eng3spa[k])\n",
    "\n",
    "ks = list(eng3spa.keys())\n",
    "print(ks)"
   ]
  },
  {
   "cell_type": "code",
   "execution_count": 22,
   "id": "d9121e53",
   "metadata": {},
   "outputs": [
    {
     "name": "stdout",
     "output_type": "stream",
     "text": [
      "Got key one which maps to value uno\n",
      "Got key two which maps to value dos\n",
      "Got key three which maps to value tree\n"
     ]
    }
   ],
   "source": [
    "# we can iterate over the keys without the keys() method\n",
    "for k in eng3spa:  # iterate without keys()\n",
    "    print('Got key', k, 'which maps to value', eng3spa[k])\n",
    "\n"
   ]
  },
  {
   "cell_type": "code",
   "execution_count": 23,
   "id": "bbaac97e",
   "metadata": {},
   "outputs": [
    {
     "data": {
      "text/plain": [
       "['uno', 'dos', 'tree']"
      ]
     },
     "execution_count": 23,
     "metadata": {},
     "output_type": "execute_result"
    }
   ],
   "source": [
    "# values method\n",
    "list(eng3spa.values())"
   ]
  },
  {
   "cell_type": "code",
   "execution_count": 24,
   "id": "9c97c4cb",
   "metadata": {},
   "outputs": [
    {
     "data": {
      "text/plain": [
       "[('one', 'uno'), ('two', 'dos'), ('three', 'tree')]"
      ]
     },
     "execution_count": 24,
     "metadata": {},
     "output_type": "execute_result"
    }
   ],
   "source": [
    "# The `items()` method returns a view object, which promises a list of tuples- one tuple for each key:value pair\n",
    "list(eng3spa.items())"
   ]
  },
  {
   "cell_type": "code",
   "execution_count": 26,
   "id": "0bb18984",
   "metadata": {},
   "outputs": [
    {
     "name": "stdout",
     "output_type": "stream",
     "text": [
      "Got one that maps to uno\n",
      "Got two that maps to dos\n"
     ]
    }
   ],
   "source": [
    "# Tuples are useful for getting both key and values at the same time while looping\n",
    "for (k,v) in eng2spa.items():\n",
    "    print(f'Got {k} that maps to {v}')"
   ]
  },
  {
   "cell_type": "code",
   "execution_count": 27,
   "id": "d472f6eb",
   "metadata": {},
   "outputs": [
    {
     "data": {
      "text/plain": [
       "True"
      ]
     },
     "execution_count": 27,
     "metadata": {},
     "output_type": "execute_result"
    }
   ],
   "source": [
    "# test with `in` and `not` operators\n",
    "'one' in eng2spa"
   ]
  },
  {
   "cell_type": "code",
   "execution_count": 30,
   "id": "e07b78fd",
   "metadata": {},
   "outputs": [
    {
     "data": {
      "text/plain": [
       "True"
      ]
     },
     "execution_count": 30,
     "metadata": {},
     "output_type": "execute_result"
    }
   ],
   "source": [
    "'uno' not in eng2spa # Note that `in` tests keys, not values"
   ]
  },
  {
   "cell_type": "code",
   "execution_count": 29,
   "id": "b64fb876",
   "metadata": {},
   "outputs": [
    {
     "data": {
      "text/plain": [
       "False"
      ]
     },
     "execution_count": 29,
     "metadata": {},
     "output_type": "execute_result"
    }
   ],
   "source": [
    "'two' not in eng2spa "
   ]
  },
  {
   "cell_type": "code",
   "execution_count": null,
   "id": "35f07639",
   "metadata": {},
   "outputs": [],
   "source": []
  }
 ],
 "metadata": {
  "kernelspec": {
   "display_name": "Python 3 (ipykernel)",
   "language": "python",
   "name": "python3"
  },
  "language_info": {
   "codemirror_mode": {
    "name": "ipython",
    "version": 3
   },
   "file_extension": ".py",
   "mimetype": "text/x-python",
   "name": "python",
   "nbconvert_exporter": "python",
   "pygments_lexer": "ipython3",
   "version": "3.11.3"
  },
  "toc": {
   "base_numbering": 1,
   "nav_menu": {},
   "number_sections": true,
   "sideBar": true,
   "skip_h1_title": true,
   "title_cell": "Table of Contents",
   "title_sidebar": "Contents",
   "toc_cell": false,
   "toc_position": {},
   "toc_section_display": true,
   "toc_window_display": false
  }
 },
 "nbformat": 4,
 "nbformat_minor": 5
}
